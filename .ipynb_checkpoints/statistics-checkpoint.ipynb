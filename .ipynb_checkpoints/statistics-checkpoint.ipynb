{
 "cells": [
  {
   "cell_type": "code",
   "execution_count": 1,
   "metadata": {
    "collapsed": false
   },
   "outputs": [],
   "source": [
    "from collections import defaultdict \n",
    "import re\n",
    "\n",
    "capitals = re.compile('^[\\u0410-\\u042F\\u04BA\\u04E8\\u0494\\u04AE\\u04A2\\u0401]+$')\n",
    "\n",
    "f = open('korpus_cleaned.txt', encoding='utf-8')\n",
    "\n",
    "voc = defaultdict(int)\n",
    "\n",
    "for sentence in f:\n",
    "    for word in sentence.strip().split():\n",
    "        voc[word] += 1\n",
    "        \n",
    "words = list(voc.keys())\n",
    "for word in words:\n",
    "    if (re.match(capitals, word) and len(word)<5) or len(word)>26:\n",
    "        del voc[word]\n",
    "    else:\n",
    "        word_l = word.lower()\n",
    "        if word != word_l:\n",
    "            voc[word_l] += voc[word]\n",
    "            del voc[word]\n",
    "\n",
    "words = list(voc.keys())"
   ]
  },
  {
   "cell_type": "code",
   "execution_count": 2,
   "metadata": {
    "collapsed": false
   },
   "outputs": [
    {
     "data": {
      "text/plain": [
       "(379490, 379490)"
      ]
     },
     "execution_count": 2,
     "metadata": {},
     "output_type": "execute_result"
    }
   ],
   "source": [
    "len(voc), len(words)"
   ]
  },
  {
   "cell_type": "code",
   "execution_count": 16,
   "metadata": {
    "collapsed": false
   },
   "outputs": [],
   "source": [
    "for i in range(len(words)):\n",
    "    w = list(words[i])\n",
    "    w.reverse()\n",
    "    words[i] = ''.join(w)"
   ]
  },
  {
   "cell_type": "code",
   "execution_count": 31,
   "metadata": {
    "collapsed": false
   },
   "outputs": [
    {
     "data": {
      "text/plain": [
       "6743"
      ]
     },
     "execution_count": 31,
     "metadata": {},
     "output_type": "execute_result"
    }
   ],
   "source": [
    "len([w for w in words if w[:3]=='рал'])\n"
   ]
  },
  {
   "cell_type": "code",
   "execution_count": 35,
   "metadata": {
    "collapsed": false
   },
   "outputs": [],
   "source": [
    "larwords = words[226404:226404+6743]"
   ]
  },
  {
   "cell_type": "code",
   "execution_count": 34,
   "metadata": {
    "collapsed": false
   },
   "outputs": [
    {
     "data": {
      "text/plain": [
       "40"
      ]
     },
     "execution_count": 34,
     "metadata": {},
     "output_type": "execute_result"
    }
   ],
   "source": [
    "sum({'лар':10, 'лэр':30}.values())"
   ]
  },
  {
   "cell_type": "code",
   "execution_count": 41,
   "metadata": {
    "collapsed": false
   },
   "outputs": [
    {
     "data": {
      "text/plain": [
       "186545"
      ]
     },
     "execution_count": 41,
     "metadata": {},
     "output_type": "execute_result"
    }
   ],
   "source": [
    "sum([voc[w[::-1]] for w in larwords])"
   ]
  },
  {
   "cell_type": "code",
   "execution_count": 42,
   "metadata": {
    "collapsed": false
   },
   "outputs": [
    {
     "data": {
      "text/plain": [
       "11859267"
      ]
     },
     "execution_count": 42,
     "metadata": {},
     "output_type": "execute_result"
    }
   ],
   "source": [
    "sum([voc[w] for w in voc])"
   ]
  },
  {
   "cell_type": "code",
   "execution_count": 51,
   "metadata": {
    "collapsed": false
   },
   "outputs": [],
   "source": [
    "#скинуть содержимое voc в файл\n",
    "import bz2, json\n",
    "f = bz2.open('voc___.json.bz2', 'wb')\n",
    "f.write(json.dumps(voc,ensure_ascii=False).encode(encoding='utf-8'))\n",
    "f.close()"
   ]
  },
  {
   "cell_type": "code",
   "execution_count": 1,
   "metadata": {
    "collapsed": false
   },
   "outputs": [],
   "source": [
    "# загрузить словарь количеств из файла\n",
    "import bz2, json\n",
    "jsontext = bz2.open('voc.json.bz2', 'r').read().decode(encoding='utf-8')\n",
    "voc = json.loads(jsontext)\n",
    "del jsontext"
   ]
  },
  {
   "cell_type": "code",
   "execution_count": 2,
   "metadata": {
    "collapsed": true
   },
   "outputs": [],
   "source": [
    "words = list(voc.keys())"
   ]
  },
  {
   "cell_type": "code",
   "execution_count": 3,
   "metadata": {
    "collapsed": false
   },
   "outputs": [
    {
     "data": {
      "text/plain": [
       "386233"
      ]
     },
     "execution_count": 3,
     "metadata": {},
     "output_type": "execute_result"
    }
   ],
   "source": [
    "len(words)"
   ]
  },
  {
   "cell_type": "code",
   "execution_count": 4,
   "metadata": {
    "collapsed": false
   },
   "outputs": [
    {
     "data": {
      "text/plain": [
       "['аргылаан',\n",
       " 'доруопка',\n",
       " 'иккилэммиттэргэ',\n",
       " 'тыытааччы',\n",
       " 'баһаатайдаах',\n",
       " 'политизированнай',\n",
       " 'майаачылаабыт',\n",
       " 'сылдьарбыт',\n",
       " 'ааттаталаабыппыт',\n",
       " 'илииһи',\n",
       " 'көрүҥүм',\n",
       " 'атропин',\n",
       " 'ойоҕоспунан',\n",
       " 'кабардинецтарга',\n",
       " 'хайаларга',\n",
       " 'ночоотураллар',\n",
       " 'симээн',\n",
       " 'гарринча',\n",
       " 'ааҕаабыт',\n",
       " 'сирбиттэн',\n",
       " 'тустуунан',\n",
       " 'этиката',\n",
       " 'скульптуралааҕынан',\n",
       " 'уоскуйуохпун',\n",
       " 'айхаллаабыт',\n",
       " 'дьахтарынан',\n",
       " 'элбэх',\n",
       " 'толигым',\n",
       " 'дьылҕаланнахтара',\n",
       " 'хоһуйуох',\n",
       " 'балыыһалыыллар',\n",
       " 'тустуугу',\n",
       " 'циркэбит',\n",
       " 'ядреев',\n",
       " 'ундаар',\n",
       " 'оҕолономмут',\n",
       " 'старостиналыын',\n",
       " 'быраабылалардаахтар',\n",
       " 'выставкомун',\n",
       " 'настаабынньыктарбар',\n",
       " 'ыйаама',\n",
       " 'ыраламмат',\n",
       " 'тайаммакка',\n",
       " 'сятко',\n",
       " 'раллаллыраспут',\n",
       " 'мохсоҕоллоохтор',\n",
       " 'төннүүлэригэр',\n",
       " 'охсуһарбыт',\n",
       " 'ылыннараллара',\n",
       " 'кырбыкаан',\n",
       " 'төрүтүөтүнэн',\n",
       " 'хаампыттарын',\n",
       " 'охсума',\n",
       " 'полоскалар',\n",
       " 'хачменияҕар',\n",
       " 'мөҕүллүбүтүҥ',\n",
       " 'огороднических',\n",
       " 'чачыгырыыр',\n",
       " 'көрүҥҥүтүгэр',\n",
       " 'покровительство',\n",
       " 'аайыстаах',\n",
       " 'кыбытыллан',\n",
       " 'хаһыытыырбытын',\n",
       " 'сайаапкаҕытыгар',\n",
       " 'үктэммитим',\n",
       " 'сымсатыйар',\n",
       " 'пуолкабытын',\n",
       " 'баҕарарбыттан',\n",
       " 'бөтү',\n",
       " 'чоҕулуҥнатыы',\n",
       " 'чөркөөкүлэнэн',\n",
       " 'халбаҥнаппатахтар',\n",
       " 'куттаммыппытын',\n",
       " 'испииһэктэрэ',\n",
       " 'кэлбэтибит',\n",
       " 'новым',\n",
       " 'хааллардын',\n",
       " 'оччолррго',\n",
       " 'сабаҕалыылларын',\n",
       " 'наахаранан',\n",
       " 'ресурса',\n",
       " 'атахтаабыт',\n",
       " 'абаҕаҕа',\n",
       " 'быыралыахтаах',\n",
       " 'хараастарым',\n",
       " 'эмтэтэбит',\n",
       " 'өһүргэнэммин',\n",
       " 'судаарыстыбаннайынан',\n",
       " 'быйыттаах',\n",
       " 'культуралар',\n",
       " 'дьыалатынан',\n",
       " 'мииринэйдиир',\n",
       " 'өйдөөтөллөр',\n",
       " 'тыасытова',\n",
       " 'тахсатын',\n",
       " 'разведкаламматах',\n",
       " 'билигини',\n",
       " 'состоруулаахпыт',\n",
       " 'сотооччунан',\n",
       " 'кулууптаныах']"
      ]
     },
     "execution_count": 4,
     "metadata": {},
     "output_type": "execute_result"
    }
   ],
   "source": [
    "words[:100]"
   ]
  },
  {
   "cell_type": "code",
   "execution_count": 5,
   "metadata": {
    "collapsed": false
   },
   "outputs": [
    {
     "data": {
      "text/plain": [
       "7.1053179762290535"
      ]
     },
     "execution_count": 5,
     "metadata": {},
     "output_type": "execute_result"
    }
   ],
   "source": [
    "#средняя длина слова\n",
    "sum([len(w)*voc[w] for w in words])/sum([voc[w] for w in words])"
   ]
  },
  {
   "cell_type": "code",
   "execution_count": 9,
   "metadata": {
    "collapsed": false
   },
   "outputs": [
    {
     "data": {
      "text/plain": [
       "9.758114492876915"
      ]
     },
     "execution_count": 9,
     "metadata": {},
     "output_type": "execute_result"
    }
   ],
   "source": [
    "#средняя длина предложения\n",
    "f = open('korpus_cleaned.txt', encoding='utf-8')\n",
    "\n",
    "sl = 0\n",
    "nl = 0\n",
    "for sentence in f:\n",
    "    sl += len(sentence.strip().split())\n",
    "    nl += 1\n",
    "sl/nl"
   ]
  },
  {
   "cell_type": "code",
   "execution_count": 10,
   "metadata": {
    "collapsed": true
   },
   "outputs": [],
   "source": [
    "f.close()"
   ]
  },
  {
   "cell_type": "code",
   "execution_count": null,
   "metadata": {
    "collapsed": true
   },
   "outputs": [],
   "source": []
  }
 ],
 "metadata": {
  "kernelspec": {
   "display_name": "Python 3",
   "language": "python",
   "name": "python3"
  },
  "language_info": {
   "codemirror_mode": {
    "name": "ipython",
    "version": 3
   },
   "file_extension": ".py",
   "mimetype": "text/x-python",
   "name": "python",
   "nbconvert_exporter": "python",
   "pygments_lexer": "ipython3",
   "version": "3.5.2"
  }
 },
 "nbformat": 4,
 "nbformat_minor": 2
}
