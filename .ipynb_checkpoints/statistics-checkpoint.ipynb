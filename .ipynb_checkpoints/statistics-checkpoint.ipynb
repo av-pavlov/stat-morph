{
 "cells": [
  {
   "cell_type": "code",
   "execution_count": 40,
   "metadata": {
    "collapsed": false
   },
   "outputs": [],
   "source": [
    "from collections import defaultdict \n",
    "import re\n",
    "\n",
    "capitals = re.compile('^[\\u0410-\\u042F\\u04BA\\u04E8\\u0494\\u04AE\\u04A2\\u0401]+$')\n",
    "\n",
    "f = open('korpus_cleaned.txt', encoding='utf-8')\n",
    "\n",
    "voc = defaultdict(int)\n",
    "\n",
    "for sentence in f:\n",
    "    for word in sentence.strip().split():\n",
    "        voc[word] += 1\n",
    "        \n",
    "words = list(voc.keys())\n",
    "for word in words:\n",
    "    if (re.match(capitals, word) and len(word)<5) or len(word)>26:\n",
    "        del voc[word]\n",
    "    else:\n",
    "        word_l = word.lower()\n",
    "        if word != word_l:\n",
    "            voc[word_l] += voc[word]\n",
    "            del voc[word]\n",
    "\n",
    "words = list(voc.keys())"
   ]
  },
  {
   "cell_type": "code",
   "execution_count": 41,
   "metadata": {
    "collapsed": false
   },
   "outputs": [
    {
     "data": {
      "text/plain": [
       "(379490, 379490)"
      ]
     },
     "execution_count": 41,
     "metadata": {},
     "output_type": "execute_result"
    }
   ],
   "source": [
    "len(voc), len(words)"
   ]
  },
  {
   "cell_type": "code",
   "execution_count": 52,
   "metadata": {
    "collapsed": true
   },
   "outputs": [],
   "source": [
    "words.sort()"
   ]
  },
  {
   "cell_type": "code",
   "execution_count": 54,
   "metadata": {
    "collapsed": true
   },
   "outputs": [],
   "source": [
    "import numpy as np"
   ]
  }
 ],
 "metadata": {
  "kernelspec": {
   "display_name": "Python 3",
   "language": "python",
   "name": "python3"
  },
  "language_info": {
   "codemirror_mode": {
    "name": "ipython",
    "version": 3
   },
   "file_extension": ".py",
   "mimetype": "text/x-python",
   "name": "python",
   "nbconvert_exporter": "python",
   "pygments_lexer": "ipython3",
   "version": "3.5.2"
  }
 },
 "nbformat": 4,
 "nbformat_minor": 2
}
