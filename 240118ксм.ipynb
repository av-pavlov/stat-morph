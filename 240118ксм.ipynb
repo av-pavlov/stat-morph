{
 "cells": [
  {
   "cell_type": "markdown",
   "metadata": {},
   "source": [
    "# Статистико-комбинаторная модель морфологии\n",
    "\n",
    "Данный подход моделирования языка был описан Н.Д. Андреевым. (\"Статистико-комбинаторный методы в теоретическом и прикладном языковедении\", М., 1967) Эксперименты по применению статистико-комбинаторной модели были проведены для различных корпусов языков, в том числе английского, французского и русского.\n",
    "Статистико-комбинаторное моделирование языка можно описать двумя этапами:\n",
    "\n",
    "1)\tопираясь на статистику и комбинаторику, при этом не обращаясь к критерию правильности грамматики, сформировать систему языковых форм\n",
    "\n",
    "2)\tзатем, учитывая смысл текста, установить значения полученных форм и выявить правильность грамматики.\n",
    "\n",
    "Работы Андреева были найдены, ореферированы и реализованы в виде программы на Питоне (*Unsupervised learning of morphology in the USSR*, Franck Burlot, François Yvon, 2016)\n",
    "\n",
    "Мы пытаемся реализовать данный алгоритм для якутского языка\n",
    "\n",
    "### Считываем частоты слов"
   ]
  },
  {
   "cell_type": "code",
   "execution_count": 4,
   "metadata": {
    "collapsed": true
   },
   "outputs": [],
   "source": [
    "# Загрузить словарь количеств из файла.\n",
    "# Словарь содержит частоты слов в виде {слово: число вхождений в корпус, ... }, \n",
    "# например {\"көппөҕү\" : 4, \"хазар\" : 3, ...}\n",
    "#\n",
    "# корпус в формате txt  занимет 174 МБ, словарь частот в json 10,4МБ, \n",
    "# после сжатия в формат .bz2 1,7 МБ\n",
    "import bz2, json\n",
    "jsondict = bz2.open('voc.json.bz2', 'r').read().decode(encoding='utf-8')\n",
    "voc = json.loads(jsondict)\n",
    "del jsondict\n",
    "words=list(voc.keys())"
   ]
  },
  {
   "cell_type": "code",
   "execution_count": null,
   "metadata": {},
   "outputs": [
    {
     "data": {
      "text/plain": [
       "'Загружено 386233 словоформ, 11.9 млн словоупотреблений'"
      ]
     },
     "execution_count": 37,
     "metadata": {},
     "output_type": "execute_result"
    }
   ],
   "source": [
    "word_count = sum([voc[k] for k in voc])\n",
    "\"Загружено {} словоформ, {:.1f} млн словоупотреблений\".format(len(voc), word_count/1000000.0)"
   ]
  },
  {
   "cell_type": "markdown",
   "metadata": {},
   "source": [
    "## Константы-параметры алгоритма"
   ]
  },
  {
   "cell_type": "code",
   "execution_count": 67,
   "metadata": {
    "collapsed": true
   },
   "outputs": [],
   "source": [
    "WORD_LEN_COEFF = 1\n",
    "THRESHOLD_COEFF = 0.5\n",
    "AFFIX_LEN = 1"
   ]
  },
  {
   "cell_type": "markdown",
   "metadata": {},
   "source": [
    "### Вычисляем частоту появления каждой буквы в тексте и общее количество букв в тексте"
   ]
  },
  {
   "cell_type": "code",
   "execution_count": 6,
   "metadata": {},
   "outputs": [
    {
     "data": {
      "text/plain": [
       "(defaultdict(<function __main__.<lambda>>,\n",
       "             {'а': 11101459,\n",
       "              'б': 2901561,\n",
       "              'в': 427404,\n",
       "              'г': 1311975,\n",
       "              'д': 1900403,\n",
       "              'е': 778639,\n",
       "              'ж': 37901,\n",
       "              'з': 91125,\n",
       "              'и': 5474794,\n",
       "              'й': 1316593,\n",
       "              'к': 2871767,\n",
       "              'л': 4443816,\n",
       "              'м': 1332271,\n",
       "              'н': 6053266,\n",
       "              'о': 4046042,\n",
       "              'п': 914556,\n",
       "              'р': 5889206,\n",
       "              'с': 3247664,\n",
       "              'т': 6289053,\n",
       "              'у': 4051425,\n",
       "              'ф': 88899,\n",
       "              'х': 1971611,\n",
       "              'ц': 98852,\n",
       "              'ч': 637310,\n",
       "              'ш': 34279,\n",
       "              'щ': 13392,\n",
       "              'ъ': 6759,\n",
       "              'ы': 4767439,\n",
       "              'ь': 679475,\n",
       "              'э': 5704321,\n",
       "              'ю': 29007,\n",
       "              'я': 166433,\n",
       "              'ё': 1635,\n",
       "              'ҕ': 800062,\n",
       "              'ҥ': 490070,\n",
       "              'ү': 1826789,\n",
       "              'һ': 1229530,\n",
       "              'ө': 1237080}),\n",
       " 84263863)"
      ]
     },
     "execution_count": 6,
     "metadata": {},
     "output_type": "execute_result"
    }
   ],
   "source": [
    "from collections import defaultdict\n",
    "prob = defaultdict(lambda: 0)\n",
    "for word in voc:\n",
    "    for char in word:\n",
    "        prob[char]+=voc[word]\n",
    "total = sum([n for n in prob.values()])#84263863\n",
    "prob, total"
   ]
  },
  {
   "cell_type": "markdown",
   "metadata": {},
   "source": [
    "### независимые вероятности букв  - вероятность букв, независимая от их расположения по позициям в слове"
   ]
  },
  {
   "cell_type": "code",
   "execution_count": 7,
   "metadata": {},
   "outputs": [
    {
     "data": {
      "text/plain": [
       "defaultdict(<function __main__.<lambda>>,\n",
       "            {'а': 0.13174638100795355,\n",
       "             'б': 0.034434227160936116,\n",
       "             'в': 0.0050722098985658895,\n",
       "             'г': 0.015569841605766402,\n",
       "             'д': 0.02255300116017705,\n",
       "             'е': 0.009240485449854108,\n",
       "             'ж': 0.00044978949042485743,\n",
       "             'з': 0.0010814244298294276,\n",
       "             'и': 0.06497202721408583,\n",
       "             'й': 0.015624645644361213,\n",
       "             'к': 0.034080647358880285,\n",
       "             'л': 0.052736912856701096,\n",
       "             'м': 0.01581070404996742,\n",
       "             'н': 0.07183703410321932,\n",
       "             'о': 0.04801633649290444,\n",
       "             'п': 0.010853478198596236,\n",
       "             'р': 0.06989005476760542,\n",
       "             'с': 0.038541598787133695,\n",
       "             'т': 0.07463523242460413,\n",
       "             'у': 0.048080219156342266,\n",
       "             'ф': 0.0010550074116587795,\n",
       "             'х': 0.02339806092203487,\n",
       "             'ц': 0.001173124474485581,\n",
       "             'ч': 0.007563265880653964,\n",
       "             'ш': 0.00040680546535114346,\n",
       "             'щ': 0.0001589293384282655,\n",
       "             'ъ': 8.021232067179261e-05,\n",
       "             'ы': 0.05657750345483212,\n",
       "             'ь': 0.008063658320530593,\n",
       "             'э': 0.06769593508904286,\n",
       "             'ю': 0.0003442400925768143,\n",
       "             'я': 0.001975140873852413,\n",
       "             'ё': 1.9403335448791374e-05,\n",
       "             'ҕ': 0.009494722547908823,\n",
       "             'ҥ': 0.005815897616751798,\n",
       "             'ү': 0.021679388233126696,\n",
       "             'һ': 0.014591426932325664,\n",
       "             'ө': 0.014681026432410297})"
      ]
     },
     "execution_count": 7,
     "metadata": {},
     "output_type": "execute_result"
    }
   ],
   "source": [
    "for k,v in prob.items():\n",
    "    prob[k] = v/total\n",
    "prob"
   ]
  },
  {
   "cell_type": "markdown",
   "metadata": {},
   "source": [
    "### выведем график частот букв по корпусу языка"
   ]
  },
  {
   "cell_type": "code",
   "execution_count": 35,
   "metadata": {},
   "outputs": [
    {
     "data": {
      "image/png": "[encoded data removed]",
      "text/plain": [
       "<matplotlib.figure.Figure at 0x194ae3b6518>"
      ]
     },
     "metadata": {},
     "output_type": "display_data"
    }
   ],
   "source": [
    "%matplotlib inline\n",
    "\n",
    "from matplotlib import pyplot as plt\n",
    "import numpy as np\n",
    "letters = list(prob.keys())\n",
    "letters.sort()\n",
    "ind = range(0,len(letters))\n",
    "\n",
    "plt.figure(figsize=(20,10))\n",
    "plt.bar(ind, [prob[l] for l in letters], tick_label=letters)\n",
    "plt.show()"
   ]
  },
  {
   "cell_type": "markdown",
   "metadata": {},
   "source": [
    "### вычислим среднюю длину слова"
   ]
  },
  {
   "cell_type": "code",
   "execution_count": 39,
   "metadata": {},
   "outputs": [
    {
     "data": {
      "text/plain": [
       "7.1053179762290535"
      ]
     },
     "execution_count": 39,
     "metadata": {},
     "output_type": "execute_result"
    }
   ],
   "source": [
    "words=list(voc.keys())\n",
    "len_word = sum([len(w)*voc[w] for w in words]) / word_count  #average word length\n",
    "len_word"
   ]
  },
  {
   "cell_type": "markdown",
   "metadata": {},
   "source": [
    "### подсчитываем условные вероятности букв в зависимости от позиции с конца слова"
   ]
  },
  {
   "cell_type": "code",
   "execution_count": 61,
   "metadata": {},
   "outputs": [
    {
     "data": {
      "text/plain": [
       "defaultdict(<function __main__.<lambda>>,\n",
       "            {(-7, 'а'): 383428,\n",
       "             (-7, 'б'): 113007,\n",
       "             (-7, 'в'): 12206,\n",
       "             (-7, 'г'): 43716,\n",
       "             (-7, 'д'): 91499,\n",
       "             (-7, 'е'): 60213,\n",
       "             (-7, 'ж'): 3322,\n",
       "             (-7, 'з'): 9444,\n",
       "             (-7, 'и'): 222801,\n",
       "             (-7, 'й'): 56987,\n",
       "             (-7, 'к'): 81627,\n",
       "             (-7, 'л'): 322366,\n",
       "             (-7, 'м'): 70082,\n",
       "             (-7, 'н'): 167013,\n",
       "             (-7, 'о'): 178162,\n",
       "             (-7, 'п'): 83118,\n",
       "             (-7, 'р'): 269661,\n",
       "             (-7, 'с'): 114536,\n",
       "             (-7, 'т'): 276252,\n",
       "             (-7, 'у'): 171909,\n",
       "             (-7, 'ф'): 3045,\n",
       "             (-7, 'х'): 53856,\n",
       "             (-7, 'ц'): 11773,\n",
       "             (-7, 'ч'): 43165,\n",
       "             (-7, 'ш'): 3514,\n",
       "             (-7, 'щ'): 880,\n",
       "             (-7, 'ъ'): 954,\n",
       "             (-7, 'ы'): 192994,\n",
       "             (-7, 'ь'): 29509,\n",
       "             (-7, 'э'): 188870,\n",
       "             (-7, 'ю'): 1780,\n",
       "             (-7, 'я'): 3351,\n",
       "             (-7, 'ё'): 47,\n",
       "             (-7, 'ҕ'): 31302,\n",
       "             (-7, 'ҥ'): 11483,\n",
       "             (-7, 'ү'): 71449,\n",
       "             (-7, 'һ'): 81987,\n",
       "             (-7, 'ө'): 29203,\n",
       "             (-6, 'а'): 647788,\n",
       "             (-6, 'б'): 116299,\n",
       "             (-6, 'в'): 23468,\n",
       "             (-6, 'г'): 52244,\n",
       "             (-6, 'д'): 103555,\n",
       "             (-6, 'е'): 52064,\n",
       "             (-6, 'ж'): 3881,\n",
       "             (-6, 'з'): 14416,\n",
       "             (-6, 'и'): 282717,\n",
       "             (-6, 'й'): 85416,\n",
       "             (-6, 'к'): 84777,\n",
       "             (-6, 'л'): 399239,\n",
       "             (-6, 'м'): 79683,\n",
       "             (-6, 'н'): 238776,\n",
       "             (-6, 'о'): 253526,\n",
       "             (-6, 'п'): 68518,\n",
       "             (-6, 'р'): 329021,\n",
       "             (-6, 'с'): 168040,\n",
       "             (-6, 'т'): 341720,\n",
       "             (-6, 'у'): 214421,\n",
       "             (-6, 'ф'): 4910,\n",
       "             (-6, 'х'): 80625,\n",
       "             (-6, 'ц'): 7983,\n",
       "             (-6, 'ч'): 77277,\n",
       "             (-6, 'ш'): 2404,\n",
       "             (-6, 'щ'): 1710,\n",
       "             (-6, 'ъ'): 842,\n",
       "             (-6, 'ы'): 290716,\n",
       "             (-6, 'ь'): 31449,\n",
       "             (-6, 'э'): 329005,\n",
       "             (-6, 'ю'): 1444,\n",
       "             (-6, 'я'): 11572,\n",
       "             (-6, 'ё'): 239,\n",
       "             (-6, 'ҕ'): 41507,\n",
       "             (-6, 'ҥ'): 20415,\n",
       "             (-6, 'ү'): 99824,\n",
       "             (-6, 'һ'): 104364,\n",
       "             (-6, 'ө'): 53814,\n",
       "             (-5, 'а'): 644141,\n",
       "             (-5, 'б'): 192736,\n",
       "             (-5, 'в'): 28246,\n",
       "             (-5, 'г'): 71610,\n",
       "             (-5, 'д'): 165591,\n",
       "             (-5, 'е'): 89325,\n",
       "             (-5, 'ж'): 3294,\n",
       "             (-5, 'з'): 9288,\n",
       "             (-5, 'и'): 363923,\n",
       "             (-5, 'й'): 116380,\n",
       "             (-5, 'к'): 137633,\n",
       "             (-5, 'л'): 643327,\n",
       "             (-5, 'м'): 111454,\n",
       "             (-5, 'н'): 366163,\n",
       "             (-5, 'о'): 228005,\n",
       "             (-5, 'п'): 78935,\n",
       "             (-5, 'р'): 521060,\n",
       "             (-5, 'с'): 227160,\n",
       "             (-5, 'т'): 687504,\n",
       "             (-5, 'у'): 215018,\n",
       "             (-5, 'ф'): 4758,\n",
       "             (-5, 'х'): 140866,\n",
       "             (-5, 'ц'): 11277,\n",
       "             (-5, 'ч'): 58099,\n",
       "             (-5, 'ш'): 2461,\n",
       "             (-5, 'щ'): 921,\n",
       "             (-5, 'ъ'): 501,\n",
       "             (-5, 'ы'): 295198,\n",
       "             (-5, 'ь'): 65659,\n",
       "             (-5, 'э'): 316190,\n",
       "             (-5, 'ю'): 2712,\n",
       "             (-5, 'я'): 11944,\n",
       "             (-5, 'ё'): 130,\n",
       "             (-5, 'ҕ'): 60402,\n",
       "             (-5, 'ҥ'): 30648,\n",
       "             (-5, 'ү'): 91927,\n",
       "             (-5, 'һ'): 204236,\n",
       "             (-5, 'ө'): 60156,\n",
       "             (-4, 'а'): 1042817,\n",
       "             (-4, 'б'): 130880,\n",
       "             (-4, 'в'): 35404,\n",
       "             (-4, 'г'): 40464,\n",
       "             (-4, 'д'): 164516,\n",
       "             (-4, 'е'): 67491,\n",
       "             (-4, 'ж'): 3037,\n",
       "             (-4, 'з'): 9420,\n",
       "             (-4, 'и'): 643323,\n",
       "             (-4, 'й'): 126226,\n",
       "             (-4, 'к'): 117031,\n",
       "             (-4, 'л'): 708551,\n",
       "             (-4, 'м'): 119437,\n",
       "             (-4, 'н'): 349265,\n",
       "             (-4, 'о'): 421769,\n",
       "             (-4, 'п'): 98861,\n",
       "             (-4, 'р'): 419432,\n",
       "             (-4, 'с'): 234944,\n",
       "             (-4, 'т'): 727865,\n",
       "             (-4, 'у'): 365549,\n",
       "             (-4, 'ф'): 3036,\n",
       "             (-4, 'х'): 166184,\n",
       "             (-4, 'ц'): 6261,\n",
       "             (-4, 'ч'): 41277,\n",
       "             (-4, 'ш'): 2900,\n",
       "             (-4, 'щ'): 1240,\n",
       "             (-4, 'ъ'): 1050,\n",
       "             (-4, 'ы'): 653662,\n",
       "             (-4, 'ь'): 77547,\n",
       "             (-4, 'э'): 549838,\n",
       "             (-4, 'ю'): 2703,\n",
       "             (-4, 'я'): 19306,\n",
       "             (-4, 'ё'): 116,\n",
       "             (-4, 'ҕ'): 74963,\n",
       "             (-4, 'ҥ'): 26472,\n",
       "             (-4, 'ү'): 203939,\n",
       "             (-4, 'һ'): 101957,\n",
       "             (-4, 'ө'): 81882,\n",
       "             (-3, 'а'): 998890,\n",
       "             (-3, 'б'): 446710,\n",
       "             (-3, 'в'): 47366,\n",
       "             (-3, 'г'): 502825,\n",
       "             (-3, 'д'): 223779,\n",
       "             (-3, 'е'): 62706,\n",
       "             (-3, 'ж'): 5128,\n",
       "             (-3, 'з'): 8324,\n",
       "             (-3, 'и'): 355989,\n",
       "             (-3, 'й'): 185340,\n",
       "             (-3, 'к'): 201294,\n",
       "             (-3, 'л'): 683258,\n",
       "             (-3, 'м'): 139785,\n",
       "             (-3, 'н'): 946954,\n",
       "             (-3, 'о'): 235061,\n",
       "             (-3, 'п'): 150503,\n",
       "             (-3, 'р'): 867060,\n",
       "             (-3, 'с'): 175436,\n",
       "             (-3, 'т'): 1096819,\n",
       "             (-3, 'у'): 200638,\n",
       "             (-3, 'ф'): 4729,\n",
       "             (-3, 'х'): 163624,\n",
       "             (-3, 'ц'): 21000,\n",
       "             (-3, 'ч'): 69679,\n",
       "             (-3, 'ш'): 4290,\n",
       "             (-3, 'щ'): 1138,\n",
       "             (-3, 'ъ'): 13,\n",
       "             (-3, 'ы'): 321815,\n",
       "             (-3, 'ь'): 73722,\n",
       "             (-3, 'э'): 544709,\n",
       "             (-3, 'ю'): 813,\n",
       "             (-3, 'я'): 29609,\n",
       "             (-3, 'ё'): 463,\n",
       "             (-3, 'ҕ'): 136207,\n",
       "             (-3, 'ҥ'): 93489,\n",
       "             (-3, 'ү'): 91413,\n",
       "             (-3, 'һ'): 184630,\n",
       "             (-3, 'ө'): 62465,\n",
       "             (-2, 'а'): 2291888,\n",
       "             (-2, 'б'): 34177,\n",
       "             (-2, 'в'): 49305,\n",
       "             (-2, 'г'): 385327,\n",
       "             (-2, 'д'): 102547,\n",
       "             (-2, 'е'): 70896,\n",
       "             (-2, 'ж'): 599,\n",
       "             (-2, 'з'): 4178,\n",
       "             (-2, 'и'): 998522,\n",
       "             (-2, 'й'): 88816,\n",
       "             (-2, 'к'): 261339,\n",
       "             (-2, 'л'): 153364,\n",
       "             (-2, 'м'): 37907,\n",
       "             (-2, 'н'): 633313,\n",
       "             (-2, 'о'): 533452,\n",
       "             (-2, 'п'): 11835,\n",
       "             (-2, 'р'): 597327,\n",
       "             (-2, 'с'): 51117,\n",
       "             (-2, 'т'): 510210,\n",
       "             (-2, 'у'): 498961,\n",
       "             (-2, 'ф'): 826,\n",
       "             (-2, 'х'): 190017,\n",
       "             (-2, 'ц'): 2833,\n",
       "             (-2, 'ч'): 74276,\n",
       "             (-2, 'ш'): 2484,\n",
       "             (-2, 'щ'): 603,\n",
       "             (-2, 'ъ'): 1,\n",
       "             (-2, 'ы'): 977705,\n",
       "             (-2, 'ь'): 40931,\n",
       "             (-2, 'э'): 1269273,\n",
       "             (-2, 'ю'): 1513,\n",
       "             (-2, 'я'): 2416,\n",
       "             (-2, 'ё'): 322,\n",
       "             (-2, 'ҕ'): 286869,\n",
       "             (-2, 'ҥ'): 126010,\n",
       "             (-2, 'ү'): 253781,\n",
       "             (-2, 'һ'): 161575,\n",
       "             (-2, 'ө'): 111444,\n",
       "             (-1, 'а'): 1747470,\n",
       "             (-1, 'б'): 1144,\n",
       "             (-1, 'в'): 100203,\n",
       "             (-1, 'г'): 5193,\n",
       "             (-1, 'д'): 9826,\n",
       "             (-1, 'е'): 11949,\n",
       "             (-1, 'ж'): 5247,\n",
       "             (-1, 'з'): 5274,\n",
       "             (-1, 'и'): 518344,\n",
       "             (-1, 'й'): 344654,\n",
       "             (-1, 'к'): 302361,\n",
       "             (-1, 'л'): 154608,\n",
       "             (-1, 'м'): 159107,\n",
       "             (-1, 'н'): 2593479,\n",
       "             (-1, 'о'): 212814,\n",
       "             (-1, 'п'): 39518,\n",
       "             (-1, 'р'): 1606357,\n",
       "             (-1, 'с'): 265173,\n",
       "             (-1, 'т'): 654760,\n",
       "             (-1, 'у'): 228220,\n",
       "             (-1, 'ф'): 1165,\n",
       "             (-1, 'х'): 582032,\n",
       "             (-1, 'ц'): 1815,\n",
       "             (-1, 'ч'): 21973,\n",
       "             (-1, 'ш'): 589,\n",
       "             (-1, 'щ'): 100,\n",
       "             (-1, 'ъ'): 29,\n",
       "             (-1, 'ы'): 523842,\n",
       "             (-1, 'ь'): 12477,\n",
       "             (-1, 'э'): 988210,\n",
       "             (-1, 'ю'): 1255,\n",
       "             (-1, 'я'): 71920,\n",
       "             (-1, 'ё'): 33,\n",
       "             (-1, 'ҕ'): 108,\n",
       "             (-1, 'ҥ'): 65134,\n",
       "             (-1, 'ү'): 90313,\n",
       "             (-1, 'һ'): 10415,\n",
       "             (-1, 'ө'): 102341})"
      ]
     },
     "execution_count": 61,
     "metadata": {},
     "output_type": "execute_result"
    }
   ],
   "source": [
    "len_search = int(len_word * WORD_LEN_COEFF)\n",
    "cond_prob = defaultdict(lambda: 0)\n",
    "total = defaultdict(lambda: 0)\n",
    "\n",
    "for word in voc:#для слова в словаре   \n",
    "    positions = range(-min(len_search, len(word) - 2), 0) # from -7 to 0\n",
    "    for i in positions: \n",
    "        cond_prob[(i, word[i])] += voc[word]\n",
    "        total[i] += voc[word] # dictionary with prob of char words?\n",
    "cond_prob"
   ]
  },
  {
   "cell_type": "code",
   "execution_count": 62,
   "metadata": {},
   "outputs": [
    {
     "data": {
      "text/plain": [
       "defaultdict(<function __main__.<lambda>>,\n",
       "            {(-7, 'а'): 0.10984867258690777,\n",
       "             (-7, 'б'): 0.03237548886108653,\n",
       "             (-7, 'в'): 0.0034969091918060136,\n",
       "             (-7, 'г'): 0.012524240720055028,\n",
       "             (-7, 'д'): 0.026213640352372475,\n",
       "             (-7, 'е'): 0.017250482808964074,\n",
       "             (-7, 'ж'): 0.0009517231144666211,\n",
       "             (-7, 'з'): 0.00270562103944093,\n",
       "             (-7, 'и'): 0.06383048212711548,\n",
       "             (-7, 'й'): 0.016326262830857717,\n",
       "             (-7, 'к'): 0.02338540116332537,\n",
       "             (-7, 'л'): 0.09235495891575761,\n",
       "             (-7, 'м'): 0.02007786252499992,\n",
       "             (-7, 'н'): 0.04784772200975731,\n",
       "             (-7, 'о'): 0.05104181021059667,\n",
       "             (-7, 'п'): 0.023812559249920713,\n",
       "             (-7, 'р'): 0.07725545056296915,\n",
       "             (-7, 'с'): 0.03281353360582448,\n",
       "             (-7, 'т'): 0.0791437127687035,\n",
       "             (-7, 'у'): 0.04925038196413075,\n",
       "             (-7, 'ф'): 0.0008723651064271106,\n",
       "             (-7, 'х'): 0.01542925949810787,\n",
       "             (-7, 'ц'): 0.0033728585871810744,\n",
       "             (-7, 'ч'): 0.012366384176987266,\n",
       "             (-7, 'ш'): 0.0010067293871871483,\n",
       "             (-7, 'щ'): 0.00025211208330241615,\n",
       "             (-7, 'ъ'): 0.00027331241758011936,\n",
       "             (-7, 'ы'): 0.055291044778257394,\n",
       "             (-7, 'ь'): 0.008454063029739771,\n",
       "             (-7, 'э'): 0.05410955587878107,\n",
       "             (-7, 'ю'): 0.0005099539866798873,\n",
       "             (-7, 'я'): 0.0009600313535754507,\n",
       "             (-7, 'ё'): 1.3465077176379046e-05,\n",
       "             (-7, 'ҕ'): 0.008967741399468444,\n",
       "             (-7, 'ҥ'): 0.003289776196092778,\n",
       "             (-7, 'ү'): 0.020469495727129923,\n",
       "             (-7, 'һ'): 0.023488537924676357,\n",
       "             (-7, 'ө'): 0.00836639678259143,\n",
       "             (-6, 'а'): 0.13725284548556266,\n",
       "             (-6, 'б'): 0.024641346670709323,\n",
       "             (-6, 'в'): 0.00497238259716942,\n",
       "             (-6, 'г'): 0.011069420334349718,\n",
       "             (-6, 'д'): 0.02194115731420996,\n",
       "             (-6, 'е'): 0.011031282066602551,\n",
       "             (-6, 'ж'): 0.000822303428481955,\n",
       "             (-6, 'з'): 0.003054451488017486,\n",
       "             (-6, 'и'): 0.05990187023708654,\n",
       "             (-6, 'й'): 0.018097879321621917,\n",
       "             (-6, 'к'): 0.01796248847111948,\n",
       "             (-6, 'л'): 0.0845904659839493,\n",
       "             (-6, 'м'): 0.016883175493874678,\n",
       "             (-6, 'н'): 0.05059168344220749,\n",
       "             (-6, 'о'): 0.0537169026048225,\n",
       "             (-6, 'п'): 0.014517543497224063,\n",
       "             (-6, 'р'): 0.06971272773577977,\n",
       "             (-6, 'с'): 0.03560419173463224,\n",
       "             (-6, 'т'): 0.07240338252534236,\n",
       "             (-6, 'у'): 0.04543136393675065,\n",
       "             (-6, 'ф'): 0.0010403271924365883,\n",
       "             (-6, 'х'): 0.017082765761751512,\n",
       "             (-6, 'ц'): 0.0016914321745868195,\n",
       "             (-6, 'ч'): 0.016373393981654223,\n",
       "             (-6, 'ш'): 0.0005093577536899303,\n",
       "             (-6, 'щ'): 0.0003623135435980786,\n",
       "             (-6, 'ъ'): 0.00017840234135063285,\n",
       "             (-6, 'ы'): 0.06159669247991755,\n",
       "             (-6, 'ь'): 0.006663391013225716,\n",
       "             (-6, 'э'): 0.06970933766753558,\n",
       "             (-6, 'ю'): 0.0003059536590383775,\n",
       "             (-6, 'я'): 0.0024518668576122603,\n",
       "             (-6, 'ё'): 5.063914439762619e-05,\n",
       "             (-6, 'ҕ'): 0.008794472663231256,\n",
       "             (-6, 'ҥ'): 0.004325515200324429,\n",
       "             (-6, 'ү'): 0.021150635775517308,\n",
       "             (-6, 'һ'): 0.022112567639806943,\n",
       "             (-6, 'ө'): 0.011402070780811112,\n",
       "             (-5, 'а'): 0.10291636935565768,\n",
       "             (-5, 'б'): 0.03079401771371802,\n",
       "             (-5, 'в'): 0.004512949445571554,\n",
       "             (-5, 'г'): 0.011441347794285173,\n",
       "             (-5, 'д'): 0.026456978391334676,\n",
       "             (-5, 'е'): 0.014271727296809427,\n",
       "             (-5, 'ж'): 0.0005262924121543829,\n",
       "             (-5, 'з'): 0.001483972047386129,\n",
       "             (-5, 'и'): 0.05814508606814193,\n",
       "             (-5, 'й'): 0.01859438704509019,\n",
       "             (-5, 'к'): 0.021990043582891375,\n",
       "             (-5, 'л'): 0.10278631409655213,\n",
       "             (-5, 'м'): 0.01780734502254238,\n",
       "             (-5, 'н'): 0.058502977690250556,\n",
       "             (-5, 'о'): 0.03642905325842747,\n",
       "             (-5, 'п'): 0.012611685353189501,\n",
       "             (-5, 'р'): 0.0832513431321077,\n",
       "             (-5, 'с'): 0.036294045034908816,\n",
       "             (-5, 'т'): 0.10984460793132571,\n",
       "             (-5, 'у'): 0.03435408071542535,\n",
       "             (-5, 'ф'): 0.0007602001508896642,\n",
       "             (-5, 'х'): 0.02250658983926512,\n",
       "             (-5, 'ц'): 0.0018017606350531198,\n",
       "             (-5, 'ч'): 0.009282654175396933,\n",
       "             (-5, 'ш'): 0.00039320146518273725,\n",
       "             (-5, 'щ'): 0.00014715097498305607,\n",
       "             (-5, 'ъ'): 8.004629583768848e-05,\n",
       "             (-5, 'ы'): 0.04716468351036719,\n",
       "             (-5, 'ь'): 0.010490538400013549,\n",
       "             (-5, 'э'): 0.0505186392832709,\n",
       "             (-5, 'ю'): 0.0004333044996243736,\n",
       "             (-5, 'я'): 0.001908329256457787,\n",
       "             (-5, 'ё'): 2.077049592594711e-05,\n",
       "             (-5, 'ҕ'): 0.009650611499377364,\n",
       "             (-5, 'ҥ'): 0.004896724301064823,\n",
       "             (-5, 'ү'): 0.014687456761419538,\n",
       "             (-5, 'һ'): 0.032631407737936415,\n",
       "             (-5, 'ө'): 0.00961130733016365,\n",
       "             (-4, 'а'): 0.13300193926114215,\n",
       "             (-4, 'б'): 0.01669256812125069,\n",
       "             (-4, 'в'): 0.004515462116173285,\n",
       "             (-4, 'г'): 0.005160819655090832,\n",
       "             (-4, 'д'): 0.020982537721849624,\n",
       "             (-4, 'е'): 0.008607870683613466,\n",
       "             (-4, 'ж'): 0.00038734206436612435,\n",
       "             (-4, 'з'): 0.0012014363669176462,\n",
       "             (-4, 'и'): 0.08205006877649267,\n",
       "             (-4, 'й'): 0.016098992234665266,\n",
       "             (-4, 'к'): 0.014926252596256798,\n",
       "             (-4, 'л'): 0.09036931414181158,\n",
       "             (-4, 'м'): 0.015233116279781625,\n",
       "             (-4, 'н'): 0.044545612812260264,\n",
       "             (-4, 'о'): 0.05379284660705825,\n",
       "             (-4, 'п'): 0.012608832342871064,\n",
       "             (-4, 'р'): 0.05349478325360957,\n",
       "             (-4, 'с'): 0.029964996368269582,\n",
       "             (-4, 'т'): 0.09283264131703954,\n",
       "             (-4, 'у'): 0.04662249071023128,\n",
       "             (-4, 'ф'): 0.000387214523350528,\n",
       "             (-4, 'х'): 0.021195276135864343,\n",
       "             (-4, 'ц'): 0.0007985342986487667,\n",
       "             (-4, 'ч'): 0.005264510500770666,\n",
       "             (-4, 'ш'): 0.00036986894522942395,\n",
       "             (-4, 'щ'): 0.00015815085933947783,\n",
       "             (-4, 'ъ'): 0.00013391806637617074,\n",
       "             (-4, 'ы'): 0.08336871533674335,\n",
       "             (-4, 'ь'): 0.009890423136450393,\n",
       "             (-4, 'э'): 0.07012689693346759,\n",
       "             (-4, 'ю'): 0.0003447433651569424,\n",
       "             (-4, 'я'): 0.0024623068471031928,\n",
       "             (-4, 'ё'): 1.479475780917696e-05,\n",
       "             (-4, 'ҕ'): 0.009560857152149417,\n",
       "             (-4, 'ҥ'): 0.003376265764866659,\n",
       "             (-4, 'ү'): 0.026010587179704652,\n",
       "             (-4, 'һ'): 0.013003699327157373,\n",
       "             (-4, 'ө'): 0.010443313439060584,\n",
       "             (-3, 'а'): 0.10697418939386719,\n",
       "             (-3, 'б'): 0.047839542035794144,\n",
       "             (-3, 'в'): 0.005072570007538281,\n",
       "             (-3, 'г'): 0.05384906924883748,\n",
       "             (-3, 'д'): 0.023965178476479096,\n",
       "             (-3, 'е'): 0.0067153775892559095,\n",
       "             (-3, 'ж'): 0.0005491732254920471,\n",
       "             (-3, 'з'): 0.0008914426538603354,\n",
       "             (-3, 'и'): 0.038123952295181035,\n",
       "             (-3, 'й'): 0.019848628239605308,\n",
       "             (-3, 'к'): 0.021557190961816717,\n",
       "             (-3, 'л'): 0.07317219182980599,\n",
       "             (-3, 'м'): 0.014970003768604877,\n",
       "             (-3, 'н'): 0.10141220408981981,\n",
       "             (-3, 'о'): 0.025173402409786678,\n",
       "             (-3, 'п'): 0.01611782721455335,\n",
       "             (-3, 'р'): 0.09285611093898877,\n",
       "             (-3, 'с'): 0.01878797854668931,\n",
       "             (-3, 'т'): 0.11746170593037474,\n",
       "             (-3, 'у'): 0.02148693791268981,\n",
       "             (-3, 'ф'): 0.0005064430934773578,\n",
       "             (-3, 'х'): 0.017522995290154195,\n",
       "             (-3, 'ц'): 0.002248954316562595,\n",
       "             (-3, 'ч'): 0.007462137515417385,\n",
       "             (-3, 'ш'): 0.0004594292389549302,\n",
       "             (-3, 'щ'): 0.00012187190534515397,\n",
       "             (-3, 'ъ'): 1.39220981501494e-06,\n",
       "             (-3, 'ы'): 0.03446415397069484,\n",
       "             (-3, 'ь'): 0.007895114767887032,\n",
       "             (-3, 'э'): 0.05833455508669023,\n",
       "             (-3, 'ю'): 8.706665996978048e-05,\n",
       "             (-3, 'я'): 0.003170918493290566,\n",
       "             (-3, 'ё'): 4.9584088027070555e-05,\n",
       "             (-3, 'ҕ'): 0.014586824790287688,\n",
       "             (-3, 'ҥ'): 0.010012023338148594,\n",
       "             (-3, 'ү'): 0.009789698139996977,\n",
       "             (-3, 'һ'): 0.019772592165092952,\n",
       "             (-3, 'ө'): 0.006689568161146787,\n",
       "             (-2, 'а'): 0.21185955687204952,\n",
       "             (-2, 'б'): 0.0031592835580168126,\n",
       "             (-2, 'в'): 0.004557698915294465,\n",
       "             (-2, 'г'): 0.035619195820579465,\n",
       "             (-2, 'д'): 0.00947932969610996,\n",
       "             (-2, 'е'): 0.006553546745740116,\n",
       "             (-2, 'ж'): 5.537088835333911e-05,\n",
       "             (-2, 'з'): 0.0003862096352925723,\n",
       "             (-2, 'и'): 0.09230225405735037,\n",
       "             (-2, 'й'): 0.008210051452404284,\n",
       "             (-2, 'к'): 0.02415788412583187,\n",
       "             (-2, 'л'): 0.014176796196029214,\n",
       "             (-2, 'м'): 0.0035040805756427805,\n",
       "             (-2, 'н'): 0.05854274359886186,\n",
       "             (-2, 'о'): 0.04931170473099408,\n",
       "             (-2, 'п'): 0.001094014129652368,\n",
       "             (-2, 'р'): 0.05521623810924038,\n",
       "             (-2, 'с'): 0.004725198163535284,\n",
       "             (-2, 'т'): 0.04716324031178155,\n",
       "             (-2, 'у'): 0.04612339536505916,\n",
       "             (-2, 'ф'): 7.635451382280151e-05,\n",
       "             (-2, 'х'): 0.01756495841775699,\n",
       "             (-2, 'ц'): 0.0002618793434140396,\n",
       "             (-2, 'ч'): 0.00686599015581405,\n",
       "             (-2, 'ш'): 0.00022961817474072513,\n",
       "             (-2, 'щ'): 5.57406438682195e-05,\n",
       "             (-2, 'ъ'): 9.243887872009869e-08,\n",
       "             (-2, 'ы'): 0.09037795391903408,\n",
       "             (-2, 'ь'): 0.003783615744892359,\n",
       "             (-2, 'э'): 0.11733017290969582,\n",
       "             (-2, 'ю'): 0.0001398600235035093,\n",
       "             (-2, 'я'): 0.0002233323309877584,\n",
       "             (-2, 'ё'): 2.9765318947871776e-05,\n",
       "             (-2, 'ҕ'): 0.02651784869955599,\n",
       "             (-2, 'ҥ'): 0.011648223107519635,\n",
       "             (-2, 'ү'): 0.023459231080465364,\n",
       "             (-2, 'һ'): 0.014935811829199945,\n",
       "             (-2, 'ө'): 0.010301758400082678,\n",
       "             (-1, 'а'): 0.15275819156372175,\n",
       "             (-1, 'б'): 0.0001000047904392623,\n",
       "             (-1, 'в'): 0.00875942309124598,\n",
       "             (-1, 'г'): 0.0004539553118453576,\n",
       "             (-1, 'д'): 0.0008589572297693981,\n",
       "             (-1, 'е'): 0.001044543042796106,\n",
       "             (-1, 'ж'): 0.0004586758176877704,\n",
       "             (-1, 'з'): 0.00046103607060897674,\n",
       "             (-1, 'и'): 0.04531196074777009,\n",
       "             (-1, 'й'): 0.030128541122424395,\n",
       "             (-1, 'к'): 0.026431423463291772,\n",
       "             (-1, 'л'): 0.013515332727476806,\n",
       "             (-1, 'м'): 0.013908620797569674,\n",
       "             (-1, 'н'): 0.22671356984582827,\n",
       "             (-1, 'о'): 0.018603513524948573,\n",
       "             (-1, 'п'): 0.003454536108897524,\n",
       "             (-1, 'р'): 0.14042254821297384,\n",
       "             (-1, 'с'): 0.023180568439816873,\n",
       "             (-1, 'т'): 0.05723700750700296,\n",
       "             (-1, 'у'): 0.019950256358433952,\n",
       "             (-1, 'ф'): 0.0001018405427113117,\n",
       "             (-1, 'х'): 0.050879360305021604,\n",
       "             (-1, 'ц'): 0.00015866144636998345,\n",
       "             (-1, 'ч'): 0.001920808793987684,\n",
       "             (-1, 'ш'): 5.1488480392242566e-05,\n",
       "             (-1, 'щ'): 8.741677485949502e-06,\n",
       "             (-1, 'ъ'): 2.5350864709253555e-06,\n",
       "             (-1, 'ы'): 0.04579257817594759,\n",
       "             (-1, 'ь'): 0.0010906990999219194,\n",
       "             (-1, 'э'): 0.08638613108390157,\n",
       "             (-1, 'ю'): 0.00010970805244866625,\n",
       "             (-1, 'я'): 0.006287014447894881,\n",
       "             (-1, 'ё'): 2.8847535703633354e-06,\n",
       "             (-1, 'ҕ'): 9.441011684825462e-06,\n",
       "             (-1, 'ҥ'): 0.005693804213698348,\n",
       "             (-1, 'ү'): 0.007894871187885573,\n",
       "             (-1, 'һ'): 0.0009104457101616406,\n",
       "             (-1, 'ө'): 0.00894632015589558})"
      ]
     },
     "execution_count": 62,
     "metadata": {},
     "output_type": "execute_result"
    }
   ],
   "source": [
    "for posChar in cond_prob: #получаем из частот вероятности\n",
    "    i = posChar[0]\n",
    "    cond_prob[posChar] /= total[i]\n",
    "cond_prob"
   ]
  },
  {
   "cell_type": "code",
   "execution_count": 47,
   "metadata": {},
   "outputs": [
    {
     "data": {
      "text/plain": [
       "[1.0000000000000004,\n",
       " 1.0000000000000002,\n",
       " 1.0000000000000002,\n",
       " 0.9999999999999999,\n",
       " 1.0000000000000002,\n",
       " 1.0000000000000002,\n",
       " 1.0]"
      ]
     },
     "execution_count": 47,
     "metadata": {},
     "output_type": "execute_result"
    }
   ],
   "source": [
    "# проверяем что сумма вероятностей в каждой позиции равна 1\n",
    "prob_sum = [0]*int(len_word)\n",
    "for k, v in cond_prob.items():\n",
    "    prob_sum[-k[0]-1] += v\n",
    "prob_sum"
   ]
  },
  {
   "cell_type": "markdown",
   "metadata": {},
   "source": [
    "### вычисление коррелятивной функции\n",
    "для каждой позиции `i` ищем букву с наибольшим значением `maxlet[i]` условной вероятности, половина УВ данной буквы считается за **порог** `thres_cond[i]` медиального разбиения этой позиции\n"
   ]
  },
  {
   "cell_type": "code",
   "execution_count": 68,
   "metadata": {},
   "outputs": [
    {
     "data": {
      "text/plain": [
       "(defaultdict(<function __main__.<lambda>>,\n",
       "             {-7: 0.05492433629345388,\n",
       "              -6: 0.06862642274278133,\n",
       "              -5: 0.054922303965662854,\n",
       "              -4: 0.06650096963057107,\n",
       "              -3: 0.05873085296518737,\n",
       "              -2: 0.10592977843602476,\n",
       "              -1: 0.11335678492291414}),\n",
       " ['', 'н', 'а', 'т', 'а', 'т', 'а', 'а'])"
      ]
     },
     "execution_count": 68,
     "metadata": {},
     "output_type": "execute_result"
    }
   ],
   "source": [
    "thres_cond = defaultdict(lambda: 0.0)\n",
    "maxlet = ['']*8 \n",
    "#для каждой позиции ищем букву с наибольшим значением условной вероятности, \n",
    "#половина УВ данной буквы считается за порог медиального разбиения\n",
    "for posChar in cond_prob:#цикл по позициям букв в условной вероятности\n",
    "    i = posChar[0]\n",
    "    if cond_prob[posChar] > thres_cond[i]:\n",
    "        thres_cond[i] = cond_prob[posChar]\n",
    "        maxlet[-i] = posChar[1]\n",
    "for pos in thres_cond:\n",
    "            thres_cond[pos] *= THRESHOLD_COEFF\n",
    "thres_cond, maxlet #порог медиального разбиения - половина условной вероятности , буквы с УВ не меньше порога - верхнее подмножество"
   ]
  },
  {
   "cell_type": "markdown",
   "metadata": {},
   "source": [
    "буквы, условная вероятность которых превышает порог медиального разбиения в данной позиции, образуют **верхнее подмножество** этой позиции cond_prob_sup"
   ]
  },
  {
   "cell_type": "code",
   "execution_count": 69,
   "metadata": {},
   "outputs": [
    {
     "data": {
      "text/plain": [
       "{(-7, 'а'): 0.10984867258690777,\n",
       " (-7, 'и'): 0.06383048212711548,\n",
       " (-7, 'л'): 0.09235495891575761,\n",
       " (-7, 'р'): 0.07725545056296915,\n",
       " (-7, 'т'): 0.0791437127687035,\n",
       " (-7, 'ы'): 0.055291044778257394,\n",
       " (-6, 'а'): 0.13725284548556266,\n",
       " (-6, 'л'): 0.0845904659839493,\n",
       " (-6, 'р'): 0.06971272773577977,\n",
       " (-6, 'т'): 0.07240338252534236,\n",
       " (-6, 'э'): 0.06970933766753558,\n",
       " (-5, 'а'): 0.10291636935565768,\n",
       " (-5, 'и'): 0.05814508606814193,\n",
       " (-5, 'л'): 0.10278631409655213,\n",
       " (-5, 'н'): 0.058502977690250556,\n",
       " (-5, 'р'): 0.0832513431321077,\n",
       " (-5, 'т'): 0.10984460793132571,\n",
       " (-4, 'а'): 0.13300193926114215,\n",
       " (-4, 'и'): 0.08205006877649267,\n",
       " (-4, 'л'): 0.09036931414181158,\n",
       " (-4, 'т'): 0.09283264131703954,\n",
       " (-4, 'ы'): 0.08336871533674335,\n",
       " (-4, 'э'): 0.07012689693346759,\n",
       " (-3, 'а'): 0.10697418939386719,\n",
       " (-3, 'л'): 0.07317219182980599,\n",
       " (-3, 'н'): 0.10141220408981981,\n",
       " (-3, 'р'): 0.09285611093898877,\n",
       " (-3, 'т'): 0.11746170593037474,\n",
       " (-2, 'а'): 0.21185955687204952,\n",
       " (-2, 'э'): 0.11733017290969582,\n",
       " (-1, 'а'): 0.15275819156372175,\n",
       " (-1, 'н'): 0.22671356984582827,\n",
       " (-1, 'р'): 0.14042254821297384}"
      ]
     },
     "execution_count": 69,
     "metadata": {},
     "output_type": "execute_result"
    }
   ],
   "source": [
    "cond_prob_sup = {}\n",
    "for posChar in cond_prob:\n",
    "        i = posChar[0]\n",
    "        if cond_prob[posChar] > thres_cond[i]:\n",
    "            cond_prob_sup[posChar] = cond_prob[posChar]\n",
    "cond_prob_sup # верхнее подмножество"
   ]
  },
  {
   "cell_type": "code",
   "execution_count": 52,
   "metadata": {},
   "outputs": [
    {
     "data": {
      "text/plain": [
       "{'а': 0.13174638100795355,\n",
       " 'и': 0.06497202721408583,\n",
       " 'н': 0.07183703410321932,\n",
       " 'р': 0.06989005476760542,\n",
       " 'т': 0.07463523242460413,\n",
       " 'ы': 0.05657750345483212}"
      ]
     },
     "execution_count": 52,
     "metadata": {},
     "output_type": "execute_result"
    }
   ],
   "source": [
    "# для сравнения-безусловные вероятности\n",
    "{l: prob[l] for l in ['а','н','ы','р','и','т']}"
   ]
  },
  {
   "cell_type": "markdown",
   "metadata": {},
   "source": [
    "**коррелятивная функция** -  отношение условной вероятности к независимой, для каждой буквы верхнего подмножества и позиция"
   ]
  },
  {
   "cell_type": "code",
   "execution_count": 70,
   "metadata": {},
   "outputs": [
    {
     "data": {
      "text/plain": [
       "{(-7, 'а'): 0.8337889188794961,\n",
       " (-7, 'и'): 0.982430206722519,\n",
       " (-7, 'л'): 1.751239386475054,\n",
       " (-7, 'р'): 1.1053854632086746,\n",
       " (-7, 'т'): 1.060406864126186,\n",
       " (-7, 'ы'): 0.9772620105515658,\n",
       " (-6, 'а'): 1.041795944871356,\n",
       " (-6, 'л'): 1.604008680102341,\n",
       " (-6, 'р'): 0.9974627716001184,\n",
       " (-6, 'т'): 0.9700965639583642,\n",
       " (-6, 'э'): 1.0297418534191813,\n",
       " (-5, 'а'): 0.7811703711955822,\n",
       " (-5, 'и'): 0.8949249170962633,\n",
       " (-5, 'л'): 1.94903926924671,\n",
       " (-5, 'н'): 0.8143846474255929,\n",
       " (-5, 'р'): 1.1911758176314287,\n",
       " (-5, 'т'): 1.4717527414721967,\n",
       " (-4, 'а'): 1.00953011569337,\n",
       " (-4, 'и'): 1.2628522195580245,\n",
       " (-4, 'л'): 1.7135874901772652,\n",
       " (-4, 'т'): 1.2438179436343055,\n",
       " (-4, 'ы'): 1.4735311784002565,\n",
       " (-4, 'э'): 1.0359100120446996,\n",
       " (-3, 'а'): 0.8119706103153539,\n",
       " (-3, 'л'): 1.3874947900085177,\n",
       " (-3, 'н'): 1.4116980935502612,\n",
       " (-3, 'р'): 1.328602635206809,\n",
       " (-3, 'т'): 1.573810412515745,\n",
       " (-2, 'а'): 1.6080863493264344,\n",
       " (-2, 'э'): 1.7331937693949762,\n",
       " (-1, 'а'): 1.1594868139451946,\n",
       " (-1, 'н'): 3.15594279017803,\n",
       " (-1, 'р'): 2.0091921329851465}"
      ]
     },
     "execution_count": 70,
     "metadata": {},
     "output_type": "execute_result"
    }
   ],
   "source": [
    "cf = {}\n",
    "for posChar in cond_prob_sup:\n",
    "    char = posChar[1]\n",
    "    cf[posChar] = cond_prob_sup[posChar] / prob[char]\n",
    "cf"
   ]
  },
  {
   "cell_type": "markdown",
   "metadata": {},
   "source": [
    "### определение информантов"
   ]
  },
  {
   "cell_type": "code",
   "execution_count": 76,
   "metadata": {
    "collapsed": true
   },
   "outputs": [],
   "source": [
    "import operator, math"
   ]
  },
  {
   "cell_type": "code",
   "execution_count": 74,
   "metadata": {},
   "outputs": [
    {
     "data": {
      "text/plain": [
       "{-7: ('л', 1.751239386475054),\n",
       " -6: ('л', 1.604008680102341),\n",
       " -5: ('л', 1.94903926924671),\n",
       " -4: ('л', 1.7135874901772652),\n",
       " -3: ('т', 1.573810412515745),\n",
       " -2: ('э', 1.7331937693949762),\n",
       " -1: ('н', 3.15594279017803)}"
      ]
     },
     "execution_count": 74,
     "metadata": {},
     "output_type": "execute_result"
    }
   ],
   "source": [
    "informants = {}\n",
    "for pos in range(-len_search, 0):\n",
    "    kmax = max({k for k in cf if k[0]==pos}, key=lambda k: cf[k])\n",
    "    informants[pos] = (kmax[1], cf[kmax])\n",
    "            \n",
    "informants"
   ]
  },
  {
   "cell_type": "code",
   "execution_count": null,
   "metadata": {
    "collapsed": true
   },
   "outputs": [],
   "source": [
    ""
   ]
  },
  {
   "cell_type": "code",
   "execution_count": 26,
   "metadata": {},
   "outputs": [
    {
     "data": {
      "text/plain": [
       "[('а', 798469),\n",
       " ('э', 500106),\n",
       " ('ы', 462367),\n",
       " ('и', 376365),\n",
       " ('о', 192704),\n",
       " ('у', 127619),\n",
       " ('ү', 92134),\n",
       " ('ө', 42450),\n",
       " ('е', 5962),\n",
       " ('я', 925),\n",
       " ('й', 386),\n",
       " ('н', 121),\n",
       " ('р', 117),\n",
       " ('л', 109),\n",
       " ('ю', 40),\n",
       " ('т', 40),\n",
       " ('ё', 38),\n",
       " ('ш', 25),\n",
       " ('м', 22),\n",
       " ('ь', 17),\n",
       " ('б', 13),\n",
       " ('г', 6),\n",
       " ('к', 4),\n",
       " ('ц', 3),\n",
       " ('х', 3),\n",
       " ('п', 2),\n",
       " ('с', 2),\n",
       " ('в', 2),\n",
       " ('ж', 1),\n",
       " ('ҥ', 1),\n",
       " ('ҕ', 1),\n",
       " ('д', 1),\n",
       " ('һ', 1)]"
      ]
     },
     "execution_count": 26,
     "metadata": {},
     "output_type": "execute_result"
    }
   ],
   "source": [
    "from collections import Counter\n",
    "freq = [(word[-2], n) for word, n in voc.items() if len(word)>1 and word[-1]=='н']#частота буквы в -2 позиции перед буквой \"н\"\n",
    "cond_prob_let = defaultdict(int) #словарь условных вероятностей символов\n",
    "for let, n in freq:\n",
    "    cond_prob_let[let] += n\n",
    "cond_prob_let = sorted(cond_prob_let.items(), key=operator.itemgetter(1), reverse=True)#сортируем элементы словаря по вероятностям в убыв порядке\n",
    "cond_prob_let"
   ]
  },
  {
   "cell_type": "markdown",
   "metadata": {},
   "source": [
    "сумма "
   ]
  },
  {
   "cell_type": "code",
   "execution_count": 27,
   "metadata": {},
   "outputs": [
    {
     "data": {
      "text/plain": [
       "[1.5965995209015689,\n",
       " 1.5482597540096241,\n",
       " 2.5275905426819465,\n",
       " 4.6983383416830256,\n",
       " 8.65885391504701,\n",
       " 17.309935342095255,\n",
       " 50.92398641901338,\n",
       " 336.65116883116883,\n",
       " 1442.6296501943366,\n",
       " 2840.5475409836067,\n",
       " 4743.589416058394,\n",
       " 5989.880184331797,\n",
       " 8073.680124223602,\n",
       " 11980.801843317973,\n",
       " 14524.435754189944]"
      ]
     },
     "execution_count": 27,
     "metadata": {},
     "output_type": "execute_result"
    }
   ],
   "source": [
    "[sum([x[1] for x in cond_prob_let[:i]])/sum([x[1] for x in cond_prob_let[i:2*i]]) for i in range(1,len(cond_prob_let)//2)]#201217"
   ]
  },
  {
   "cell_type": "code",
   "execution_count": 84,
   "metadata": {},
   "outputs": [
    {
     "name": "stdout",
     "output_type": "stream",
     "text": [
      "[798469, 500106, 462367, 376365, 192704, 127619, 92134, 42450, 5962, 925, 386, 121, 117, 109, 40, 40, 38, 25, 22, 17, 13, 6, 4, 3, 3, 2, 2, 2, 1, 1, 1]\n"
     ]
    }
   ],
   "source": [
    "print([x[1] for x in cond_prob_let[:i]])"
   ]
  },
  {
   "cell_type": "code",
   "execution_count": null,
   "metadata": {
    "collapsed": true
   },
   "outputs": [],
   "source": [
    "print([x[1] for x in cond_prob_let[i:2*i]])"
   ]
  },
  {
   "cell_type": "code",
   "execution_count": null,
   "metadata": {
    "collapsed": true
   },
   "outputs": [],
   "source": [
    "print(3)"
   ]
  },
  {
   "cell_type": "code",
   "execution_count": null,
   "metadata": {
    "collapsed": true
   },
   "outputs": [],
   "source": [
    ""
   ]
  }
 ],
 "metadata": {
  "kernelspec": {
   "display_name": "Python 3",
   "language": "python",
   "name": "python3"
  },
  "language_info": {
   "codemirror_mode": {
    "name": "ipython",
    "version": 3.0
   },
   "file_extension": ".py",
   "mimetype": "text/x-python",
   "name": "python",
   "nbconvert_exporter": "python",
   "pygments_lexer": "ipython3",
   "version": "3.6.1"
  }
 },
 "nbformat": 4,
 "nbformat_minor": 0
}