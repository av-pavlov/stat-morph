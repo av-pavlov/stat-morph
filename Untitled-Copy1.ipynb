{
 "cells": [
  {
   "cell_type": "markdown",
   "metadata": {},
   "source": [
    "# Статистико-комбинаторная модель морфологии\n",
    "\n",
    "Данный подход моделирования языка был описан Н.Д. Андреевым. (\"Статистико-комбинаторный методы в теоретическом и прикладном языковедении\", М., 1967) Эксперименты по применению статистико-комбинаторной модели были проведены для различных корпусов языков, в том числе английского, французского и русского.\n",
    "Статистико-комбинаторное моделирование языка можно описать двумя этапами:\n",
    "\n",
    "1)\tопираясь на статистику и комбинаторику, при этом не обращаясь к критерию правильности грамматики, сформировать систему языковых форм\n",
    "\n",
    "2)\tзатем, учитывая смысл текста, установить значения полученных форм и выявить правильность грамматики.\n",
    "\n",
    "Работы Андреева были найдены, ореферированы и реализованы в виде программы на Питоне (*Unsupervised learning of morphology in the USSR*, Franck Burlot, François Yvon, 2016)\n",
    "\n",
    "Мы пытаемся реализовать данный алгоритм для якутского языка\n",
    "\n",
    "### Считываем частоты слов"
   ]
  },
  {
   "cell_type": "code",
   "execution_count": 203,
   "metadata": {
    "collapsed": true
   },
   "outputs": [],
   "source": [
    "# Загрузить словарь количеств из файла.\n",
    "# Словарь содержит частоты слов в виде {слово: число вхождений в корпус, ... }, \n",
    "# например {\"көппөҕү\" : 4, \"хазар\" : 3, ...}\n",
    "#\n",
    "# корпус в формате txt  занимет 174 МБ, словарь частот в json 10,4МБ, \n",
    "# после сжатия в формат .bz2 1,7 МБ\n",
    "import bz2, json\n",
    "jsondict = bz2.open('voc.json.bz2', 'r').read().decode(encoding='utf-8')\n",
    "voc = json.loads(jsondict)\n",
    "del jsondict\n",
    "words=list(voc.keys())"
   ]
  },
  {
   "cell_type": "code",
   "execution_count": 204,
   "metadata": {},
   "outputs": [
    {
     "data": {
      "text/plain": [
       "'Загружено 386233 словоформ, 11.9 млн словоупотреблений'"
      ]
     },
     "execution_count": 204,
     "metadata": {},
     "output_type": "execute_result"
    }
   ],
   "source": [
    "word_count = sum([voc[k] for k in voc])\n",
    "\"Загружено {} словоформ, {:.1f} млн словоупотреблений\".format(len(voc), word_count/1000000.0)"
   ]
  },
  {
   "cell_type": "markdown",
   "metadata": {},
   "source": [
    "## Константы-параметры алгоритма"
   ]
  },
  {
   "cell_type": "code",
   "execution_count": 205,
   "metadata": {
    "collapsed": true
   },
   "outputs": [],
   "source": [
    "WORD_LEN_COEFF = 1\n",
    "THRESHOLD_COEFF = 0.5\n",
    "AFFIX_LEN = 1"
   ]
  },
  {
   "cell_type": "markdown",
   "metadata": {},
   "source": [
    "### Вычисляем частоту появления каждой буквы в тексте и общее количество букв в тексте"
   ]
  },
  {
   "cell_type": "code",
   "execution_count": 206,
   "metadata": {},
   "outputs": [
    {
     "data": {
      "text/plain": [
       "(defaultdict(<function __main__.<lambda>>,\n",
       "             {'а': 11101459,\n",
       "              'б': 2901561,\n",
       "              'в': 427404,\n",
       "              'г': 1311975,\n",
       "              'д': 1900403,\n",
       "              'е': 778639,\n",
       "              'ж': 37901,\n",
       "              'з': 91125,\n",
       "              'и': 5474794,\n",
       "              'й': 1316593,\n",
       "              'к': 2871767,\n",
       "              'л': 4443816,\n",
       "              'м': 1332271,\n",
       "              'н': 6053266,\n",
       "              'о': 4046042,\n",
       "              'п': 914556,\n",
       "              'р': 5889206,\n",
       "              'с': 3247664,\n",
       "              'т': 6289053,\n",
       "              'у': 4051425,\n",
       "              'ф': 88899,\n",
       "              'х': 1971611,\n",
       "              'ц': 98852,\n",
       "              'ч': 637310,\n",
       "              'ш': 34279,\n",
       "              'щ': 13392,\n",
       "              'ъ': 6759,\n",
       "              'ы': 4767439,\n",
       "              'ь': 679475,\n",
       "              'э': 5704321,\n",
       "              'ю': 29007,\n",
       "              'я': 166433,\n",
       "              'ё': 1635,\n",
       "              'ҕ': 800062,\n",
       "              'ҥ': 490070,\n",
       "              'ү': 1826789,\n",
       "              'һ': 1229530,\n",
       "              'ө': 1237080}),\n",
       " 84263863)"
      ]
     },
     "execution_count": 206,
     "metadata": {},
     "output_type": "execute_result"
    }
   ],
   "source": [
    "from collections import defaultdict\n",
    "prob = defaultdict(lambda: 0)\n",
    "for word in voc:\n",
    "    for char in word:\n",
    "        prob[char]+=voc[word]\n",
    "total = sum([n for n in prob.values()])#84263863\n",
    "prob, total"
   ]
  },
  {
   "cell_type": "markdown",
   "metadata": {},
   "source": [
    "### независимые вероятности букв  - вероятность букв, независимая от их расположения по позициям в слове"
   ]
  },
  {
   "cell_type": "code",
   "execution_count": 207,
   "metadata": {},
   "outputs": [
    {
     "data": {
      "text/plain": [
       "defaultdict(<function __main__.<lambda>>,\n",
       "            {'а': 0.13174638100795355,\n",
       "             'б': 0.034434227160936116,\n",
       "             'в': 0.0050722098985658895,\n",
       "             'г': 0.015569841605766402,\n",
       "             'д': 0.02255300116017705,\n",
       "             'е': 0.009240485449854108,\n",
       "             'ж': 0.00044978949042485743,\n",
       "             'з': 0.0010814244298294276,\n",
       "             'и': 0.06497202721408583,\n",
       "             'й': 0.015624645644361213,\n",
       "             'к': 0.034080647358880285,\n",
       "             'л': 0.052736912856701096,\n",
       "             'м': 0.01581070404996742,\n",
       "             'н': 0.07183703410321932,\n",
       "             'о': 0.04801633649290444,\n",
       "             'п': 0.010853478198596236,\n",
       "             'р': 0.06989005476760542,\n",
       "             'с': 0.038541598787133695,\n",
       "             'т': 0.07463523242460413,\n",
       "             'у': 0.048080219156342266,\n",
       "             'ф': 0.0010550074116587795,\n",
       "             'х': 0.02339806092203487,\n",
       "             'ц': 0.001173124474485581,\n",
       "             'ч': 0.007563265880653964,\n",
       "             'ш': 0.00040680546535114346,\n",
       "             'щ': 0.0001589293384282655,\n",
       "             'ъ': 8.021232067179261e-05,\n",
       "             'ы': 0.05657750345483212,\n",
       "             'ь': 0.008063658320530593,\n",
       "             'э': 0.06769593508904286,\n",
       "             'ю': 0.0003442400925768143,\n",
       "             'я': 0.001975140873852413,\n",
       "             'ё': 1.9403335448791374e-05,\n",
       "             'ҕ': 0.009494722547908823,\n",
       "             'ҥ': 0.005815897616751798,\n",
       "             'ү': 0.021679388233126696,\n",
       "             'һ': 0.014591426932325664,\n",
       "             'ө': 0.014681026432410297})"
      ]
     },
     "execution_count": 207,
     "metadata": {},
     "output_type": "execute_result"
    }
   ],
   "source": [
    "for k,v in prob.items():\n",
    "    prob[k] = v/total\n",
    "prob"
   ]
  },
  {
   "cell_type": "markdown",
   "metadata": {},
   "source": [
    "### выведем график частот букв по корпусу языка"
   ]
  },
  {
   "cell_type": "code",
   "execution_count": 208,
   "metadata": {},
   "outputs": [
    {
     "data": {
      "image/png": "[encoded data removed]",
      "text/plain": [
       "<matplotlib.figure.Figure at 0x188180cf1d0>"
      ]
     },
     "metadata": {},
     "output_type": "display_data"
    }
   ],
   "source": [
    "%matplotlib inline\n",
    "\n",
    "from matplotlib import pyplot as plt\n",
    "import numpy as np\n",
    "letters = list(prob.keys())\n",
    "letters.sort()\n",
    "ind = range(0,len(letters))\n",
    "\n",
    "plt.figure(figsize=(20,10))\n",
    "plt.bar(ind, [prob[l] for l in letters], tick_label=letters)\n",
    "plt.show()"
   ]
  },
  {
   "cell_type": "markdown",
   "metadata": {},
   "source": [
    "### вычислим среднюю длину слова"
   ]
  },
  {
   "cell_type": "code",
   "execution_count": 209,
   "metadata": {},
   "outputs": [
    {
     "data": {
      "text/plain": [
       "7.1053179762290535"
      ]
     },
     "execution_count": 209,
     "metadata": {},
     "output_type": "execute_result"
    }
   ],
   "source": [
    "words=list(voc.keys())\n",
    "len_word = sum([len(w)*voc[w] for w in words]) / word_count  #average word length\n",
    "len_word"
   ]
  },
  {
   "cell_type": "markdown",
   "metadata": {},
   "source": [
    "### подсчитываем условные вероятности букв в зависимости от позиции с конца слова"
   ]
  },
  {
   "cell_type": "code",
   "execution_count": 212,
   "metadata": {},
   "outputs": [
    {
     "data": {
      "text/plain": [
       "[1.0000000000000004,\n",
       " 1.0000000000000002,\n",
       " 1.0000000000000002,\n",
       " 0.9999999999999999,\n",
       " 1.0000000000000002,\n",
       " 1.0000000000000002,\n",
       " 1.0]"
      ]
     },
     "execution_count": 212,
     "metadata": {},
     "output_type": "execute_result"
    }
   ],
   "source": [
    "# проверяем что сумма вероятностей в каждой позиции равна 1\n",
    "prob_sum = [0]*int(len_word)\n",
    "for k, v in cond_prob.items():\n",
    "    prob_sum[-k[0]-1] += v\n",
    "prob_sum"
   ]
  },
  {
   "cell_type": "markdown",
   "metadata": {},
   "source": [
    "### вычисление коррелятивной функции\n",
    "для каждой позиции `i` ищем букву с наибольшим значением `maxlet[i]` условной вероятности, половина УВ данной буквы считается за **порог** `thres_cond[i]` медиального разбиения этой позиции\n"
   ]
  },
  {
   "cell_type": "code",
   "execution_count": 213,
   "metadata": {},
   "outputs": [
    {
     "data": {
      "text/plain": [
       "(defaultdict(<function __main__.<lambda>>,\n",
       "             {-7: 0.05492433629345388,\n",
       "              -6: 0.06862642274278133,\n",
       "              -5: 0.054922303965662854,\n",
       "              -4: 0.06650096963057107,\n",
       "              -3: 0.05873085296518737,\n",
       "              -2: 0.10592977843602476,\n",
       "              -1: 0.11335678492291414}),\n",
       " ['', 'н', 'а', 'т', 'а', 'т', 'а', 'а'])"
      ]
     },
     "execution_count": 213,
     "metadata": {},
     "output_type": "execute_result"
    }
   ],
   "source": [
    "thres_cond = defaultdict(lambda: 0.0)\n",
    "maxlet = ['']*8 \n",
    "#для каждой позиции ищем букву с наибольшим значением условной вероятности, \n",
    "#половина УВ данной буквы считается за порог медиального разбиения\n",
    "for posChar in cond_prob:#цикл по позициям букв в условной вероятности\n",
    "    i = posChar[0]\n",
    "    if cond_prob[posChar] > thres_cond[i]:\n",
    "        thres_cond[i] = cond_prob[posChar]\n",
    "        maxlet[-i] = posChar[1]\n",
    "for pos in thres_cond:\n",
    "            thres_cond[pos] *= THRESHOLD_COEFF\n",
    "thres_cond, maxlet #порог медиального разбиения - половина условной вероятности , буквы с УВ не меньше порога - верхнее подмножество"
   ]
  },
  {
   "cell_type": "markdown",
   "metadata": {},
   "source": [
    "буквы, условная вероятность которых превышает порог медиального разбиения в данной позиции, образуют **верхнее подмножество** этой позиции cond_prob_sup"
   ]
  },
  {
   "cell_type": "code",
   "execution_count": 214,
   "metadata": {},
   "outputs": [
    {
     "data": {
      "text/plain": [
       "{(-7, 'а'): 0.10984867258690777,\n",
       " (-7, 'и'): 0.06383048212711548,\n",
       " (-7, 'л'): 0.09235495891575761,\n",
       " (-7, 'р'): 0.07725545056296915,\n",
       " (-7, 'т'): 0.0791437127687035,\n",
       " (-7, 'ы'): 0.055291044778257394,\n",
       " (-6, 'а'): 0.13725284548556266,\n",
       " (-6, 'л'): 0.0845904659839493,\n",
       " (-6, 'р'): 0.06971272773577977,\n",
       " (-6, 'т'): 0.07240338252534236,\n",
       " (-6, 'э'): 0.06970933766753558,\n",
       " (-5, 'а'): 0.10291636935565768,\n",
       " (-5, 'и'): 0.05814508606814193,\n",
       " (-5, 'л'): 0.10278631409655213,\n",
       " (-5, 'н'): 0.058502977690250556,\n",
       " (-5, 'р'): 0.0832513431321077,\n",
       " (-5, 'т'): 0.10984460793132571,\n",
       " (-4, 'а'): 0.13300193926114215,\n",
       " (-4, 'и'): 0.08205006877649267,\n",
       " (-4, 'л'): 0.09036931414181158,\n",
       " (-4, 'т'): 0.09283264131703954,\n",
       " (-4, 'ы'): 0.08336871533674335,\n",
       " (-4, 'э'): 0.07012689693346759,\n",
       " (-3, 'а'): 0.10697418939386719,\n",
       " (-3, 'л'): 0.07317219182980599,\n",
       " (-3, 'н'): 0.10141220408981981,\n",
       " (-3, 'р'): 0.09285611093898877,\n",
       " (-3, 'т'): 0.11746170593037474,\n",
       " (-2, 'а'): 0.21185955687204952,\n",
       " (-2, 'э'): 0.11733017290969582,\n",
       " (-1, 'а'): 0.15275819156372175,\n",
       " (-1, 'н'): 0.22671356984582827,\n",
       " (-1, 'р'): 0.14042254821297384}"
      ]
     },
     "execution_count": 214,
     "metadata": {},
     "output_type": "execute_result"
    }
   ],
   "source": [
    "cond_prob_sup = {}\n",
    "for posChar in cond_prob:\n",
    "        i = posChar[0]\n",
    "        if cond_prob[posChar] > thres_cond[i]:\n",
    "            cond_prob_sup[posChar] = cond_prob[posChar]\n",
    "cond_prob_sup # верхнее подмножество"
   ]
  },
  {
   "cell_type": "code",
   "execution_count": 215,
   "metadata": {},
   "outputs": [
    {
     "data": {
      "text/plain": [
       "{'а': 0.13174638100795355,\n",
       " 'и': 0.06497202721408583,\n",
       " 'н': 0.07183703410321932,\n",
       " 'р': 0.06989005476760542,\n",
       " 'т': 0.07463523242460413,\n",
       " 'ы': 0.05657750345483212}"
      ]
     },
     "execution_count": 215,
     "metadata": {},
     "output_type": "execute_result"
    }
   ],
   "source": [
    "# для сравнения-безусловные вероятности\n",
    "{l: prob[l] for l in ['а','н','ы','р','и','т']}"
   ]
  },
  {
   "cell_type": "markdown",
   "metadata": {},
   "source": [
    "**коррелятивная функция** -  отношение условной вероятности к независимой, для каждой буквы верхнего подмножества и позиция"
   ]
  },
  {
   "cell_type": "code",
   "execution_count": 216,
   "metadata": {},
   "outputs": [
    {
     "data": {
      "text/plain": [
       "{(-7, 'а'): 0.8337889188794961,\n",
       " (-7, 'и'): 0.982430206722519,\n",
       " (-7, 'л'): 1.751239386475054,\n",
       " (-7, 'р'): 1.1053854632086746,\n",
       " (-7, 'т'): 1.060406864126186,\n",
       " (-7, 'ы'): 0.9772620105515658,\n",
       " (-6, 'а'): 1.041795944871356,\n",
       " (-6, 'л'): 1.604008680102341,\n",
       " (-6, 'р'): 0.9974627716001184,\n",
       " (-6, 'т'): 0.9700965639583642,\n",
       " (-6, 'э'): 1.0297418534191813,\n",
       " (-5, 'а'): 0.7811703711955822,\n",
       " (-5, 'и'): 0.8949249170962633,\n",
       " (-5, 'л'): 1.94903926924671,\n",
       " (-5, 'н'): 0.8143846474255929,\n",
       " (-5, 'р'): 1.1911758176314287,\n",
       " (-5, 'т'): 1.4717527414721967,\n",
       " (-4, 'а'): 1.00953011569337,\n",
       " (-4, 'и'): 1.2628522195580245,\n",
       " (-4, 'л'): 1.7135874901772652,\n",
       " (-4, 'т'): 1.2438179436343055,\n",
       " (-4, 'ы'): 1.4735311784002565,\n",
       " (-4, 'э'): 1.0359100120446996,\n",
       " (-3, 'а'): 0.8119706103153539,\n",
       " (-3, 'л'): 1.3874947900085177,\n",
       " (-3, 'н'): 1.4116980935502612,\n",
       " (-3, 'р'): 1.328602635206809,\n",
       " (-3, 'т'): 1.573810412515745,\n",
       " (-2, 'а'): 1.6080863493264344,\n",
       " (-2, 'э'): 1.7331937693949762,\n",
       " (-1, 'а'): 1.1594868139451946,\n",
       " (-1, 'н'): 3.15594279017803,\n",
       " (-1, 'р'): 2.0091921329851465}"
      ]
     },
     "execution_count": 216,
     "metadata": {},
     "output_type": "execute_result"
    }
   ],
   "source": [
    "cf = {}\n",
    "for posChar in cond_prob_sup:\n",
    "    char = posChar[1]\n",
    "    cf[posChar] = cond_prob_sup[posChar] / prob[char]\n",
    "cf"
   ]
  },
  {
   "cell_type": "markdown",
   "metadata": {},
   "source": [
    "### определение информантов"
   ]
  },
  {
   "cell_type": "code",
   "execution_count": 217,
   "metadata": {
    "collapsed": true
   },
   "outputs": [],
   "source": [
    "import operator, math"
   ]
  },
  {
   "cell_type": "code",
   "execution_count": 218,
   "metadata": {},
   "outputs": [
    {
     "data": {
      "text/plain": [
       "{-7: ('л', 1.751239386475054),\n",
       " -6: ('л', 1.604008680102341),\n",
       " -5: ('л', 1.94903926924671),\n",
       " -4: ('л', 1.7135874901772652),\n",
       " -3: ('т', 1.573810412515745),\n",
       " -2: ('э', 1.7331937693949762),\n",
       " -1: ('н', 3.15594279017803)}"
      ]
     },
     "execution_count": 218,
     "metadata": {},
     "output_type": "execute_result"
    }
   ],
   "source": [
    "informants = {}\n",
    "for pos in range(-len_search, 0):\n",
    "    kmax = max({k for k in cf if k[0]==pos}, key=lambda k: cf[k])\n",
    "    informants[pos] = (kmax[1], cf[kmax])   \n",
    "informants\n",
    "#informants[-3][0]"
   ]
  },
  {
   "cell_type": "code",
   "execution_count": 219,
   "metadata": {},
   "outputs": [
    {
     "name": "stdout",
     "output_type": "stream",
     "text": [
      "1.751239386475054\n",
      "1.604008680102341\n",
      "1.94903926924671\n",
      "1.7135874901772652\n",
      "1.573810412515745\n",
      "1.7331937693949762\n",
      "3.15594279017803\n"
     ]
    }
   ],
   "source": [
    "for pos in range(-len_search, 0):\n",
    "    list(informants.values())\n",
    "    print(informants[pos][1])"
   ]
  },
  {
   "cell_type": "code",
   "execution_count": 220,
   "metadata": {},
   "outputs": [
    {
     "data": {
      "text/plain": [
       "'н'"
      ]
     },
     "execution_count": 220,
     "metadata": {},
     "output_type": "execute_result"
    }
   ],
   "source": [
    "informants[-1][0]"
   ]
  },
  {
   "cell_type": "code",
   "execution_count": 221,
   "metadata": {},
   "outputs": [
    {
     "data": {
      "text/plain": [
       "[('а', 798469),\n",
       " ('э', 500106),\n",
       " ('ы', 462367),\n",
       " ('и', 376365),\n",
       " ('о', 192704),\n",
       " ('у', 127619),\n",
       " ('ү', 92134),\n",
       " ('ө', 42450),\n",
       " ('е', 5962),\n",
       " ('я', 925),\n",
       " ('й', 386),\n",
       " ('н', 121),\n",
       " ('р', 117),\n",
       " ('л', 109),\n",
       " ('ю', 40),\n",
       " ('т', 40),\n",
       " ('ё', 38),\n",
       " ('ш', 25),\n",
       " ('м', 22),\n",
       " ('ь', 17),\n",
       " ('б', 13),\n",
       " ('г', 6),\n",
       " ('к', 4),\n",
       " ('ц', 3),\n",
       " ('х', 3),\n",
       " ('п', 2),\n",
       " ('с', 2),\n",
       " ('в', 2),\n",
       " ('ж', 1),\n",
       " ('ҥ', 1),\n",
       " ('ҕ', 1),\n",
       " ('д', 1),\n",
       " ('һ', 1)]"
      ]
     },
     "execution_count": 221,
     "metadata": {},
     "output_type": "execute_result"
    }
   ],
   "source": [
    "from collections import Counter\n",
    "freq = [(word[-2], n) for word, n in voc.items() if len(word)>1 and word[-1]==informants[-1][0]]#частота буквы в -2 позиции перед буквой \"н\"\n",
    "cond_prob_let = defaultdict(int) #словарь условных вероятностей символов\n",
    "for let, n in freq:\n",
    "    cond_prob_let[let] += n\n",
    "cond_prob_let = sorted(cond_prob_let.items(), key=operator.itemgetter(1), reverse=True)#сортируем элементы словаря по вероятностям в убыв порядке\n",
    "cond_prob_let"
   ]
  },
  {
   "cell_type": "code",
   "execution_count": 222,
   "metadata": {},
   "outputs": [
    {
     "data": {
      "text/plain": [
       "[('а', 798469),\n",
       " ('э', 500106),\n",
       " ('ы', 462367),\n",
       " ('и', 376365),\n",
       " ('о', 192704),\n",
       " ('у', 127619),\n",
       " ('ү', 92134),\n",
       " ('ө', 42450),\n",
       " ('е', 5962),\n",
       " ('я', 925),\n",
       " ('й', 386),\n",
       " ('н', 121),\n",
       " ('р', 117),\n",
       " ('л', 109),\n",
       " ('ю', 40),\n",
       " ('т', 40),\n",
       " ('ё', 38),\n",
       " ('ш', 25),\n",
       " ('м', 22),\n",
       " ('ь', 17),\n",
       " ('б', 13),\n",
       " ('г', 6),\n",
       " ('к', 4),\n",
       " ('ц', 3),\n",
       " ('х', 3),\n",
       " ('п', 2),\n",
       " ('с', 2),\n",
       " ('в', 2),\n",
       " ('ж', 1),\n",
       " ('ҥ', 1),\n",
       " ('ҕ', 1),\n",
       " ('д', 1),\n",
       " ('һ', 1)]"
      ]
     },
     "execution_count": 222,
     "metadata": {},
     "output_type": "execute_result"
    }
   ],
   "source": [
    "from collections import Counter\n",
    "freq = [(word[-2], n) for word, n in voc.items() if len(word)>1 and word[-1]=='н']#частота буквы в -2 позиции перед буквой \"н\"\n",
    "cond_prob_let = defaultdict(int) #словарь условных вероятностей символов\n",
    "for let, n in freq:\n",
    "    cond_prob_let[let] += n\n",
    "cond_prob_let = sorted(cond_prob_let.items(), key=operator.itemgetter(1), reverse=True)#сортируем элементы словаря по вероятностям в убыв порядке\n",
    "cond_prob_let"
   ]
  },
  {
   "cell_type": "code",
   "execution_count": 223,
   "metadata": {},
   "outputs": [
    {
     "data": {
      "text/plain": [
       "1.5965995209015689"
      ]
     },
     "execution_count": 223,
     "metadata": {},
     "output_type": "execute_result"
    }
   ],
   "source": [
    "cond_prob_let[0][1]/cond_prob_let[1][1]"
   ]
  },
  {
   "cell_type": "markdown",
   "metadata": {},
   "source": [
    "сумма "
   ]
  },
  {
   "cell_type": "code",
   "execution_count": 22,
   "metadata": {},
   "outputs": [
    {
     "data": {
      "text/plain": [
       "[1.5965995209015689,\n",
       " 1.5482597540096241,\n",
       " 2.5275905426819465,\n",
       " 4.6983383416830256,\n",
       " 8.65885391504701,\n",
       " 17.309935342095255,\n",
       " 50.92398641901338,\n",
       " 336.65116883116883,\n",
       " 1442.6296501943366,\n",
       " 2840.5475409836067,\n",
       " 4743.589416058394,\n",
       " 5989.880184331797,\n",
       " 8073.680124223602,\n",
       " 11980.801843317973,\n",
       " 14524.435754189944]"
      ]
     },
     "execution_count": 22,
     "metadata": {},
     "output_type": "execute_result"
    }
   ],
   "source": [
    "[sum([x[1] for x in cond_prob_let[:i]])/sum([x[1] for x in cond_prob_let[i:2*i]]) for i in range(1,len(cond_prob_let)//2)]#201217"
   ]
  },
  {
   "cell_type": "code",
   "execution_count": 23,
   "metadata": {},
   "outputs": [
    {
     "name": "stdout",
     "output_type": "stream",
     "text": [
      "[798469, 500106, 462367, 376365, 192704, 127619, 92134, 42450, 5962, 925, 386, 121, 117, 109, 40, 40, 38, 25, 22, 17, 13, 6, 4, 3, 3, 2, 2, 2, 1, 1, 1]\n"
     ]
    }
   ],
   "source": [
    "print([x[1] for x in cond_prob_let[:i]])"
   ]
  },
  {
   "cell_type": "code",
   "execution_count": 24,
   "metadata": {
    "collapsed": true
   },
   "outputs": [],
   "source": [
    "#words = [w.decode(encoding='utf-8') for w in open('korpus_cleaned.txt').read().split()]"
   ]
  },
  {
   "cell_type": "markdown",
   "metadata": {
    "collapsed": true
   },
   "source": [
    "### как тута делать? средняя длина фразы ннада, пока пусть 9"
   ]
  },
  {
   "cell_type": "code",
   "execution_count": 25,
   "metadata": {
    "collapsed": true
   },
   "outputs": [],
   "source": [
    "len_sent=9"
   ]
  },
  {
   "cell_type": "markdown",
   "metadata": {},
   "source": [
    "разрешенная длина первого словоизменительного аффикса = частное от деления квадрата величины Длины слова в графемах на среднюю длину фразы в словах "
   ]
  },
  {
   "cell_type": "markdown",
   "metadata": {},
   "source": [
    "Gets the probability of characters in the neighborhood\n",
    "of an affix and returns them in a sorted array.\n",
    "The input is an affix, an array containing the position\n",
    "of each character of the affix, and an integer for the\n",
    "position at which the neighbor is located."
   ]
  },
  {
   "cell_type": "markdown",
   "metadata": {},
   "source": [
    "### минимальная длина аффикса вычисляется как (средняя длина слова^2/средняя длина предложения)"
   ]
  },
  {
   "cell_type": "code",
   "execution_count": 26,
   "metadata": {},
   "outputs": [
    {
     "data": {
      "text/plain": [
       "5.609504838147081"
      ]
     },
     "execution_count": 26,
     "metadata": {},
     "output_type": "execute_result"
    }
   ],
   "source": [
    "aff_len = len_word**2/len_sent\n",
    "aff_len"
   ]
  },
  {
   "cell_type": "code",
   "execution_count": 27,
   "metadata": {
    "collapsed": true
   },
   "outputs": [],
   "source": [
    "### проверим информант на расширяемость, для этого"
   ]
  },
  {
   "cell_type": "code",
   "execution_count": 28,
   "metadata": {},
   "outputs": [
    {
     "name": "stdout",
     "output_type": "stream",
     "text": [
      "1.751239386475054\n",
      "1.604008680102341\n",
      "1.94903926924671\n",
      "1.7135874901772652\n",
      "1.573810412515745\n",
      "1.7331937693949762\n",
      "3.15594279017803\n"
     ]
    }
   ],
   "source": [
    "for pos in informants.keys():\n",
    "    print(informants[pos][1])"
   ]
  },
  {
   "cell_type": "markdown",
   "metadata": {},
   "source": [
    "если мера перепада двух букв , наиболее частых по соседству с информантом, превышает 1.5, то наиболее частотная из этих букв добавляется к информанту"
   ]
  },
  {
   "cell_type": "code",
   "execution_count": 29,
   "metadata": {},
   "outputs": [
    {
     "data": {
      "text/plain": [
       "798469"
      ]
     },
     "execution_count": 29,
     "metadata": {},
     "output_type": "execute_result"
    }
   ],
   "source": [
    "cond_prob_let[0][1]"
   ]
  },
  {
   "cell_type": "code",
   "execution_count": 30,
   "metadata": {},
   "outputs": [
    {
     "data": {
      "text/plain": [
       "500106"
      ]
     },
     "execution_count": 30,
     "metadata": {},
     "output_type": "execute_result"
    }
   ],
   "source": [
    "cond_prob_let[1][1]"
   ]
  },
  {
   "cell_type": "code",
   "execution_count": 31,
   "metadata": {},
   "outputs": [
    {
     "data": {
      "text/plain": [
       "1.5965995209015689"
      ]
     },
     "execution_count": 31,
     "metadata": {},
     "output_type": "execute_result"
    }
   ],
   "source": [
    "cond_prob_let[0][1]/cond_prob_let[1][1] # мера перепада больше 1.5, прибавляем а к н"
   ]
  },
  {
   "cell_type": "code",
   "execution_count": 32,
   "metadata": {
    "collapsed": true
   },
   "outputs": [],
   "source": [
    "def extend_affix(aff, pos, stats):\n",
    "    \"\"\"\n",
    "    Extend the informant to get an affix.\n",
    "    \"\"\"\n",
    "    # The informant is part of a prefix.\n",
    "    if pos >= 0:\n",
    "        aff = extend_prefix(aff, pos, stats)\n",
    "    # The informant is part of a suffix.\n",
    "    else:\n",
    "        aff = extend_suffix(aff, pos, stats)\n",
    "    return aff"
   ]
  },
  {
   "cell_type": "code",
   "execution_count": 33,
   "metadata": {},
   "outputs": [
    {
     "data": {
      "text/plain": [
       "'хоруунан'"
      ]
     },
     "execution_count": 33,
     "metadata": {},
     "output_type": "execute_result"
    }
   ],
   "source": [
    "words[0]"
   ]
  },
  {
   "cell_type": "code",
   "execution_count": 34,
   "metadata": {
    "collapsed": true
   },
   "outputs": [],
   "source": [
    "dict = {}\n",
    "dict = {'a': {'b': 3}}"
   ]
  },
  {
   "cell_type": "code",
   "execution_count": 35,
   "metadata": {},
   "outputs": [
    {
     "data": {
      "text/plain": [
       "dict_values([{'b': 3}])"
      ]
     },
     "execution_count": 35,
     "metadata": {},
     "output_type": "execute_result"
    }
   ],
   "source": [
    "if dict.keys()=='b':\n",
    "    dict[a]=\"o\"\n",
    "dict.values()"
   ]
  },
  {
   "cell_type": "code",
   "execution_count": 36,
   "metadata": {},
   "outputs": [
    {
     "name": "stdout",
     "output_type": "stream",
     "text": [
      "{'х': {'о': {'р': {'у': {'у': {'н': {'а': {'н': {'_end_': '_end_'}}}}}}}}}\n",
      "{'х': {'о': {'р': {'у': {'у': {'н': {'а': {'н': {'_end_': '_end_'}}}}}}}, 'а': {'з': {'а': {'р': {'_end_': '_end_'}}}}}}\n",
      "{'х': {'о': {'р': {'у': {'у': {'н': {'а': {'н': {'_end_': '_end_'}}}}}}}, 'а': {'з': {'а': {'р': {'_end_': '_end_'}}}}}, 'а': {'т': {'а': {'а': {'н': {'н': {'а': {'а': {'һ': {'ы': {'ы': {'_end_': '_end_'}}}}}}}}}}}}\n",
      "{'х': {'о': {'р': {'у': {'у': {'н': {'а': {'н': {'_end_': '_end_'}}}}}}}, 'а': {'з': {'а': {'р': {'_end_': '_end_'}}}}}, 'а': {'т': {'а': {'а': {'н': {'н': {'а': {'а': {'һ': {'ы': {'ы': {'_end_': '_end_'}}}}}}}}}}}, 'к': {'ө': {'п': {'п': {'ө': {'ҕ': {'ү': {'_end_': '_end_'}}}}}}}}\n",
      "{'х': {'о': {'р': {'у': {'у': {'н': {'а': {'н': {'_end_': '_end_'}}}}}}}, 'а': {'з': {'а': {'р': {'_end_': '_end_'}}}}}, 'а': {'т': {'а': {'а': {'н': {'н': {'а': {'а': {'һ': {'ы': {'ы': {'_end_': '_end_'}}}}}}}}}}}, 'к': {'ө': {'п': {'п': {'ө': {'ҕ': {'ү': {'_end_': '_end_'}}}}}}}, 'б': {'ы': {'р': {'а': {'ҕ': {'ы': {'л': {'ы': {'н': {'н': {'ы': {'л': {'а': {'р': {'_end_': '_end_'}}}}}}}}}}}}}}}\n",
      "{'х': {'о': {'р': {'у': {'у': {'н': {'а': {'н': {'_end_': '_end_'}}}}}}}, 'а': {'з': {'а': {'р': {'_end_': '_end_'}}}}}, 'а': {'т': {'а': {'а': {'н': {'н': {'а': {'а': {'һ': {'ы': {'ы': {'_end_': '_end_'}}}}}}}}}}}, 'к': {'ө': {'п': {'п': {'ө': {'ҕ': {'ү': {'_end_': '_end_'}}}}}}}, 'б': {'ы': {'р': {'а': {'ҕ': {'ы': {'л': {'ы': {'н': {'н': {'ы': {'л': {'а': {'р': {'_end_': '_end_'}}}}}}}}}}}}}, 'у': {'л': {'т': {'а': {'р': {'б': {'ы': {'т': {'т': {'а': {'н': {'_end_': '_end_'}}}}}}}}}}}}}\n",
      "{'х': {'о': {'р': {'у': {'у': {'н': {'а': {'н': {'_end_': '_end_'}}}}}}}, 'а': {'з': {'а': {'р': {'_end_': '_end_'}}}}}, 'а': {'т': {'а': {'а': {'н': {'н': {'а': {'а': {'һ': {'ы': {'ы': {'_end_': '_end_'}}}}}}}}}}}, 'к': {'ө': {'п': {'п': {'ө': {'ҕ': {'ү': {'_end_': '_end_'}}}}}}, 'э': {'м': {'ч': {'и': {'л': {'э': {'р': {'_end_': '_end_'}}}}}}}}, 'б': {'ы': {'р': {'а': {'ҕ': {'ы': {'л': {'ы': {'н': {'н': {'ы': {'л': {'а': {'р': {'_end_': '_end_'}}}}}}}}}}}}}, 'у': {'л': {'т': {'а': {'р': {'б': {'ы': {'т': {'т': {'а': {'н': {'_end_': '_end_'}}}}}}}}}}}}}\n",
      "{'х': {'о': {'р': {'у': {'у': {'н': {'а': {'н': {'_end_': '_end_'}}}}}}}, 'а': {'з': {'а': {'р': {'_end_': '_end_'}}}}}, 'а': {'т': {'а': {'а': {'н': {'н': {'а': {'а': {'һ': {'ы': {'ы': {'_end_': '_end_'}}}}}}}}}}}, 'к': {'ө': {'п': {'п': {'ө': {'ҕ': {'ү': {'_end_': '_end_'}}}}}}, 'э': {'м': {'ч': {'и': {'л': {'э': {'р': {'_end_': '_end_'}}}}}}}}, 'б': {'ы': {'р': {'а': {'ҕ': {'ы': {'л': {'ы': {'н': {'н': {'ы': {'л': {'а': {'р': {'_end_': '_end_'}}}}}}}}}}}}}, 'у': {'л': {'т': {'а': {'р': {'б': {'ы': {'т': {'т': {'а': {'н': {'_end_': '_end_'}}}}}}}}}}}}, 'м': {'о': {'ҥ': {'у': {'о': {'х': {'т': {'а': {'р': {'а': {'_end_': '_end_'}}}}}}}}}}}\n",
      "{'х': {'о': {'р': {'у': {'у': {'н': {'а': {'н': {'_end_': '_end_'}}}}}}}, 'а': {'з': {'а': {'р': {'_end_': '_end_'}}}}}, 'а': {'т': {'а': {'а': {'н': {'н': {'а': {'а': {'һ': {'ы': {'ы': {'_end_': '_end_'}}}}}}}}}}}, 'к': {'ө': {'п': {'п': {'ө': {'ҕ': {'ү': {'_end_': '_end_'}}}}}}, 'э': {'м': {'ч': {'и': {'л': {'э': {'р': {'_end_': '_end_'}}}}}}}}, 'б': {'ы': {'р': {'а': {'ҕ': {'ы': {'л': {'ы': {'н': {'н': {'ы': {'л': {'а': {'р': {'_end_': '_end_'}}}}}}}}}}}}}, 'у': {'л': {'т': {'а': {'р': {'б': {'ы': {'т': {'т': {'а': {'н': {'_end_': '_end_'}}}}}}}}}}}}, 'м': {'о': {'ҥ': {'у': {'о': {'х': {'т': {'а': {'р': {'а': {'_end_': '_end_'}}}}}}}}}}, 'е': {'е': {'_end_': '_end_'}}}\n",
      "{'х': {'о': {'р': {'у': {'у': {'н': {'а': {'н': {'_end_': '_end_'}}}}}}}, 'а': {'з': {'а': {'р': {'_end_': '_end_'}}}}}, 'а': {'т': {'а': {'а': {'н': {'н': {'а': {'а': {'һ': {'ы': {'ы': {'_end_': '_end_'}}}}}}}}}}}, 'к': {'ө': {'п': {'п': {'ө': {'ҕ': {'ү': {'_end_': '_end_'}}}}}}, 'э': {'м': {'ч': {'и': {'л': {'э': {'р': {'_end_': '_end_'}}}}}}}}, 'б': {'ы': {'р': {'а': {'ҕ': {'ы': {'л': {'ы': {'н': {'н': {'ы': {'л': {'а': {'р': {'_end_': '_end_'}}}}}}}}}}}}}, 'у': {'л': {'т': {'а': {'р': {'б': {'ы': {'т': {'т': {'а': {'н': {'_end_': '_end_'}}}}}}}}}}}}, 'м': {'о': {'ҥ': {'у': {'о': {'х': {'т': {'а': {'р': {'а': {'_end_': '_end_'}}}}}}}}}}, 'е': {'е': {'_end_': '_end_'}}, 'ы': {'һ': {'ы': {'л': {'ы': {'н': {'н': {'а': {'р': {'б': {'ы': {'т': {'_end_': '_end_'}}}}}}}}}}}}}\n"
     ]
    }
   ],
   "source": [
    "_end = '_end_'\n",
    "root = {}\n",
    "def make_trie(*words):\n",
    "     for word in words:\n",
    "         current_dict = root\n",
    "         for letter in word:\n",
    "             current_dict = current_dict.setdefault(letter, {})\n",
    "         current_dict[_end] = _end\n",
    "     return root \n",
    "for word in words[:10]:\n",
    "    print(make_trie(word))"
   ]
  },
  {
   "cell_type": "code",
   "execution_count": 37,
   "metadata": {},
   "outputs": [
    {
     "data": {
      "text/plain": [
       "['хоруунан',\n",
       " 'хазар',\n",
       " 'атааннааһыы',\n",
       " 'көппөҕү',\n",
       " 'быраҕылыннылар',\n",
       " 'бултарбыттан',\n",
       " 'кэмчилэр',\n",
       " 'моҥуохтара',\n",
       " 'ее',\n",
       " 'ыһылыннарбыт']"
      ]
     },
     "execution_count": 37,
     "metadata": {},
     "output_type": "execute_result"
    }
   ],
   "source": [
    "words[:10]"
   ]
  },
  {
   "cell_type": "code",
   "execution_count": 38,
   "metadata": {},
   "outputs": [
    {
     "name": "stdout",
     "output_type": "stream",
     "text": [
      "{'а': {'т': {'а': {'а': {'н': {'н': {'а': {'а': {'һ': {'ы': {'ы': {'_end_': '_end_'}}}}}}}}}}},\n",
      " 'б': {'у': {'л': {'т': {'а': {'р': {'б': {'ы': {'т': {'т': {'а': {'н': {'_end_': '_end_'}}}}}}}}}}},\n",
      "       'ы': {'р': {'а': {'ҕ': {'ы': {'л': {'ы': {'н': {'н': {'ы': {'л': {'а': {'р': {'_end_': '_end_'}}}}}}}}}}}}}},\n",
      " 'е': {'е': {'_end_': '_end_'}},\n",
      " 'к': {'э': {'м': {'ч': {'и': {'л': {'э': {'р': {'_end_': '_end_'}}}}}}},\n",
      "       'ө': {'п': {'п': {'ө': {'ҕ': {'ү': {'_end_': '_end_'}}}}}}},\n",
      " 'м': {'о': {'ҥ': {'у': {'о': {'х': {'т': {'а': {'р': {'а': {'_end_': '_end_'}}}}}}}}}},\n",
      " 'х': {'а': {'з': {'а': {'р': {'_end_': '_end_'}}}},\n",
      "       'о': {'р': {'у': {'у': {'н': {'а': {'н': {'_end_': '_end_'}}}}}}}},\n",
      " 'ы': {'һ': {'ы': {'л': {'ы': {'н': {'н': {'а': {'р': {'б': {'ы': {'т': {'_end_': '_end_'}}}}}}}}}}}}}\n"
     ]
    }
   ],
   "source": [
    "import pprint\n",
    "pprint.pprint(root)"
   ]
  },
  {
   "cell_type": "code",
   "execution_count": 39,
   "metadata": {},
   "outputs": [
    {
     "data": {
      "text/plain": [
       "{'а': {'т': {'а': {'а': {'н': {'н': {'а': {'а': {'һ': {'ы': {'ы': {'_end_': '_end_'}}}}}}}}}}},\n",
       " 'б': {'у': {'л': {'т': {'а': {'р': {'б': {'ы': {'т': {'т': {'а': {'н': {'_end_': '_end_'}}}}}}}}}}},\n",
       "  'ы': {'р': {'а': {'ҕ': {'ы': {'л': {'ы': {'н': {'н': {'ы': {'л': {'а': {'р': {'_end_': '_end_'}}}}}}}}}}}}}},\n",
       " 'е': {'е': {'_end_': '_end_'}},\n",
       " 'к': {'э': {'м': {'ч': {'и': {'л': {'э': {'р': {'_end_': '_end_'}}}}}}},\n",
       "  'ө': {'п': {'п': {'ө': {'ҕ': {'ү': {'_end_': '_end_'}}}}}}},\n",
       " 'м': {'о': {'ҥ': {'у': {'о': {'х': {'т': {'а': {'р': {'а': {'_end_': '_end_'}}}}}}}}}},\n",
       " 'х': {'а': {'з': {'а': {'р': {'_end_': '_end_',\n",
       "      'д': {'а': {'р': {'_end_': '_end_'}}}}}},\n",
       "   'р': {'а': {'х': {'_end_': '_end_'}}}},\n",
       "  'о': {'р': {'у': {'у': {'н': {'а': {'н': {'_end_': '_end_'}}}}}}}},\n",
       " 'ы': {'һ': {'ы': {'л': {'ы': {'н': {'н': {'а': {'р': {'б': {'ы': {'т': {'_end_': '_end_'}}}}}}}}}}}}}"
      ]
     },
     "execution_count": 39,
     "metadata": {},
     "output_type": "execute_result"
    }
   ],
   "source": [
    "make_trie('харах', 'хазардар')"
   ]
  },
  {
   "cell_type": "code",
   "execution_count": 40,
   "metadata": {},
   "outputs": [
    {
     "name": "stdout",
     "output_type": "stream",
     "text": [
      "{'а': {'т': {'а': {'а': {'н': {'н': {'а': {'а': {'һ': {'ы': {'ы': {'_end_': '_end_'}}}}}}}}}}},\n",
      " 'б': {'у': {'л': {'т': {'а': {'р': {'б': {'ы': {'т': {'т': {'а': {'н': {'_end_': '_end_'}}}}}}}}}}},\n",
      "       'ы': {'р': {'а': {'ҕ': {'ы': {'л': {'ы': {'н': {'н': {'ы': {'л': {'а': {'р': {'_end_': '_end_'}}}}}}}}}}}}}},\n",
      " 'е': {'е': {'_end_': '_end_'}},\n",
      " 'к': {'э': {'м': {'ч': {'и': {'л': {'э': {'р': {'_end_': '_end_'}}}}}}},\n",
      "       'ө': {'п': {'п': {'ө': {'ҕ': {'ү': {'_end_': '_end_'}}}}}}},\n",
      " 'м': {'о': {'ҥ': {'у': {'о': {'х': {'т': {'а': {'р': {'а': {'_end_': '_end_'}}}}}}}}}},\n",
      " 'х': {'а': {'з': {'а': {'р': {'_end_': '_end_',\n",
      "                               'д': {'а': {'р': {'_end_': '_end_'}}}}}},\n",
      "             'р': {'а': {'х': {'_end_': '_end_'}}}},\n",
      "       'о': {'р': {'у': {'у': {'н': {'а': {'н': {'_end_': '_end_'}}}}}}}},\n",
      " 'ы': {'һ': {'ы': {'л': {'ы': {'н': {'н': {'а': {'р': {'б': {'ы': {'т': {'_end_': '_end_'}}}}}}}}}}}}}\n"
     ]
    }
   ],
   "source": [
    "pprint.pprint(root)"
   ]
  },
  {
   "cell_type": "code",
   "execution_count": 41,
   "metadata": {},
   "outputs": [
    {
     "data": {
      "text/plain": [
       "'dcba'"
      ]
     },
     "execution_count": 41,
     "metadata": {},
     "output_type": "execute_result"
    }
   ],
   "source": [
    "'abcd'[::-1]"
   ]
  },
  {
   "cell_type": "code",
   "execution_count": 42,
   "metadata": {
    "collapsed": true
   },
   "outputs": [],
   "source": [
    "w = words[:1000]\n",
    "def build_trie(words):\n",
    "    root = {'n':0} #кол-во букв встречающихся в \n",
    "    for w in words: #для слова в списке \n",
    "        word = w[::-1] # переворачиваем список, читаем слово с конца\n",
    "        current_dict = root\n",
    "        for letter in word: #для буквы в слове\n",
    "            current_dict = current_dict.setdefault(letter, {'n': 0}) #получить значение из словаря по ключу. \n",
    "            #Автоматически добавляет элемент словаря, если он отсутствует. \n",
    "        current_dict['#'] = True\n",
    "        current_dict = root\n",
    "        for letter in word: #для буквы в словаре\n",
    "            current_dict['n']+=voc[w]\n",
    "            current_dict = current_dict.setdefault(letter, {'n': 0})\n",
    "        current_dict['n']+=voc[w]\n",
    "        current_dict['#'] = True\n",
    "    return root\n",
    "big_trie = build_trie(words)"
   ]
  },
  {
   "cell_type": "code",
   "execution_count": 43,
   "metadata": {},
   "outputs": [
    {
     "name": "stdout",
     "output_type": "stream",
     "text": [
      "рэгирэтхэтэпли\n"
     ]
    }
   ],
   "source": [
    "for w in words: #для слова в списке \n",
    "        word = w[::-1]\n",
    "print(word)"
   ]
  },
  {
   "cell_type": "code",
   "execution_count": 44,
   "metadata": {},
   "outputs": [
    {
     "data": {
      "text/plain": [
       "{'ата': 296, 'бу': 89224, 'хара': 4501, 'хата': 3687}"
      ]
     },
     "execution_count": 44,
     "metadata": {},
     "output_type": "execute_result"
    }
   ],
   "source": [
    "{w: voc[w] for w in ['ата','хата','хара','бу']}"
   ]
  },
  {
   "cell_type": "code",
   "execution_count": 127,
   "metadata": {},
   "outputs": [
    {
     "data": {
      "text/plain": [
       "dict_keys(['n', 'н', 'м', 'а', 'ҥ', 'х', 'ы', 'г', 'у', 'е', 'о', 'л', 'и', 'в', 'д', 'ү', 'р'])"
      ]
     },
     "execution_count": 127,
     "metadata": {},
     "output_type": "execute_result"
    }
   ],
   "source": [
    "nar.keys()"
   ]
  },
  {
   "cell_type": "code",
   "execution_count": 126,
   "metadata": {},
   "outputs": [
    {
     "data": {
      "text/plain": [
       "{'а': 18779,\n",
       " 'в': 2,\n",
       " 'г': 3,\n",
       " 'д': 0,\n",
       " 'е': 5,\n",
       " 'и': 378,\n",
       " 'л': 1,\n",
       " 'м': 772,\n",
       " 'н': 15452,\n",
       " 'о': 53,\n",
       " 'р': 6,\n",
       " 'у': 1198,\n",
       " 'х': 1,\n",
       " 'ы': 3131,\n",
       " 'ҥ': 524,\n",
       " 'ү': 2}"
      ]
     },
     "execution_count": 126,
     "metadata": {},
     "output_type": "execute_result"
    }
   ],
   "source": [
    "{letter: nar[letter]['n'] for letter in nar.keys() if letter!='n'}"
   ]
  },
  {
   "cell_type": "markdown",
   "metadata": {},
   "source": [
    "### расширение аффикса нужно сделать"
   ]
  },
  {
   "cell_type": "code",
   "execution_count": 48,
   "metadata": {
    "collapsed": true
   },
   "outputs": [],
   "source": [
    "def extend_left(char, pos, cf):\n",
    "    d = defaultdict(int)\n",
    "    if pos == -1:  # если информант в последней позиции, то расширяем налево\n",
    "        while pos > -len_search:  # пока текущ позиция больше - допуст длины аффикса\n",
    "            for w, n in voc.items():  # для буквы и частоты в слове\n",
    "                # сравниваем кореллятивные функции стоящих перед информантом возможных букв\n",
    "                if (sorted_x[i][1] / sorted_x[i + 1][1] > 1.5):\n",
    "                    print(\">1.5\")"
   ]
  },
  {
   "cell_type": "code",
   "execution_count": 69,
   "metadata": {
    "collapsed": true
   },
   "outputs": [],
   "source": [
    "from collections import defaultdict, Counter\n",
    "from operator import itemgetter\n",
    "import re,operator\n",
    "import bz2, json\n",
    "from collections import defaultdict"
   ]
  },
  {
   "cell_type": "code",
   "execution_count": 141,
   "metadata": {},
   "outputs": [
    {
     "name": "stdout",
     "output_type": "stream",
     "text": [
      "[('н', -1, 3.15594279017803), ('л', -5, 1.94903926924671), ('л', -7, 1.751239386475054), ('э', -2, 1.7331937693949762), ('л', -4, 1.7135874901772652), ('л', -6, 1.604008680102341), ('т', -3, 1.573810412515745)]\n"
     ]
    }
   ],
   "source": [
    "informants = []\n",
    "for pos in range(-len_search, 0):\n",
    "    kmax = max({k for k in cf if k[0]==pos}, key=lambda k: cf[k])\n",
    "    informants.append((kmax[1],pos,cf[kmax]))\n",
    "\n",
    "informants.sort(key = itemgetter(2), reverse=True)\n",
    "print(informants)"
   ]
  },
  {
   "cell_type": "code",
   "execution_count": 144,
   "metadata": {},
   "outputs": [
    {
     "data": {
      "text/plain": [
       "'н'"
      ]
     },
     "execution_count": 144,
     "metadata": {},
     "output_type": "execute_result"
    }
   ],
   "source": [
    "informants[0][0]"
   ]
  },
  {
   "cell_type": "code",
   "execution_count": 183,
   "metadata": {},
   "outputs": [
    {
     "data": {
      "text/plain": [
       "('н', -1, 3.15594279017803)"
      ]
     },
     "execution_count": 183,
     "metadata": {},
     "output_type": "execute_result"
    }
   ],
   "source": [
    "n_let = big_trie[informants[0][0]]#слова, заканчивающиеся на \"н\"\n",
    "L={letter: n_let[letter]['n'] for letter in n_let.keys() if letter!='n'}\n",
    "affix=informants[0]\n",
    "affix"
   ]
  },
  {
   "cell_type": "markdown",
   "metadata": {},
   "source": [
    "после нахождения информанта в позиции -1 наращиваем наш информант вправо или влево. \n",
    "Для поиска буквы слева:\n",
    "    сортируем все буквы в -2 позиции в порядке убывания относительно информанта в -1 позиции.\n",
    "    по две самые частотные буквы делим друг на друга, при мере перепада большей 1.5 прибавляем к информанту более частую из них.\n",
    "   Если мера перепада во всех парах меньше 1.5, то начинаем рассматривать по две самые частотные буквы/на следующие две, если мера перепада в одной из них больше двух, то из данной пары берем более частотную и прибавляем ее к аффиксу. "
   ]
  },
  {
   "cell_type": "code",
   "execution_count": 184,
   "metadata": {},
   "outputs": [
    {
     "name": "stdout",
     "output_type": "stream",
     "text": [
      "[('а', 798469), ('э', 500106), ('ы', 462367), ('и', 376365), ('о', 192704), ('у', 127619), ('ү', 92134), ('ө', 42450), ('е', 5962), ('я', 925), ('й', 386), ('н', 121), ('р', 117), ('л', 109), ('т', 40), ('ю', 40), ('ё', 38), ('ш', 25), ('м', 22), ('ь', 17), ('б', 13), ('г', 6), ('к', 4), ('х', 3), ('ц', 3), ('в', 2), ('с', 2), ('п', 2), ('һ', 1), ('д', 1), ('ҕ', 1), ('ҥ', 1), ('ж', 1)]\n"
     ]
    }
   ],
   "source": [
    "sorted_x = sorted(L.items(), key=itemgetter(1))[::-1]\n",
    "print(sorted_x)\n",
    "def extend_left(char, pos, cf):\n",
    "    d = defaultdict(int)\n",
    "    if pos == -1:  # если информант в последней позиции, то расширяем налево\n",
    "        while pos > -len_search:  # пока текущ позиция больше - допуст длины аффикса\n",
    "            for w, n in voc.items():  # для буквы и частоты в слове\n",
    "                # сравниваем кореллятивные функции стоящих перед информантом возможных букв\n",
    "                if (sorted_x[i][1] / sorted_x[i + 1][1] > 1.5):\n",
    "                    print(\">1.5\")"
   ]
  },
  {
   "cell_type": "code",
   "execution_count": 226,
   "metadata": {},
   "outputs": [],
   "source": [
    "aff_len =-7\n",
    "bases = [w[0:-aff_len] for w,n in voc.items() if w[-aff_len:]==affix and n>3]"
   ]
  },
  {
   "cell_type": "code",
   "execution_count": 227,
   "metadata": {},
   "outputs": [
    {
     "data": {
      "text/plain": [
       "[]"
      ]
     },
     "execution_count": 227,
     "metadata": {},
     "output_type": "execute_result"
    }
   ],
   "source": [
    "bases"
   ]
  },
  {
   "cell_type": "code",
   "execution_count": null,
   "metadata": {
    "collapsed": true
   },
   "outputs": [],
   "source": []
  }
 ],
 "metadata": {
  "kernelspec": {
   "display_name": "Python 3",
   "language": "python",
   "name": "python3"
  },
  "language_info": {
   "codemirror_mode": {
    "name": "ipython",
    "version": 3
   },
   "file_extension": ".py",
   "mimetype": "text/x-python",
   "name": "python",
   "nbconvert_exporter": "python",
   "pygments_lexer": "ipython3",
   "version": "3.6.1"
  }
 },
 "nbformat": 4,
 "nbformat_minor": 1
}
