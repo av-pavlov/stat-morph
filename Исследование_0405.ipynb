{
 "cells": [
  {
   "cell_type": "markdown",
   "metadata": {
    "colab_type": "text",
    "id": "5pbbWivLhR1c"
   },
   "source": [
    "# Основные функции"
   ]
  },
  {
   "cell_type": "code",
   "execution_count": 1,
   "metadata": {
    "colab": {
     "autoexec": {
      "startup": false,
      "wait_interval": 0
     }
    },
    "colab_type": "code",
    "id": "UzVX4njkeJzc"
   },
   "outputs": [],
   "source": [
    "from collections import defaultdict, Counter\n",
    "from operator import itemgetter\n",
    "import re,operator\n",
    "import bz2, json\n",
    "from collections import defaultdict\n",
    "import cmath\n",
    "WORD_LEN_COEFF = 1\n",
    "THRESHOLD_COEFF = 0.5\n",
    "DROP = 1.5\n",
    "DROP_1 = 2\n",
    "AFFIX_LEN = 1\n",
    "\n",
    "trie, voc, words = None, None, None\n",
    "\n",
    "\n",
    "def main():\n",
    "    global trie, words, voc\n",
    "    \n",
    "    voc = load_voc()\n",
    "    words = list(voc.keys())\n",
    "    word_count = sum([voc[k] for k in voc])\n",
    "    average_word_len = sum([len(w)*voc[w] for w in words]) / word_count\n",
    "    len_search = int(average_word_len * WORD_LEN_COEFF) #это максимальная разрешенная длина аффикса\n",
    "    print(\"{} словоформ, {} словоупотреблений, средняя длина слова {} \".format(len(words), word_count, average_word_len))\n",
    "\n",
    "    # подсчет безусловных вероятностей букв\n",
    "    # trie, prob = build_trie_and_prob(voc)\n",
    "    prob = json.load(open(\"prob.json\", encoding=\"utf-8\"))\n",
    "    strie = bz2.BZ2File('trie.json.bz2', 'r').read().decode(encoding='utf-8')\n",
    "    trie = json.loads(strie)\n",
    "    del strie\n",
    "    print(\"Безусловные вероятности первых 10 букв:\\n========================\\n\", \n",
    "        sorted([(letter,nv) for letter,nv in prob.items()], key=itemgetter(1), reverse=True)[:10])\n",
    "\n",
    "    # подсчет условных вероятностей букв\n",
    "    cond_prob = build_cond_prob(voc, prob, len_search)\n",
    "\n",
    "    # информанты - это буквы с макс значением КФ в каждой позиции\n",
    "    informants = find_informants(prob, cond_prob, len_search)\n",
    "    print(\"ИНФОРМАНТЫ:\\n===================\")\n",
    "    print(informants)\n",
    "\n",
    "    # отправной аффикс начинаем строить с информанта имеющего max КФ\n",
    "    affix=informants[0]\n",
    "    affix=extend_right(*affix)\n",
    "    affix=extend_left(affix, trie, len_search)\n",
    "    print(\"ОТПРАВНОЙ АФФИКС:\\n===================\")    \n",
    "    print(affix)\n",
    "\n",
    "\n",
    "\n",
    "def load_voc():\n",
    "    # Загрузить словарь количеств из файла.\n",
    "    # Словарь содержит частоты слов в виде {слово: число вхождений в корпус, ... },\n",
    "    # например {\"көппөҕү\" : 4, \"хазар\" : 3, ...}\n",
    "    #\n",
    "    # корпус в формате txt  занимет 174 МБ, словарь частот в json 10,4МБ,\n",
    "    # после сжатия в формат .bz2 1,7 МБ\n",
    "    svoc = bz2.BZ2File('voc.json.bz2', 'r').read().decode(encoding='utf-8')\n",
    "    voc = json.loads(svoc)\n",
    "    del svoc\n",
    "    return voc\n",
    "\n",
    "\n",
    "def build_trie_and_prob(voc):\n",
    "    #подсчитываем частоты букв и строим дерево оконочаний\n",
    "    prob = defaultdict(lambda: 0)\n",
    "    trie = {'n':0}\n",
    "    for w,n in voc.items(): #для каждого слова в списке\n",
    "        word = w[::-1]  # переворачиваем слово, читаем слово с конца\n",
    "        current_dict = trie\n",
    "        trie['n'] += n\n",
    "        for letter in word:  # для буквы в слове\n",
    "            prob[letter]+=n\n",
    "            current_dict = current_dict.setdefault(letter, {'n': 0}) #получить значение из словаря по ключу.\n",
    "                                                                     #Автоматически добавляет элемент словаря, если он отсутствует.\n",
    "            current_dict['n']+=n\n",
    "        current_dict['#'] = n\n",
    "\n",
    "    total = sum([n for n in prob.values()])#84263863\n",
    "    for k,v in prob.items():\n",
    "        prob[k] = v/total\n",
    "\n",
    "    return trie, prob\n",
    "\n",
    "\n",
    "def build_cond_prob(voc, prob, len_search):\n",
    "    letters = list(prob.keys())\n",
    "\n",
    "    cond_prob = defaultdict(lambda: 0) #словарь для условных вероятностей\n",
    "    total = defaultdict(lambda: 0)\n",
    "\n",
    "    for word,n in voc.items():#для слова в словаре\n",
    "        positions = range(-min(len_search, len(word) - 2), 0) # from -7 to 0\n",
    "        for i in positions:\n",
    "            cond_prob[(i, word[i])] += n\n",
    "            total[i] += n # dictionary with prob of char words?\n",
    "\n",
    "    for posChar in cond_prob: #получаем из частот вероятности\n",
    "        i = posChar[0]\n",
    "        cond_prob[posChar] /= total[i]\n",
    "\n",
    "    return cond_prob\n",
    "\n",
    "\n",
    "def find_informants(prob, cond_prob, len_search):\n",
    "    max_cond = defaultdict(lambda: 0.0)\n",
    "    maxlet = ['']*8\n",
    "    #для каждой позиции ищем букву с наибольшим значением условной вероятности,\n",
    "    for posChar in cond_prob:#цикл по позициям букв в условной вероятности\n",
    "        aff_len = posChar[0]\n",
    "        if cond_prob[posChar] > max_cond[aff_len]:\n",
    "            max_cond[aff_len] = cond_prob[posChar]\n",
    "            maxlet[-aff_len] = posChar[1]\n",
    "\n",
    "    print(\"Наиболее частые буквы по позициям:\\n============================\\n\", maxlet[-1:0:-1],\"\\n\")\n",
    "\n",
    "    print(\"Максимальные вероятности по позициям:\\n============================\\n\", max_cond,\"\\n\")\n",
    "    #порог медиального разбиения - половина условной вероятности , буквы с УВ не меньше порога - верхнее подмножеств\n",
    "    cond_prob_sup = {}\n",
    "    for posChar in cond_prob:\n",
    "            i = posChar[0]\n",
    "            if cond_prob[posChar] > THRESHOLD_COEFF * max_cond[i]:\n",
    "                cond_prob_sup[posChar] = cond_prob[posChar]\n",
    "\n",
    "    # КФ = условная вер по данной позиции / безусл вероятность\n",
    "    cf = {}\n",
    "    for posChar in cond_prob_sup:\n",
    "        char = posChar[1]\n",
    "        cf[posChar] = cond_prob_sup[posChar] / prob[char]\n",
    "\n",
    "    print(\"КФ для верхних подмножества:\\n====================\\n\");\n",
    "    for aff_len in set(map(itemgetter(0), cf.keys())):\n",
    "        print(aff_len, \"**\")\n",
    "        for k,v in cf.items():\n",
    "            if k[0] == aff_len:\n",
    "                print(k[1], \"{:.4f}\".format(v), end=\"  \")\n",
    "        print(\"\")\n",
    "\n",
    "    # информанты - это буквы с макс значением КФ в каждой позиции\n",
    "    informants = []\n",
    "    for aff_len in range(-len_search, 0):\n",
    "        kmax = max({k for k in cf if k[0] == aff_len}, key=lambda k: cf[k])\n",
    "        informants.append((kmax[1], aff_len, cf[kmax]))\n",
    "\n",
    "    informants.sort(key = itemgetter(2), reverse=True)\n",
    "    return informants\n",
    "\n",
    "\n",
    "def extend_right(char, pos, cf):\n",
    "    if pos == -1:#если информант в последней позиции, то расширять некуда\n",
    "        return char #возвращаем информант как аффикс\n",
    "    d = defaultdict(int)\n",
    "    for w,n in voc.items():#для буквы и частоты в словаре\n",
    "        if w[pos:pos+1]==char: #если буква в позиции равна нашей, то посчитаем это окончание\n",
    "            d[w[pos+1:]]+=n\n",
    "    return char+max(d.keys(), key=lambda end: d[end]) #прибавляем к информанту самое частое окончание\n",
    "\n",
    "\n",
    "def extend_left(affix, trie, len_search):\n",
    "    #расширяем аффикс влево используя trie\n",
    "\n",
    "    current_dict = trie\n",
    "    for ch in affix[::-1]:\n",
    "        current_dict = current_dict[ch]\n",
    "\n",
    "    aff_len = len(affix)\n",
    "\n",
    "    \"\"\" \n",
    "    Для поиска буквы слева:\n",
    "        идем по дереву trie\n",
    "        по две самые частотные буквы делим друг на друга, при мере перепада большей 1.5 прибавляем к информанту более частую из них.\n",
    "       Иначе начинаем рассматривать по две самые частотные буквы/на следующие две, \n",
    "    если мера перепада в одной из них больше двух, то из данной пары берем более частотную и прибавляем ее к аффиксу. \n",
    "    \"\"\"\n",
    "    #пока позиция символа в слове больше разрешенной длины аффикса\n",
    "    while aff_len < len_search:\n",
    "        #составляем список всех букв предшествующих аффиксу с количествами\n",
    "        L = [(l, current_dict[l][\"n\"]) for l in current_dict.keys() if l not in '#n']\n",
    "        #сортируем по количествам\n",
    "        L.sort(key = itemgetter(1), reverse = True)\n",
    "        #if affix=='нан':\n",
    "            #import pdb\n",
    "            #pdb.set_trace()\n",
    "        ch = L[0][0]\n",
    "        if L[0][1] > DROP*L[1][1]:\n",
    "            affix = ch + affix\n",
    "            current_dict = current_dict[ch]\n",
    "        else:\n",
    "            if (L[0][1]+L[1][1]) / (L[2][1]+L[3][1]) > 2:\n",
    "                affix = ch + affix\n",
    "                current_dict = current_dict[ch]\n",
    "            else:\n",
    "                break\n",
    "        aff_len+=1\n",
    "\n",
    "    return affix\n",
    "\n",
    "\n"
   ]
  },
  {
   "cell_type": "markdown",
   "metadata": {
    "colab_type": "text",
    "id": "8vU-e51OiAvx"
   },
   "source": [
    "## Загрузка файлов"
   ]
  },
  {
   "cell_type": "code",
   "execution_count": 13,
   "metadata": {
    "colab": {
     "autoexec": {
      "startup": false,
      "wait_interval": 0
     },
     "base_uri": "https://localhost:8080/",
     "height": 177,
     "resources": {
      "http://localhost:8080/nbextensions/google.colab/files.js": {
       "data": "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",
       "headers": [
        [
         "content-type",
         "application/javascript"
        ]
       ],
       "ok": true,
       "status": 200,
       "status_text": ""
      }
     }
    },
    "colab_type": "code",
    "executionInfo": {
     "elapsed": 116959,
     "status": "ok",
     "timestamp": 1525347645062,
     "user": {
      "displayName": "Малгараева Айгуль",
      "photoUrl": "https://lh3.googleusercontent.com/a/default-user=s128",
      "userId": "114182915596862692614"
     },
     "user_tz": -540
    },
    "id": "twofVXHoflhq",
    "outputId": "49497159-98ec-477a-abd6-367172f0fb4d"
   },
   "outputs": [
    {
     "data": {
      "text/html": [
       "\n",
       "     <input type=\"file\" id=\"files-0007456c-c0bf-43eb-bc1f-ba86dae0806b\" name=\"files[]\" multiple disabled />\n",
       "     <output id=\"result-0007456c-c0bf-43eb-bc1f-ba86dae0806b\">\n",
       "      Upload widget is only available when the cell has been executed in the\n",
       "      current browser session. Please rerun this cell to enable.\n",
       "      </output>\n",
       "      <script src=\"/nbextensions/google.colab/files.js\"></script> "
      ],
      "text/plain": [
       "<IPython.core.display.HTML object>"
      ]
     },
     "metadata": {
      "tags": []
     },
     "output_type": "display_data"
    },
    {
     "name": "stdout",
     "output_type": "stream",
     "text": [
      "Saving prob.json to prob (1).json\n",
      "Saving trie.json.bz2 to trie.json (1).bz2\n",
      "Saving voc.json.bz2 to voc.json (1).bz2\n"
     ]
    },
    {
     "name": "stderr",
     "output_type": "stream",
     "text": [
      "\u001b[1;30;43mYour cell size is close to the size limit (9M). Large new outputs may be dropped. So far, 10.7M of output have been discarded. "
     ]
    }
   ],
   "source": [
    "from google.colab import files\n",
    "files.upload()"
   ]
  },
  {
   "cell_type": "markdown",
   "metadata": {
    "colab_type": "text",
    "id": "jLPQAypgiHnN"
   },
   "source": [
    "## Запуск"
   ]
  },
  {
   "cell_type": "code",
   "execution_count": 2,
   "metadata": {
    "colab": {
     "autoexec": {
      "startup": false,
      "wait_interval": 0
     },
     "base_uri": "https://localhost:8080/",
     "height": 632
    },
    "colab_type": "code",
    "executionInfo": {
     "elapsed": 10673,
     "status": "ok",
     "timestamp": 1525347721182,
     "user": {
      "displayName": "Малгараева Айгуль",
      "photoUrl": "https://lh3.googleusercontent.com/a/default-user=s128",
      "userId": "114182915596862692614"
     },
     "user_tz": -540
    },
    "id": "8ksymnGaeJzs",
    "outputId": "f88ebe3a-adf5-43e1-bfbf-703886650e62"
   },
   "outputs": [
    {
     "name": "stdout",
     "output_type": "stream",
     "text": [
      "386233 словоформ, 11859267 словоупотреблений, средняя длина слова 7.1053179762290535 \n",
      "Безусловные вероятности первых 10 букв:\n",
      "========================\n",
      " [('а', 0.13174638100795355), ('т', 0.07463523242460413), ('н', 0.07183703410321932), ('р', 0.06989005476760542), ('э', 0.06769593508904286), ('и', 0.06497202721408583), ('ы', 0.05657750345483212), ('л', 0.052736912856701096), ('у', 0.048080219156342266), ('о', 0.04801633649290444)]\n",
      "Наиболее частые буквы по позициям:\n",
      "============================\n",
      " ['а', 'а', 'т', 'а', 'т', 'а', 'н'] \n",
      "\n",
      "Максимальные вероятности по позициям:\n",
      "============================\n",
      " defaultdict(<function find_informants.<locals>.<lambda> at 0x0000020147700400>, {-6: 0.13725284548556266, -5: 0.10984460793132571, -4: 0.13300193926114215, -3: 0.11746170593037474, -2: 0.21185955687204952, -1: 0.22671356984582827, -7: 0.10984867258690777}) \n",
      "\n",
      "КФ для верхних подмножества:\n",
      "====================\n",
      "\n",
      "-1 **\n",
      "н 3.1559  р 2.0092  а 1.1595  \n",
      "-7 **\n",
      "ы 0.9773  р 1.1054  а 0.8338  л 1.7512  т 1.0604  и 0.9824  \n",
      "-6 **\n",
      "р 0.9975  а 1.0418  т 0.9701  э 1.0297  л 1.6040  \n",
      "-5 **\n",
      "а 0.7812  н 0.8144  т 1.4718  и 0.8949  р 1.1912  л 1.9490  \n",
      "-4 **\n",
      "а 1.0095  ы 1.4735  т 1.2438  и 1.2629  э 1.0359  л 1.7136  \n",
      "-3 **\n",
      "н 1.4117  л 1.3875  т 1.5738  а 0.8120  р 1.3286  \n",
      "-2 **\n",
      "а 1.6081  э 1.7332  \n",
      "ИНФОРМАНТЫ:\n",
      "===================\n",
      "[('н', -1, 3.15594279017803), ('л', -5, 1.94903926924671), ('л', -7, 1.751239386475054), ('э', -2, 1.7331937693949762), ('л', -4, 1.7135874901772652), ('л', -6, 1.604008680102341), ('т', -3, 1.573810412515745)]\n",
      "ОТПРАВНОЙ АФФИКС:\n",
      "===================\n",
      "ыытынан\n"
     ]
    }
   ],
   "source": [
    "main()"
   ]
  },
  {
   "cell_type": "code",
   "execution_count": 0,
   "metadata": {
    "colab": {
     "autoexec": {
      "startup": false,
      "wait_interval": 0
     }
    },
    "colab_type": "code",
    "id": "5h8fFKAyhhMr"
   },
   "outputs": [],
   "source": [
    "def more():\n",
    "\n",
    "\n",
    "    #базы первого вида\n",
    "    bases = [w[0:-aff_len] for w,n in voc.items() if w[-aff_len:]==affix and n>3] #отбрасываем информантный аффикс и получаем базы 1го вида\n",
    "    #bases.sort(key = itemgetter(1), reverse = True)\n",
    "    bases = sorted(bases)\n",
    "    #спектр остатков первого вида, т.е. находим остальные слова содержащие базы 1го вида, и отсекаем их и получаем СОПП\n",
    "    ostat = defaultdict(int)\n",
    "    for b in bases:\n",
    "        for w,n in voc.items():\n",
    "            if not w.startswith(b):\n",
    "                continue\n",
    "            ostat[w[len(b)+1:]]+=n\n",
    "\n",
    "    #print(ostat)\n",
    "\n",
    "    # теперь нужно упорядочить спектр остатков по частоте в убывающем порядке\n",
    "    ostat=ostat.sort(key = itemgetter(0), reverse=True)\n",
    "    #выделяем из спектра сотатков верхнее подмножество, для р.яз первые 6 аффиксов спектра\n",
    "    # - для каждой позиции находится буква с наибольшим УВ, половина ее УВ - порог медиального разбиения\n",
    "    #буквы, УВ которых не меньше данного порога входят в верхнее подмножество\n",
    "\n",
    "    #определим независимую вероятность буквосочетания(остатков верхнего подмножества), как произведение независимых вероятностей букв входящих в него.\n",
    "    # uncond_prob = defaultdict()\n",
    "    # for k,v in ostat.items():\n",
    "    #     for\n",
    "    #         uncond_prob[k] *= prob[k]\n",
    "\n",
    "    #затем находим условную вероятность остатка(?), по максимальному значению условной вероятности определяем\n",
    "    #второй информантный аффикс по максимуму условной вероятности (в верхнем подмножестве)\n",
    "    #сопоставляем количество основ сочетающихся с первым информантным аффиксом и\n",
    "    #число основ со вторым информантным аффиксом стр38\n",
    "\n",
    "    #Языковой шлейф. Шлейфовый порог при работе с базами n-го вида - выберем число n\n",
    "    # т.е. убираем из списка баз все основы с суммарной синтагматической встречаемостью(вероятность относительно текста)\n",
    "    #с любыми остатками, меньшую или равную n\n",
    "    #полученный список будет содержать М баз n-го вида\n",
    "\n",
    "    #после применения шлейфового порога и вычисления коэффициента редукции вычислим меру редукции\n",
    "\n",
    "    # Compute reduction coefficient\n",
    "    k = 10**(cmath.log(average_word_len, 10)\\\n",
    "                    / (1+0.02 * cmath.log( len(voc), 10)) )\n",
    "        # Compute reduction threshold\n",
    "    thres_reduction = 1 / average_word_len"
   ]
  },
  {
   "cell_type": "markdown",
   "metadata": {
    "colab_type": "text",
    "id": "Eh98SlUFjzVq"
   },
   "source": [
    "# Исследование"
   ]
  },
  {
   "cell_type": "markdown",
   "metadata": {
    "colab_type": "text",
    "id": "0zljdrL5eJ0D"
   },
   "source": [
    "### отправной аффикс"
   ]
  },
  {
   "cell_type": "code",
   "execution_count": 3,
   "metadata": {
    "colab": {
     "autoexec": {
      "startup": false,
      "wait_interval": 0
     },
     "base_uri": "https://localhost:8080/",
     "height": 34
    },
    "colab_type": "code",
    "executionInfo": {
     "elapsed": 1110,
     "status": "ok",
     "timestamp": 1525347755656,
     "user": {
      "displayName": "Малгараева Айгуль",
      "photoUrl": "https://lh3.googleusercontent.com/a/default-user=s128",
      "userId": "114182915596862692614"
     },
     "user_tz": -540
    },
    "id": "N0zJ8s7heJ0G",
    "outputId": "b314e7a5-8738-4943-c847-6d7786f565d1"
   },
   "outputs": [
    {
     "data": {
      "text/plain": [
       "'ыытынан'"
      ]
     },
     "execution_count": 3,
     "metadata": {},
     "output_type": "execute_result"
    }
   ],
   "source": [
    "affix='ыытынан'\n",
    "extend_left('н',trie, 7)"
   ]
  },
  {
   "cell_type": "markdown",
   "metadata": {
    "colab_type": "text",
    "id": "X8ivO8QxeJ0k"
   },
   "source": [
    "### основы с первым информантным аффиксом"
   ]
  },
  {
   "cell_type": "code",
   "execution_count": 4,
   "metadata": {
    "colab": {
     "autoexec": {
      "startup": false,
      "wait_interval": 0
     },
     "base_uri": "https://localhost:8080/",
     "height": 986
    },
    "colab_type": "code",
    "executionInfo": {
     "elapsed": 1223,
     "status": "ok",
     "timestamp": 1525348643464,
     "user": {
      "displayName": "Малгараева Айгуль",
      "photoUrl": "https://lh3.googleusercontent.com/a/default-user=s128",
      "userId": "114182915596862692614"
     },
     "user_tz": -540
    },
    "id": "lEZnX48YeJ0m",
    "outputId": "584e528c-9512-4c72-93de-2d7aace6aa80"
   },
   "outputs": [
    {
     "data": {
      "text/plain": [
       "['хаһ',\n",
       " 'бар',\n",
       " 'тардыһ',\n",
       " 'ыпс',\n",
       " 'кыт',\n",
       " 'тард',\n",
       " 'сам',\n",
       " 'ыҥыр',\n",
       " 'ань',\n",
       " 'улаат',\n",
       " 'сайд',\n",
       " 'сыр',\n",
       " 'ый',\n",
       " 'ахт',\n",
       " 'баай',\n",
       " 'такай',\n",
       " 'хапсыһ',\n",
       " 'ыл',\n",
       " 'арый',\n",
       " 'аһылл',\n",
       " 'хамсан',\n",
       " 'кытт',\n",
       " 'хаам',\n",
       " 'тал',\n",
       " 'хааччылл',\n",
       " 'ай',\n",
       " 'таһын',\n",
       " 'ааҕ',\n",
       " 'дьаһай',\n",
       " 'быһаар',\n",
       " 'ар',\n",
       " 'хаай',\n",
       " 'салай',\n",
       " 'таһаар',\n",
       " 'дьай',\n",
       " 'баттаһ',\n",
       " 'ыг',\n",
       " 'ат',\n",
       " 'кыр',\n",
       " 'хард',\n",
       " 'тымн',\n",
       " 'сым',\n",
       " 'ыар',\n",
       " 'уларый',\n",
       " 'быс',\n",
       " 'аҕаб',\n",
       " 'таһ',\n",
       " 'туһаай',\n",
       " 'ыһ',\n",
       " 'быһ',\n",
       " 'кымнь',\n",
       " 'кыай',\n",
       " 'ааҕылл',\n",
       " 'саҕалан',\n",
       " 'быраҕ',\n",
       " 'тахс',\n",
       " 'сылый']"
      ]
     },
     "execution_count": 4,
     "metadata": {},
     "output_type": "execute_result"
    }
   ],
   "source": [
    "len_a=len(affix)#get_filter_stems in french code\n",
    "bases = [w[0:-7] for w,n in voc.items() if w[-len_a:]==affix and n>3 and len(w)>len_a+1]\n",
    "bases"
   ]
  },
  {
   "cell_type": "markdown",
   "metadata": {
    "colab_type": "text",
    "id": "vZ5W9s4_eJ1Q"
   },
   "source": [
    "### окончания от баз встречающихся с первым информантным аффиксом"
   ]
  },
  {
   "cell_type": "code",
   "execution_count": 9,
   "metadata": {
    "colab": {
     "autoexec": {
      "startup": false,
      "wait_interval": 0
     },
     "base_uri": "https://localhost:8080/",
     "height": 1717
    },
    "colab_type": "code",
    "executionInfo": {
     "elapsed": 871,
     "status": "ok",
     "timestamp": 1525348316945,
     "user": {
      "displayName": "Александр Викторович Павлов",
      "photoUrl": "https://lh3.googleusercontent.com/a/default-user=s128",
      "userId": "113846606793654149206"
     },
     "user_tz": -540
    },
    "id": "aQS0P3MH1EnS",
    "outputId": "2995f07d-0945-44fa-adc5-1170a54c0858"
   },
   "outputs": [
    {
     "ename": "NameError",
     "evalue": "name 'ostat' is not defined",
     "output_type": "error",
     "traceback": [
      "\u001b[1;31m---------------------------------------------------------------------------\u001b[0m",
      "\u001b[1;31mNameError\u001b[0m                                 Traceback (most recent call last)",
      "\u001b[1;32m<ipython-input-9-2b860ec5897c>\u001b[0m in \u001b[0;36m<module>\u001b[1;34m()\u001b[0m\n\u001b[0;32m      1\u001b[0m \u001b[0mi\u001b[0m\u001b[1;33m=\u001b[0m\u001b[1;36m0\u001b[0m\u001b[1;33m\u001b[0m\u001b[0m\n\u001b[1;32m----> 2\u001b[1;33m \u001b[1;32mfor\u001b[0m \u001b[0mk\u001b[0m\u001b[1;33m,\u001b[0m\u001b[0mv\u001b[0m \u001b[1;32min\u001b[0m \u001b[0mostat\u001b[0m\u001b[1;33m.\u001b[0m\u001b[0mitems\u001b[0m\u001b[1;33m(\u001b[0m\u001b[1;33m)\u001b[0m\u001b[1;33m:\u001b[0m\u001b[1;33m\u001b[0m\u001b[0m\n\u001b[0m\u001b[0;32m      3\u001b[0m     \u001b[1;32mif\u001b[0m \u001b[0mi\u001b[0m\u001b[1;33m>\u001b[0m\u001b[1;36m2000\u001b[0m\u001b[1;33m:\u001b[0m\u001b[1;33m\u001b[0m\u001b[0m\n\u001b[0;32m      4\u001b[0m         \u001b[0mprint\u001b[0m \u001b[1;33m(\u001b[0m\u001b[0mk\u001b[0m\u001b[1;33m,\u001b[0m \u001b[0mv\u001b[0m\u001b[1;33m)\u001b[0m\u001b[1;33m\u001b[0m\u001b[0m\n\u001b[0;32m      5\u001b[0m         \u001b[0mi\u001b[0m\u001b[1;33m+=\u001b[0m\u001b[1;36m1\u001b[0m\u001b[1;33m\u001b[0m\u001b[0m\n",
      "\u001b[1;31mNameError\u001b[0m: name 'ostat' is not defined"
     ]
    }
   ],
   "source": [
    "i=0\n",
    "for k,v in ostat.items():\n",
    "    if i>2000:\n",
    "        print (k, v)\n",
    "        i+=1\n",
    "    if i>2100: break"
   ]
  },
  {
   "cell_type": "code",
   "execution_count": 62,
   "metadata": {
    "colab": {
     "autoexec": {
      "startup": false,
      "wait_interval": 0
     },
     "base_uri": "https://localhost:8080/",
     "height": 918
    },
    "colab_type": "code",
    "executionInfo": {
     "elapsed": 2582,
     "status": "ok",
     "timestamp": 1525348696304,
     "user": {
      "displayName": "Малгараева Айгуль",
      "photoUrl": "https://lh3.googleusercontent.com/a/default-user=s128",
      "userId": "114182915596862692614"
     },
     "user_tz": -540
    },
    "id": "w19tfk_XeJ1T",
    "outputId": "a5fe2a0f-46da-45ed-a7b7-4d56a330f919"
   },
   "outputs": [
    {
     "data": {
      "text/plain": [
       "1153198"
      ]
     },
     "execution_count": 62,
     "metadata": {},
     "output_type": "execute_result"
    }
   ],
   "source": [
    "from bisect import bisect_left\n",
    "voc_list = sorted(list(voc.keys()))\n",
    "ostat = defaultdict(int)\n",
    "                  \n",
    "for b in bases:\n",
    "    stem_end = len(b)\n",
    "    for w in voc_list[bisect_left(voc_list, b):]:\n",
    "        if not w.startswith(b): break\n",
    "        ostat[w[stem_end:]] += voc[w]\n",
    "\n",
    "\n",
    "ostat = sorted(list(ostat.items()), key=itemgetter(1), reverse=True)\n",
    "\"Всего окончаний\", len(ostat), \"первые 50:\", ostat[:50]\n",
    "sum=0 #сумма количества окончаний\n",
    "for i in range(0,len(ostat)):\n",
    "    sum+=ostat[i][1]\n",
    "sum"
   ]
  },
  {
   "cell_type": "code",
   "execution_count": 64,
   "metadata": {},
   "outputs": [
    {
     "data": {
      "text/plain": [
       "{'хоруунан': 2,\n",
       " 'хазар': 3,\n",
       " 'атааннааһыы': 2,\n",
       " 'көппөҕү': 4,\n",
       " 'быраҕылыннылар': 11,\n",
       " 'бултарбыттан': 1,\n",
       " 'кэмчилэр': 5,\n",
       " 'моҥуохтара': 1,\n",
       " 'ее': 50,\n",
       " 'ыһылыннарбыт': 1,\n",
       " 'тымныйбатаҕа': 1,\n",
       " 'пшевозник': 1,\n",
       " 'юристаахтара': 1,\n",
       " 'дьээбэ': 79,\n",
       " 'туораамаары': 1,\n",
       " 'куубатынан': 1,\n",
       " 'степановичтыын': 1,\n",
       " 'сэрэппэт': 2,\n",
       " 'болуоппутугар': 1,\n",
       " 'квартилаах': 1,\n",
       " 'ню': 5,\n",
       " 'сүрэхпэр': 103,\n",
       " 'пиибэлээһини': 2,\n",
       " 'түһүммүт': 3,\n",
       " 'быргыччы': 4,\n",
       " 'рейкъявик': 1,\n",
       " 'ааһыннылар': 2,\n",
       " 'быыбардана': 2,\n",
       " 'маҕаһыыныттан': 20,\n",
       " 'төлөрүйдүлэр': 6,\n",
       " 'чоргуйбутунан': 2,\n",
       " 'чеботарев': 2,\n",
       " 'хаптасовка': 1,\n",
       " 'билиитэлэр': 7,\n",
       " 'интэриэһиргиэн': 5,\n",
       " 'кулуһуннуу': 1,\n",
       " 'заправкаланыыны': 1,\n",
       " 'саастарбыттан': 1,\n",
       " 'передам': 1,\n",
       " 'анаабырдаан': 2,\n",
       " 'төннөрөрү': 6,\n",
       " 'илларионовна': 22,\n",
       " 'субъективнай': 24,\n",
       " 'уһуллуохтаахтарын': 1,\n",
       " 'тэбээтибит': 1,\n",
       " 'презентациялаах': 1,\n",
       " 'балаһыанньабытынан': 6,\n",
       " 'сэлибириэр': 1,\n",
       " 'тупсарыаҥ': 2,\n",
       " 'типографията': 2,\n",
       " 'анньыллыбыппытын': 1,\n",
       " 'аттаналлар': 4,\n",
       " 'берниер': 2,\n",
       " 'билиэхпит': 77,\n",
       " 'сэрэтэллэрэ': 6,\n",
       " 'эдьиийбэр': 38,\n",
       " 'новакка': 1,\n",
       " 'босхолонуохпут': 4,\n",
       " 'энгелен': 1,\n",
       " 'муҥутахсыйыы': 1,\n",
       " 'арктика': 594,\n",
       " 'траур': 7,\n",
       " 'юлиям': 1,\n",
       " 'эмиийдээбэккэ': 1,\n",
       " 'умньаспыппытын': 1,\n",
       " 'бэриллибэтилэр': 1,\n",
       " 'баала': 61,\n",
       " 'кыдаманы': 1,\n",
       " 'атыҥыраабата': 7,\n",
       " 'сэһэргиэхтээх': 1,\n",
       " 'ананыахтааҕын': 2,\n",
       " 'тээтэҥниибит': 1,\n",
       " 'сэкиритээринэн': 14,\n",
       " 'мелкий': 1,\n",
       " 'шаккуму': 1,\n",
       " 'раляицарепоокбертоп': 0,\n",
       " 'спускают': 1,\n",
       " 'истиэпэнин': 25,\n",
       " 'остеопороһунан': 1,\n",
       " 'уурааччылар': 10,\n",
       " 'арчылаабыт': 4,\n",
       " 'абалааҕа': 7,\n",
       " 'урусхаллара': 1,\n",
       " 'кэмэрсээннэрбитин': 1,\n",
       " 'киринюк': 1,\n",
       " 'имэҥириини': 1,\n",
       " 'лексикатын': 3,\n",
       " 'сыһыарыах': 2,\n",
       " 'кыайбыккытый': 2,\n",
       " 'суоппарбыныын': 1,\n",
       " 'пионердарын': 2,\n",
       " 'сэһэммитин': 2,\n",
       " 'фосфоры': 1,\n",
       " 'ииктээтим': 1,\n",
       " 'сууһарыах': 1,\n",
       " 'хомоппот': 10,\n",
       " 'кворума': 3,\n",
       " 'духууларыгар': 1,\n",
       " 'турлыханов': 1,\n",
       " 'пандемическай': 14,\n",
       " 'адаарыйда': 2,\n",
       " 'коррепонденынан': 1,\n",
       " 'үбүлүү': 7,\n",
       " 'госструктураларыттан': 1,\n",
       " 'сүүмэрдииригэр': 2,\n",
       " 'быгыаластылар': 2,\n",
       " 'лиизин': 4,\n",
       " 'киирсэллэр': 192,\n",
       " 'күүлэлэрин': 2,\n",
       " 'буслаевка': 4,\n",
       " 'олордулла': 2,\n",
       " 'байбалым': 1,\n",
       " 'төмтөөнтөн': 1,\n",
       " 'дакылааккытыгар': 1,\n",
       " 'самсаларын': 1,\n",
       " 'раллакалоук': 0,\n",
       " 'жемчуг': 1,\n",
       " 'хаһааныыга': 3,\n",
       " 'дьүөрэлэһиннэриэххэ': 1,\n",
       " 'ынньаҕалаппыттара': 1,\n",
       " 'эппиттэриттэн': 9,\n",
       " 'суба': 1,\n",
       " 'чугаспын': 16,\n",
       " 'киллэриилэри': 7,\n",
       " 'туоратыллар': 29,\n",
       " 'фокустары': 6,\n",
       " 'түһүүлэниэхтээх': 1,\n",
       " 'тамнаһа': 5,\n",
       " 'үрдэллэриттэн': 2,\n",
       " 'өтөҕүнээҕи': 2,\n",
       " 'өҕүтэн': 5,\n",
       " 'сэргиэй': 3,\n",
       " 'синньэппитэ': 1,\n",
       " 'темабын': 4,\n",
       " 'киртитэрий': 1,\n",
       " 'ралаас': 0,\n",
       " 'биһигини': 2640,\n",
       " 'үллэрэ': 11,\n",
       " 'хабааммытын': 1,\n",
       " 'сааһырбыттарынан': 1,\n",
       " 'кэмчилээбиттэр': 2,\n",
       " 'иһийэбит': 1,\n",
       " 'көрүүгүтүн': 2,\n",
       " 'хааннаата': 1,\n",
       " 'эридьиэстиэм': 1,\n",
       " 'остуоруйаһыппыт': 1,\n",
       " 'развернулись': 1,\n",
       " 'хамаандалаатым': 1,\n",
       " 'эппиэттэринэн': 3,\n",
       " 'быһаарыныахтарын': 1,\n",
       " 'ньиккэрийдим': 1,\n",
       " 'слеттарыгар': 14,\n",
       " 'сааһылыыр': 75,\n",
       " 'эчэйиэҕиттэн': 1,\n",
       " 'үүттэри': 1,\n",
       " 'учуоттаабатын': 5,\n",
       " 'табыллыбатый': 22,\n",
       " 'раллынаттаб': 0,\n",
       " 'байдуашевка': 2,\n",
       " 'дьүһүҥҥүтүнэн': 1,\n",
       " 'тутуһулуннулар': 2,\n",
       " 'миэниттэн': 1,\n",
       " 'бутуурбут': 1,\n",
       " 'сепаратизм': 10,\n",
       " 'съеһинэн': 4,\n",
       " 'сулууспанан': 27,\n",
       " 'цезардыын': 1,\n",
       " 'холобурдаммыт': 3,\n",
       " 'кыттаарыбыт': 1,\n",
       " 'асябытын': 1,\n",
       " 'дойҕохтоһорго': 1,\n",
       " 'экстрими': 2,\n",
       " 'таптаспыппытын': 1,\n",
       " 'арбузтара': 1,\n",
       " 'тыаһыҥ': 1,\n",
       " 'биилигэр': 12,\n",
       " 'күчүмэҕэйдэннэ': 1,\n",
       " 'чопчулаабыт': 14,\n",
       " 'сталиным': 1,\n",
       " 'ытааччыны': 5,\n",
       " 'интэриэһиргээтэхтэрэ': 1,\n",
       " 'көбүөҕэ': 1,\n",
       " 'дьүүллэммиттэрэ': 1,\n",
       " 'кроликтары': 1,\n",
       " 'кыргыспытын': 2,\n",
       " 'булларбыттарыгар': 1,\n",
       " 'балаҕаннаахпыт': 1,\n",
       " 'барааттарын': 15,\n",
       " 'күөнэхтии': 1,\n",
       " 'араапара': 2,\n",
       " 'суоттаммытынан': 2,\n",
       " 'сандаарбат': 1,\n",
       " 'сүүскүттэн': 1,\n",
       " 'маарыннатаммын': 1,\n",
       " 'аргыстаһан': 93,\n",
       " 'холуонналарга': 2,\n",
       " 'укуоллаабыттар': 1,\n",
       " 'көрүтэлээтэҕинэ': 1,\n",
       " 'абыычайдарга': 1,\n",
       " 'бульбаны': 1,\n",
       " 'быраабын': 879,\n",
       " 'консалтинынан': 1,\n",
       " 'кардашевская': 26,\n",
       " 'үөрэттэриэхтээхпит': 3,\n",
       " 'амур': 314,\n",
       " 'тырылыы': 24,\n",
       " 'сүгүллэн': 15,\n",
       " 'олонхосутов': 2,\n",
       " 'адаархайын': 1,\n",
       " 'ааҕыммыттарын': 1,\n",
       " 'сүгүмэ': 1,\n",
       " 'босхолоотоххо': 2,\n",
       " 'билбиччэ': 2,\n",
       " 'куһаҕаннарынан': 1,\n",
       " 'маанылаппытын': 1,\n",
       " 'саныыгытый': 35,\n",
       " 'хомондьуруопката': 1,\n",
       " 'өбүт': 1,\n",
       " 'карфаген': 1,\n",
       " 'сыаналаммыттара': 4,\n",
       " 'бюрократтары': 1,\n",
       " 'гостиницаларга': 14,\n",
       " 'дьадаҥы': 406,\n",
       " 'нотки': 10,\n",
       " 'телесериалларын': 1,\n",
       " 'мэһийэллэрэ': 2,\n",
       " 'дайбаммытыгар': 1,\n",
       " 'таксилаан': 6,\n",
       " 'тохтотулларынан': 2,\n",
       " 'илиилэргэ': 1,\n",
       " 'палубалаах': 2,\n",
       " 'сахалдьын': 2,\n",
       " 'салайааччылыын': 6,\n",
       " 'дьоҕудайтан': 1,\n",
       " 'оттоотун': 1,\n",
       " 'үөскэтиллэригэр': 1,\n",
       " 'боотуругар': 1,\n",
       " 'отделката': 3,\n",
       " 'тэлиэххэ': 1,\n",
       " 'задержании': 1,\n",
       " 'госэкспертизаҕа': 2,\n",
       " 'дизайнҥа': 1,\n",
       " 'үөрэтиллэн': 37,\n",
       " 'буойаллара': 6,\n",
       " 'хочот': 1,\n",
       " 'румянаны': 1,\n",
       " 'километрын': 4,\n",
       " 'чобуорхайар': 5,\n",
       " 'тэриллибитэ': 1480,\n",
       " 'моойо': 1,\n",
       " 'аахсыллыахтааҕа': 1,\n",
       " 'көбүтэн': 26,\n",
       " 'аҕабынааҕар': 3,\n",
       " 'реформаҕытын': 1,\n",
       " 'атыылаһыллыбыт': 74,\n",
       " 'хааларгыт': 1,\n",
       " 'баахытыгар': 1,\n",
       " 'куустээх': 1,\n",
       " 'староватовтар': 1,\n",
       " 'итийэр': 11,\n",
       " 'сыһыытыттан': 7,\n",
       " 'бэрээдэктээн': 23,\n",
       " 'саги': 1,\n",
       " 'бухатыыртан': 1,\n",
       " 'дугдатын': 1,\n",
       " 'таксимоттан': 2,\n",
       " 'бидиличчи': 1,\n",
       " 'партияҕын': 1,\n",
       " 'тутуллууларын': 12,\n",
       " 'булгуруйбут': 1,\n",
       " 'чалбахтарбыт': 1,\n",
       " 'чорооннуун': 1,\n",
       " 'хочу': 18,\n",
       " 'катастроф': 2,\n",
       " 'сүүрбэччэбит': 2,\n",
       " 'соҕотохсуйуутунан': 1,\n",
       " 'сурааһыннарыҥ': 1,\n",
       " 'мити': 2,\n",
       " 'хостуурбут': 2,\n",
       " 'өстөөхтөөххүн': 1,\n",
       " 'халааппын': 2,\n",
       " 'суохтааххын': 115,\n",
       " 'сырдатта': 112,\n",
       " 'хотуулаахтык': 27,\n",
       " 'разреһын': 23,\n",
       " 'харыһыйаллар': 2,\n",
       " 'таһыммар': 4,\n",
       " 'ориентир': 1,\n",
       " 'туттуммакка': 14,\n",
       " 'ходуһаттан': 39,\n",
       " 'моойдорун': 4,\n",
       " 'маабыра': 13,\n",
       " 'тиксибиттээҕим': 2,\n",
       " 'системнэй': 8,\n",
       " 'триптиҕиттэн': 1,\n",
       " 'ралууйуһоуд': 0,\n",
       " 'туһалаахтык': 179,\n",
       " 'рейнери': 1,\n",
       " 'сайыныгар': 260,\n",
       " 'раллайуһу': 0,\n",
       " 'хадантан': 5,\n",
       " 'былыргыларынан': 1,\n",
       " 'баҕарарын': 215,\n",
       " 'төхтүрдээтибит': 1,\n",
       " 'туннели': 1,\n",
       " 'ылынаргытынан': 1,\n",
       " 'харсы': 2,\n",
       " 'провокациялар': 3,\n",
       " 'нейрохирурдарбыт': 1,\n",
       " 'мэндэттэн': 3,\n",
       " 'төкүнүһэн': 2,\n",
       " 'торгоут': 1,\n",
       " 'билиннэхпинэ': 3,\n",
       " 'төрүөххэ': 9,\n",
       " 'чопчуланыахтаахтар': 7,\n",
       " 'утуйуохпут': 8,\n",
       " 'туохтааххытый': 1,\n",
       " 'самыкаанньалаан': 1,\n",
       " 'минстерствота': 1,\n",
       " 'бэйэлээхтэрэ': 3,\n",
       " 'көннөрдүн': 1,\n",
       " 'десаҥҥа': 7,\n",
       " 'бриллиана': 8,\n",
       " 'көҕүлээһиннэри': 24,\n",
       " 'эмтэниэх': 4,\n",
       " 'инникигэ': 403,\n",
       " 'имэҥнээх': 162,\n",
       " 'өллөйдөөн': 6,\n",
       " 'рейтиннэринэн': 5,\n",
       " 'хамсатаары': 4,\n",
       " 'көрүүгэр': 20,\n",
       " 'дикобраз': 1,\n",
       " 'сатабылларынан': 9,\n",
       " 'кыыллаах': 77,\n",
       " 'хаһыллыбыт': 53,\n",
       " 'билиммитим': 9,\n",
       " 'динара': 24,\n",
       " 'тааттатыгар': 13,\n",
       " 'джеппын': 1,\n",
       " 'хоргуйары': 2,\n",
       " 'көмүскэллэриттэн': 1,\n",
       " 'тирэхтэригэр': 2,\n",
       " 'ытыктаа': 6,\n",
       " 'олимпа': 1,\n",
       " 'куотуоҕа': 3,\n",
       " 'дууб': 4,\n",
       " 'сорокоумова': 1,\n",
       " 'спектрограф': 1,\n",
       " 'олуу': 1,\n",
       " 'эйландер': 1,\n",
       " 'приставать': 1,\n",
       " 'субуруспуттар': 1,\n",
       " 'сиипэрдэри': 1,\n",
       " 'тузаҕ': 1,\n",
       " 'чаҕылыйан': 37,\n",
       " 'имиджтэннибит': 1,\n",
       " 'соруйара': 3,\n",
       " 'халтарыйыах': 4,\n",
       " 'сыллаабыттара': 1,\n",
       " 'хомойорго': 1,\n",
       " 'үүннэрэринэн': 1,\n",
       " 'ускуустубанан': 5,\n",
       " 'туораатаҕай': 1,\n",
       " 'муосталарыгар': 6,\n",
       " 'базелеҕа': 1,\n",
       " 'сэҥээрдибитэ': 7,\n",
       " 'концертыы': 1,\n",
       " 'быһаатаҕа': 1,\n",
       " 'уһуллуннар': 3,\n",
       " 'баһылык': 1255,\n",
       " 'тутуһуохтаахпыт': 27,\n",
       " 'хааччыйыахпытын': 5,\n",
       " 'өһүргэнэн': 100,\n",
       " 'уолутан': 1,\n",
       " 'сэлээннэнэр': 1,\n",
       " 'ситимнэһиэх': 1,\n",
       " 'уахан': 1,\n",
       " 'гаку': 1,\n",
       " 'арыллыбата': 8,\n",
       " 'технологтар': 18,\n",
       " 'олорботум': 12,\n",
       " 'культур': 7,\n",
       " 'охсуспаккын': 1,\n",
       " 'сэлээркэнэн': 19,\n",
       " 'халыппыттар': 1,\n",
       " 'хааспытын': 5,\n",
       " 'мечник': 1,\n",
       " 'көдүбүт': 1,\n",
       " 'ыпсарыллыахтаахтар': 1,\n",
       " 'бултаппата': 1,\n",
       " 'наймыылаһар': 1,\n",
       " 'саппаҕырбыт': 40,\n",
       " 'күүттэрбэтэх': 2,\n",
       " 'рейс': 77,\n",
       " 'раллыынмылач': 0,\n",
       " 'хон': 42,\n",
       " 'симэллэрэ': 4,\n",
       " 'тууттарын': 2,\n",
       " 'бэрэбиэркэлээтэхтэринэ': 3,\n",
       " 'фабрикаларга': 15,\n",
       " 'дьылааҕы': 1,\n",
       " 'булуохтааххын': 5,\n",
       " 'гулаговскай': 1,\n",
       " 'дьоллуохтаах': 2,\n",
       " 'киллэрэргэ': 836,\n",
       " 'кыаҕырбыта': 3,\n",
       " 'ременюк': 1,\n",
       " 'сүүрээхтээбитэ': 1,\n",
       " 'ульси': 1,\n",
       " 'булбаккка': 1,\n",
       " 'быыһаабыттарын': 7,\n",
       " 'таммалатан': 8,\n",
       " 'передняя': 1,\n",
       " 'буукубаар': 3,\n",
       " 'баалыҥ': 5,\n",
       " 'туолбуппун': 1,\n",
       " 'таҕыстаҕын': 9,\n",
       " 'баттааһыҥҥыт': 1,\n",
       " 'ньылбырытаммыт': 1,\n",
       " 'муостаахпытыттан': 1,\n",
       " 'энньэҥнэтэ': 1,\n",
       " 'сэттиэ': 33,\n",
       " 'компьютерщига': 2,\n",
       " 'сонуну': 623,\n",
       " 'экчиргэ': 1,\n",
       " 'сылдьыбаккыный': 1,\n",
       " 'баҕаттан': 165,\n",
       " 'познакомиться': 2,\n",
       " 'марковтан': 1,\n",
       " 'үүртэлииллэрэ': 1,\n",
       " 'сымыйаччытын': 1,\n",
       " 'хосто': 2,\n",
       " 'күкүрдэригэр': 1,\n",
       " 'лильквист': 1,\n",
       " 'лааҥканы': 1,\n",
       " 'сатаабытым': 175,\n",
       " 'урдустары': 13,\n",
       " 'черосов': 6,\n",
       " 'харахтыыр': 8,\n",
       " 'дьулаҥ': 1,\n",
       " 'сиҥнэрийэн': 1,\n",
       " 'кыстыырынан': 1,\n",
       " 'эрчиллиигин': 1,\n",
       " 'журули': 6,\n",
       " 'элбээбэтэллэр': 1,\n",
       " 'баартырдаһан': 1,\n",
       " 'ырайдаата': 1,\n",
       " 'электромясорубканы': 1,\n",
       " 'саалыттан': 4,\n",
       " 'сылаҥар': 3,\n",
       " 'кал': 2,\n",
       " 'мөҕүллүбэтэҕим': 3,\n",
       " 'лиистэн': 9,\n",
       " 'алҕааһыннара': 1,\n",
       " 'кыһамньылааҕын': 2,\n",
       " 'версиятыгар': 2,\n",
       " 'муннута': 1,\n",
       " 'номинацияны': 54,\n",
       " 'билиммэтий': 2,\n",
       " 'субкултуура': 5,\n",
       " 'өксөтөллөрө': 1,\n",
       " 'салайаачылар': 2,\n",
       " 'барьердар': 1,\n",
       " 'тимэҕин': 21,\n",
       " 'кыытчабыт': 1,\n",
       " 'толуонун': 5,\n",
       " 'ааҕыыбар': 1,\n",
       " 'истибэккит': 6,\n",
       " 'этно': 115,\n",
       " 'ылбытай': 8,\n",
       " 'дьыалаланан': 4,\n",
       " 'истибэтигэр': 30,\n",
       " 'сымныыр': 26,\n",
       " 'хабыстым': 1,\n",
       " 'мөҕүстэ': 16,\n",
       " 'тиэрпитэй': 1,\n",
       " 'судаарыстыбаннайынан': 2,\n",
       " 'чкаловтар': 2,\n",
       " 'сытырҕалыы': 10,\n",
       " 'булкуйаҕын': 3,\n",
       " 'сүөдэрбитигэр': 1,\n",
       " 'быһыттыы': 1,\n",
       " 'этиниэхтээххит': 1,\n",
       " 'сүүйтэриилээххэ': 1,\n",
       " 'манньыталлара': 1,\n",
       " 'соискателлэрин': 1,\n",
       " 'ралынналаттуһот': 0,\n",
       " 'муоралары': 5,\n",
       " 'толорбуппутунан': 1,\n",
       " 'барсыбатаххына': 1,\n",
       " 'сынтарытар': 2,\n",
       " 'королевиһа': 1,\n",
       " 'интеграциялара': 1,\n",
       " 'тиэстэҕэ': 1,\n",
       " 'суворовтар': 1,\n",
       " 'чөкөтүөн': 1,\n",
       " 'томскаяны': 4,\n",
       " 'сааммыта': 13,\n",
       " 'сааххын': 2,\n",
       " 'аймахтарынан': 52,\n",
       " 'бэҕэһээҥҥиттэн': 47,\n",
       " 'бачыгыраппыттар': 1,\n",
       " 'дьоһуннаах': 890,\n",
       " 'чопчулуум': 1,\n",
       " 'иэйиилээхтик': 34,\n",
       " 'иннибититтэн': 1,\n",
       " 'турчины': 1,\n",
       " 'хааннааҕыттан': 3,\n",
       " 'маарыҥныыра': 2,\n",
       " 'трубопроводын': 2,\n",
       " 'тойоҥҥо': 75,\n",
       " 'заметкаларбын': 1,\n",
       " 'тоннаһыттан': 1,\n",
       " 'түүҥҥүлэр': 2,\n",
       " 'иһллэр': 1,\n",
       " 'ылыммыттарыттан': 2,\n",
       " 'саһыгырастыбыт': 1,\n",
       " 'дьаарбайбыт': 2,\n",
       " 'саккыраан': 23,\n",
       " 'үөдүтэригэр': 1,\n",
       " 'билиэхтээххин': 30,\n",
       " 'ыытыллыахтаахсокуон': 1,\n",
       " 'изучения': 6,\n",
       " 'хонсю': 3,\n",
       " 'ньиккэ': 1,\n",
       " 'гаастаабыттар': 1,\n",
       " 'бохуоттан': 1,\n",
       " 'оттубутунан': 2,\n",
       " 'сиэмэлэри': 12,\n",
       " 'стекломагниевай': 1,\n",
       " 'серданы': 2,\n",
       " 'кыйытыгар': 3,\n",
       " 'кыпсыҥныыр': 1,\n",
       " 'абыраммытын': 1,\n",
       " 'баччааҥа': 4,\n",
       " 'эккирээттиин': 1,\n",
       " 'каскад': 2,\n",
       " 'оҥортороллоро': 8,\n",
       " 'аһааччылары': 1,\n",
       " 'дыргыйыаҕа': 2,\n",
       " 'үлүгэриҥ': 1,\n",
       " 'олордобут': 43,\n",
       " 'көмпүүтэрсик': 1,\n",
       " 'бырамана': 2,\n",
       " 'кычыгыланан': 21,\n",
       " 'уерэнэн': 1,\n",
       " 'үөрдээйэллэр': 1,\n",
       " 'үтүөрбүттэр': 1,\n",
       " 'түмпэттэр': 1,\n",
       " 'тыыппахтааччыта': 1,\n",
       " 'аһыннарыа': 1,\n",
       " 'тиихэни': 2,\n",
       " 'оҥорботохпуттан': 2,\n",
       " 'сандааратыгар': 2,\n",
       " 'сатаҕайдык': 5,\n",
       " 'дьиссипилиинэтигэр': 5,\n",
       " 'кустанабын': 1,\n",
       " 'валюта': 28,\n",
       " 'сааһылыыллар': 2,\n",
       " 'таанньа': 44,\n",
       " 'отличить': 1,\n",
       " 'маанымсыйыллыахтаах': 1,\n",
       " 'чыгдааннаах': 1,\n",
       " 'ралынналазаб': 0,\n",
       " 'куодарыһыыга': 1,\n",
       " 'убахтыыр': 2,\n",
       " 'хабаатыннардахха': 1,\n",
       " 'итэҕэйбэппин': 81,\n",
       " 'уларсыахтарын': 3,\n",
       " 'хамсаныылартан': 1,\n",
       " 'тустааччыта': 1,\n",
       " 'айата': 1,\n",
       " 'дэбдиргэлэр': 2,\n",
       " 'эффекту': 1,\n",
       " 'килбигийимэ': 1,\n",
       " 'страус': 2,\n",
       " 'деликатную': 1,\n",
       " 'угаммыт': 1,\n",
       " 'лүһүргэтэн': 1,\n",
       " 'хачырын': 1,\n",
       " 'оройуоннуун': 1,\n",
       " 'сииннэр': 1,\n",
       " 'ярмак': 1,\n",
       " 'кэрчиктээх': 2,\n",
       " 'кэпсэппиккитин': 2,\n",
       " 'хаттахха': 1,\n",
       " 'суоттуурунан': 11,\n",
       " 'сулар': 9,\n",
       " 'сайдытыгар': 1,\n",
       " 'билээгэлээх': 1,\n",
       " 'дьааһыга': 9,\n",
       " 'иирсээммитин': 1,\n",
       " 'оротукаан': 2,\n",
       " 'белолюбскайтан': 4,\n",
       " 'кураҥынан': 1,\n",
       " 'лисица': 11,\n",
       " 'ытыыһыбын': 1,\n",
       " 'аһаттаҕа': 2,\n",
       " 'отряднай': 1,\n",
       " 'айаммыт': 148,\n",
       " 'күннэйдэрэ': 1,\n",
       " 'битэмиининэн': 14,\n",
       " 'мусульманныы': 2,\n",
       " 'атыттарыгар': 10,\n",
       " 'оҥостуллуохтаах': 1,\n",
       " 'бэнг': 1,\n",
       " 'обкома': 27,\n",
       " 'ведению': 1,\n",
       " 'миллиардан': 1,\n",
       " 'соһуйбатым': 9,\n",
       " 'электронщик': 1,\n",
       " 'солс': 1,\n",
       " 'романнарга': 4,\n",
       " 'баиртова': 2,\n",
       " 'сомоҕолуубун': 1,\n",
       " 'тэгини': 1,\n",
       " 'диэбиппин': 64,\n",
       " 'нууччалыытынан': 3,\n",
       " 'тардыллыбакка': 21,\n",
       " 'эрийдэххитинэ': 3,\n",
       " 'беш': 1,\n",
       " 'кэһиллиилэрин': 1,\n",
       " 'кэпсэппэтэхтэрэ': 3,\n",
       " 'дьээбэлэнэрий': 1,\n",
       " 'тэстиҥ': 1,\n",
       " 'сменаларыҥ': 1,\n",
       " 'тыксаанынан': 1,\n",
       " 'тансыбаанньа': 1,\n",
       " 'линияҕа': 32,\n",
       " 'скифы': 2,\n",
       " 'сууттаһара': 4,\n",
       " 'искахов': 2,\n",
       " 'фуругельмтан': 1,\n",
       " 'ыспыраапкалаһан': 1,\n",
       " 'амсайан': 80,\n",
       " 'үөрэтиинитуруорсуоҕуҥ': 1,\n",
       " 'арчылаата': 16,\n",
       " 'холонууларын': 7,\n",
       " 'усулуобунайга': 2,\n",
       " 'холбонуллубат': 1,\n",
       " 'серьеларын': 1,\n",
       " 'партизанскай': 13,\n",
       " 'народность': 1,\n",
       " 'илдьэри': 4,\n",
       " 'тиэрдээриҥ': 7,\n",
       " 'былааннаабатын': 1,\n",
       " 'убаастыыгын': 2,\n",
       " 'түмүстэхтэринэ': 10,\n",
       " 'хаһаайыстыбалааҕын': 1,\n",
       " 'чүөмэр': 1,\n",
       " 'марелла': 1,\n",
       " 'мадьына': 2,\n",
       " 'оһоруллубат': 7,\n",
       " 'ыҥырыгынан': 6,\n",
       " 'тайаннахпына': 1,\n",
       " 'иди': 6,\n",
       " 'сөмөлүөттэнэ': 1,\n",
       " 'көрдөммүтэ': 1,\n",
       " 'погодаева': 16,\n",
       " 'тобуллахпына': 1,\n",
       " 'наталия': 75,\n",
       " 'чикачевтааҕы': 1,\n",
       " 'мансаардалаах': 2,\n",
       " 'дьүөрүлэһэр': 1,\n",
       " 'криминаллаах': 4,\n",
       " 'миссияларын': 5,\n",
       " 'раллараннатсы': 0,\n",
       " 'араҥаҕөа': 1,\n",
       " 'толороргутун': 3,\n",
       " 'бөһүйбүтүн': 1,\n",
       " 'биэрбиттэрэй': 4,\n",
       " 'дьулуурдаахтарый': 1,\n",
       " 'охлопковтаах': 3,\n",
       " 'боккуойатын': 1,\n",
       " 'танкердары': 8,\n",
       " 'аньыырҕыаҥый': 1,\n",
       " 'наҕараадаламмытым': 23,\n",
       " 'трамплинтан': 3,\n",
       " 'альманахпыт': 2,\n",
       " 'таптарара': 2,\n",
       " 'буолуталаабыттар': 6,\n",
       " 'ыарырҕаппыта': 5,\n",
       " 'пород': 1,\n",
       " 'ралытапкы': 0,\n",
       " 'кыытта': 3,\n",
       " 'мэхээчэ': 22,\n",
       " 'раллуудруйук': 0,\n",
       " 'халыйыым': 1,\n",
       " 'командировканы': 2,\n",
       " 'туостааҕынан': 1,\n",
       " 'рейтинговайга': 1,\n",
       " 'сэриилэспитэ': 62,\n",
       " 'куталара': 1,\n",
       " 'кыҥаата': 5,\n",
       " 'чугаһынан': 238,\n",
       " 'байалларыгар': 2,\n",
       " 'огдолуйбут': 15,\n",
       " 'дойҕоҕунан': 3,\n",
       " 'бириэмийэлээхтэр': 1,\n",
       " 'артисткатынан': 1,\n",
       " 'кооперациятыгар': 3,\n",
       " 'алдьаныаҕын': 1,\n",
       " 'көтүтэрбэр': 1,\n",
       " 'кырдалбыт': 1,\n",
       " 'элбиибит': 4,\n",
       " 'билиҥҥилэриттэн': 1,\n",
       " 'баҕалаахтартан': 11,\n",
       " 'бэлэмнэнэҕин': 10,\n",
       " 'дьэбгиэний': 1,\n",
       " 'төнүннэрэрбит': 1,\n",
       " 'югославия': 10,\n",
       " 'нанесла': 1,\n",
       " 'өлүөхүмэтээҕи': 84,\n",
       " 'билиэттэр': 19,\n",
       " 'устаах': 1,\n",
       " 'күүһүрдүүгэ': 60,\n",
       " 'уһуйулларын': 1,\n",
       " 'николаевской': 1,\n",
       " 'ылыылаах': 1,\n",
       " 'архивка': 8,\n",
       " 'түҥэтээччилэр': 2,\n",
       " 'загардыыр': 1,\n",
       " 'сакаастааччыттан': 1,\n",
       " 'булуоххутугар': 1,\n",
       " 'төлкөҕөр': 2,\n",
       " 'сиинэбит': 3,\n",
       " 'куонан': 1,\n",
       " 'оһохторго': 5,\n",
       " 'күннээҕэ': 1,\n",
       " 'сүндэҕэ': 4,\n",
       " 'сууйаллара': 8,\n",
       " 'тоһутуо': 1,\n",
       " 'билгэлээри': 1,\n",
       " 'массыыналана': 2,\n",
       " 'ралутсуроҥо': 0,\n",
       " 'таараҕа': 3,\n",
       " 'судаарыстыбанан': 4,\n",
       " 'бэһиэ': 48,\n",
       " 'кэриэйдии': 12,\n",
       " 'учуоттаата': 5,\n",
       " 'топонимнар': 2,\n",
       " 'гидросистема': 1,\n",
       " 'оҕолонорум': 1,\n",
       " 'кха': 1,\n",
       " 'бүөтүскэни': 2,\n",
       " 'республиканецтара': 1,\n",
       " 'орулаһа': 1,\n",
       " 'конского': 1,\n",
       " 'хадатаайыстыбаларын': 3,\n",
       " 'матасыыкылларын': 4,\n",
       " 'тиҥсирийэригэр': 1,\n",
       " 'имэҥириилэрэ': 1,\n",
       " 'имэрийсэ': 7,\n",
       " 'чугаһаабыты': 2,\n",
       " 'туһуннарбытым': 1,\n",
       " 'фаворита': 2,\n",
       " 'өлөрүүлэр': 6,\n",
       " 'кэниспиэктиибит': 1,\n",
       " 'методикалара': 4,\n",
       " 'эрэйдээбиппин': 1,\n",
       " 'туордум': 1,\n",
       " 'уоттаналлар': 1,\n",
       " 'неджад': 1,\n",
       " 'эбиликтээхтэр': 1,\n",
       " 'маллааҕый': 1,\n",
       " 'курбалдьыйбыт': 5,\n",
       " 'цилиндирдэрин': 1,\n",
       " 'сибэккилиэ': 2,\n",
       " 'көрдөрүнэллэрэ': 1,\n",
       " 'киирдэөинэ': 1,\n",
       " 'стрелкалардаах': 1,\n",
       " 'магистратурабын': 1,\n",
       " 'сэбилээн': 3,\n",
       " 'этнокултуураны': 2,\n",
       " 'тыйаатыртан': 3,\n",
       " 'графоманнартан': 1,\n",
       " 'хаамыталаан': 27,\n",
       " 'дьээбэлэһэр': 1,\n",
       " 'күрэстэһээччилэринэн': 3,\n",
       " 'элбэтэллэригэр': 3,\n",
       " 'бээҕинии': 2,\n",
       " 'кыыстаах': 160,\n",
       " 'лобуохтатан': 1,\n",
       " 'фронтовиктары': 4,\n",
       " 'аҕалыы': 224,\n",
       " 'сэбэрэлэрин': 12,\n",
       " 'угуталаабыттар': 1,\n",
       " 'тэпсииһилэр': 1,\n",
       " 'устатынааҕы': 1,\n",
       " 'солбуйааччылаах': 8,\n",
       " 'ыспыраапкаластылар': 1,\n",
       " 'дьалкыппатаҕа': 1,\n",
       " 'укпуттарын': 9,\n",
       " 'консультантом': 1,\n",
       " 'филолог': 19,\n",
       " 'илэчийдэхтэрэй': 1,\n",
       " 'толугуратар': 1,\n",
       " 'төлөһөрүн': 2,\n",
       " 'ыйытыыларбытыгар': 23,\n",
       " 'сентисовы': 1,\n",
       " 'алдьатыыһыккын': 1,\n",
       " 'онньообут': 1,\n",
       " 'академия': 277,\n",
       " 'маркованы': 4,\n",
       " 'мавродилар': 1,\n",
       " 'албаҕалаа': 1,\n",
       " 'королеваларын': 1,\n",
       " 'лотянуга': 1,\n",
       " 'тахсаайаҕын': 1,\n",
       " 'бакалавры': 1,\n",
       " 'ладога': 3,\n",
       " 'устуудуйаларга': 2,\n",
       " 'бороҕоҥҥа': 1,\n",
       " 'африканович': 4,\n",
       " 'сезонуттан': 2,\n",
       " 'кадеттара': 3,\n",
       " 'паспортнай': 20,\n",
       " 'грузовик': 5,\n",
       " 'зюзин': 12,\n",
       " 'күрдьэрэ': 1,\n",
       " 'психотерапевт': 14,\n",
       " 'анатаайабын': 1,\n",
       " 'тэллэхтэнэн': 1,\n",
       " 'былдьырытык': 2,\n",
       " 'волос': 1,\n",
       " 'мавлет': 43,\n",
       " 'истребления': 1,\n",
       " 'абырахтата': 2,\n",
       " 'хочулуокка': 6,\n",
       " 'радуловы': 1,\n",
       " 'өҕүллүүтэ': 2,\n",
       " 'дуогабардар': 55,\n",
       " 'уймаммыта': 1,\n",
       " 'гомосексуализмы': 3,\n",
       " 'сылаарҕаатар': 3,\n",
       " 'алларааҥҥыта': 3,\n",
       " 'таксидермия': 1,\n",
       " 'туркменбашига': 1,\n",
       " 'ыстаастаахпыт': 1,\n",
       " 'сайдыаҕар': 3,\n",
       " 'кэпсээннээххиний': 1,\n",
       " 'этиэхтэн': 16,\n",
       " 'тезистэригэр': 2,\n",
       " 'утуйбата': 19,\n",
       " 'футболканы': 8,\n",
       " 'допуск': 1,\n",
       " 'исламнары': 2,\n",
       " 'мордьойоро': 1,\n",
       " 'вещей': 2,\n",
       " 'өлөртөрбүт': 12,\n",
       " 'ытыалаһарга': 1,\n",
       " 'эспэдииссийэттэн': 1,\n",
       " 'атастаһартан': 1,\n",
       " 'хаһааныма': 1,\n",
       " 'болҕомтоҕутун': 55,\n",
       " 'васабины': 1,\n",
       " 'ходуһалар': 50,\n",
       " 'раляидим': 0,\n",
       " 'бушиннарыттан': 1,\n",
       " 'билиһиннэрбититтэн': 2,\n",
       " 'сүтээччи': 2,\n",
       " 'контрреволюцияны': 1,\n",
       " 'салбахтарынан': 2,\n",
       " 'сананыахтааҕар': 1,\n",
       " 'наследству': 1,\n",
       " 'холбутунан': 2,\n",
       " 'көмөлөһүннэрии': 1,\n",
       " 'хараамы': 3,\n",
       " 'холобуруҥ': 1,\n",
       " 'сылларым': 47,\n",
       " 'артемьеву': 1,\n",
       " 'ультразвугунан': 3,\n",
       " 'туттарынан': 19,\n",
       " 'днях': 1,\n",
       " 'уаровтарга': 1,\n",
       " 'нэгэйдик': 5,\n",
       " 'тардарбытын': 6,\n",
       " 'ахтыллаллар': 22,\n",
       " 'бэходу': 2,\n",
       " 'көмөлөһүөхтэрин': 38,\n",
       " 'инициативе': 1,\n",
       " 'спартакиаданан': 2,\n",
       " 'рошалы': 1,\n",
       " 'оҥостуммута': 1,\n",
       " 'хаарыйтаран': 7,\n",
       " 'инспектордартан': 1,\n",
       " 'хонуоххутун': 1,\n",
       " 'бигэтийиитигэр': 2,\n",
       " 'голда': 1,\n",
       " 'дьүүллэ': 2,\n",
       " 'парихмахерга': 1,\n",
       " 'елисей': 8,\n",
       " 'байымсыйаллара': 1,\n",
       " 'михайлов': 602,\n",
       " 'төрөөб': 1,\n",
       " 'аппарааккытынан': 1,\n",
       " 'арҕахпытын': 1,\n",
       " 'сууллубутуттан': 1,\n",
       " 'нестеренко': 10,\n",
       " 'батардахтарына': 3,\n",
       " 'сотуруохаҕа': 1,\n",
       " 'судьуйаларыгар': 3,\n",
       " 'хотоҕостоох': 1,\n",
       " 'коробкалаах': 5,\n",
       " 'халатыырын': 1,\n",
       " 'арматураны': 16,\n",
       " 'ырытан': 1314,\n",
       " 'теряли': 1,\n",
       " 'кыланаллар': 1,\n",
       " 'очукуоланан': 13,\n",
       " 'дьыссаатым': 2,\n",
       " 'сонордьуту': 1,\n",
       " 'окуопалара': 2,\n",
       " 'либор': 1,\n",
       " 'суруйарый': 8,\n",
       " 'устуохтааххын': 1,\n",
       " 'мамонтеногы': 5,\n",
       " 'баһылаатыҥ': 5,\n",
       " 'сынгааттан': 1,\n",
       " 'владиленнаах': 1,\n",
       " 'курдаан': 5,\n",
       " 'ааттатта': 20,\n",
       " 'орпото': 5,\n",
       " 'бөргө': 13,\n",
       " 'ыгыныытын': 1,\n",
       " 'билиэттээхпин': 4,\n",
       " 'санахтары': 1,\n",
       " 'усулуобуйалартан': 4,\n",
       " 'алҕаһаабаппыт': 4,\n",
       " 'дьоруойдар': 25,\n",
       " 'таҥыы': 56,\n",
       " 'чөҥөчөгө': 4,\n",
       " 'айкава': 2,\n",
       " 'дьөгдьөрүтэр': 1,\n",
       " 'мол': 1,\n",
       " 'билэтэлиир': 1,\n",
       " 'симментальскай': 2,\n",
       " 'программабын': 3,\n",
       " 'секталартан': 1,\n",
       " 'усунуоһугар': 3,\n",
       " 'үрүйэлэрин': 3,\n",
       " 'дьыалаҕа': 1149,\n",
       " 'хочуолунайдарыгар': 17,\n",
       " 'сирбиэтэнэ': 1,\n",
       " 'чорботунуохтаах': 1,\n",
       " 'собирания': 2,\n",
       " 'онуобут': 3,\n",
       " 'көмөлөспүттэрэй': 3,\n",
       " 'бодоруһалларын': 1,\n",
       " 'сэргэҕэлээччи': 1,\n",
       " 'лаабыдаҕа': 4,\n",
       " 'боротуокатыгар': 4,\n",
       " 'өйөммүтэ': 8,\n",
       " 'боккуоптууллара': 1,\n",
       " 'сымсаабат': 1,\n",
       " 'түгэннэрдээххин': 2,\n",
       " 'хазагарова': 1,\n",
       " 'эмсэҕэлээбэтэхпит': 2,\n",
       " 'кордоххо': 2,\n",
       " 'боруоба': 34,\n",
       " 'ааҥнаабыттара': 3,\n",
       " 'чокаев': 2,\n",
       " 'лиэксийэтин': 5,\n",
       " 'диабеттамматын': 1,\n",
       " 'кыбыылара': 2,\n",
       " 'тэрийбэтэхтэр': 10,\n",
       " 'туматтары': 4,\n",
       " 'операторы': 11,\n",
       " 'стесненных': 1,\n",
       " 'сыһыарыаҥ': 1,\n",
       " 'хадаардаһар': 1,\n",
       " 'дружбой': 1,\n",
       " 'тэҥнэниллибитэ': 1,\n",
       " 'сэргэхсийэллэрин': 1,\n",
       " 'сылдьыбыппыный': 4,\n",
       " 'террариумнаах': 1,\n",
       " 'лөҥө': 3,\n",
       " 'электротехнологии': 1,\n",
       " 'биригээдэлээхпин': 3,\n",
       " 'цензор': 3,\n",
       " 'раласседраютс': 0,\n",
       " 'төрүттэммитэ': 404,\n",
       " 'норвежец': 4,\n",
       " 'көстөрунэн': 1,\n",
       " 'раллаллунму': 0,\n",
       " 'дьаһаныыларын': 3,\n",
       " 'өҥөҥнөһөллөр': 1,\n",
       " 'хамсанары': 1,\n",
       " 'дохуоттуура': 1,\n",
       " 'сатарыйдаҕына': 1,\n",
       " 'диэрилэр': 1,\n",
       " 'бэрэбиэркэлэппиттэр': 2,\n",
       " 'инструкторбыт': 2,\n",
       " 'тахсыыларга': 2,\n",
       " 'түмүктээбиппэр': 1,\n",
       " 'кочевников': 1,\n",
       " 'усулуоюуйа': 1,\n",
       " 'таксиспын': 1,\n",
       " 'тараахтаппыттар': 1,\n",
       " 'тылбаастаныан': 2,\n",
       " ...}"
      ]
     },
     "execution_count": 64,
     "metadata": {},
     "output_type": "execute_result"
    }
   ],
   "source": [
    "voc"
   ]
  },
  {
   "cell_type": "code",
   "execution_count": 66,
   "metadata": {},
   "outputs": [
    {
     "data": {
      "text/plain": [
       "defaultdict(int,\n",
       "            {'ан': 0.08899599201524803,\n",
       "             'а': 0.06041633787085999,\n",
       "             'ар': 0.040023482524249955,\n",
       "             'та': 0.026801988903900283,\n",
       "             'ын': 0.0254093399398889,\n",
       "             'ыы': 0.024174512963081794,\n",
       "             'ы': 0.01743759527852112,\n",
       "             'ыытынан': 0.015049453779836594,\n",
       "             'ыта': 0.013593502590188329,\n",
       "             'аас': 0.013183338854212374,\n",
       "             'ыылаах': 0.010639976829651109,\n",
       "             '': 0.010520309608584128,\n",
       "             'ыыга': 0.010445734383861227,\n",
       "             'быт': 0.010180385328451835,\n",
       "             'ары': 0.009869944276698364,\n",
       "             'ынан': 0.009712122289494085,\n",
       "             'ытын': 0.007269350102931153,\n",
       "             'ыыны': 0.0072676157953794574,\n",
       "             'ай': 0.007108926654399331,\n",
       "             'ыытын': 0.0063536357156359965,\n",
       "             'быта': 0.0061437845018808565,\n",
       "             'аллар': 0.006059670585623631,\n",
       "             'да': 0.005988563976004121,\n",
       "             'ыыта': 0.005956479286297756,\n",
       "             'аайыстыбатын': 0.005863693832282054,\n",
       "             'ыбыт': 0.005808195990627802,\n",
       "             'ыытыгар': 0.005678990078026497,\n",
       "             'аарар': 0.005074583896260659,\n",
       "             'ыгар': 0.004681763235801658,\n",
       "             'ахан': 0.004486653636235929,\n",
       "             'дьык': 0.004417281334168114,\n",
       "             'ыат': 0.00429848126687698,\n",
       "             'ыллыбыт': 0.0038675058402806804,\n",
       "             'арга': 0.00384149122700525,\n",
       "             'ааччы': 0.00370274662286962,\n",
       "             'ылҕа': 0.003647248781215368,\n",
       "             'ыллар': 0.0036342414745776526,\n",
       "             'ассыыйа': 0.003589149478233573,\n",
       "             'ара': 0.0034469362589945526,\n",
       "             'ааран': 0.003404445723978016,\n",
       "             'ааччыта': 0.0032336164301360218,\n",
       "             'ыахтаах': 0.0030463112145529213,\n",
       "             'ыбыта': 0.0029899462191228217,\n",
       "             'ыа': 0.0029474556841062854,\n",
       "             'аччы': 0.0029197067632791593,\n",
       "             'аарыы': 0.0028217183866083707,\n",
       "             'арын': 0.00278443077424692,\n",
       "             'ыллан': 0.0027098555495240193,\n",
       "             'ата': 0.0026821066286968932,\n",
       "             'быттара': 0.002616202941732469,\n",
       "             'дыгар': 0.002575446714267628,\n",
       "             'ахсан': 0.0025372919481303296,\n",
       "             'дыларынааҕы': 0.002527753256596005,\n",
       "             'ла': 0.0024609824158557335,\n",
       "             'дьаҕас': 0.0024323663412527596,\n",
       "             'ымнаах': 0.0023525881938747726,\n",
       "             'тар': 0.0023508538863230774,\n",
       "             'арыгар': 0.0022155778972908382,\n",
       "             'ыан': 0.002185227515136169,\n",
       "             'ыахха': 0.0021678844396192153,\n",
       "             'га': 0.002094176368672162,\n",
       "             'быттар': 0.0020881062922412283,\n",
       "             'ыах': 0.0020508186798797777,\n",
       "             'бат': 0.0020412799883454532,\n",
       "             'ырдьах': 0.001994453684449678,\n",
       "             'аанах': 0.001976243455156877,\n",
       "             'дык': 0.0019675719173984,\n",
       "             'ыый': 0.0019623689947433137,\n",
       "             'тан': 0.0019571660720882275,\n",
       "             'ааччылар': 0.001925948536157711,\n",
       "             'ах': 0.0019129412295199957,\n",
       "             'абыт': 0.0019103397681924526,\n",
       "             'ыылар': 0.001886926616244565,\n",
       "             'тыыны': 0.0018695835407276113,\n",
       "             'ыылааҕа': 0.0018487718501072668,\n",
       "             'ыгы': 0.00184010031234879,\n",
       "             'дылар': 0.0018184214679525979,\n",
       "             'гыттар': 0.001782001009366995,\n",
       "             'аары': 0.0017802667018152996,\n",
       "             'ааһа': 0.0017594550111949552,\n",
       "             'ыахтара': 0.0017421119356780016,\n",
       "             'аҕын': 0.001732573244143677,\n",
       "             'ытыгар': 0.0017221673988335048,\n",
       "             'ыаҕа': 0.0016866140940237496,\n",
       "             'ыакка': 0.0016510607892139945,\n",
       "             'лылар': 0.0016406549439038221,\n",
       "             'бытын': 0.001588625717352961,\n",
       "             'аайыстыба': 0.0015764855644910935,\n",
       "             'абын': 0.001544400874784729,\n",
       "             'ылынна': 0.0015348621832504046,\n",
       "             'ымыгар': 0.0015322607219228615,\n",
       "             'аннаан': 0.0015244563379402322,\n",
       "             'ааччылара': 0.0014958402633372587,\n",
       "             'ыыларын': 0.0014932388020097156,\n",
       "             'тыгар': 0.001453349728320722,\n",
       "             'аллара': 0.001450748266993179,\n",
       "             'ырдьа': 0.0014420767292347022,\n",
       "             'таран': 0.001439475267907159,\n",
       "             'мах': 0.0014360066528037684,\n",
       "             'ааннаах': 0.0014195307310626622,\n",
       "             'ымҥа': 0.0014160621159592715,\n",
       "             'ыылаахтара': 0.001403921963097404,\n",
       "             'ыллыбыта': 0.0013666343507359533,\n",
       "             'аарбыт': 0.0013605642743050195,\n",
       "             'ыылара': 0.0013466898138914567,\n",
       "             'атык': 0.001337151122357132,\n",
       "             'на': 0.0013232766619435692,\n",
       "             'ытта': 0.0013172065855126354,\n",
       "             'ыныы': 0.0013146051241850923,\n",
       "             'ыт': 0.0013059335864266154,\n",
       "             'ыма': 0.0012929262797889002,\n",
       "             'сан': 0.0012859890495821185,\n",
       "             'бакка': 0.0012686459740651648,\n",
       "             'ынар': 0.0012686459740651648,\n",
       "             'ыларын': 0.0012539043598757541,\n",
       "             'ыбытын': 0.0012287569003761713,\n",
       "             'аарыыга': 0.0012226868239452375,\n",
       "             'ыннылар': 0.0012218196701693899,\n",
       "             'бытым': 0.00119927367199735,\n",
       "             'ыылыыр': 0.0011810634427045486,\n",
       "             'тыбыт': 0.0011775948276011579,\n",
       "             'ынна': 0.001146377291670641,\n",
       "             'ыынан': 0.0011394400614638596,\n",
       "             'тах': 0.0011394400614638596,\n",
       "             'аҕас': 0.001138572907688012,\n",
       "             'аайыстыбатыгар': 0.0011299013699295351,\n",
       "             'ыгыны': 0.0011238312934986013,\n",
       "             'ыттан': 0.0011194955246193628,\n",
       "             'ҕаа': 0.0011090896793091907,\n",
       "             'ыылары': 0.0011082225255333428,\n",
       "             'аарда': 0.0010709349131718924,\n",
       "             'ыылаахтык': 0.0010596619140858725,\n",
       "             'аан': 0.0010449202998964618,\n",
       "             'аҕар': 0.0010258429168278128,\n",
       "             'дыларыгар': 0.0010232414555002697,\n",
       "             'быппыт': 0.0010111013026384021,\n",
       "             'ыылаһан': 0.0010041640724316207,\n",
       "             'тыылаахтара': 0.0009902896120180576,\n",
       "             'ассыыйаҕа': 0.0009790166129320377,\n",
       "             'ыннык': 0.0009720793827252562,\n",
       "             'ыттар': 0.0009651421525184747,\n",
       "             'алларыгар': 0.0009625406911909316,\n",
       "             'дыбыт': 0.0009625406911909316,\n",
       "             'ыйа': 0.0009356589241396534,\n",
       "             'ыыттан': 0.0009287216939328719,\n",
       "             'ыйан': 0.0009079100033125274,\n",
       "             'сен': 0.000906175695760832,\n",
       "             'ытыы': 0.000903574234433289,\n",
       "             'ыһан': 0.0009001056193298982,\n",
       "             'ыбыттара': 0.0008966370042265075,\n",
       "             'ыахпыт': 0.0008801610824854015,\n",
       "             'аарарга': 0.0008758253136061631,\n",
       "             'даан': 0.0008749581598303153,\n",
       "             'алларын': 0.0008645523145201431,\n",
       "             'ылла': 0.0008602165456409047,\n",
       "             'аарыыны': 0.0008602165456409047,\n",
       "             'аара': 0.000856747930537514,\n",
       "             'ааччылаах': 0.0008480763927790371,\n",
       "             'ыс': 0.0008437406238997986,\n",
       "             'даах': 0.0008411391625722555,\n",
       "             'ыыларыгар': 0.0008324676248137788,\n",
       "             'ааччыларын': 0.0008298661634862357,\n",
       "             'аараллар': 0.0008246632408311495,\n",
       "             'дьаҕастар': 0.0008142573955209773,\n",
       "             'ыһах': 0.0008073201653141959,\n",
       "             'ыбат': 0.0008021172426591097,\n",
       "             'аарбыта': 0.000787375628469699,\n",
       "             'ылын': 0.0007735011680561361,\n",
       "             'ылҕаҕа': 0.000770899706728593,\n",
       "             'аарыылаах': 0.0007630953227459638,\n",
       "             'ааһыҥҥа': 0.0007622281689701161,\n",
       "             'сар': 0.0007596267076425731,\n",
       "             'аҕаһы': 0.0007587595538667254,\n",
       "             'ыыр': 0.000740549324573924,\n",
       "             'ыахтарын': 0.0007396821707980763,\n",
       "             'ыттым': 0.0007249405566086656,\n",
       "             'тыһан': 0.0007232062490569703,\n",
       "             'ыларыгар': 0.0007162690188501887,\n",
       "             'ыммыт': 0.0007015274046607782,\n",
       "             'дах': 0.0006997930971090827,\n",
       "             'ылаан': 0.0006980587895573873,\n",
       "             'ахсаттар': 0.0006945901744539966,\n",
       "             'дым': 0.0006902544055747582,\n",
       "             'ааччытын': 0.0006902544055747582,\n",
       "             'ымын': 0.0006902544055747582,\n",
       "             'аайыстыбалар': 0.0006833171753679767,\n",
       "             'аайыстыбата': 0.000682450021592129,\n",
       "             'са': 0.000682450021592129,\n",
       "             'аарыллар': 0.000682450021592129,\n",
       "             'ыытыттан': 0.0006815828678162813,\n",
       "             'ылаах': 0.0006781142527128906,\n",
       "             'тыылаах': 0.0006763799451611953,\n",
       "             'арыта': 0.0006755127913853475,\n",
       "             'ыҥ': 0.0006729113300578044,\n",
       "             'ааһын': 0.0006703098687302615,\n",
       "             'аҕынан': 0.0006668412536268706,\n",
       "             'аҕа': 0.000665974099851023,\n",
       "             'ылҕаттан': 0.000665974099851023,\n",
       "             'ыллыахтаах': 0.0006625054847476322,\n",
       "             'анан': 0.0006607711771959368,\n",
       "             'аастаан': 0.0006590368696442415,\n",
       "             'лахха': 0.0006581697158683938,\n",
       "             'айга': 0.000654701100765003,\n",
       "             'ылыгар': 0.0006460295630065262,\n",
       "             'ыттаҕына': 0.0006434281016789832,\n",
       "             'ыттылар': 0.0006373580252480493,\n",
       "             'акый': 0.0006364908714722017,\n",
       "             'аай': 0.0006312879488171155,\n",
       "             'ыллыбат': 0.0006269521799378771,\n",
       "             'ыттыбыт': 0.0006269521799378771,\n",
       "             'ынааҕы': 0.0006269521799378771,\n",
       "             'ыылаһар': 0.0006122105657484665,\n",
       "             'ыылаан': 0.000610476258196771,\n",
       "             'аат': 0.0006096091044209234,\n",
       "             'даҕына': 0.0006087419506450757,\n",
       "             'тааччы': 0.0006061404893175326,\n",
       "             'тыыс': 0.0006000704128865988,\n",
       "             'аайы': 0.0005983361053349034,\n",
       "             'ыны': 0.0005957346440073604,\n",
       "             'ылҕаны': 0.0005957346440073604,\n",
       "             'ыаты': 0.0005931331826798174,\n",
       "             'аҥҥа': 0.0005766572609387113,\n",
       "             'аанахтык': 0.0005749229533870159,\n",
       "             'аал': 0.0005697200307319298,\n",
       "             'дахха': 0.0005601813391976053,\n",
       "             'тыбыта': 0.0005567127240942145,\n",
       "             'ыылаахтар': 0.0005558455703183669,\n",
       "             'ыаҕын': 0.0005523769552149761,\n",
       "             'аарыахха': 0.0005497754938874331,\n",
       "             'ааҕы': 0.0005489083401115853,\n",
       "             'ыам': 0.0005454397250081946,\n",
       "             'ыылаахтарын': 0.0005393696485772608,\n",
       "             'пакка': 0.0005393696485772608,\n",
       "             'ыахтаахтар': 0.0005385024948014131,\n",
       "             'анныыр': 0.0005367681872497178,\n",
       "             'ыбыттар': 0.00053590103347387,\n",
       "             'аардылар': 0.0005341667259221747,\n",
       "             'ыылааҕынан': 0.0005280966494912409,\n",
       "             'аайын': 0.0005228937268361547,\n",
       "             'тыыһа': 0.0005211594192844594,\n",
       "             'аны': 0.0005202922655086117,\n",
       "             'наҕас': 0.0005202922655086117,\n",
       "             'дьыга': 0.0005185579579569164,\n",
       "             'ыйар': 0.0005150893428535256,\n",
       "             'ктика': 0.0005150893428535256,\n",
       "             'ааҕынан': 0.0005124878815259826,\n",
       "             'аҥаччылыыр': 0.0005116207277501349,\n",
       "             'ааһыннаах': 0.0005038163437675057,\n",
       "             'ына': 0.000502949189991658,\n",
       "             'ахтаах': 0.0004994805748882673,\n",
       "             'ыстаах': 0.0004986134211124195,\n",
       "             'ыыларга': 0.0004960119597848764,\n",
       "             'быттарын': 0.0004960119597848764,\n",
       "             'аннар': 0.0004899418833539427,\n",
       "             'лыбыт': 0.0004899418833539427,\n",
       "             'ыаҕыттан': 0.000489074729578095,\n",
       "             'ымынан': 0.000489074729578095,\n",
       "             'аарыылаахтык': 0.0004873404220263996,\n",
       "             'тааччылар': 0.00048647326825055194,\n",
       "             'арбыт': 0.0004838718069230089,\n",
       "             'ахаттары': 0.0004838718069230089,\n",
       "             'таллар': 0.0004786688842679228,\n",
       "             'ыай': 0.0004760674229403797,\n",
       "             'лыыр': 0.00047433311538868435,\n",
       "             'батах': 0.00047259880783698894,\n",
       "             'ыллара': 0.00046913019273359824,\n",
       "             'ытыыга': 0.0004673958851819028,\n",
       "             'ымньыларын': 0.00046652873140605515,\n",
       "             'ыттахпына': 0.00046306011630266444,\n",
       "             'ыаттар': 0.0004595915011992737,\n",
       "             'ыллаан': 0.0004595915011992737,\n",
       "             'ым': 0.0004595915011992737,\n",
       "             'ыыбыт': 0.0004526542709924922,\n",
       "             'тара': 0.0004526542709924922,\n",
       "             'датар': 0.0004526542709924922,\n",
       "             'ыла': 0.0004517871172166445,\n",
       "             'ыыланар': 0.0004500528096649491,\n",
       "             'аарбыттар': 0.0004500528096649491,\n",
       "             'лым': 0.00044831850211325377,\n",
       "             'атын': 0.0004439827332340153,\n",
       "             'гыый': 0.00044311557945816765,\n",
       "             'ыбытым': 0.00044224842568231997,\n",
       "             'кадий': 0.00044224842568231997,\n",
       "             'лаан': 0.00044138127190647224,\n",
       "             'аарбат': 0.00044051411813062456,\n",
       "             'махтара': 0.00043704550302723385,\n",
       "             'аарбыттара': 0.00043704550302723385,\n",
       "             'ачаан': 0.00043704550302723385,\n",
       "             'ыыһыт': 0.0004335768879238431,\n",
       "             'мияҕа': 0.00043184258037214774,\n",
       "             'аханнык': 0.0004309754265963,\n",
       "             'аах': 0.00043010827282045233,\n",
       "             'ыйыы': 0.00042924111904460465,\n",
       "             'ыыларынан': 0.000428373965268757,\n",
       "             'алаах': 0.0004275068114929093,\n",
       "             'гыттара': 0.00042403819638951853,\n",
       "             'тыылааҕа': 0.00042317104261367086,\n",
       "             'аайына': 0.0004223038888378232,\n",
       "             'бытынан': 0.0004214367350619755,\n",
       "             'тыылаахтарын': 0.0004214367350619755,\n",
       "             'дааҕы': 0.0004214367350619755,\n",
       "             'ымньылаахтык': 0.0004214367350619755,\n",
       "             'аммыт': 0.0004197024275102801,\n",
       "             'ымньы': 0.0004197024275102801,\n",
       "             'ыгас': 0.00041796811995858474,\n",
       "             'ыаппыт': 0.00041189804352765094,\n",
       "             'ааччыларга': 0.00041189804352765094,\n",
       "             'ларан': 0.00041016373597595554,\n",
       "             'ылҕалаах': 0.00041016373597595554,\n",
       "             'ааччыларыгар': 0.00040582796709671715,\n",
       "             'ыаҕар': 0.00040062504444163103,\n",
       "             'арынан': 0.0003954221217865449,\n",
       "             'ыһар': 0.0003876177378039157,\n",
       "             'аарыытынан': 0.00038414912270052495,\n",
       "             'ааччыларбыт': 0.00037894620004543883,\n",
       "             'ымнаахтык': 0.0003772118924937435,\n",
       "             'алаан': 0.0003763447387178958,\n",
       "             'ыммыта': 0.00037461043116620045,\n",
       "             'ытар': 0.00037287612361450504,\n",
       "             'тыгас': 0.0003685403547352666,\n",
       "             'ыаттарга': 0.0003676732009594189,\n",
       "             'ҕа': 0.00036680604718357124,\n",
       "             'олет': 0.0003642045858560282,\n",
       "             'аайыстыбаннай': 0.0003624702783043328,\n",
       "             'аарыллан': 0.00036073597075263745,\n",
       "             'ыбытыгар': 0.0003590016632009421,\n",
       "             'айдар': 0.000356400201873399,\n",
       "             'ылҕатын': 0.000356400201873399,\n",
       "             'ыллыбытын': 0.00035553304809755133,\n",
       "             'аарбакка': 0.00035466589432170365,\n",
       "             'ыахтаахпыт': 0.00035293158677000825,\n",
       "             'аарылынна': 0.0003503301254424652,\n",
       "             'тур': 0.0003503301254424652,\n",
       "             'дьыгы': 0.0003503301254424652,\n",
       "             'ааҥҥытааҕар': 0.00034946297166661754,\n",
       "             'ааччылары': 0.00034686151033907445,\n",
       "             'баттар': 0.00034686151033907445,\n",
       "             'тыыстар': 0.0003451272027873791,\n",
       "             'аарыллыбыт': 0.00034252574145983607,\n",
       "             'аадыс': 0.00034165858768398833,\n",
       "             'гыттарга': 0.00034079143390814066,\n",
       "             'аайыстыбаларга': 0.000339924280132293,\n",
       "             'бата': 0.000339924280132293,\n",
       "             'дыкка': 0.00033732281880474995,\n",
       "             'аарыыта': 0.00033732281880474995,\n",
       "             'ыахтааҕын': 0.0003364556650289022,\n",
       "             'аарабыт': 0.0003364556650289022,\n",
       "             'ылларын': 0.0003329870499255115,\n",
       "             'аһыабай': 0.00033211989614966383,\n",
       "             'ыталаһан': 0.0003277841272704254,\n",
       "             'гыттары': 0.0003277841272704254,\n",
       "             'аныысса': 0.00032431551216703463,\n",
       "             'ктическай': 0.0003225812046153393,\n",
       "             'ымньылаах': 0.0003217140508394916,\n",
       "             'ылыннылар': 0.0003199797432877962,\n",
       "             'ыттахха': 0.0003191125895119485,\n",
       "             'тарга': 0.00031824543573610083,\n",
       "             'ахтарын': 0.00031824543573610083,\n",
       "             'аайыстыбаҕа': 0.00031737828196025316,\n",
       "             'ахов': 0.00031564397440855775,\n",
       "             'ыбакка': 0.00031564397440855775,\n",
       "             'мия': 0.00031564397440855775,\n",
       "             'ааҕа': 0.00031477682063271007,\n",
       "             'ааһы': 0.0003139096668568624,\n",
       "             'арым': 0.0003139096668568624,\n",
       "             'тыбыттара': 0.00031217535930516704,\n",
       "             'ыгыга': 0.00031217535930516704,\n",
       "             'ыллыа': 0.00030957389797762395,\n",
       "             'ытык': 0.00030957389797762395,\n",
       "             'ыл': 0.0003087067442017763,\n",
       "             'бытыгар': 0.0003078395904259286,\n",
       "             'тыбат': 0.0003078395904259286,\n",
       "             'аарылла': 0.00030610528287423324,\n",
       "             'батаҕа': 0.00030350382154669016,\n",
       "             'ларбыт': 0.0003017695139949948,\n",
       "             'аардахха': 0.0003017695139949948,\n",
       "             'ыллаллар': 0.0003009023602191471,\n",
       "             'ыгылааһын': 0.0003000352064432994,\n",
       "             'аҕы': 0.00029830089889160404,\n",
       "             'жаков': 0.00029830089889160404,\n",
       "             'ыһахтар': 0.00029830089889160404,\n",
       "             'ыллыбатах': 0.0002965665913399087,\n",
       "             'темьев': 0.000295699437564061,\n",
       "             'тарын': 0.0002930979762365179,\n",
       "             'ылга': 0.00029223082246067025,\n",
       "             'ааччытынан': 0.00029223082246067025,\n",
       "             'махтарын': 0.00029136366868482257,\n",
       "             'ынныбыт': 0.0002904965149089749,\n",
       "             'тыыстара': 0.0002887622073572795,\n",
       "             'ыттарга': 0.00028616074602973645,\n",
       "             'ааччыны': 0.0002852935922538888,\n",
       "             'ыым': 0.00028442643847804104,\n",
       "             'ахтарыгар': 0.00028355928470219337,\n",
       "             'дьыгынан': 0.00028355928470219337,\n",
       "             'ыннаран': 0.0002826921309263457,\n",
       "             'ыллыбыттара': 0.000281824977150498,\n",
       "             'ыннарар': 0.000281824977150498,\n",
       "             'аттан': 0.000281824977150498,\n",
       "             'ымньытын': 0.00027835636204710725,\n",
       "             'ахсар': 0.00027748920827125957,\n",
       "             'тарар': 0.0002766220544954119,\n",
       "             'тынааҕы': 0.0002766220544954119,\n",
       "             'ба': 0.00027488774694371654,\n",
       "             'ааччыга': 0.0002740205931678688,\n",
       "             'аарсар': 0.0002740205931678688,\n",
       "             'ыыт': 0.0002740205931678688,\n",
       "             'арый': 0.00027315343939202113,\n",
       "             'ыар': 0.00027315343939202113,\n",
       "             'баан': 0.00027228628561617345,\n",
       "             'ыччы': 0.00027228628561617345,\n",
       "             'аайыстыбатынан': 0.0002714191318403258,\n",
       "             'ыллааһын': 0.0002714191318403258,\n",
       "             'ыттары': 0.0002714191318403258,\n",
       "             'тарбыт': 0.0002705519780644781,\n",
       "             'ыылаһарга': 0.0002705519780644781,\n",
       "             'хыып': 0.0002696848242886304,\n",
       "             'ыллыбакка': 0.0002688176705127827,\n",
       "             'ыбыппыт': 0.000267950516736935,\n",
       "             'ыһыы': 0.00026708336296108734,\n",
       "             'таах': 0.00026708336296108734,\n",
       "             'тыахтара': 0.000265349055409392,\n",
       "             'ылҕабыт': 0.0002636147478576966,\n",
       "             'ыттахпытына': 0.0002627475940818489,\n",
       "             'ыгыһыт': 0.0002618804403060012,\n",
       "             'ыбатах': 0.00026101328653015354,\n",
       "             'дарга': 0.00025841182520261046,\n",
       "             'ыбата': 0.0002575446714267628,\n",
       "             'ахха': 0.0002566775176509151,\n",
       "             'аадьыйа': 0.0002566775176509151,\n",
       "             'бычча': 0.0002558103638750674,\n",
       "             'ыһы': 0.00025494321009921975,\n",
       "             'талаан': 0.00025407605632337207,\n",
       "             'аардыбыт': 0.00025407605632337207,\n",
       "             'ахаттар': 0.00025407605632337207,\n",
       "             'ыйда': 0.00025234174877167666,\n",
       "             'ыыласпыт': 0.00025234174877167666,\n",
       "             'аана': 0.000251474594995829,\n",
       "             'ыммат': 0.000251474594995829,\n",
       "             'дар': 0.00024974028744413363,\n",
       "             'ааһына': 0.00024974028744413363,\n",
       "             'ытыыларыгар': 0.00024974028744413363,\n",
       "             'аарыллыбыта': 0.00024974028744413363,\n",
       "             'тыбар': 0.00024887313366828595,\n",
       "             'дьан': 0.00024887313366828595,\n",
       "             'арбар': 0.00024627167234074287,\n",
       "             'ыгыттан': 0.00024627167234074287,\n",
       "             'тыспат': 0.0002454045185648952,\n",
       "             'ынным': 0.0002436702110131998,\n",
       "             'ахтыыр': 0.0002436702110131998,\n",
       "             'ыылартан': 0.00024280305723735213,\n",
       "             'ыбыттарын': 0.00024280305723735213,\n",
       "             'ылҕата': 0.00024106874968565675,\n",
       "             'амаан': 0.00024020159590980907,\n",
       "             'ыллыы': 0.0002393344421339614,\n",
       "             'аарыа': 0.0002393344421339614,\n",
       "             'дааны': 0.0002384672883581137,\n",
       "             'аарыытын': 0.0002384672883581137,\n",
       "             'ыныыга': 0.00023760013458226601,\n",
       "             'ыылаахтарыгар': 0.00023760013458226601,\n",
       "             'гыһыы': 0.00023673298080641834,\n",
       "             'ыттахтарына': 0.00023499867325472296,\n",
       "             'дьар': 0.00023499867325472296,\n",
       "             'бах': 0.00023326436570302757,\n",
       "             'ыгылааһыны': 0.00023326436570302757,\n",
       "             'ытыыларга': 0.0002323972119271799,\n",
       "             'талина': 0.0002323972119271799,\n",
       "             'гыс': 0.0002323972119271799,\n",
       "             'ыктаах': 0.00023066290437548452,\n",
       "             'ыныыны': 0.00023066290437548452,\n",
       "             'дааннаах': 0.00023066290437548452,\n",
       "             'тарбат': 0.00022979575059963684,\n",
       "             'ыылааһын': 0.00022979575059963684,\n",
       "             'ыһыыга': 0.00022892859682378916,\n",
       "             'даана': 0.00022719428927209378,\n",
       "             'аайыстыбаны': 0.0002263271354962461,\n",
       "             'тыы': 0.0002263271354962461,\n",
       "             'летикаҕа': 0.0002263271354962461,\n",
       "             'ыатын': 0.0002254599817203984,\n",
       "             'ыылыыллар': 0.00022459282794455072,\n",
       "             'ыйанан': 0.00022459282794455072,\n",
       "             'ыҥҥа': 0.00022372567416870304,\n",
       "             'лыы': 0.00022372567416870304,\n",
       "             'аайга': 0.00022372567416870304,\n",
       "             'ыахпын': 0.00022285852039285534,\n",
       "             'аханын': 0.00022199136661700766,\n",
       "             'ыналлар': 0.00022025705906531228,\n",
       "             'асыабай': 0.00022025705906531228,\n",
       "             'аайка': 0.0002193899052894646,\n",
       "             'ыллыан': 0.0002193899052894646,\n",
       "             'ыаҕы': 0.00021765559773776922,\n",
       "             'аммын': 0.00021678844396192155,\n",
       "             'ытан': 0.00021678844396192155,\n",
       "             'баккын': 0.00021592129018607387,\n",
       "             'даҕа': 0.00021505413641022616,\n",
       "             'ааччыбыт': 0.0002141869826343785,\n",
       "             'сыбыт': 0.0002133198288585308,\n",
       "             'аран': 0.0002133198288585308,\n",
       "             'махтарыгар': 0.0002133198288585308,\n",
       "             'ыттартан': 0.0002133198288585308,\n",
       "             'ыһа': 0.0002124526750826831,\n",
       "             'маҕа': 0.0002124526750826831,\n",
       "             'ый': 0.00021071836753098775,\n",
       "             'баппын': 0.00021071836753098775,\n",
       "             'хал': 0.00021071836753098775,\n",
       "             'аарыллыахтаах': 0.00021071836753098775,\n",
       "             'дынан': 0.00021071836753098775,\n",
       "             'ыыларыттан': 0.00020985121375514005,\n",
       "             'аарыахтаах': 0.00020985121375514005,\n",
       "             'ыытаан': 0.00020898405997929237,\n",
       "             'ыахпытын': 0.000207249752427597,\n",
       "             'ыата': 0.0002063825986517493,\n",
       "             'аҕыттан': 0.0002063825986517493,\n",
       "             'дьыгын': 0.0002063825986517493,\n",
       "             'ыстылар': 0.00020551544487590163,\n",
       "             'ыммыттара': 0.00020551544487590163,\n",
       "             'ахана': 0.00020551544487590163,\n",
       "             'арбытыгар': 0.00020464829110005393,\n",
       "             'сыы': 0.00020464829110005393,\n",
       "             'аанын': 0.00020378113732420625,\n",
       "             'ахсыы': 0.00020378113732420625,\n",
       "             'ыттаҕа': 0.00020291398354835858,\n",
       "             'чы': 0.00020291398354835858,\n",
       "             'аарбыппыт': 0.0002011796759966632,\n",
       "             'ыһыытыгар': 0.00020031252222081552,\n",
       "             'тем': 0.00020031252222081552,\n",
       "             'гыһа': 0.00019857821466912014,\n",
       "             'аарара': 0.00019857821466912014,\n",
       "             'ылларыгар': 0.00019771106089327246,\n",
       "             'аатын': 0.00019684390711742475,\n",
       "             'ыылыы': 0.00019684390711742475,\n",
       "             'аайыстыбаларын': 0.00019597675334157708,\n",
       "             'дарын': 0.00019597675334157708,\n",
       "             'ыгылаан': 0.00019597675334157708,\n",
       "             'дахтарына': 0.0001942424457898817,\n",
       "             'аннаатыбыт': 0.0001942424457898817,\n",
       "             'гыттарын': 0.0001942424457898817,\n",
       "             'ыппыппар': 0.00019337529201403402,\n",
       "             'ымньылара': 0.00019337529201403402,\n",
       "             'ыһаҕы': 0.00019250813823818634,\n",
       "             'ыылаахтары': 0.00019164098446233864,\n",
       "             'дарыылаах': 0.00019164098446233864,\n",
       "             'аайыстыбалары': 0.00019077383068649096,\n",
       "             'ыннарыы': 0.00019077383068649096,\n",
       "             'ытабын': 0.00019077383068649096,\n",
       "             'атыттан': 0.00018990667691064328,\n",
       "             'ыаппытыгар': 0.00018990667691064328,\n",
       "             'ыахтааҕа': 0.00018990667691064328,\n",
       "             'ыаҥ': 0.00018990667691064328,\n",
       "             'ыбытыттан': 0.00018990667691064328,\n",
       "             'ымньыны': 0.00018990667691064328,\n",
       "             'аарыылары': 0.00018903952313479558,\n",
       "             'ыаҕыҥ': 0.0001881723693589479,\n",
       "             'тыылаахтарыгар': 0.0001881723693589479,\n",
       "             'аҥатын': 0.0001881723693589479,\n",
       "             'гыстаах': 0.0001881723693589479,\n",
       "             'ассыыйатааҕы': 0.00018730521558310022,\n",
       "             'ыатыгар': 0.00018470375425555716,\n",
       "             'ыытыы': 0.00018470375425555716,\n",
       "             'аҕым': 0.00018470375425555716,\n",
       "             'аҥата': 0.00018470375425555716,\n",
       "             'ыйбыт': 0.00018383660047970946,\n",
       "             'гыһыыга': 0.00018383660047970946,\n",
       "             'аа': 0.00018296944670386178,\n",
       "             'ыаххын': 0.00018296944670386178,\n",
       "             'ассыыйаны': 0.00018296944670386178,\n",
       "             'дарыгар': 0.0001821022929280141,\n",
       "             'датан': 0.0001821022929280141,\n",
       "             'ылгылаах': 0.0001821022929280141,\n",
       "             'алыы': 0.0001812351391521664,\n",
       "             'аарыахпыт': 0.0001812351391521664,\n",
       "             'дыгы': 0.00017863367782462334,\n",
       "             'анньыт': 0.00017863367782462334,\n",
       "             'гыттарбыт': 0.00017863367782462334,\n",
       "             'ыымчык': 0.00017863367782462334,\n",
       "             'ыылааҕын': 0.000176899370272928,\n",
       "             'ҕааҥҥы': 0.000176899370272928,\n",
       "             'ымнарыгар': 0.000176899370272928,\n",
       "             'ыллыахтара': 0.00017603221649708028,\n",
       "             'датыы': 0.00017603221649708028,\n",
       "             'ыылаһыы': 0.00017603221649708028,\n",
       "             'аҥаҕа': 0.00017429790894538493,\n",
       "             'ааҕын': 0.00017343075516953723,\n",
       "             'тарыы': 0.00017343075516953723,\n",
       "             'ааччыларбытыгар': 0.00017343075516953723,\n",
       "             'баппыт': 0.00017256360139368955,\n",
       "             'ыгытын': 0.00017169644761784187,\n",
       "             'ыллыаҕа': 0.00017169644761784187,\n",
       "             'аараллара': 0.00017082929384199417,\n",
       "             'аҥатыгар': 0.00017082929384199417,\n",
       "             'ымыттан': 0.00017082929384199417,\n",
       "             'ыыһыттар': 0.0001699621400661465,\n",
       "             'ыбатаҕа': 0.0001690949862902988,\n",
       "             'аанаҕа': 0.0001690949862902988,\n",
       "             'ыылаһыыга': 0.0001682278325144511,\n",
       "             'ытыылары': 0.00016736067873860343,\n",
       "             'аадьыйаҕа': 0.00016736067873860343,\n",
       "             'гызстан': 0.00016736067873860343,\n",
       "             'ыгастаах': 0.00016649352496275575,\n",
       "             'ыммыттар': 0.00016649352496275575,\n",
       "             'ааччынан': 0.00016649352496275575,\n",
       "             'тыгастаах': 0.00016562637118690805,\n",
       "             'аарыахтара': 0.00016562637118690805,\n",
       "             'аарыытыгар': 0.00016562637118690805,\n",
       "             'аарааччылар': 0.00016562637118690805,\n",
       "             'аарса': 0.00016475921741106037,\n",
       "             'ымнара': 0.0001638920636352127,\n",
       "             'ыктыбакка': 0.0001638920636352127,\n",
       "             'тыан': 0.000163024909859365,\n",
       "             'ахаттардаах': 0.00016215775608351731,\n",
       "             'ааҥҥыттан': 0.00016129060230766964,\n",
       "             'тыыта': 0.00016129060230766964,\n",
       "             'ынабын': 0.00016129060230766964,\n",
       "             'ынарга': 0.00016129060230766964,\n",
       "             'ыыланан': 0.00016042344853182193,\n",
       "             'аарыылар': 0.00016042344853182193,\n",
       "             'анын': 0.00015955629475597426,\n",
       "             'ыспыт': 0.00015955629475597426,\n",
       "             'ыста': 0.00015955629475597426,\n",
       "             'ылыы': 0.00015868914098012658,\n",
       "             'алык': 0.00015868914098012658,\n",
       "             'ыныллыбыт': 0.00015868914098012658,\n",
       "             'ыһыыта': 0.00015782198720427887,\n",
       "             'ааччытыгар': 0.00015782198720427887,\n",
       "             'пыт': 0.00015782198720427887,\n",
       "             'аатан': 0.0001569548334284312,\n",
       "             'ахпат': 0.0001569548334284312,\n",
       "             'ыллыбыттар': 0.00015608767965258352,\n",
       "             'тыахтаах': 0.00015608767965258352,\n",
       "             'ыылааҕы': 0.00015608767965258352,\n",
       "             'алларынан': 0.00015522052587673582,\n",
       "             'ыбатын': 0.00015522052587673582,\n",
       "             'олетунан': 0.00015522052587673582,\n",
       "             'быттарынан': 0.00015435337210088814,\n",
       "             'ыатынан': 0.00015261906454919276,\n",
       "             'дахтаах': 0.00015261906454919276,\n",
       "             'лыктаах': 0.00015175191077334508,\n",
       "             'махха': 0.00015175191077334508,\n",
       "             'ыллыыта': 0.0001508847569974974,\n",
       "             'ыыс': 0.0001508847569974974,\n",
       "             'ыммыппыт': 0.0001508847569974974,\n",
       "             'дьаҕаһы': 0.0001508847569974974,\n",
       "             'ытыыны': 0.0001500176032216497,\n",
       "             'арыттан': 0.00014915044944580202,\n",
       "             'ыбытынан': 0.00014915044944580202,\n",
       "             'тынан': 0.00014915044944580202,\n",
       "             'ашков': 0.00014828329566995434,\n",
       "             'ыппытыгар': 0.00014828329566995434,\n",
       "             'аһар': 0.00014828329566995434,\n",
       "             'аараары': 0.00014828329566995434,\n",
       "             'аадыстаах': 0.00014828329566995434,\n",
       "             'аайката': 0.00014741614189410664,\n",
       "             'ыаттан': 0.00014741614189410664,\n",
       "             'ыаттарын': 0.00014741614189410664,\n",
       "             'артан': 0.00014741614189410664,\n",
       "             'ааһыныгар': 0.00014741614189410664,\n",
       "             'ыаххыт': 0.00014654898811825896,\n",
       "             'аарарыгар': 0.00014654898811825896,\n",
       "             'ыһахтары': 0.00014654898811825896,\n",
       "             'сыыга': 0.00014568183434241128,\n",
       "             'ыммытым': 0.00014568183434241128,\n",
       "             'гунов': 0.00014568183434241128,\n",
       "             'ыйыыга': 0.00014568183434241128,\n",
       "             'аайыстыбалаах': 0.00014481468056656358,\n",
       "             'ааска': 0.00014481468056656358,\n",
       "             'ааҥҥа': 0.00014481468056656358,\n",
       "             'аарарын': 0.00014481468056656358,\n",
       "             'аайыстыбалара': 0.0001439475267907159,\n",
       "             'аабыт': 0.0001439475267907159,\n",
       "             'ыларыттан': 0.0001439475267907159,\n",
       "             'тыбытым': 0.0001439475267907159,\n",
       "             'аарыллыбакка': 0.0001439475267907159,\n",
       "             'арбын': 0.00014308037301486823,\n",
       "             'дьыктаах': 0.00014221321923902052,\n",
       "             'ыына': 0.00014134606546317284,\n",
       "             'дьаа': 0.00014134606546317284,\n",
       "             'аһым': 0.00014134606546317284,\n",
       "             'анар': 0.00013961175791147746,\n",
       "             'батахтара': 0.00013961175791147746,\n",
       "             'тыһар': 0.00013961175791147746,\n",
       "             'лыҥ': 0.00013961175791147746,\n",
       "             'аҥа': 0.00013961175791147746,\n",
       "             'тыларыгар': 0.00013961175791147746,\n",
       "             'аарбытын': 0.00013874460413562979,\n",
       "             'аарбытынан': 0.00013874460413562979,\n",
       "             'ыылаһа': 0.00013874460413562979,\n",
       "             'аханы': 0.00013874460413562979,\n",
       "             'аастаах': 0.0001378774503597821,\n",
       "             'аарсан': 0.0001378774503597821,\n",
       "             'хыыпка': 0.0001378774503597821,\n",
       "             'анньыттар': 0.0001370102965839344,\n",
       "             'аарынным': 0.0001370102965839344,\n",
       "             'ылыннаҕына': 0.00013614314280808673,\n",
       "             'аарыҥ': 0.00013614314280808673,\n",
       "             'быттарыгар': 0.00013614314280808673,\n",
       "             'ыылаахтарга': 0.00013614314280808673,\n",
       "             'ендаҕа': 0.00013614314280808673,\n",
       "             'таллара': 0.00013527598903223905,\n",
       "             'ыһыытын': 0.00013527598903223905,\n",
       "             'нылар': 0.00013527598903223905,\n",
       "             'омнай': 0.00013527598903223905,\n",
       "             'ытыттан': 0.00013440883525639135,\n",
       "             'ылара': 0.00013354168148054367,\n",
       "             'алаһан': 0.00013354168148054367,\n",
       "             'ахтара': 0.00013354168148054367,\n",
       "             'тары': 0.000132674527704696,\n",
       "             'ассыыйаттан': 0.000132674527704696,\n",
       "             'дьаҕастарга': 0.000132674527704696,\n",
       "             'аарыныы': 0.000132674527704696,\n",
       "             'ылааҥҥа': 0.000132674527704696,\n",
       "             'батахтар': 0.0001318073739288483,\n",
       "             'тыбытыгар': 0.0001318073739288483,\n",
       "             'батын': 0.0001309402201530006,\n",
       "             'саллар': 0.0001309402201530006,\n",
       "             'ытыылар': 0.0001309402201530006,\n",
       "             'аарыан': 0.0001309402201530006,\n",
       "             'ыылаһааччы': 0.0001309402201530006,\n",
       "             'айтан': 0.00013007306637715293,\n",
       "             'ааһыннарга': 0.00013007306637715293,\n",
       "             'ыылаабыт': 0.00013007306637715293,\n",
       "             'ыыбытын': 0.00012920591260130523,\n",
       "             'ыталлар': 0.00012920591260130523,\n",
       "             'дьаҕастары': 0.00012920591260130523,\n",
       "             'аайыстыбаларыгар': 0.00012833875882545755,\n",
       "             'аҕыт': 0.00012833875882545755,\n",
       "             'ыаттары': 0.00012833875882545755,\n",
       "             'ыппыт': 0.00012833875882545755,\n",
       "             'ыттара': 0.00012833875882545755,\n",
       "             'ыйарга': 0.00012833875882545755,\n",
       "             'ыытыйбыт': 0.00012833875882545755,\n",
       "             'ааннарын': 0.00012747160504960987,\n",
       "             'аргытыгар': 0.00012747160504960987,\n",
       "             'ларар': 0.00012747160504960987,\n",
       "             'ҕааҥы': 0.00012747160504960987,\n",
       "             'арыҥ': 0.00012660445127376217,\n",
       "             'сыбат': 0.00012660445127376217,\n",
       "             'ыахтарай': 0.00012660445127376217,\n",
       "             'датыыга': 0.00012660445127376217,\n",
       "             'лаҕына': 0.00012660445127376217,\n",
       "             'ылы': 0.0001257372974979145,\n",
       "             'айы': 0.0001257372974979145,\n",
       "             'ыттахтара': 0.0001257372974979145,\n",
       "             'ымньыта': 0.0001257372974979145,\n",
       "             'аастык': 0.0001257372974979145,\n",
       "             'ыһахха': 0.0001257372974979145,\n",
       "             'ыылаахха': 0.00012487014372206682,\n",
       "             'аарабын': 0.00012487014372206682,\n",
       "             'аарыллыа': 0.00012487014372206682,\n",
       "             'дьаҕастара': 0.00012487014372206682,\n",
       "             'ана': 0.0001240029899462191,\n",
       "             'сонов': 0.0001240029899462191,\n",
       "             'ынын': 0.0001240029899462191,\n",
       "             'ыталаста': 0.00012313583617037143,\n",
       "             'ахпын': 0.00012313583617037143,\n",
       "             'ыгыта': 0.00012313583617037143,\n",
       "             'ымнарын': 0.00012313583617037143,\n",
       "             'сонова': 0.00012226868239452376,\n",
       "             'ыгынан': 0.00012226868239452376,\n",
       "             'ыаттарыгар': 0.00012053437484282838,\n",
       "             'ахсаны': 0.00012053437484282838,\n",
       "             'ыытыыр': 0.0001196672210669807,\n",
       "             'тыытын': 0.0001196672210669807,\n",
       "             'дара': 0.0001196672210669807,\n",
       "             'ыталаан': 0.00011880006729113301,\n",
       "             'ыылаһаллар': 0.00011880006729113301,\n",
       "             'аҕаһын': 0.00011880006729113301,\n",
       "             'ынара': 0.00011793291351528532,\n",
       "             'ыстаахтык': 0.00011793291351528532,\n",
       "             'ыталаһа': 0.00011793291351528532,\n",
       "             'аҕытык': 0.00011793291351528532,\n",
       "             'аннаабыт': 0.00011706575973943764,\n",
       "             'хитектура': 0.00011706575973943764,\n",
       "             'ласов': 0.00011706575973943764,\n",
       "             'аадыска': 0.00011706575973943764,\n",
       "             'пат': 0.00011619860596358995,\n",
       "             'аарааччы': 0.00011619860596358995,\n",
       "             'аахха': 0.00011533145218774226,\n",
       "             'ыталастым': 0.00011533145218774226,\n",
       "             'анныыллар': 0.00011533145218774226,\n",
       "             'астаһан': 0.00011533145218774226,\n",
       "             'тыбытын': 0.00011446429841189458,\n",
       "             'тылар': 0.00011446429841189458,\n",
       "             'ымньылар': 0.00011446429841189458,\n",
       "             'ааралларыгар': 0.00011446429841189458,\n",
       "             'аар': 0.00011359714463604689,\n",
       "             'бытыттан': 0.00011359714463604689,\n",
       "             'ытыкка': 0.00011359714463604689,\n",
       "             'лык': 0.00011359714463604689,\n",
       "             'тыбакка': 0.0001127299908601992,\n",
       "             'тыбыттар': 0.0001127299908601992,\n",
       "             'маҕы': 0.0001127299908601992,\n",
       "             'ымньыларыгар': 0.0001127299908601992,\n",
       "             'аарыахтаахпыт': 0.0001127299908601992,\n",
       "             'аарынан': 0.0001127299908601992,\n",
       "             'анныы': 0.00011186283708435152,\n",
       "             'тыыската': 0.00011186283708435152,\n",
       "             'ыаллаан': 0.00011186283708435152,\n",
       "             'астаһыыта': 0.00011186283708435152,\n",
       "             'тыбытыттан': 0.00011099568330850383,\n",
       "             'таан': 0.00011099568330850383,\n",
       "             'анныырга': 0.00011099568330850383,\n",
       "             'ыылаахтарынан': 0.00011012852953265614,\n",
       "             'ыппыта': 0.00011012852953265614,\n",
       "             'маабыт': 0.00011012852953265614,\n",
       "             'ыылыырга': 0.00010926137575680846,\n",
       "             'аарыммыт': 0.00010926137575680846,\n",
       "             'ырдьаттан': 0.00010926137575680846,\n",
       "             'ыаттара': 0.00010839422198096077,\n",
       "             'сыбыта': 0.00010839422198096077,\n",
       "             'ахсаллар': 0.00010839422198096077,\n",
       "             'дын': 0.00010752706820511308,\n",
       "             'талларын': 0.00010752706820511308,\n",
       "             'ыллыытын': 0.00010752706820511308,\n",
       "             'ааны': 0.0001066599144292654,\n",
       "             'ыахтар': 0.0001066599144292654,\n",
       "             'ахпар': 0.0001066599144292654,\n",
       "             'тарбыта': 0.0001066599144292654,\n",
       "             'ымньылары': 0.0001066599144292654,\n",
       "             'битражнай': 0.0001066599144292654,\n",
       "             'тыыстары': 0.0001066599144292654,\n",
       "             'батаҕым': 0.00010579276065341771,\n",
       "             'ыгытыгар': 0.00010579276065341771,\n",
       "             'тыылара': 0.00010579276065341771,\n",
       "             'ылҕабытын': 0.00010579276065341771,\n",
       "             'аарбытым': 0.00010579276065341771,\n",
       "             'ыахтыыр': 0.00010579276065341771,\n",
       "             'ыыбын': 0.00010492560687757002,\n",
       "             'тыа': 0.00010492560687757002,\n",
       "             'ыныахха': 0.00010492560687757002,\n",
       "             'олеттар': 0.00010492560687757002,\n",
       "             'аннарын': 0.00010492560687757002,\n",
       "             'малҕан': 0.00010492560687757002,\n",
       "             'аардым': 0.00010492560687757002,\n",
       "             'летика': 0.00010492560687757002,\n",
       "             'ылааны': 0.00010405845310172235,\n",
       "             'ье': 0.00010405845310172235,\n",
       "             'аарыынан': 0.00010405845310172235,\n",
       "             'аарынар': 0.00010405845310172235,\n",
       "             'аайынынан': 0.00010319129932587466,\n",
       "             'ыытынааҕы': 0.00010319129932587466,\n",
       "             'аарсыы': 0.00010319129932587466,\n",
       "             'аргар': 0.00010232414555002696,\n",
       "             'таары': 0.00010232414555002696,\n",
       "             'ыллыбыттарын': 0.00010232414555002696,\n",
       "             'ыллыытыгар': 0.00010232414555002696,\n",
       "             'тыыстарын': 0.00010232414555002696,\n",
       "             'ымтан': 0.00010232414555002696,\n",
       "             'ыйбыта': 0.00010145699177417929,\n",
       "             'батылар': 0.00010145699177417929,\n",
       "             'ыстан': 0.00010145699177417929,\n",
       "             'ахтарынан': 0.00010145699177417929,\n",
       "             'аадьыйанан': 0.00010145699177417929,\n",
       "             'ыгылыыр': 0.00010145699177417929,\n",
       "             'ам': 0.0001005898379983316,\n",
       "             'ардыы': 0.0001005898379983316,\n",
       "             'аата': 9.97226842224839e-05,\n",
       "             'аларын': 9.97226842224839e-05,\n",
       "             'арар': 9.97226842224839e-05,\n",
       "             'олету': 9.97226842224839e-05,\n",
       "             'ааҕар': 9.97226842224839e-05,\n",
       "             'манан': 9.97226842224839e-05,\n",
       "             'ымньытыгар': 9.97226842224839e-05,\n",
       "             'баммыт': 9.97226842224839e-05,\n",
       "             'ыычча': 9.97226842224839e-05,\n",
       "             'ааччылартан': 9.885553044663623e-05,\n",
       "             'ыаххытын': 9.885553044663623e-05,\n",
       "             'ааһынын': 9.885553044663623e-05,\n",
       "             'алдьытар': 9.885553044663623e-05,\n",
       "             'аныыссатын': 9.885553044663623e-05,\n",
       "             'дахпытына': 9.798837667078854e-05,\n",
       "             'ытыытыгар': 9.798837667078854e-05,\n",
       "             'аарыллыбатах': 9.798837667078854e-05,\n",
       "             'ааһынай': 9.798837667078854e-05,\n",
       "             'дьаҕаһа': 9.798837667078854e-05,\n",
       "             'ыыты': 9.712122289494085e-05,\n",
       "             'ыннарарга': 9.712122289494085e-05,\n",
       "             'дата': 9.712122289494085e-05,\n",
       "             'датта': 9.712122289494085e-05,\n",
       "             'махтар': 9.712122289494085e-05,\n",
       "             'ахсыбыт': 9.712122289494085e-05,\n",
       "             'ыылааһыны': 9.712122289494085e-05,\n",
       "             'ылларынан': 9.625406911909317e-05,\n",
       "             'ыллыбытынан': 9.625406911909317e-05,\n",
       "             'аммат': 9.538691534324548e-05,\n",
       "             'ыбаттар': 9.538691534324548e-05,\n",
       "             'аарыаҕа': 9.538691534324548e-05,\n",
       "             'ыйдылар': 9.538691534324548e-05,\n",
       "             'аайынын': 9.451976156739779e-05,\n",
       "             'ааччыттан': 9.451976156739779e-05,\n",
       "             'тыспыт': 9.451976156739779e-05,\n",
       "             'банан': 9.451976156739779e-05,\n",
       "             'ымтыалаах': 9.451976156739779e-05,\n",
       "             'астаһар': 9.451976156739779e-05,\n",
       "             'ласова': 9.451976156739779e-05,\n",
       "             'аһа': 9.365260779155011e-05,\n",
       "             'алара': 9.365260779155011e-05,\n",
       "             'аарыллыбат': 9.365260779155011e-05,\n",
       "             'аарыыларын': 9.365260779155011e-05,\n",
       "             'ырдьаны': 9.365260779155011e-05,\n",
       "             'ыга': 9.278545401570242e-05,\n",
       "             'тарыгар': 9.278545401570242e-05,\n",
       "             'дыгын': 9.278545401570242e-05,\n",
       "             'ыталаһар': 9.278545401570242e-05,\n",
       "             'дьыктаахтык': 9.278545401570242e-05,\n",
       "             'дахпына': 9.191830023985473e-05,\n",
       "             'ыахтаахпын': 9.191830023985473e-05,\n",
       "             'тааччылары': 9.191830023985473e-05,\n",
       "             'ыллыахтаахтар': 9.191830023985473e-05,\n",
       "             'ыыламмыт': 9.191830023985473e-05,\n",
       "             'ытынан': 9.105114646400705e-05,\n",
       "             'тааччылара': 9.105114646400705e-05,\n",
       "             'ыныа': 9.105114646400705e-05,\n",
       "             'ыттахпыт': 9.105114646400705e-05,\n",
       "             'тарбакка': 9.105114646400705e-05,\n",
       "             'лыыллар': 9.105114646400705e-05,\n",
       "             'аастаһыыта': 9.105114646400705e-05,\n",
       "             'ыылааччы': 9.105114646400705e-05,\n",
       "             'гыттарым': 9.105114646400705e-05,\n",
       "             'аарыныыны': 9.105114646400705e-05,\n",
       "             'халга': 9.018399268815936e-05,\n",
       "             'гунова': 9.018399268815936e-05,\n",
       "             'ачааннар': 9.018399268815936e-05,\n",
       "             'ырҕатар': 8.931683891231167e-05,\n",
       "             'таҕына': 8.931683891231167e-05,\n",
       "             'быыр': 8.931683891231167e-05,\n",
       "             'ыгылаах': 8.931683891231167e-05,\n",
       "             'аарыылара': 8.931683891231167e-05,\n",
       "             'ыахтарга': 8.931683891231167e-05,\n",
       "             'аайыннара': 8.8449685136464e-05,\n",
       "             'ыахтарыгар': 8.8449685136464e-05,\n",
       "             'ыыбытыгар': 8.8449685136464e-05,\n",
       "             'тыыларын': 8.8449685136464e-05,\n",
       "             'лыктарын': 8.8449685136464e-05,\n",
       "             'ынабыт': 8.8449685136464e-05,\n",
       "             'аарыллара': 8.8449685136464e-05,\n",
       "             'аарыстылар': 8.75825313606163e-05,\n",
       "             'астастылар': 8.75825313606163e-05,\n",
       "             'аарыммыттар': 8.75825313606163e-05,\n",
       "             'арбытын': 8.671537758476861e-05,\n",
       "             'сарга': 8.671537758476861e-05,\n",
       "             'ааһыны': 8.671537758476861e-05,\n",
       "             'махтарбыт': 8.671537758476861e-05,\n",
       "             'ымньытынан': 8.671537758476861e-05,\n",
       "             'ктикатааҕы': 8.671537758476861e-05,\n",
       "             'ыстыбыт': 8.584822380892094e-05,\n",
       "             'ыыбар': 8.584822380892094e-05,\n",
       "             'ыыҥ': 8.584822380892094e-05,\n",
       "             'алларый': 8.584822380892094e-05,\n",
       "             'табыт': 8.584822380892094e-05,\n",
       "             'тыаҕа': 8.584822380892094e-05,\n",
       "             'ыллыаҕыттан': 8.584822380892094e-05,\n",
       "             'дьаана': 8.584822380892094e-05,\n",
       "             'тал': 8.584822380892094e-05,\n",
       "             'ыылаһалларыгар': 8.584822380892094e-05,\n",
       "             'дьаҕастарын': 8.584822380892094e-05,\n",
       "             'ыллыбата': 8.498107003307324e-05,\n",
       "             'аттаан': 8.498107003307324e-05,\n",
       "             'ылҕалыын': 8.498107003307324e-05,\n",
       "             'аастаһар': 8.498107003307324e-05,\n",
       "             'мяннар': 8.498107003307324e-05,\n",
       "             'аҕаһа': 8.498107003307324e-05,\n",
       "             'ыаҕай': 8.411391625722555e-05,\n",
       "             'бытыҥ': 8.411391625722555e-05,\n",
       "             'ыахтыы': 8.411391625722555e-05,\n",
       "             'ааччыларбытын': 8.411391625722555e-05,\n",
       "             'айын': 8.411391625722555e-05,\n",
       "             'талларыгар': 8.411391625722555e-05,\n",
       "             'ыппыттарыгар': 8.411391625722555e-05,\n",
       "             'ыыһыта': 8.411391625722555e-05,\n",
       "             'гызтар': 8.411391625722555e-05,\n",
       "             'ыыра': 8.324676248137788e-05,\n",
       "             'аатыҥ': 8.324676248137788e-05,\n",
       "             'аатар': 8.324676248137788e-05,\n",
       "             'ыылааҕар': 8.324676248137788e-05,\n",
       "             'ыталастылар': 8.324676248137788e-05,\n",
       "             'аарары': 8.324676248137788e-05,\n",
       "             'дахтар': 8.324676248137788e-05,\n",
       "             'ыылаһыахха': 8.324676248137788e-05,\n",
       "             'асаабысса': 8.324676248137788e-05,\n",
       "             'быппын': 8.237960870553019e-05,\n",
       "             'тыбыттарын': 8.237960870553019e-05,\n",
       "             'ыттаххына': 8.237960870553019e-05,\n",
       "             'махтыы': 8.237960870553019e-05,\n",
       "             'ааралларын': 8.237960870553019e-05,\n",
       "             'аарбыттарын': 8.237960870553019e-05,\n",
       "             'баабыт': 8.237960870553019e-05,\n",
       "             'ыгылыы': 8.237960870553019e-05,\n",
       "             'аайа': 8.15124549296825e-05,\n",
       "             'махтарым': 8.15124549296825e-05,\n",
       "             'аартарбыт': 8.15124549296825e-05,\n",
       "             'ахсыспат': 8.15124549296825e-05,\n",
       "             'гыһын': 8.15124549296825e-05,\n",
       "             'ымы': 8.15124549296825e-05,\n",
       "             'батым': 8.064530115383482e-05,\n",
       "             'ыллыах': 8.064530115383482e-05,\n",
       "             'ытыыбар': 8.064530115383482e-05,\n",
       "             'гыстаһан': 8.064530115383482e-05,\n",
       "             'ахаттарын': 8.064530115383482e-05,\n",
       "             'ылааннар': 8.064530115383482e-05,\n",
       "             'аайыттар': 7.977814737798713e-05,\n",
       "             'ыыһы': 7.977814737798713e-05,\n",
       "             ...})"
      ]
     },
     "execution_count": 66,
     "metadata": {},
     "output_type": "execute_result"
    }
   ],
   "source": [
    "osn1=None\n",
    "freq_ost=defaultdict(int) #вероятность аффикса\n",
    "for o,freq in ostat:\n",
    "    #if o==\"\":\n",
    "    #    for word in osn1:\n",
    "       #     if word in voc:\n",
    "       #         bases[word]+=voc[word]\n",
    "    freq_ost[o]=freq/sum\n",
    "freq_ost"
   ]
  },
  {
   "cell_type": "code",
   "execution_count": 50,
   "metadata": {},
   "outputs": [
    {
     "name": "stdout",
     "output_type": "stream",
     "text": [
      "dict_items([('н', 0.07183703410321932), ('а', 0.13174638100795355), ('у', 0.048080219156342266), ('р', 0.06989005476760542), ('о', 0.04801633649290444), ('х', 0.02339806092203487), ('з', 0.0010814244298294276), ('ы', 0.05657750345483212), ('һ', 0.014591426932325664), ('т', 0.07463523242460413), ('ү', 0.021679388233126696), ('ҕ', 0.009494722547908823), ('ө', 0.014681026432410297), ('п', 0.010853478198596236), ('к', 0.034080647358880285), ('л', 0.052736912856701096), ('б', 0.034434227160936116), ('э', 0.06769593508904286), ('и', 0.06497202721408583), ('ч', 0.007563265880653964), ('м', 0.01581070404996742), ('ҥ', 0.005815897616751798), ('е', 0.009240485449854108), ('й', 0.015624645644361213), ('в', 0.0050722098985658895), ('ш', 0.00040680546535114346), ('с', 0.038541598787133695), ('ю', 0.0003442400925768143), ('ь', 0.008063658320530593), ('д', 0.02255300116017705), ('г', 0.015569841605766402), ('я', 0.001975140873852413), ('ъ', 8.021232067179261e-05), ('ц', 0.001173124474485581), ('ф', 0.0010550074116587795), ('ж', 0.00044978949042485743), ('щ', 0.0001589293384282655), ('ё', 1.9403335448791374e-05)])\n"
     ]
    },
    {
     "data": {
      "text/plain": [
       "0.009464269265444084"
      ]
     },
     "execution_count": 50,
     "metadata": {},
     "output_type": "execute_result"
    }
   ],
   "source": [
    "prob = json.load(open(\"prob.json\", encoding=\"utf-8\"))\n",
    "print(prob.items())\n",
    "prob['н']*prob['а']"
   ]
  },
  {
   "cell_type": "code",
   "execution_count": 51,
   "metadata": {},
   "outputs": [
    {
     "data": {
      "text/plain": [
       "'ан'"
      ]
     },
     "execution_count": 51,
     "metadata": {},
     "output_type": "execute_result"
    }
   ],
   "source": [
    "max_freq_aff=list(freq_ost.items())[0][0]\n",
    "max_freq_aff"
   ]
  },
  {
   "cell_type": "code",
   "execution_count": 49,
   "metadata": {},
   "outputs": [
    {
     "data": {
      "text/plain": [
       "0.009464269265444084"
      ]
     },
     "execution_count": 49,
     "metadata": {},
     "output_type": "execute_result"
    }
   ],
   "source": [
    "nezav_ver=1#незав вероятность символов аффикса с макс незав вероятностью\n",
    "for i in range(0,len(max_freq_aff)):\n",
    "    nezav_ver*=prob[max_freq_aff[i]]\n",
    "nezav_ver"
   ]
  },
  {
   "cell_type": "code",
   "execution_count": 14,
   "metadata": {
    "colab": {
     "autoexec": {
      "startup": false,
      "wait_interval": 0
     }
    },
    "colab_type": "code",
    "id": "7mhU5gfZeJ17"
   },
   "outputs": [],
   "source": [
    "ostat = defaultdict(int)\n",
    "for b in bases:\n",
    "    for w,n in voc.items():\n",
    "            if not w.startswith(b):\n",
    "                continue\n",
    "            ostat[w[len(b):]]+=n#было длина + 1"
   ]
  },
  {
   "cell_type": "code",
   "execution_count": 0,
   "metadata": {
    "colab": {
     "autoexec": {
      "startup": false,
      "wait_interval": 0
     }
    },
    "colab_type": "code",
    "id": "c7-lI-8TeJ2G"
   },
   "outputs": [],
   "source": [
    "bases_with_ostat=defaultdict(int)\n",
    "for w,n in voc.items():\n",
    "            if not w.endswith('нан'):\n",
    "                continue\n",
    "            bases_with_ostat[w]+=n"
   ]
  },
  {
   "cell_type": "code",
   "execution_count": 0,
   "metadata": {
    "colab": {
     "autoexec": {
      "startup": false,
      "wait_interval": 0
     }
    },
    "colab_type": "code",
    "id": "UbTOcQPJeJ2u",
    "outputId": "a9032a70-9312-43a5-8e30-7dd2be031564"
   },
   "outputs": [
    {
     "ename": "KeyError",
     "evalue": "'ааныыга'",
     "output_type": "error",
     "traceback": [
      "\u001b[1;31m---------------------------------------------------------------------------\u001b[0m",
      "\u001b[1;31mKeyError\u001b[0m                                  Traceback (most recent call last)",
      "\u001b[1;32m<ipython-input-41-2d034f928212>\u001b[0m in \u001b[0;36m<module>\u001b[1;34m()\u001b[0m\n\u001b[0;32m      2\u001b[0m \u001b[0mbases_with_ostat\u001b[0m \u001b[1;33m=\u001b[0m \u001b[0mdefaultdict\u001b[0m\u001b[1;33m(\u001b[0m\u001b[0mint\u001b[0m\u001b[1;33m)\u001b[0m\u001b[1;33m\u001b[0m\u001b[0m\n\u001b[0;32m      3\u001b[0m \u001b[1;32mfor\u001b[0m \u001b[0mo\u001b[0m \u001b[1;32min\u001b[0m \u001b[0mostat\u001b[0m\u001b[1;33m:\u001b[0m\u001b[1;33m\u001b[0m\u001b[0m\n\u001b[1;32m----> 4\u001b[1;33m     \u001b[1;32mfor\u001b[0m \u001b[0mw\u001b[0m\u001b[1;33m,\u001b[0m\u001b[0mn\u001b[0m \u001b[1;32min\u001b[0m \u001b[0mtrie\u001b[0m\u001b[1;33m[\u001b[0m\u001b[0mo\u001b[0m\u001b[1;33m]\u001b[0m\u001b[1;33m:\u001b[0m\u001b[1;33m\u001b[0m\u001b[0m\n\u001b[0m\u001b[0;32m      5\u001b[0m             \u001b[1;32mif\u001b[0m \u001b[1;32mnot\u001b[0m \u001b[0mw\u001b[0m\u001b[1;33m.\u001b[0m\u001b[0mendswith\u001b[0m\u001b[1;33m(\u001b[0m\u001b[1;34m'нан'\u001b[0m\u001b[1;33m)\u001b[0m\u001b[1;33m:\u001b[0m\u001b[1;33m\u001b[0m\u001b[0m\n\u001b[0;32m      6\u001b[0m                 \u001b[1;32mcontinue\u001b[0m\u001b[1;33m\u001b[0m\u001b[0m\n",
      "\u001b[1;31mKeyError\u001b[0m: 'ааныыга'"
     ]
    }
   ],
   "source": [
    "sum=defaultdict(int)#число основ с этим остатком\n",
    "bases_with_ostat = defaultdict(int)\n",
    "for o in ostat:\n",
    "    for w,n in trie[o]:\n",
    "            if not w.endswith('нан'):\n",
    "                continue\n",
    "            bases_with_ostat[w]+=n\n",
    "            sum['нан']+=n\n",
    "sum"
   ]
  },
  {
   "cell_type": "code",
   "execution_count": 0,
   "metadata": {
    "colab": {
     "autoexec": {
      "startup": false,
      "wait_interval": 0
     }
    },
    "colab_type": "code",
    "id": "Q0EB3obfeJ3O",
    "outputId": "315fa742-23af-4599-cdaf-1c753e7a1df5"
   },
   "outputs": [
    {
     "data": {
      "text/plain": [
       "defaultdict(int, {'нан': 226046})"
      ]
     },
     "execution_count": 19,
     "metadata": {
      "tags": []
     },
     "output_type": "execute_result"
    }
   ],
   "source": [
    "sum=defaultdict(int)#число основ с этим остатком\n",
    "bases_with_ostat = defaultdict(int)\n",
    "#for o in ostat:\n",
    "for w,n in voc.items():\n",
    "            if not w.endswith('нан'):\n",
    "                continue\n",
    "            bases_with_ostat[w]+=n\n",
    "            sum['нан']+=n\n",
    "sum"
   ]
  },
  {
   "cell_type": "markdown",
   "metadata": {
    "colab_type": "text",
    "id": "ScNTG3aAeJ3c"
   },
   "source": [
    "#### число основ с данными окончаниями"
   ]
  },
  {
   "cell_type": "code",
   "execution_count": 0,
   "metadata": {
    "colab": {
     "autoexec": {
      "startup": false,
      "wait_interval": 0
     }
    },
    "colab_type": "code",
    "id": "sqNrWHEZeJ3f"
   },
   "outputs": [],
   "source": [
    "def osnova(a):\n",
    "    current_node = trie\n",
    "    for char in a[::-1]:\n",
    "        current_node = current_node[char]\n",
    "    return current_node"
   ]
  },
  {
   "cell_type": "code",
   "execution_count": 0,
   "metadata": {
    "colab": {
     "autoexec": {
      "startup": false,
      "wait_interval": 0
     }
    },
    "colab_type": "code",
    "id": "bTJ7oDXTeJ3n",
    "outputId": "f103aa6c-8daf-4c06-f63c-f96e198d330d"
   },
   "outputs": [
    {
     "data": {
      "text/plain": [
       "{'n': 4,\n",
       " 'с': {'#': 1, 'n': 1},\n",
       " 'һ': {'n': 3, 'а': {'n': 3, 'х': {'#': 3, 'n': 3}}}}"
      ]
     },
     "execution_count": 37,
     "metadata": {
      "tags": []
     },
     "output_type": "execute_result"
    }
   ],
   "source": [
    "osnova('ааныыга')#число основ с окончанием ааныыга"
   ]
  },
  {
   "cell_type": "code",
   "execution_count": 0,
   "metadata": {
    "colab": {
     "autoexec": {
      "startup": false,
      "wait_interval": 0
     }
    },
    "colab_type": "code",
    "id": "rs1avSJ4eJ3z",
    "outputId": "612fbcc2-f47c-4ac7-a1f7-a180566dfd6c"
   },
   "outputs": [
    {
     "data": {
      "text/plain": [
       "defaultdict(int,\n",
       "            {'ааныыга': 4,\n",
       "             'ыллыбыт': 10760,\n",
       "             'аайыстыбалааҕын': 1,\n",
       "             'ааныма': 3,\n",
       "             'ыытастыбыт': 2,\n",
       "             'аайыным': 7,\n",
       "             'ыытынан': 17491,\n",
       "             'аайкатабын': 2,\n",
       "             'аахха': 11441,\n",
       "             'аахтара': 3529,\n",
       "             'ыаттанар': 5,\n",
       "             'ыҥ': 15046,\n",
       "             'ааммыттарын': 5,\n",
       "             'ыытаатахха': 1,\n",
       "             'ааҥ': 1100,\n",
       "             'ааҥҥадиэри': 1,\n",
       "             'аанарбыт': 1,\n",
       "             'аайыннаммыккыт': 1,\n",
       "             'ыспаппын': 36,\n",
       "             'аайыммытын': 3,\n",
       "             'ыйаан': 1060,\n",
       "             'ыаттарга': 425,\n",
       "             'аҕын': 21882,\n",
       "             'аайыный': 1,\n",
       "             'ыыталастылар': 1,\n",
       "             'ыытаатахпына': 1,\n",
       "             'аайыстыбалааххын': 1,\n",
       "             'аайыстыбалартан': 46,\n",
       "             'аайыннаахтарын': 1,\n",
       "             'ааттарын': 1551,\n",
       "             'аага': 67,\n",
       "             'аайынныыллара': 1,\n",
       "             'аайыстыбаннайа': 11,\n",
       "             'ыыбытын': 192,\n",
       "             'аайкаларын': 9,\n",
       "             'ытыгар': 22570,\n",
       "             'аанан': 1298,\n",
       "             'аарыма': 536,\n",
       "             'ыытаатаҕым': 1,\n",
       "             'аанаҕыт': 1,\n",
       "             'аактарыттан': 5,\n",
       "             'ыатай': 3,\n",
       "             'аайыстыбалаахтар': 42,\n",
       "             'ыытаатыбыт': 3,\n",
       "             'ыйылынна': 150,\n",
       "             'ыаларый': 2,\n",
       "             'ыллыбыта': 3478,\n",
       "             'ыҥырыыр': 14,\n",
       "             'аанабыт': 20,\n",
       "             'аайыннаан': 10,\n",
       "             'аайыстыбыннай': 2,\n",
       "             'аанаҕын': 85,\n",
       "             'ааскын': 102,\n",
       "             'ыылардаах': 102,\n",
       "             'ыытаппытынан': 26,\n",
       "             'аайыннаах': 47,\n",
       "             'ыҥыраатын': 1,\n",
       "             'аайынныыбын': 1,\n",
       "             'аннар': 6596,\n",
       "             'ыытаһаллар': 13,\n",
       "             'ыаккын': 8,\n",
       "             'аактарбыт': 1,\n",
       "             'аайыстыбат': 1,\n",
       "             'айыстыбаны': 274,\n",
       "             'аайыныҥ': 3,\n",
       "             'ыҥыраһа': 1,\n",
       "             'ыйбахтаан': 13,\n",
       "             'ыахтаахтар': 2255,\n",
       "             'аайыстыбаҕар': 1,\n",
       "             'ыытыыр': 165,\n",
       "             'ыылартан': 309,\n",
       "             'ыам': 5156,\n",
       "             'ыспытынан': 43,\n",
       "             'аа': 22474,\n",
       "             'аайыннара': 103,\n",
       "             'аайыннаабата': 1,\n",
       "             'ы': 524850,\n",
       "             'аайыннарыгар': 13,\n",
       "             'ааспытыгар': 154,\n",
       "             'аайыстыбалардаах': 1,\n",
       "             'ымардаах': 2,\n",
       "             'ааларын': 2479,\n",
       "             'ыыстастылар': 1,\n",
       "             'ыытаабыппыт': 3,\n",
       "             'аатыгар': 2771,\n",
       "             'аайыннарым': 2,\n",
       "             'аайыстыба': 1867,\n",
       "             'ааммытыҥ': 1,\n",
       "             'ыаҥка': 12,\n",
       "             'аайкатын': 28,\n",
       "             'аайыстыбатыгар': 1306,\n",
       "             'ыытаһабыт': 1,\n",
       "             'аарымалара': 9,\n",
       "             'ыллыы': 1273,\n",
       "             'ыстахха': 227,\n",
       "             'ааналлара': 14,\n",
       "             'аммын': 1691,\n",
       "             'ыстахпытына': 51,\n",
       "             'ыллан': 7380,\n",
       "             'ааҥҥыттан': 247,\n",
       "             'аайкатыгар': 14,\n",
       "             'ыаттыын': 2,\n",
       "             'аата': 21111,\n",
       "             'аактартан': 2,\n",
       "             'аайыстыбалааҕа': 3,\n",
       "             'ыс': 18627,\n",
       "             'аайыстыбатын': 6778,\n",
       "             'атын': 94831,\n",
       "             'ааайынабын': 2,\n",
       "             'ааһыттан': 845,\n",
       "             'ааска': 5702,\n",
       "             'ыаппыттан': 1,\n",
       "             'ыспыппар': 4,\n",
       "             'аайын': 2187,\n",
       "             'ыытыа': 87,\n",
       "             'аактыы': 3,\n",
       "             'аахтыы': 251,\n",
       "             'аайыстыбаттан': 47,\n",
       "             'аайыстыбабын': 8,\n",
       "             'ыытатар': 1,\n",
       "             'ыҥнар': 336,\n",
       "             'аайыстаба': 1,\n",
       "             'арын': 121046,\n",
       "             'ыытыгар': 7891,\n",
       "             'ыылаах': 14880,\n",
       "             'һан': 24992,\n",
       "             'аайыннаабыта': 1,\n",
       "             'ааныаҕыҥ': 1,\n",
       "             'аайыстыбаларыгар': 150,\n",
       "             'ытыы': 5547,\n",
       "             'ыытаспыттара': 7,\n",
       "             'ыҥырыырын': 2,\n",
       "             'ый': 20073,\n",
       "             'аайыстыбабытыттан': 1,\n",
       "             'аайыннанна': 3,\n",
       "             'ыыларбытыгар': 39,\n",
       "             'ааччыйатааҕы': 2,\n",
       "             'аайыннарга': 4,\n",
       "             'ааҥы': 1671,\n",
       "             'һаайыттарым': 2,\n",
       "             'аанарга': 19,\n",
       "             'ыытыы': 1100,\n",
       "             'ааҥҥа': 3918,\n",
       "             'ыаккытынаан': 1,\n",
       "             'алаахтары': 141,\n",
       "             'ыаннай': 2250,\n",
       "             'ылыччы': 422,\n",
       "             'аастаахтан': 2,\n",
       "             'ыспатаҕа': 42,\n",
       "             'аайыстабынньык': 1,\n",
       "             'ааммытын': 211,\n",
       "             'ыҥҥа': 5541,\n",
       "             'ыспатаҕына': 3,\n",
       "             'аайыстыбанньык': 46,\n",
       "             'аайыннааһынынан': 1,\n",
       "             'ыытыахча': 1,\n",
       "             'аачыйаҕа': 12,\n",
       "             'ыалар': 253,\n",
       "             'арга': 63482,\n",
       "             'һыаттарынан': 25,\n",
       "             'ыытаата': 42,\n",
       "             'аайыннарын': 39,\n",
       "             'аайыттары': 8,\n",
       "             'ыытыырыттан': 5,\n",
       "             'ыаттаныы': 1,\n",
       "             'абыт': 31997,\n",
       "             'ыытааппын': 3,\n",
       "             'аарыманы': 5,\n",
       "             'ынан': 128013,\n",
       "             'ааччылар': 7079,\n",
       "             'ыаппар': 36,\n",
       "             'аайкалаахтар': 1,\n",
       "             'ыыга': 22559,\n",
       "             'ыытаабыта': 22,\n",
       "             'аайыннаныаҕыттан': 2,\n",
       "             'ыатчыттарыттан': 1,\n",
       "             'аайыттартан': 6,\n",
       "             'ыаттаһан': 2,\n",
       "             'ыллыахтаах': 2154,\n",
       "             'ыы': 94805,\n",
       "             'алааҕын': 1339,\n",
       "             'ыытаабаттар': 3,\n",
       "             'аайыстыбаҕөа': 1,\n",
       "             'аахтарыттан': 181,\n",
       "             'ыйыа': 504,\n",
       "             'ыаттарыҥ': 1,\n",
       "             'ыытыыгын': 3,\n",
       "             'аайыннаныан': 1,\n",
       "             'аайыстыбаламмытыгар': 1,\n",
       "             'ааныахпыт': 2,\n",
       "             'аайкабын': 5,\n",
       "             'аарымаҕар': 1,\n",
       "             'ааҕа': 10077,\n",
       "             'ааныллыан': 1,\n",
       "             'ыйталаан': 102,\n",
       "             'ыытылларыттан': 17,\n",
       "             'аайыс': 137,\n",
       "             'аайыстыбаларбыт': 25,\n",
       "             'ааммыт': 691,\n",
       "             'ыаттардаах': 2,\n",
       "             'ыйда': 2109,\n",
       "             'ыҥырайан': 1,\n",
       "             'ааныы': 59,\n",
       "             'аайыстабаларын': 1,\n",
       "             'ыытыахха': 308,\n",
       "             'ыытаабытыгар': 10,\n",
       "             'ыытаатым': 13,\n",
       "             'аайкаларга': 9,\n",
       "             'ыыты': 128,\n",
       "             'ыаттары': 162,\n",
       "             'аарымабыт': 1,\n",
       "             'ааҕыттан': 567,\n",
       "             'ыаппын': 13,\n",
       "             'аайыттарга': 7,\n",
       "             'ыҥы': 301,\n",
       "             'ааччыйаттан': 16,\n",
       "             'ыыны': 12053,\n",
       "             'ыспахтаата': 1,\n",
       "             'ыҥыраабытынан': 6,\n",
       "             'алаах': 30883,\n",
       "             'ыйбыта': 777,\n",
       "             'ыаттарбын': 1,\n",
       "             'ыатчыттарбыт': 1,\n",
       "             'ыаппытын': 79,\n",
       "             'ыаттаабыттар': 1,\n",
       "             'аайыннарыҥ': 1,\n",
       "             'ыытын': 9273,\n",
       "             'аарымабытын': 2,\n",
       "             'ыаттаабыккыт': 1,\n",
       "             'ар': 784102,\n",
       "             'аайыстыбатан': 2,\n",
       "             'аанары': 7,\n",
       "             'ыытааһынын': 1,\n",
       "             'аамматах': 5,\n",
       "             'ыспыппыт': 99,\n",
       "             'ыытаар': 7,\n",
       "             'ыытаабатаҕа': 1,\n",
       "             'ыанай': 1,\n",
       "             'аарымаларынан': 2,\n",
       "             'ыспытыгар': 75,\n",
       "             'ыытыырбыт': 2,\n",
       "             'аарыматыгар': 5,\n",
       "             'ыакка': 2683,\n",
       "             'аастарын': 1704,\n",
       "             'аайынтан': 16,\n",
       "             'аайыстыбытын': 3,\n",
       "             'ыыҥ': 153,\n",
       "             'аайыстабытын': 2,\n",
       "             'ыспатахха': 3,\n",
       "             'аайыттарын': 17,\n",
       "             'ыспыта': 442,\n",
       "             'аанабын': 10,\n",
       "             'ыаттаргытыгар': 1,\n",
       "             'ын': 462367,\n",
       "             'аарымаҕа': 21,\n",
       "             'алаахтар': 1867,\n",
       "             'аайыстыбаннй': 1,\n",
       "             'аанылынна': 3,\n",
       "             'ыытаатылар': 9,\n",
       "             'ыйаат': 45,\n",
       "             'ыытаспытын': 1,\n",
       "             'айыстыбатыгар': 1307,\n",
       "             'ыат': 5203,\n",
       "             'ыйыллар': 287,\n",
       "             'ыахтааҕа': 652,\n",
       "             'ыытаспыппытын': 1,\n",
       "             'аайыстыбаҕын': 4,\n",
       "             'аастаахха': 25,\n",
       "             'ыытаабыт': 50,\n",
       "             'ааныллыбатах': 1,\n",
       "             'аайканый': 1,\n",
       "             'ыытаспытынан': 12,\n",
       "             'ыытаһалларыгар': 1,\n",
       "             'ыаттаах': 194,\n",
       "             'ааларыгар': 579,\n",
       "             'аалар': 3510,\n",
       "             'ыытаталыахпын': 1,\n",
       "             'ыытыахпын': 28,\n",
       "             'аайыннанар': 2,\n",
       "             'ыйар': 6657,\n",
       "             'ыытаабытынан': 47,\n",
       "             'аахтарыгар': 591,\n",
       "             'ыыгыт': 282,\n",
       "             'аанааччылар': 1,\n",
       "             'ыытаспыт': 1,\n",
       "             'ыытыырый': 1,\n",
       "             'ыыран': 306,\n",
       "             'ыллыыта': 619,\n",
       "             'аанаргытыгар': 1,\n",
       "             'ытыахча': 21,\n",
       "             'ыытааһыҥҥа': 2,\n",
       "             'ыытыырбын': 3,\n",
       "             'ыытааччылар': 115,\n",
       "             'аайыстыбалаахтан': 1,\n",
       "             'аайканан': 15,\n",
       "             'ыаттар': 536,\n",
       "             'ыытаабыппар': 3,\n",
       "             'аайынынын': 1,\n",
       "             'ыырар': 182,\n",
       "             'аайкатынан': 18,\n",
       "             'арбыт': 18716,\n",
       "             'ыаттаһыылаах': 1,\n",
       "             'ааттан': 862,\n",
       "             'аайстыбатын': 2,\n",
       "             'аайкатыттан': 6,\n",
       "             'ыатыгар': 598,\n",
       "             'ыйбахтаабытыгар': 1,\n",
       "             'аайыстыбытан': 1,\n",
       "             'ыннахха': 296,\n",
       "             'аайыстыбанньыга': 1,\n",
       "             'ааныллар': 11,\n",
       "             'аачыйатыгар': 2,\n",
       "             'анын': 6844,\n",
       "             'аайкаттан': 9,\n",
       "             'аайыстыбаланан': 9,\n",
       "             'ыытаабыппын': 8,\n",
       "             'аламмыт': 1498,\n",
       "             'аайыннаныар': 1,\n",
       "             'ыҥныыр': 63,\n",
       "             'ыйдыҥ': 52,\n",
       "             'ааныаҥый': 1,\n",
       "             'аайыстабатын': 1,\n",
       "             'аайкаҥ': 2,\n",
       "             'ыҥыраан': 31,\n",
       "             'ыаттара': 146,\n",
       "             'ыыларынан': 588,\n",
       "             'ааммыта': 19,\n",
       "             'ыатабын': 1,\n",
       "             'ыаттааххыт': 1,\n",
       "             'ааннахха': 1,\n",
       "             'ыаттаспатах': 1,\n",
       "             'арыгар': 48372,\n",
       "             'аайкаларыгар': 6,\n",
       "             'ам': 17541,\n",
       "             'аланар': 2631,\n",
       "             'ыаттанарга': 2,\n",
       "             'һыат': 4965,\n",
       "             'ыаттыахха': 1,\n",
       "             'ааһын': 16305,\n",
       "             'атыгар': 29433,\n",
       "             'ыытаамахтаата': 2,\n",
       "             'аайыстыбытыгар': 1,\n",
       "             'ааннаҕына': 2,\n",
       "             'ааҥҥы': 560,\n",
       "             'ыҥныыра': 7,\n",
       "             'аайыммыт': 18,\n",
       "             'ыатчыттарга': 1,\n",
       "             'ыстыҥ': 60,\n",
       "             'аастаахтар': 284,\n",
       "             'ыаттарын': 195,\n",
       "             'аайыстыбабытынан': 2,\n",
       "             'аайыстыбалары': 225,\n",
       "             'аарыматтан': 5,\n",
       "             'аайыттардаахтар': 1,\n",
       "             'ыаттаммыттар': 1,\n",
       "             'аарымата': 13,\n",
       "             'аайыстыбанньыктар': 2,\n",
       "             'аайыҥҥа': 33,\n",
       "             'ыытаабакка': 4,\n",
       "             'аайыстыбаҥ': 10,\n",
       "             'аалара': 1444,\n",
       "             'ыырдыбытынан': 1,\n",
       "             'аармаҕа': 1,\n",
       "             'ыллыбытыттан': 87,\n",
       "             'аахтартан': 121,\n",
       "             'ыаппытгар': 1,\n",
       "             'ыаччык': 3,\n",
       "             'ыахтын': 10,\n",
       "             'аактарга': 10,\n",
       "             'аайыстыбабытын': 5,\n",
       "             'аанным': 5,\n",
       "             'аайыттара': 61,\n",
       "             'ыытыыгыт': 2,\n",
       "             'ыйбахтыыр': 4,\n",
       "             'ыаппытыгар': 220,\n",
       "             'ыҥнаах': 258,\n",
       "             'ыытаатын': 5,\n",
       "             'аайыннартан': 3,\n",
       "             'ыаккыт': 50,\n",
       "             'ыытаабыттара': 4,\n",
       "             'ыммаккын': 14,\n",
       "             'ыйталаабыт': 7,\n",
       "             'ыытаат': 21,\n",
       "             'ааҥҥыта': 253,\n",
       "             'ыаттааҕар': 5,\n",
       "             'аайыстыбаларын': 230,\n",
       "             'аайыстыбаланна': 1,\n",
       "             'ыытыыбын': 24,\n",
       "             'аайыстыбалаахтартан': 1,\n",
       "             'ааҥҥытааҕар': 403,\n",
       "             'аарымалаахпыт': 1,\n",
       "             'ыытааһын': 3,\n",
       "             'алларын': 9049,\n",
       "             'ааныллыахтара': 1,\n",
       "             'аайыттарбыт': 1,\n",
       "             'ыыларыттан': 321,\n",
       "             'ыаттарынан': 29,\n",
       "             'ыытааҥ': 1,\n",
       "             'аайыннааһыннарын': 1,\n",
       "             'ыаттарбар': 1,\n",
       "             'ааммытым': 5,\n",
       "             'ыатым': 35,\n",
       "             'ыатчыттары': 8,\n",
       "             'аайыстыбата': 794,\n",
       "             'ыахха': 8429,\n",
       "             'аайыстыбаларга': 394,\n",
       "             'ыйардьыт': 1,\n",
       "             'аайкаларынан': 4,\n",
       "             'аайынныай': 1,\n",
       "             'ыстым': 499,\n",
       "             'ааммыппыт': 2,\n",
       "             'аайыстыбаламмыттара': 1,\n",
       "             'ыаттаргытын': 1,\n",
       "             'атыттан': 5379,\n",
       "             'ыатынан': 303,\n",
       "             'ыытыттан': 1000,\n",
       "             'ана': 25871,\n",
       "             'ыахтааҕар': 282,\n",
       "             'ыата': 1075,\n",
       "             'аак': 303,\n",
       "             'ыытабыта': 1,\n",
       "             'ааныллыбыта': 1,\n",
       "             'аайынныы': 80,\n",
       "             'ыйбыт': 1889,\n",
       "             'ааннаххына': 1,\n",
       "             'аалаах': 2958,\n",
       "             'ыҥнаабыт': 11,\n",
       "             'ыытаһаллара': 3,\n",
       "             'ыллыбыттар': 473,\n",
       "             'ыытаһалларын': 1,\n",
       "             'ааныҥ': 74,\n",
       "             'аарымабар': 1,\n",
       "             'аайыстыбаланыан': 1,\n",
       "             'аайыстыбатыттан': 62,\n",
       "             'аайыҥҥар': 3,\n",
       "             'аайыстыбаннайдара': 1,\n",
       "             'ааспыт': 9445,\n",
       "             'ыллыбытыгар': 115,\n",
       "             'ыаттыахпыт': 1,\n",
       "             'ыаппытынан': 6,\n",
       "             'ыатын': 1916,\n",
       "             'ыыларын': 2466,\n",
       "             'аайыстыбыларын': 1,\n",
       "             'ааннылар': 7,\n",
       "             'ыатый': 1,\n",
       "             'ыаппыт': 482,\n",
       "             'ыытаспыппыт': 1,\n",
       "             'ыспат': 615,\n",
       "             'ыаччыттар': 6,\n",
       "             'ыа': 29997,\n",
       "             'ааныахтара': 4,\n",
       "             'ыталаан': 278,\n",
       "             'аайынныылларын': 1,\n",
       "             'аайыннарыттан': 8,\n",
       "             'аайыннараҕыт': 1,\n",
       "             'ыаттанан': 4,\n",
       "             'ыйдаҕыҥ': 7,\n",
       "             'аастардаах': 71,\n",
       "             'ыытаайаҕын': 1,\n",
       "             'ыай': 2254,\n",
       "             'аайыстыбалырын': 1,\n",
       "             'аммыт': 13898,\n",
       "             'аайыстыбанньыгы': 1,\n",
       "             'аактардыын': 1,\n",
       "             'ыытыырбытын': 2,\n",
       "             'аайыстыбалаахпыт': 5,\n",
       "             'аайкалара': 26,\n",
       "             'ыытаатахтарын': 1,\n",
       "             'аайыста': 3,\n",
       "             'ыахтаах': 12863,\n",
       "             'ыаттарыттан': 21,\n",
       "             'ыытаабат': 12,\n",
       "             'ыытастылар': 11,\n",
       "             'аайыстабытыгар': 2,\n",
       "             'ыытыыллар': 20,\n",
       "             'ааныахха': 10,\n",
       "             'аанныбыт': 6,\n",
       "             'ааччыйатын': 11,\n",
       "             'ыстыбыт': 818,\n",
       "             'аайка': 360,\n",
       "             'ыытаары': 143,\n",
       "             'аайыстыбабытыгар': 12,\n",
       "             'аайыстыбаларда': 1,\n",
       "             'ыаҕытый': 17,\n",
       "             'ыҥтан': 155,\n",
       "             'аллара': 12098,\n",
       "             'аайыны': 63,\n",
       "             'ытыыр': 400,\n",
       "             'ааммыттара': 16,\n",
       "             'ыйардыыр': 1,\n",
       "             'ыҥа': 503,\n",
       "             'ааҥҥытан': 1,\n",
       "             'ыйбакка': 601,\n",
       "             'аастааҕа': 110,\n",
       "             'ыыларыгар': 1684,\n",
       "             'аастаныахпытыгар': 1,\n",
       "             'ыйардьыттар': 2,\n",
       "             'ыҥырата': 1,\n",
       "             'ааччыйалар': 4,\n",
       "             'аайыстыбалаахпын': 2,\n",
       "             'ыырбыттарыгар': 1,\n",
       "             'аарымабыттан': 1,\n",
       "             'ааныллыбыт': 11,\n",
       "             'аайыстыбалаахтара': 1,\n",
       "             'ыстахтарына': 128,\n",
       "             'аастааҕын': 44,\n",
       "             'ааччыйа': 150,\n",
       "             'аайыннаннылар': 2,\n",
       "             'ыаларын': 494,\n",
       "             'аайыннар': 61,\n",
       "             'ыырбат': 40,\n",
       "             'аайыстыбалаах': 169,\n",
       "             'аастаммытын': 30,\n",
       "             'аайыннаабыт': 1,\n",
       "             'аах': 196894,\n",
       "             'ыаттаан': 7,\n",
       "             'ааммыттар': 22,\n",
       "             'ааныах': 2,\n",
       "             'ыаттан': 596,\n",
       "             'ыаттарыгар': 143,\n",
       "             'ыллыбакка': 652,\n",
       "             'ыытаабатаҕым': 2,\n",
       "             'аайкалар': 23,\n",
       "             'ааҥҥытта': 1,\n",
       "             'аайыстыбатынан': 317,\n",
       "             'аайыстыбаҕа': 375,\n",
       "             'ыаттартан': 38,\n",
       "             'ыспакка': 768,\n",
       "             'ыаккытын': 12,\n",
       "             'ааныллара': 2,\n",
       "             'ыытыахтарын': 85,\n",
       "             'аайыннаахтар': 2,\n",
       "             'аайкалыы': 1,\n",
       "             'аайкалаан': 3,\n",
       "             'ааскыт': 19,\n",
       "             'ыытаама': 7,\n",
       "             'ыаттарбытын': 11,\n",
       "             'ыыра': 3145,\n",
       "             'ыын': 11189,\n",
       "             'ыынан': 2237,\n",
       "             'аатын': 12135,\n",
       "             'ыспытым': 177,\n",
       "             'ыйа': 15033,\n",
       "             'ыыттан': 1717,\n",
       "             'ыатчыттара': 3,\n",
       "             'ааныыта': 1,\n",
       "             'ыабыт': 287,\n",
       "             'аайыстыбатааҕар': 1,\n",
       "             'аанылла': 1,\n",
       "             'аайынынан': 119,\n",
       "             'ыытатан': 1,\n",
       "             'аайыҥҥыт': 1,\n",
       "             'ыатчыттарын': 1,\n",
       "             'аары': 10485,\n",
       "             'аана': 8995,\n",
       "             'ыытата': 8,\n",
       "             'ыйан': 7274,\n",
       "             'аайыстабатыгар': 3,\n",
       "             'аайыстыбалардаахпыт': 1,\n",
       "             'ыытаппыттар': 1,\n",
       "             'ыйаталаан': 7,\n",
       "             'аайыстыбаларынан': 33,\n",
       "             'аай': 4389,\n",
       "             'ыатчыттарыгар': 1,\n",
       "             'ыаттардааҕар': 3,\n",
       "             'аайыныттан': 7,\n",
       "             'аны': 81710,\n",
       "             'ыытыыра': 23,\n",
       "             'ыҥырыыра': 2,\n",
       "             'ата': 84415,\n",
       "             'аайыстыбылаах': 1,\n",
       "             'аайканы': 35,\n",
       "             'ааччыйанан': 7,\n",
       "             'ыырбыт': 626,\n",
       "             'ыаччыттан': 7,\n",
       "             'аайыннаабыттара': 2,\n",
       "             'аанна': 34,\n",
       "             'аайыстыбанан': 52,\n",
       "             'ыытаан': 251,\n",
       "             'ыытыахтара': 164,\n",
       "             'ыаттана': 2,\n",
       "             'аактарыгар': 8,\n",
       "             'ылынна': 4959,\n",
       "             'аайыннарынан': 37,\n",
       "             'абын': 16469,\n",
       "             'ыытаабытын': 9,\n",
       "             'аайына': 489,\n",
       "             'ыытыахпытын': 42,\n",
       "             'ыгар': 149987,\n",
       "             'ыытаа': 18,\n",
       "             'ыатыҥ': 12,\n",
       "             'аайкага': 1,\n",
       "             'ыҥыраһаллар': 1,\n",
       "             'ыҥныа': 1,\n",
       "             'аайкабыт': 8,\n",
       "             'ыаччыт': 2,\n",
       "             'ыҥырайаар': 1,\n",
       "             'аарымалары': 5,\n",
       "             'ыллаллар': 1087,\n",
       "             'ыллар': 20523,\n",
       "             'аайыстыбам': 8,\n",
       "             'ааныа': 1,\n",
       "             'ыҥырас': 7,\n",
       "             'аайыммытыгар': 1,\n",
       "             'ааччыйатыгар': 4,\n",
       "             'аайыннана': 5,\n",
       "             'һыаттарым': 3,\n",
       "             'ыаккытынан': 1,\n",
       "             'аайыннаамаары': 1,\n",
       "             'аактары': 28,\n",
       "             'ыатчыты': 2,\n",
       "             'аайыннаабатын': 1,\n",
       "             'ааччыйаҕа': 35,\n",
       "             'ыытаабыккыный': 1,\n",
       "             'аастаахпын': 51,\n",
       "             'аайыныгар': 47,\n",
       "             'аайынабын': 6,\n",
       "             'ыаттарбыттан': 1,\n",
       "             'аактарын': 34,\n",
       "             'һыыны': 1630,\n",
       "             'ыаттаахпыт': 9,\n",
       "             'аастаах': 7798,\n",
       "             'ааныллан': 2,\n",
       "             'ыаккытыттан': 1,\n",
       "             'ааннаҕа': 23,\n",
       "             'ыытыам': 50,\n",
       "             'аайкаҕа': 21,\n",
       "             'аларын': 16772,\n",
       "             'ыытаһа': 30,\n",
       "             'ыытыырдаах': 1,\n",
       "             'аарма': 2,\n",
       "             'ыыгын': 1161,\n",
       "             'аайыннааһын': 61,\n",
       "             'ыытыыбыт': 6,\n",
       "             'аллар': 46663,\n",
       "             'аайыстыбанньыктарга': 1,\n",
       "             'аайыннары': 12,\n",
       "             'аачыйаларыгар': 3,\n",
       "             'ыатабыт': 3,\n",
       "             'ыаттардаахпыт': 2,\n",
       "             'ыаттарым': 3,\n",
       "             'а': 1872200,\n",
       "             'ыаккытыгар': 39,\n",
       "             'ыыта': 11143,\n",
       "             'аайыстыбаларыттан': 16,\n",
       "             'аайыттарыттан': 2,\n",
       "             'аайыстыбалаахтары': 2,\n",
       "             'ыҥнаан': 74,\n",
       "             'ыытаспыттар': 6,\n",
       "             'аанара': 8,\n",
       "             'ыыбыттан': 106,\n",
       "             'ыытаамахтаан': 1,\n",
       "             'ыаттарбытыгар': 4,\n",
       "             'ыыкам': 1,\n",
       "             'аастаахпыт': 38,\n",
       "             'аайыстыбалара': 168,\n",
       "             'аайыттар': 93,\n",
       "             'ыалара': 216,\n",
       "             'ааччы': 16311,\n",
       "             'ыаккар': 5,\n",
       "             'аагын': 21,\n",
       "             'ыатчыт': 45,\n",
       "             '': 11859267,\n",
       "             'ыҥыраабат': 8,\n",
       "             'аахтары': 862,\n",
       "             'ыытаабыттарын': 2,\n",
       "             'аачыйа': 62,\n",
       "             'аагы': 60,\n",
       "             'ыллыбат': 2246,\n",
       "             'аайкам': 12,\n",
       "             'ыытаабытым': 5,\n",
       "             'ыҥар': 30,\n",
       "             'ыллыахтааҕын': 194,\n",
       "             'ыаччыттаан': 1,\n",
       "             'аайыннааҕа': 3,\n",
       "             'аайынын': 109,\n",
       "             'ыллыбатаҕын': 60,\n",
       "             'ыаттаахтар': 10,\n",
       "             'ыытаһыы': 6,\n",
       "             'ыйбахтыы': 4,\n",
       "             'ыыларга': 1187,\n",
       "             'аайынныыр': 21,\n",
       "             'аайыстыбаланарга': 1,\n",
       "             'ыахпыт': 3727,\n",
       "             'ыспыттааҕар': 1,\n",
       "             'аайыстыбаларбытын': 4,\n",
       "             'ыыларбыт': 66,\n",
       "             'аайыттарым': 2,\n",
       "             'аастара': 2519,\n",
       "             'ыыбыт': 3267,\n",
       "             'аайыстыбаларбытыгар': 5,\n",
       "             'ыытаабатахпын': 1,\n",
       "             'аайыннаабыттар': 1,\n",
       "             'аайыстыбаҕыт': 7,\n",
       "             'ыытыырга': 5,\n",
       "             'ыҥыраат': 4,\n",
       "             'ыылар': 3091,\n",
       "             'ылыннаҕына': 479,\n",
       "             'аайыннаабакка': 1,\n",
       "             'аайыстыбалаахтарга': 14,\n",
       "             'һаайыттара': 61,\n",
       "             'аайката': 183,\n",
       "             'ыытаталаан': 1,\n",
       "             'аастыбатын': 1,\n",
       "             'аайыннаабытым': 1,\n",
       "             'аайыннаммыт': 3,\n",
       "             'ыытыан': 92,\n",
       "             'аактарынан': 1,\n",
       "             'ыытаабытыттан': 2,\n",
       "             'ыста': 4654,\n",
       "             'аарыматыттан': 2,\n",
       "             'ыылара': 2422,\n",
       "             'аайыстабаҕа': 1,\n",
       "             'ытаат': 200,\n",
       "             'айыстыбатынан': 318,\n",
       "             'ыахтара': 6479,\n",
       "             'атынан': 12000,\n",
       "             'ааайыстыбатын': 1,\n",
       "             'аайыстыбабыт': 39,\n",
       "             'аахтарын': 3146,\n",
       "             'ыҥнаабакка': 2,\n",
       "             'аас': 42472,\n",
       "             'ыыйыстыбатын': 1,\n",
       "             'ыытаһан': 16,\n",
       "             'ааайыстыбаҕа': 1,\n",
       "             'аактара': 52,\n",
       "             'аанымаҥ': 2,\n",
       "             'аайыттарыгар': 17,\n",
       "             'аайыстыбанньыкка': 1,\n",
       "             'ыаччыктаах': 2,\n",
       "             'ааҕын': 7870,\n",
       "             'ыҥыратан': 1,\n",
       "             'ыаты': 743,\n",
       "             'ыырдым': 12,\n",
       "             'ааныллыахтаах': 2,\n",
       "             'аайкалааҕым': 1,\n",
       "             'аайыстыбаннай': 418,\n",
       "             'аайысты': 3,\n",
       "             'ыллыбыттара': 806,\n",
       "             'аайыстыбабар': 18,\n",
       "             'аайыстыбаны': 273,\n",
       "             'ыатчыттар': 24,\n",
       "             'аайыстыбанай': 1,\n",
       "             'ааналлар': 22,\n",
       "             'ыытааччы': 209,\n",
       "             'ааны': 5847,\n",
       "             'ааналларыгар': 3,\n",
       "             'ыах': 7105,\n",
       "             'аайыстыбаламмыта': 1,\n",
       "             'ыстаан': 769,\n",
       "             'ыҥнара': 149,\n",
       "             'аанарыгар': 1,\n",
       "             'ыытаһар': 12,\n",
       "             'ыым': 3277,\n",
       "             'ыытаспыттарыгар': 2,\n",
       "             'аайыстыбалар': 793,\n",
       "             'аайыттарынан': 9,\n",
       "             'аарымабытыгар': 1,\n",
       "             'ан': 798469,\n",
       "             'аайыстыбабынан': 3,\n",
       "             'аастааҕы': 22,\n",
       "             'аактарыҥ': 1,\n",
       "             'ыҥыраабыт': 8,\n",
       "             'ыытаатаҕына': 3,\n",
       "             'ыаттарбыт': 17,\n",
       "             'ыспыттар': 167,\n",
       "             'аанаммыт': 1,\n",
       "             'ааһы': 5862,\n",
       "             'ыллыахтара': 717,\n",
       "             'ыытаатахпытына': 1,\n",
       "             'аайыммын': 6,\n",
       "             'ыстылар': 1361,\n",
       "             'ыаппынан': 2,\n",
       "             'аайыстыбаҕытын': 1,\n",
       "             'ыытаабаппын': 4,\n",
       "             'аайынныыртан': 1,\n",
       "             'ыҥнаабатар': 1,\n",
       "             'аайыстыбаннайын': 2,\n",
       "             'ыыбар': 2188,\n",
       "             'ыаҕай': 238,\n",
       "             'ыма': 5082,\n",
       "             'ыытаабыттар': 4,\n",
       "             'аанар': 130,\n",
       "             'айыстыбатын': 6781,\n",
       "             'ыытаабатах': 1,\n",
       "             'аайыттаргыт': 1,\n",
       "             'ыытаспакка': 1,\n",
       "             'ыыбынан': 113,\n",
       "             'ынна': 7402,\n",
       "             'аайыстыбаннан': 1,\n",
       "             'ыаппытыттан': 3,\n",
       "             'ыспыт': 1735,\n",
       "             'аакка': 1318,\n",
       "             'ара': 159327,\n",
       "             'ыллара': 3961,\n",
       "             'аайыннанара': 1,\n",
       "             'ылыннар': 69,\n",
       "             'ыатар': 14,\n",
       "             'аайыстабалара': 1,\n",
       "             'ыытыыллара': 11,\n",
       "             'аан': 105460,\n",
       "             'ыыбын': 6890,\n",
       "             'алларыгар': 4100,\n",
       "             'ыспыттара': 214,\n",
       "             'аахтарга': 886,\n",
       "             'ыырбытынан': 45,\n",
       "             'ыҥырыы': 534,\n",
       "             'аайыннарбыт': 2,\n",
       "             'аактар': 112,\n",
       "             'ытаан': 925,\n",
       "             'аҕастаах': 210,\n",
       "             'һаайына': 488,\n",
       "             'ыттар': 20591,\n",
       "             'аайыстыбанньаҥ': 1,\n",
       "             'ыаттааҕа': 4,\n",
       "             'ыытыыртан': 1,\n",
       "             'аайыстыбалыранан': 1,\n",
       "             'ааччыйаны': 12,\n",
       "             'аайы': 10168,\n",
       "             'аайкаларыттан': 1,\n",
       "             'ыытыырын': 19,\n",
       "             'аахтар': 12203,\n",
       "             'аайыттаргар': 1,\n",
       "             'ыатыттан': 76,\n",
       "             'ыйыллан': 91,\n",
       "             'аҕыт': 1349,\n",
       "             'аайкаҕыный': 1,\n",
       "             'ынара': 350,\n",
       "             'ыылары': 2306,\n",
       "             'аайыннаабытын': 1,\n",
       "             'ьердар': 56,\n",
       "             'сыбатаххына': 4,\n",
       "             'сыахтааҕын': 47,\n",
       "             'гыытыыр': 3,\n",
       "             'тыбыалын': 7,\n",
       "             'жалаахтара': 1,\n",
       "             'ыахтааххын': 379,\n",
       "             'ыһынааҕар': 5,\n",
       "             'ыһыраҕын': 6,\n",
       "             'ишполтан': 1,\n",
       "             'аахтаахпыт': 2,\n",
       "             'дьыгыныыра': 6,\n",
       "             'баттык': 126,\n",
       "             'арбытын': 4012,\n",
       "             'ыһыраллар': 15,\n",
       "             'аатыбыт': 1393,\n",
       "             'ыанньалаахтар': 45,\n",
       "             'ыыһаптыын': 4,\n",
       "             'ыйааннары': 6,\n",
       "             'аайаҕын': 125,\n",
       "             'ахсин': 1,\n",
       "             'ыгылдьытыы': 2,\n",
       "             'чалыыллар': 3,\n",
       "             'сыбакка': 939,\n",
       "             'ыанньатыгар': 173,\n",
       "             'баппытый': 20,\n",
       "             'да': 164393,\n",
       "             'ыыһын': 1272,\n",
       "             'ылламмыты': 3,\n",
       "             'аактыҥы': 2,\n",
       "             'аатаҕына': 644,\n",
       "             'ыҥныырын': 6,\n",
       "             'ыспытын': 256,\n",
       "             'ылыкы': 3,\n",
       "             'баккытыгар': 31,\n",
       "             'акпытыгар': 51,\n",
       "             'анников': 82,\n",
       "             'тыбыалга': 2,\n",
       "             'батаҕынан': 46,\n",
       "             'ыстана': 55,\n",
       "             'алыыстыыр': 5,\n",
       "             'дах': 20338,\n",
       "             'ыстанар': 424,\n",
       "             'даххытына': 53,\n",
       "             'абаанап': 1,\n",
       "             'ыйааны': 39,\n",
       "             'ыыһабаны': 1,\n",
       "             'ааттаан': 786,\n",
       "             'сков': 74,\n",
       "             'бытыгар': 7459,\n",
       "             'ылаппыт': 37,\n",
       "             'ааннарынааҕар': 2,\n",
       "             'ҕаланар': 1728,\n",
       "             'ылаах': 20624,\n",
       "             'ахсанов': 4,\n",
       "             'арынан': 22861,\n",
       "             'сар': 9489,\n",
       "             'меннары': 439,\n",
       "             'ловскайы': 14,\n",
       "             'гыйбыт': 14,\n",
       "             'батахтарын': 167,\n",
       "             'ашковтар': 8,\n",
       "             'ыһырбатах': 5,\n",
       "             'иновы': 157,\n",
       "             'баккабыт': 25,\n",
       "             'сарым': 78,\n",
       "             'ыыстааҕа': 26,\n",
       "             'чаланан': 3,\n",
       "             'менныы': 5,\n",
       "             'быттарынааҕар': 4,\n",
       "             'аахтыыр': 305,\n",
       "             'ыыбытыгар': 165,\n",
       "             'ыстааҕый': 18,\n",
       "             'анова': 1712,\n",
       "             'арааптаан': 49,\n",
       "             'ыйбыты': 8,\n",
       "             'ыаххыттан': 8,\n",
       "             'ыллаатахха': 12,\n",
       "             'ыллааһыҥҥа': 22,\n",
       "             'быппытын': 222,\n",
       "             'баккын': 876,\n",
       "             'ылланан': 124,\n",
       "             'ыһыраллара': 4,\n",
       "             'сыһан': 544,\n",
       "             'гыытанна': 2,\n",
       "             'бытыҥ': 456,\n",
       "             'бара': 4062,\n",
       "             'ахсаанап': 5,\n",
       "             'ыстанан': 595,\n",
       "             'аахтаабакка': 3,\n",
       "             'рельга': 2,\n",
       "             'аахтаатахпыт': 3,\n",
       "             'батаххыный': 19,\n",
       "             'аабаттарын': 54,\n",
       "             'аабыта': 5530,\n",
       "             'аммыттара': 951,\n",
       "             'кылаах': 225,\n",
       "             'жаларга': 10,\n",
       "             'аайыттан': 193,\n",
       "             'тыбыалыттан': 1,\n",
       "             'сткай': 4,\n",
       "             'бахтаспыт': 1,\n",
       "             'ыйаанынан': 28,\n",
       "             'сыбата': 301,\n",
       "             'ымыаҕыҥ': 35,\n",
       "             'сеткатын': 6,\n",
       "             'селонатааҕы': 1,\n",
       "             'лыбаев': 3,\n",
       "             'ыахтааххыт': 129,\n",
       "             'аатым': 2231,\n",
       "             'ыгылдьыгас': 1,\n",
       "             'рикады': 2,\n",
       "             'батаххыт': 40,\n",
       "             'амыгын': 2,\n",
       "             'быккын': 282,\n",
       "             'нум': 2179,\n",
       "             'баат': 236,\n",
       "             'роу': 3,\n",
       "             'ыһырбат': 22,\n",
       "             'ьердарынан': 1,\n",
       "             'ылламмыта': 27,\n",
       "             'ылаһаллар': 180,\n",
       "             'абашкаҕытын': 1,\n",
       "             'довскай': 56,\n",
       "             'аарылар': 45,\n",
       "             'сыспыт': 218,\n",
       "             'тыһааныгар': 1,\n",
       "             'дамсыйыыта': 1,\n",
       "             'ыыһы': 1674,\n",
       "             'ыаххытын': 339,\n",
       "             'гем': 1,\n",
       "             'бахтаабыттарын': 7,\n",
       "             'аабыппытый': 2,\n",
       "             'суков': 3,\n",
       "             'ельеба': 2,\n",
       "             'абанщигым': 1,\n",
       "             'асыылап': 3,\n",
       "             'хардт': 1,\n",
       "             'ымыан': 55,\n",
       "             'мена': 672,\n",
       "             'абановаттан': 1,\n",
       "             'абылыанньаны': 155,\n",
       "             'аабыт': 11163,\n",
       "             'ыылааҕым': 33,\n",
       "             'ыстаналларый': 2,\n",
       "             'га': 182476,\n",
       "             'тер': 1067,\n",
       "             'кин': 7025,\n",
       "             'ыыллар': 5705,\n",
       "             'ыстаммыттарый': 1,\n",
       "             'ааммын': 283,\n",
       "             'ыаҕы': 1073,\n",
       "             'ыаҕыҥ': 974,\n",
       "             'ымыах': 17,\n",
       "             'сыбатынан': 3,\n",
       "             'бытый': 265,\n",
       "             'сымахтыы': 1,\n",
       "             'агыраамаларын': 38,\n",
       "             'чаланар': 7,\n",
       "             'ыгын': 5731,\n",
       "             'аамаары': 43,\n",
       "             'сыҥ': 74,\n",
       "             'сартан': 34,\n",
       "             'ҕабыт': 1490,\n",
       "             'ыһырыан': 12,\n",
       "             'терга': 237,\n",
       "             'дырҕатар': 6,\n",
       "             'ыанньаларбыт': 3,\n",
       "             'ахоевы': 1,\n",
       "             'дырҕатыы': 1,\n",
       "             ...})"
      ]
     },
     "execution_count": 46,
     "metadata": {
      "tags": []
     },
     "output_type": "execute_result"
    }
   ],
   "source": [
    "osnov_s_ost=defaultdict(int)\n",
    "for o in ostat:\n",
    "    osnov_s_ost[o]=osnova('n'+o)\n",
    "osnov_s_ost"
   ]
  },
  {
   "cell_type": "markdown",
   "metadata": {
    "colab_type": "text",
    "id": "GeaBi7wAeJ4C"
   },
   "source": [
    "### общее число словоформ с этими основами\n"
   ]
  },
  {
   "cell_type": "code",
   "execution_count": 0,
   "metadata": {
    "colab": {
     "autoexec": {
      "startup": false,
      "wait_interval": 0
     }
    },
    "colab_type": "code",
    "id": "DrK7BDg9eJ4E"
   },
   "outputs": [],
   "source": [
    "#bases - основы с первым информантным аффиксом"
   ]
  },
  {
   "cell_type": "code",
   "execution_count": 0,
   "metadata": {
    "colab": {
     "autoexec": {
      "startup": false,
      "wait_interval": 0
     }
    },
    "colab_type": "code",
    "id": "4nAOl-wLeJ4O"
   },
   "outputs": [],
   "source": [
    "def osnova1(a):\n",
    "    current_node = trie\n",
    "    for char in a:\n",
    "        current_node = current_node[char]\n",
    "    return current_node"
   ]
  },
  {
   "cell_type": "code",
   "execution_count": 0,
   "metadata": {
    "colab": {
     "autoexec": {
      "startup": false,
      "wait_interval": 0
     }
    },
    "colab_type": "code",
    "id": "smXE11b8eJ4z"
   },
   "outputs": [],
   "source": [
    "for w,n in voc.items(): #для каждого слова в списке\n",
    "        word = w[::-1]  # переворачиваем слово, читаем слово с конца\n",
    "        current_dict = trie\n",
    "        trie['n'] += n\n",
    "        for letter in word:  # для буквы в слове\n",
    "            prob[letter]+=n\n",
    "            current_dict = current_dict.setdefault(letter, {'n': 0}) #получить значение из словаря по ключу.\n",
    "                                                                     #Автоматически добавляет элемент словаря, если он отсутствует.\n",
    "            current_dict['n']+=n\n",
    "        current_dict['#'] = n"
   ]
  },
  {
   "cell_type": "code",
   "execution_count": 0,
   "metadata": {
    "colab": {
     "autoexec": {
      "startup": false,
      "wait_interval": 0
     }
    },
    "colab_type": "code",
    "id": "5HcTDUageJ4_",
    "outputId": "a4caec23-afcd-449d-905e-aa24509dce1e"
   },
   "outputs": [
    {
     "data": {
      "text/plain": [
       "226046"
      ]
     },
     "execution_count": 18,
     "metadata": {
      "tags": []
     },
     "output_type": "execute_result"
    }
   ],
   "source": [
    "sum=0\n",
    "for d in bases_with_ostat.values():\n",
    "    sum+=d\n",
    "sum"
   ]
  },
  {
   "cell_type": "code",
   "execution_count": 0,
   "metadata": {
    "colab": {
     "autoexec": {
      "startup": false,
      "wait_interval": 0
     }
    },
    "colab_type": "code",
    "id": "we4dPMlleJ5Z"
   },
   "outputs": [],
   "source": [
    "#попытка подсчета количества словоформ с этими основами"
   ]
  },
  {
   "cell_type": "code",
   "execution_count": 0,
   "metadata": {
    "colab": {
     "autoexec": {
      "startup": false,
      "wait_interval": 0
     }
    },
    "colab_type": "code",
    "id": "dtIApNaNeJ5h"
   },
   "outputs": [],
   "source": [
    "b=defaultdict(int)\n",
    "for w,n in voc.items():\n",
    "    for base in bases:\n",
    "            if not w.startswith(base):\n",
    "                continue\n",
    "            b[w]+=n\n",
    "su=0\n",
    "for v in b.values():\n",
    "    su+=v"
   ]
  },
  {
   "cell_type": "code",
   "execution_count": 0,
   "metadata": {
    "colab": {
     "autoexec": {
      "startup": false,
      "wait_interval": 0
     }
    },
    "colab_type": "code",
    "id": "YE0T5pipeJ5u",
    "outputId": "6246f5ac-ee1f-4a0b-b72e-2cda712aa2f3"
   },
   "outputs": [
    {
     "data": {
      "text/plain": [
       "14177575"
      ]
     },
     "execution_count": 97,
     "metadata": {
      "tags": []
     },
     "output_type": "execute_result"
    }
   ],
   "source": [
    "su"
   ]
  },
  {
   "cell_type": "code",
   "execution_count": 0,
   "metadata": {
    "colab": {
     "autoexec": {
      "startup": false,
      "wait_interval": 0
     }
    },
    "colab_type": "code",
    "id": "oA6OkdO7eJ59"
   },
   "outputs": [],
   "source": [
    "uv_ost=defaultdict(int)\n",
    "for osn,c in osnov_s_ost.items():\n",
    "    uv_ost[osn]=c/su\n",
    "uv_ost\n",
    "uv_ost_sorted=sorted([(letter,nv) for letter,nv in uv_ost.items()], key=itemgetter(1), reverse=True)"
   ]
  },
  {
   "cell_type": "code",
   "execution_count": 0,
   "metadata": {
    "colab": {
     "autoexec": {
      "startup": false,
      "wait_interval": 0
     }
    },
    "colab_type": "code",
    "id": "Ha-yIiy3eJ6M",
    "outputId": "658374e8-edc3-4e43-cec5-36a6acda3a49"
   },
   "outputs": [
    {
     "data": {
      "text/plain": [
       "[('', 0.8364806393194887),\n",
       " ('н', 0.1833921527482662),\n",
       " ('а', 0.13205361283576353),\n",
       " ('р', 0.114087987543709),\n",
       " ('э', 0.07019557293824931),\n",
       " ('ан', 0.05631915190009575),\n",
       " ('ар', 0.05530579101150937),\n",
       " ('т', 0.04697954339864187),\n",
       " ('х', 0.04109764892797252),\n",
       " ('ы', 0.03701973010193915),\n",
       " ('и', 0.0366191679465635),\n",
       " ('эн', 0.03527443868221469),\n",
       " ('эр', 0.034498071778847936),\n",
       " ('ын', 0.03261255891786854),\n",
       " ('ин', 0.026546500371184775),\n",
       " ('у', 0.023138371689093516),\n",
       " ('к', 0.021337076333576087),\n",
       " ('с', 0.02059936202065586),\n",
       " ('та', 0.019761419001486504),\n",
       " ('ах', 0.019379336734244045),\n",
       " ('на', 0.0188794628136335),\n",
       " ('л', 0.018056261384616197),\n",
       " ('нан', 0.015943911423498023),\n",
       " ('ай', 0.01573294445629806),\n",
       " ('о', 0.015431976201853985),\n",
       " ('гар', 0.014470880951079434),\n",
       " ('ра', 0.014392799897020471),\n",
       " ('аах', 0.013887706466021164),\n",
       " ('он', 0.013592169323738369),\n",
       " ('лар', 0.01315775088475991),\n",
       " ('тэ', 0.013155282197413874),\n",
       " ('га', 0.012870748347301989),\n",
       " ('ыт', 0.012867010049320846),\n",
       " ('рэ', 0.012774046337261485),\n",
       " ('ит', 0.01163852069200833),\n",
       " ('да', 0.011595283396490585),\n",
       " ('гэр', 0.011545768581721487),\n",
       " ('м', 0.011520023699398522),\n",
       " ('тын', 0.011464019763605553),\n",
       " ('ара', 0.011237958536632675),\n",
       " ('тан', 0.010990031793166322),\n",
       " ('нна', 0.01083034298883977),\n",
       " ('эх', 0.010758751055804677),\n",
       " ('ыгар', 0.01057917168486148),\n",
       " ('эрэ', 0.01035614341662802),\n",
       " ('ҕа', 0.010218884400188326),\n",
       " ('тар', 0.009782067807788003),\n",
       " ('ох', 0.00917399484749684),\n",
       " ('ынан', 0.00902925923509486),\n",
       " ('ун', 0.009001468868970892),\n",
       " ('лэр', 0.00893946954962326),\n",
       " ('рын', 0.008910339038940016),\n",
       " ('ка', 0.008876905958882249),\n",
       " ('арын', 0.008537849385385017),\n",
       " ('иэн', 0.008502582423298766),\n",
       " ('ны', 0.00830022059484785),\n",
       " ('ол', 0.008220305658760401),\n",
       " ('ук', 0.008213816537736531),\n",
       " ('игэр', 0.008140249654824608),\n",
       " ('бит', 0.008138274704947778),\n",
       " ('ха', 0.008105617498055908),\n",
       " ('ир', 0.007891758639964875),\n",
       " ('онна', 0.00779336381574423),\n",
       " ('аҕа', 0.007715423829533612),\n",
       " ('най', 0.00768862093834806),\n",
       " ('уонна', 0.0076783229854188745),\n",
       " ('ас', 0.0076580092152571935),\n",
       " ('быт', 0.007657656545636331),\n",
       " ('диэн', 0.0075844423323452705),\n",
       " ('аан', 0.0074385076432323585),\n",
       " ('ары', 0.007399643451013308),\n",
       " ('ээх', 0.007261890697104406),\n",
       " ('ө', 0.007236992221871512),\n",
       " ('гэ', 0.007218159664117453),\n",
       " ('ии', 0.006903014090914702),\n",
       " ('тэн', 0.006860199998941991),\n",
       " ('ни', 0.006712008224255559),\n",
       " ('атын', 0.0066888025632028045),\n",
       " ('ыы', 0.006686968681174319),\n",
       " ('үн', 0.006498572569709559),\n",
       " ('бу', 0.006426063695660224),\n",
       " ('ү', 0.0063939707601617345),\n",
       " ('рин', 0.006257064413342902),\n",
       " ('иир', 0.006247683401427959),\n",
       " ('ор', 0.006147595763027175),\n",
       " ('ут', 0.006088911538115651),\n",
       " ('ата', 0.005954121209021994),\n",
       " ('уох', 0.00593571185481297),\n",
       " ('ыта', 0.005866659143048088),\n",
       " ('этэ', 0.005778985475301665),\n",
       " ('аны', 0.005763326944135369),\n",
       " ('нэ', 0.005612737016027071),\n",
       " ('ран', 0.005522806262707128),\n",
       " ('ри', 0.005455375831198213),\n",
       " ('лаах', 0.005430971093434526),\n",
       " ('ттан', 0.005396973741983379),\n",
       " ('ык', 0.005342874222143068),\n",
       " ('таах', 0.0053243943340098715),\n",
       " ('дук', 0.005244338330074079),\n",
       " ('ла', 0.005218522913826942),\n",
       " ('я', 0.005075268513832584),\n",
       " ('ат', 0.005054531540125868),\n",
       " ('тэр', 0.005000290952437212),\n",
       " ('эри', 0.00487015586233894),\n",
       " ('ов', 0.004666665491101264),\n",
       " ('аха', 0.004664478939451916),\n",
       " ('эрин', 0.004586186283620436),\n",
       " ('ини', 0.004548168498491456),\n",
       " ('лан', 0.004510221247286648),\n",
       " ('арга', 0.004477634574318951),\n",
       " ('тара', 0.004471004385446735),\n",
       " ('саха', 0.004470933851522563),\n",
       " ('унан', 0.004468958901645733),\n",
       " ('уу', 0.004450761149209227),\n",
       " ('инэн', 0.004381355767823482),\n",
       " ('урдук', 0.004373173832619471),\n",
       " ('һи', 0.004330641876343451),\n",
       " ('курдук', 0.004291636616276056),\n",
       " ('тыгар', 0.004252419754436143),\n",
       " ('эбит', 0.004191901647496134),\n",
       " ('иэ', 0.004161219390481094),\n",
       " ('иһи', 0.004127927378271672),\n",
       " ('ус', 0.004116571416479899),\n",
       " ('ия', 0.00410846001520006),\n",
       " ('итэ', 0.0040811633865453015),\n",
       " ('тон', 0.00405605330953989),\n",
       " ('киһи', 0.004054995300677302),\n",
       " ('ну', 0.004045191085217324),\n",
       " ('рар', 0.003988905013727665),\n",
       " ('ыл', 0.0038601100681886712),\n",
       " ('ик', 0.0038379624159985046),\n",
       " ('суох', 0.003788094931608544),\n",
       " ('аран', 0.0037339954117682327),\n",
       " ('биир', 0.0037240501284599094),\n",
       " ('хэ', 0.0037218635768105617),\n",
       " ('угар', 0.0037025372815872953),\n",
       " ('ҕэ', 0.0036183197761253246),\n",
       " ('бут', 0.0035642202562850135),\n",
       " ('эҕэ', 0.0034884668217237433),\n",
       " ('кай', 0.003484093718425048),\n",
       " ('им', 0.0034123607175416105),\n",
       " ('арыгар', 0.003411866980072403),\n",
       " ('ытын', 0.003335831409814443),\n",
       " ('аллар', 0.0032913245036615925),\n",
       " ('кэ', 0.003289208485936417),\n",
       " ('скай', 0.003283424704154272),\n",
       " ('лэ', 0.0032646626803243856),\n",
       " ('лара', 0.003233063482295103),\n",
       " ('п', 0.0032140898566926997),\n",
       " ('ону', 0.0032126791782092494),\n",
       " ('үт', 0.0032001241397065436),\n",
       " ('ына', 0.0031696534844640216),\n",
       " ('үгэр', 0.0031497629178473753),\n",
       " ('ки', 0.003119997601846578),\n",
       " ('эй', 0.003052355568565146),\n",
       " ('ээн', 0.003047347659948898),\n",
       " ('пыт', 0.0030443147012094805),\n",
       " ('оҕо', 0.0030152547244504083),\n",
       " ('аар', 0.00300375769481029),\n",
       " ('йа', 0.002999102455814905),\n",
       " ('аас', 0.0029957168274546246),\n",
       " ('өн', 0.0029941650811228294),\n",
       " ('тарын', 0.002983091255027746),\n",
       " ('һа', 0.0028882231270157275),\n",
       " ('хха', 0.002870166442427566),\n",
       " ('тта', 0.0028492884008725046),\n",
       " ('уо', 0.002846960781374812),\n",
       " ('хан', 0.0028437162208628766),\n",
       " ('нар', 0.0028430108816211515),\n",
       " ('этин', 0.0028326423947677933),\n",
       " ('ыр', 0.002825306866653853),\n",
       " ('лээх', 0.002815502651193875),\n",
       " ('дьон', 0.0028122580906819396),\n",
       " ('ги', 0.0028030181466153414),\n",
       " ('иттэн', 0.002786231072662285),\n",
       " ('ыттан', 0.002778542874927482),\n",
       " ('ахан', 0.00274525086271806),\n",
       " ('эргэ', 0.0027041295849254895),\n",
       " ('ти', 0.002699544879854277),\n",
       " ('ҕы', 0.002696652988963204),\n",
       " ('аҕы', 0.0026943959033896843),\n",
       " ('тэрэ', 0.002687695180593296),\n",
       " ('ым', 0.0026668171390382346),\n",
       " ('иги', 0.0026628672392845745),\n",
       " ('баран', 0.0026578593306683268),\n",
       " ('үс', 0.002645445360013966),\n",
       " ('тынан', 0.002632255516193707),\n",
       " ('үнэн', 0.00263119750733112),\n",
       " ('эт', 0.002610107864003541),\n",
       " ('һиги', 0.002607215973112468),\n",
       " ('ылар', 0.0025802720140785714),\n",
       " ('тары', 0.002565530423926518),\n",
       " ('өр', 0.0025560083441632294),\n",
       " ('акка', 0.002547685341110874),\n",
       " ('ал', 0.0025460630608549065),\n",
       " ('ыбыт', 0.0025387980666651383),\n",
       " ('нон', 0.002530475063612783),\n",
       " ('игин', 0.0025252555532240175),\n",
       " ('онон', 0.002522081526636255),\n",
       " ('ыга', 0.0024988053316593282),\n",
       " ('тигэр', 0.0024878020394884176),\n",
       " ('һунан', 0.0024289767467285486),\n",
       " ('чы', 0.0024272839325484084),\n",
       " ('ута', 0.0024113432656854223),\n",
       " ('ахха', 0.0024066174927658644),\n",
       " ('иһиги', 0.002405065746434069),\n",
       " ('биһиги', 0.0023978007522443014),\n",
       " ('ыыр', 0.002381295813987935),\n",
       " ('миэ', 0.0023759352357508247),\n",
       " ('эмиэ', 0.0023753004304332723),\n",
       " ('уһунан', 0.0023648614096557414),\n",
       " ('улахан', 0.0023608409759779086),\n",
       " ('баар', 0.0023513894301387932),\n",
       " ('тун', 0.002341020943285435),\n",
       " ('ытта', 0.002334461288337392),\n",
       " ('ити', 0.0023256445478158287),\n",
       " ('ааҕы', 0.0023081521346210478),\n",
       " ('туһунан', 0.002294609621179927),\n",
       " ('аннык', 0.0022941158837107194),\n",
       " ('анна', 0.0022807849720421157),\n",
       " ('абыт', 0.0022568739717476367),\n",
       " ('мин', 0.0022436135940032058),\n",
       " ('ттон', 0.0021867632511201667),\n",
       " ('оттон', 0.002186340047575132),\n",
       " ('уолан', 0.002178651849840329),\n",
       " ('алаах', 0.0021782991802194664),\n",
       " ('анан', 0.002174208212617461),\n",
       " ('кини', 0.0021510730854888793),\n",
       " ('итин', 0.0021421152771189714),\n",
       " ('үү', 0.0021411983361047287),\n",
       " ('буолан', 0.0021227184479715327),\n",
       " ('ыа', 0.002115806123402627),\n",
       " ('кытта', 0.0021105866130138617),\n",
       " ('но', 0.0020917540552598027),\n",
       " ('ий', 0.0020842069253733447),\n",
       " ('атыгар', 0.002076024990169334),\n",
       " ('ур', 0.0020748964473825742),\n",
       " ('эригэр', 0.0020308832786989314),\n",
       " ('бын', 0.0020194567829829855),\n",
       " ('ис', 0.0019708589092281297),\n",
       " ('илигин', 0.0019498397998247232),\n",
       " ('таан', 0.0019346750061276347),\n",
       " ('билигин', 0.0019200039498997537),\n",
       " ('арар', 0.001909705996970568),\n",
       " ('уга', 0.0019018767313874199),\n",
       " ('өп', 0.0018845959199651563),\n",
       " ('наах', 0.0018826915040124985),\n",
       " ('урар', 0.0018728872885525204),\n",
       " ('икки', 0.0018640000141067847),\n",
       " ('быта', 0.0018575814270070869),\n",
       " ('сөп', 0.0018509512381348714),\n",
       " ('этэр', 0.0018501753649689738),\n",
       " ('битэ', 0.0018354337748169203),\n",
       " ('туох', 0.0018343052320301603),\n",
       " ('дэ', 0.0018252768897360798),\n",
       " ('ана', 0.0018247831522668722),\n",
       " ('ьэ', 0.0018231608720109046),\n",
       " ('турар', 0.001798473998550528),\n",
       " ('ирэ', 0.0017976981253846303),\n",
       " ('сыл', 0.0017952999719627652),\n",
       " ('һан', 0.0017627838329192405),\n",
       " ('гы', 0.0017533322870801247),\n",
       " ('аҥа', 0.0017362630774303786),\n",
       " ('пит', 0.001703888006235199),\n",
       " ('дии', 0.0017029005312967837),\n",
       " ('ытынан', 0.001691474035580838),\n",
       " ('бүт', 0.0016823046254384123),\n",
       " ('рэр', 0.00168110554872748),\n",
       " ('иһин', 0.0016454153830961925),\n",
       " ('саҥа', 0.0016440752385369149),\n",
       " ('алар', 0.0016431582975226723),\n",
       " ('иллэр', 0.001638644126375632),\n",
       " ('ыны', 0.001633213014214349),\n",
       " ('аһын', 0.0016293336483848614),\n",
       " ('арынан', 0.0016124760405076327),\n",
       " ('лаан', 0.00160986628531325),\n",
       " ('рт', 0.001598016586052269),\n",
       " ('ытыгар', 0.0015919506685734338),\n",
       " ('ыыга', 0.0015911747954075362),\n",
       " ('аа', 0.0015851794118528733),\n",
       " ('тык', 0.001579818833615763),\n",
       " ('от', 0.0015796777657674178),\n",
       " ('ахтар', 0.001566699523719677),\n",
       " ('бат', 0.0015473026945722382),\n",
       " ('аҕын', 0.0015434233287427504),\n",
       " ('игэ', 0.0015417305145626102),\n",
       " ('орор', 0.001530374552770837),\n",
       " ('элбэх', 0.0015276942636522819),\n",
       " ('ру', 0.0015198649980691337),\n",
       " ('түн', 0.0015056171453862878),\n",
       " ('гу', 0.0014966593370163797),\n",
       " ('аата', 0.0014890416732057492),\n",
       " ('утун', 0.0014734536759636256),\n",
       " ('иэхэ', 0.0014692921744374479),\n",
       " ('ма', 0.0014688689708924128),\n",
       " ('аччы', 0.0014670350888639277),\n",
       " ('тэрин', 0.0014636494605036474),\n",
       " ('ылаах', 0.0014546916521337393),\n",
       " ('ыттар', 0.0014523640326360467),\n",
       " ('ыллар', 0.0014475677257923163),\n",
       " ('эллэр', 0.0014455222419913138),\n",
       " ('этигэр', 0.0014405848672992385),\n",
       " ('уолар', 0.0014400205959058583),\n",
       " ('тарга', 0.0014360706961521982),\n",
       " ('эм', 0.0014352948229863006),\n",
       " ('дах', 0.001434518949820403),\n",
       " ('үлэ', 0.0014240799290428723),\n",
       " ('то', 0.0014240093951186999),\n",
       " ('ый', 0.0014158274599146892),\n",
       " ('ова', 0.0014140641118103765),\n",
       " ('уон', 0.0014091267371183012),\n",
       " ('лус', 0.0014071517872414712),\n",
       " ('тор', 0.0014042598963503984),\n",
       " ('уран', 0.0013927628667102802),\n",
       " ('буолар', 0.001385074668975477),\n",
       " ('һэ', 0.0013847219993546147),\n",
       " ('иргэ', 0.0013844398636579246),\n",
       " ('эс', 0.001382676515553612),\n",
       " ('сө', 0.0013723785626244263),\n",
       " ('онно', 0.0013718142912310463),\n",
       " ('лын', 0.0013645492970412781),\n",
       " ('уус', 0.0013619395418468956),\n",
       " ('ба', 0.0013523469281594349),\n",
       " ('олус', 0.0013505835800551222),\n",
       " ('дьар', 0.0013421900430785941),\n",
       " ('йдах', 0.0013390160164908314),\n",
       " ('айдах', 0.001338522279021624),\n",
       " ('хайдах', 0.001338381211173279),\n",
       " ('диэри', 0.001337958007628244),\n",
       " ('ҕаны', 0.0013349250488888262),\n",
       " ('анар', 0.001324556562035468),\n",
       " ('бары', 0.0013234985531728803),\n",
       " ('тугар', 0.0013228637478553279),\n",
       " ('арбыт', 0.0013201129248126002),\n",
       " ('ола', 0.001315175550120525),\n",
       " ('ыс', 0.0013138354055612473),\n",
       " ('сирэ', 0.0013126363288503147),\n",
       " ('лыы', 0.001311296184291037),\n",
       " ('ник', 0.001309744437959242),\n",
       " ('лии', 0.001308898030869172),\n",
       " ('сирин', 0.0013088274969449995),\n",
       " ('нтон', 0.0013062882756747893),\n",
       " ('рээри', 0.0013055829364330641),\n",
       " ('стар', 0.0013007160956651613),\n",
       " ('уола', 0.0012981768743949513),\n",
       " ('стаах', 0.0012892190660250432),\n",
       " ('онтон', 0.00128378795386376),\n",
       " ('бэт', 0.0012836468860154152),\n",
       " ('угу', 0.00128153086829024),\n",
       " ('эрээри', 0.0012774399006882347),\n",
       " ('тыа', 0.001275112281190542),\n",
       " ('үтэ', 0.0012618519034461111),\n",
       " ('ылдьар', 0.0012613581659769036),\n",
       " ('сылдьар', 0.0012612170981285587),\n",
       " ('манна', 0.0012603706910384886),\n",
       " ('убут', 0.0012531762307728931),\n",
       " ('кы', 0.0012531056968487207),\n",
       " ('аһан', 0.0012519771540619605),\n",
       " ('аҕына', 0.0012491557970950604),\n",
       " ('ссө', 0.001243936286706295),\n",
       " ('өссө', 0.0012435836170854324),\n",
       " ('ам', 0.001237235563909907),\n",
       " ('ыытынан', 0.0012337088677012817),\n",
       " ('үр', 0.001229547366175104),\n",
       " ('уол', 0.0012260912038906512),\n",
       " ('ору', 0.001221153829198576),\n",
       " ('элэр', 0.0012205190238810234),\n",
       " ('арыта', 0.0012188262097008833),\n",
       " ('олорор', 0.0012185440740041932),\n",
       " ('һы', 0.0012081050532266626),\n",
       " ('са', 0.0012078229175299725),\n",
       " ('тах', 0.001201615932202792),\n",
       " ('дьэ', 0.0011946330737097142),\n",
       " ('ахтаах', 0.001194492005861369),\n",
       " ('аҕаны', 0.0011921643863636764),\n",
       " ('эрэр', 0.0011892724954726038),\n",
       " ('хо', 0.0011863100706573585),\n",
       " ('оро', 0.0011838413833113208),\n",
       " ('аларын', 0.001182994976221251),\n",
       " ('эринэн', 0.0011755889141831378),\n",
       " ('тии', 0.0011636686809979844),\n",
       " ('ада', 0.0011633865453012945),\n",
       " ('абын', 0.001161623197196982),\n",
       " ('бин', 0.0011595777133959792),\n",
       " ('бакка', 0.0011520305835095212),\n",
       " ('күн', 0.0011518895156611762),\n",
       " ('уттан', 0.0011510431085711061),\n",
       " ('мыт', 0.0011509020407227612),\n",
       " ('тик', 0.001150619905026071),\n",
       " ('ааччы', 0.0011504788371777261),\n",
       " ('ааһын', 0.0011500556336326911),\n",
       " ('ты', 0.0011452593267889607),\n",
       " ('лин', 0.0011448361232439257),\n",
       " ('ду', 0.0011446950553955807),\n",
       " ('ыһа', 0.0011445539875472356),\n",
       " ('ум', 0.0011439897161538556),\n",
       " ('тыы', 0.0011432843769121307),\n",
       " ('лика', 0.001142649571594578),\n",
       " ('тим', 0.0011421558341253705),\n",
       " ('даҕаны', 0.0011418736984286804),\n",
       " ('аттан', 0.001141379960959473),\n",
       " ('уур', 0.0011394050110826429),\n",
       " ('лы', 0.0011363015184190526),\n",
       " ('публика', 0.0011358077809498451),\n",
       " ('еспублика', 0.001134961373859775),\n",
       " ('республика', 0.0011348908399356026),\n",
       " ('маннык', 0.0011338328310730149),\n",
       " ('хас', 0.0011327748222104274),\n",
       " ('рон', 0.0011327748222104274),\n",
       " ('айа', 0.001127837447518352),\n",
       " ('эккэ', 0.0011255098280206594),\n",
       " ('иригэр', 0.001120572453328584),\n",
       " ('каҕа', 0.0011203608515560665),\n",
       " ('аһа', 0.0011174689606649939),\n",
       " ('луо', 0.0011115441110345035),\n",
       " ('араас', 0.0011090754236884658),\n",
       " ('ханнык', 0.0011056897953281854),\n",
       " ('ыра', 0.001103221107982148),\n",
       " ('орон', 0.001102656836588768),\n",
       " ('ҕар', 0.0010956034441715174),\n",
       " ('һынан', 0.0010943338335364123),\n",
       " ('уолла', 0.001092782087204617),\n",
       " ('ийэ', 0.0010911598069486496),\n",
       " ('дар', 0.0010844590841522616),\n",
       " ('акы', 0.0010833305413655014),\n",
       " ('ыһыытынан', 0.0010798743790810489),\n",
       " ('быһыытынан', 0.001075712877554871),\n",
       " ('такы', 0.0010731031223604882),\n",
       " ('бастакы', 0.0010728915205879708),\n",
       " ('барыта', 0.0010715513760286932),\n",
       " ('үүр', 0.0010672488066541704),\n",
       " ('тым', 0.0010659086620948928),\n",
       " ('ыҥ', 0.0010612534230995075),\n",
       " ('ыйа', 0.001060336482085265),\n",
       " ('ьиэ', 0.0010587847357534698),\n",
       " ('дьиэ', 0.0010584320661326074),\n",
       " ('нээх', 0.0010576561929667098),\n",
       " ('туран', 0.0010573740572700197),\n",
       " ('олуо', 0.0010560339127107421),\n",
       " ('аҕар', 0.001054764302075637),\n",
       " ('ыттара', 0.001054764302075637),\n",
       " ('уолуо', 0.001053917894985567),\n",
       " ('буолла', 0.0010531420218196695),\n",
       " ('ыылаах', 0.0010495447916868718),\n",
       " ('ахтара', 0.0010487689185209742),\n",
       " ('сиригэр', 0.0010487689185209742),\n",
       " ('буолуо', 0.0010487689185209742),\n",
       " ('мэ', 0.0010482046471275942),\n",
       " ('тугу', 0.0010463002311749364),\n",
       " ('тааҕы', 0.0010458770276299014),\n",
       " ('ил', 0.0010436199420563812),\n",
       " ('айы', 0.0010434083402838638),\n",
       " ('сан', 0.001038118295970926),\n",
       " ('бытын', 0.0010372718888808558),\n",
       " ('өһө', 0.001032828251657988),\n",
       " ('ойду', 0.0010326166498854706),\n",
       " ('дойду', 0.001032405048112953),\n",
       " ('эрэн', 0.0010310649035536754),\n",
       " ('ча', 0.0010291604876010178),\n",
       " ('эннэ', 0.0010269739359516702),\n",
       " ('энэ', 0.0010245052486056324),\n",
       " ('рө', 0.0010214017559420424),\n",
       " ('өрө', 0.0010212606880936972),\n",
       " ('атах', 0.0010202026792311097),\n",
       " ('иигэ', 0.001016605449098312),\n",
       " ('үтүн', 0.0010051084194581937),\n",
       " ('тинэн', 0.0009984076966618057),\n",
       " ('аһынан', 0.0009975612895717356),\n",
       " ('элиир', 0.0009905784310786576),\n",
       " ('элэн', 0.000990507897154485),\n",
       " ('дьан', 0.0009894498882918976),\n",
       " ('ийэн', 0.00098613479385579),\n",
       " ('кэлэн', 0.000981409020936232),\n",
       " ('үө', 0.000980985817391197),\n",
       " ('аммыт', 0.0009802804781494719),\n",
       " ('туу', 0.0009776707229550894),\n",
       " ('дуу', 0.0009732270857322215),\n",
       " ('гынан', 0.0009705467966136663),\n",
       " ('күнүгэр', 0.0009685013128126637),\n",
       " ('улар', 0.0009658210236941085),\n",
       " ('лор', 0.0009645514130590034),\n",
       " ('ким', 0.0009598256401394456),\n",
       " ('аттар', 0.000958767631276858),\n",
       " ('эҥ', 0.0009582738938076504),\n",
       " ('уохтаах', 0.000958203359883478),\n",
       " ('ууга', 0.0009533365191155751),\n",
       " ('кэй', 0.0009512910353145725),\n",
       " ('ээҕи', 0.0009506562299970199),\n",
       " ('эдэр', 0.0009492455515135699),\n",
       " ('тарыгар', 0.0009473411355609122),\n",
       " ('ина', 0.0009473411355609122),\n",
       " ('инилэр', 0.000944378710745667),\n",
       " ('кинилэр', 0.0009419100233996294),\n",
       " ('ста', 0.0009414162859304219),\n",
       " ('ылга', 0.0009402172092194892),\n",
       " ('лк', 0.0009390181325085567),\n",
       " ('олк', 0.000938242259342659),\n",
       " ('аннаах', 0.0009348566309823788),\n",
       " ('орун', 0.0009347155631340339),\n",
       " ('солк', 0.0009333048846505837),\n",
       " ('иҥ', 0.0009330227489538937),\n",
       " ('ахпыт', 0.0009314004686979262),\n",
       " ('наан', 0.000931118333001236),\n",
       " ('дээх', 0.000929707654517786),\n",
       " ('дуо', 0.0009287907135035434),\n",
       " ('россия', 0.0009286496456551984),\n",
       " ('лаҕа', 0.0009284380438826809),\n",
       " ('алыы', 0.0009268157636267133),\n",
       " ('төһө', 0.0009235712031147781),\n",
       " ('уһун', 0.000923006931721398),\n",
       " ('элээх', 0.0009177874213326327),\n",
       " ('тыыр', 0.000916165141076665),\n",
       " ('наада', 0.0009103813592945197),\n",
       " ('е', 0.0009089706808110696),\n",
       " ('рат', 0.000908053739796827),\n",
       " ('ыахтаах', 0.0009072778666309295),\n",
       " ('айга', 0.0009065725273892044),\n",
       " ('ххо', 0.0009048797132090643),\n",
       " ('оххо', 0.0009047386453607193),\n",
       " ('аһы', 0.0009035395686497867),\n",
       " ('аты', 0.0009033985008014417),\n",
       " ('иттэр', 0.0009028342294080617),\n",
       " ('ала', 0.000900506609910369),\n",
       " ('ь', 0.000899236999275264),\n",
       " ('тоҕо', 0.0008983905921851939),\n",
       " ('стээх', 0.0008975441850951238),\n",
       " ('сылдьан', 0.0008960629726875012),\n",
       " ('уот', 0.0008919014711613235),\n",
       " ('астаах', 0.0008894327838152858),\n",
       " ('нук', 0.0008879515714076632),\n",
       " ('нү', 0.0008878810374834907),\n",
       " ('ытар', 0.0008832257984881053),\n",
       " ('ээ', 0.0008815329843079652),\n",
       " ('ой', 0.000877583084554305),\n",
       " ('ылын', 0.0008612192141462838),\n",
       " ('аахтар', 0.0008607254766770763),\n",
       " ('аатын', 0.000855929169833346),\n",
       " ('аллара', 0.0008533194146389633),\n",
       " ('эрдэ', 0.0008525435414730657),\n",
       " ('айан', 0.0008521908718522032),\n",
       " ('ордук', 0.0008516266004588231),\n",
       " ('өрөн', 0.0008503569898237181),\n",
       " ('ыыны', 0.0008501453880512006),\n",
       " ('рэх', 0.0008497221845061656),\n",
       " ('атынан', 0.0008464070900700578),\n",
       " ('бар', 0.0008455606829799878),\n",
       " ('йэтэ', 0.0008433035974064676),\n",
       " ('аара', 0.0008352627300508021),\n",
       " ('куорат', 0.0008339931194156969),\n",
       " ('катын', 0.0008310306946004518),\n",
       " ('оҕун', 0.0008275039983918265),\n",
       " ('ура', 0.0008253879806666514),\n",
       " ('һыгар', 0.0008212264791404736),\n",
       " ('атан', 0.000820027402429541),\n",
       " ('лох', 0.0008191104614152985),\n",
       " ('го', 0.0008183345882494009),\n",
       " ('ирэн', 0.0008175587150835034),\n",
       " ('үрдүк', 0.0008172765793868133),\n",
       " ('олох', 0.0008172060454626408),\n",
       " ('батах', 0.0008155837652066732),\n",
       " ('уну', 0.0008142436206473956),\n",
       " ('лэлиир', 0.0008125508064672555),\n",
       " ('ту', 0.0008119865350738755),\n",
       " ('үлэлиир', 0.0008112811958321504),\n",
       " ('аспыт', 0.0008107874583629429),\n",
       " ('сылга', 0.0008102937208937353),\n",
       " ('лыбыт', 0.0008102231869695629),\n",
       " ('аахха', 0.0008069786264576276),\n",
       " ('нын', 0.00080535634620166),\n",
       " ('эрбит', 0.0008035224641731749),\n",
       " ('тата', 0.0008029581927797948),\n",
       " ('алара', 0.0008021117856897248),\n",
       " ('ылы', 0.0008017591160688623),\n",
       " ('эбэтэр', 0.0007985850894810996),\n",
       " ('даах', 0.0007949878593483018),\n",
       " ('иһигэр', 0.0007936477147890242),\n",
       " ('өөх', 0.0007907558238979516),\n",
       " ('май', 0.0007904736882012615),\n",
       " ('ыын', 0.0007892040775661565),\n",
       " ('эбитэ', 0.0007891335436419839),\n",
       " ('аабыт', 0.0007873701955376713),\n",
       " ('быйыл', 0.0007870175259168088),\n",
       " ('ыыта', 0.0007859595170542212),\n",
       " ('амай', 0.0007843372367982536),\n",
       " ('иһиэхэ', 0.000783561363632356),\n",
       " ('уолбут', 0.0007832086940114935),\n",
       " ('сүрүн', 0.000782997092238976),\n",
       " ('арыы', 0.0007820801512247335),\n",
       " ('иин', 0.0007808105405896283),\n",
       " ('ахсан', 0.0007719938000680652),\n",
       " ('иллэн', 0.0007713589947505127),\n",
       " ('гын', 0.0007688197734803025),\n",
       " ('эмэ', 0.0007683965699352675),\n",
       " ('түгэр', 0.0007678322985418875),\n",
       " ('батын', 0.0007664216200584373),\n",
       " ('иэтэ', 0.0007662805522100924),\n",
       " ('ытары', 0.0007650109415749872),\n",
       " ('уоллар', 0.0007633886613190197),\n",
       " ('саамай', 0.0007599324990345669),\n",
       " ('ыллыбыт', 0.0007589450240961519),\n",
       " ('ей', 0.0007565468706742867),\n",
       " ('аллаах', 0.0007537255137073865),\n",
       " ('нун', 0.0007532317762381789),\n",
       " ('ииргэ', 0.0007506925549679688),\n",
       " ('үл', 0.0007506220210437963),\n",
       " ('кытары', 0.0007498461478778987),\n",
       " ('лаҕына', 0.0007482238676219311),\n",
       " ('уһугар', 0.0007475890623043786),\n",
       " ('битин', 0.0007466015873659635),\n",
       " ('лун', 0.0007460373159725835),\n",
       " ('кыра', 0.0007455435785033759),\n",
       " ('өл', 0.0007420874162189231),\n",
       " ('аары', 0.000739548194948713),\n",
       " ('во', 0.0007393365931761955),\n",
       " ('уйан', 0.0007375732450718829),\n",
       " ('арда', 0.0007374321772235379),\n",
       " ('элэрэ', 0.0007371500415268478),\n",
       " ('һ', 0.0007350340238016727),\n",
       " ('тыттан', 0.0007338349470907401),\n",
       " ('уоҕа', 0.0007312251918963575),\n",
       " ('уйа', 0.00073101359012384),\n",
       " ('иирэн', 0.0007303082508821149),\n",
       " ('мит', 0.0007284743688536297),\n",
       " ('эһэ', 0.0007277690296119047),\n",
       " ('ыгы', 0.0007249476726450046),\n",
       " ('ыһ', 0.000724736070872487),\n",
       " ('тыһ', 0.000724171799479107),\n",
       " ('эйэ', 0.0007234664602373819),\n",
       " ('киирэн', 0.0007205745693463092),\n",
       " ('стан', 0.0007200808318771017),\n",
       " ('уоллаҕына', 0.0007188817551661691),\n",
       " ('аайы', 0.000717188940986029),\n",
       " ('этии', 0.0007165541356684765),\n",
       " ('алаан', 0.0007162014660476139),\n",
       " ('буоллаҕына', 0.0007148613214883363),\n",
       " ('олоххо', 0.0007146497197158188),\n",
       " ('эбин', 0.0007136622447774037),\n",
       " ('охтоох', 0.0007128863716115062),\n",
       " ('арыттан', 0.0007115462270522287),\n",
       " ('ааҕа', 0.000710770353886331),\n",
       " ('мир', 0.0007104882181896411),\n",
       " ('ээтэ', 0.0007091480736303635),\n",
       " ('буоллар', 0.0007073847255260508),\n",
       " ('артан', 0.0007052687078008756),\n",
       " ('уттар', 0.0007040696310899431),\n",
       " ('нал', 0.0007040696310899431),\n",
       " ('ыан', 0.0007035758936207356),\n",
       " ('гэй', 0.000702235749061458),\n",
       " ('бур', 0.0007012482741230429),\n",
       " ('кэмҥэ', 0.0006999786634879378),\n",
       " ('ҕан', 0.0006991322563978678),\n",
       " ('д', 0.000696804636900175),\n",
       " ('элии', 0.0006964519672793126),\n",
       " ('холобур', 0.0006961698315826226),\n",
       " ('көрөн', 0.00069440648347831),\n",
       " ('отун', 0.0006929958049948598),\n",
       " ('имир', 0.0006927136692981698),\n",
       " ('эҥҥэ', 0.0006925726014498249),\n",
       " ('ыла', 0.0006924315336014798),\n",
       " ('атар', 0.0006915851265114097),\n",
       " ('эрии', 0.0006904565837246497),\n",
       " ('аска', 0.0006903860498004772),\n",
       " ('этэн', 0.0006900333801796146),\n",
       " ('сир', 0.000688128964226957),\n",
       " ('оннук', 0.0006879173624544395),\n",
       " ('ҕас', 0.0006867888196676795),\n",
       " ('лыыр', 0.0006862245482742994),\n",
       " ('рдээх', 0.0006837558609282617),\n",
       " ('ос', 0.0006826978520656741),\n",
       " ('итинэн', 0.0006791006219328764),\n",
       " ('илээх', 0.0006786068844636689),\n",
       " ('быттара', 0.0006782542148428063),\n",
       " ('үһү', 0.0006780426130702888),\n",
       " ('бэрт', 0.0006745864507858361),\n",
       " ('нара', 0.0006735989758474211),\n",
       " ('па', 0.0006728936366056959),\n",
       " ('үгэ', 0.0006726820348331784),\n",
       " ('рай', 0.0006696490760937608),\n",
       " ('сар', 0.0006692964064728982),\n",
       " ('тук', 0.0006683794654586556),\n",
       " ('эйэтин', 0.0006683089315344832),\n",
       " ('астаан', 0.0006680267958377932),\n",
       " ('ээхтик', 0.0006671803887477231),\n",
       " ('ыйын', 0.000666616117354343),\n",
       " ('ааспыт', 0.000666192913809308),\n",
       " ('кис', 0.0006650643710225479),\n",
       " ('маны', 0.0006647117014016854),\n",
       " ('буолбут', 0.0006642884978566504),\n",
       " ('бэйэтин', 0.0006633715568424079),\n",
       " ('онун', 0.0006623135479798203),\n",
       " ('олору', 0.0006613260730414052),\n",
       " ('эмигэр', 0.0006599859284821276),\n",
       " ('анал', 0.00065836364822616),\n",
       " ('ыбыта', 0.0006566708340460199),\n",
       " ('ыытын', 0.0006540610788516372),\n",
       " ('кэмигэр', 0.0006540610788516372),\n",
       " ('өбүт', 0.0006539905449274647),\n",
       " ('айар', 0.0006533557396099122),\n",
       " ('иккис', 0.0006533557396099122),\n",
       " ('ылан', 0.0006528620021407046),\n",
       " ('дьону', 0.0006527209342923596),\n",
       " ('ков', 0.0006525798664440145),\n",
       " ('ҥҥи', 0.000651098654036392),\n",
       " ('син', 0.0006506049165671844),\n",
       " ('эйэтэ', 0.0006494058398562519),\n",
       " ('арай', 0.0006475014239035943),\n",
       " ('лохтоох', 0.0006473603560552492),\n",
       " ('олохтоох', 0.0006472192882069042),\n",
       " ('бэйэтэ', 0.000644256863391659),\n",
       " ('үчүгэй', 0.0006418587099697938),\n",
       " ('дьокуускай', 0.0006414355064247588),\n",
       " ('аҕас', 0.0006392489547754112),\n",
       " ('таһынан', 0.0006383320137611686),\n",
       " ('алларын', 0.0006382614798369961),\n",
       " ('аҕан', 0.0006381204119886511),\n",
       " ('ытым', 0.0006373445388227535),\n",
       " ('чи', 0.0006363570638843385),\n",
       " ('ирдэ', 0.0006362865299601659),\n",
       " ('чу', 0.0006362865299601659),\n",
       " ('ыллаахха', 0.0006349463854008883),\n",
       " ('аана', 0.0006344526479316808),\n",
       " ('нарын', 0.0006344526479316808),\n",
       " ('ли', 0.0006343115800833358),\n",
       " ('сыллаахха', 0.0006338178426141283),\n",
       " ('элэ', 0.0006317018248889532),\n",
       " ('иирдэ', 0.0006296563410879506),\n",
       " ('кэнниттэн', 0.000628316196528673),\n",
       " ('ньэ', 0.0006278929929836379),\n",
       " ('ыбатын', 0.0006278224590594653),\n",
       " ('ыппыт', 0.0006256359074101178),\n",
       " ('иитин', 0.0006191467863862472),\n",
       " ('иэххэ', 0.0006181593114478322),\n",
       " ('ааннаах', 0.0006173129043577621),\n",
       " ('ыыс', 0.0006165370311918646),\n",
       " ('ьа', 0.0006149147509358971),\n",
       " ('алары', 0.000614350479542517),\n",
       " ('аһыгар', 0.0006135040724524469),\n",
       " ('иһэр', 0.0006084256299120265),\n",
       " ('гыы', 0.0006063801461110239),\n",
       " ('ахтарын', 0.0006046873319308838),\n",
       " ('киин', 0.0006036293230682962),\n",
       " ('уллар', 0.0006025007802815362),\n",
       " ('иини', 0.0006022186445848462),\n",
       " ('ыаҕа', 0.0006016543731914661),\n",
       " ('ныы', 0.0006015838392672936),\n",
       " ('тылар', 0.0006013722374947761),\n",
       " ('аҥҥа', 0.0006013722374947761),\n",
       " ('олорон', 0.000600807966101396),\n",
       " ('олор', 0.000599538355466291),\n",
       " ('һыы', 0.0005982687448311859),\n",
       " ('сиргэ', 0.0005958705914093207),\n",
       " ('ыларын', 0.0005953768539401132),\n",
       " ('анаан', 0.0005949536503950781),\n",
       " ('эттэн', 0.0005947420486225606),\n",
       " ('ыахха', 0.0005945304468500431),\n",
       " ('оно', 0.000593684039759973),\n",
       " ('дан', 0.0005931903022907655),\n",
       " ('тыбатын', 0.0005918501577314879),\n",
       " ('эҥэ', 0.0005903689453238654),\n",
       " ('оту', 0.0005902278774755203),\n",
       " ('рү', 0.0005895225382337953),\n",
       " ('үм', 0.0005890288007645878),\n",
       " ('элбит', 0.0005881118597503451),\n",
       " ('быттар', 0.0005878297240536551),\n",
       " ('өрөр', 0.0005876886562053102),\n",
       " ('барытын', 0.00058627797772186),\n",
       " ('лгыы', 0.000585572638480135),\n",
       " ('алгыы', 0.0005850789010109275),\n",
       " ('пин', 0.0005828218154374073),\n",
       " ('салгыы', 0.0005811290012572672),\n",
       " ('улуус', 0.0005810584673330947),\n",
       " ('утуу', 0.0005785192460628845),\n",
       " ('орто', 0.0005783781782145395),\n",
       " ('суол', 0.0005782371103661945),\n",
       " ('антан', 0.0005738640070674992),\n",
       " ('тарынан', 0.0005718890571906691),\n",
       " ('таллар', 0.000571324785797289),\n",
       " ('үлэҕэ', 0.0005689266323754238),\n",
       " ('лыгар', 0.0005687855645270789),\n",
       " ('гүн', 0.0005681507592095263),\n",
       " ('эки', 0.0005646945969250735),\n",
       " ('бииргэ', 0.000562931248820761),\n",
       " ('яны', 0.0005621553756548634),\n",
       " ('эл', 0.0005620848417306909),\n",
       " ('ева', 0.0005601098918538608),\n",
       " ('иитэ', 0.0005598277561571708),\n",
       " ('диир', 0.0005592634847637907),\n",
       " ('үөрэх', 0.0005581349419770306),\n",
       " ('ыал', 0.0005571474670386156),\n",
       " ('ыытыгар', 0.0005565831956452355),\n",
       " ('иһини', 0.000556089458176028),\n",
       " ('иятын', 0.000555807322479338),\n",
       " ('киһини', 0.000555807322479338),\n",
       " ('кэлбит', 0.0005553135850101304),\n",
       " ('ааҕын', 0.0005551019832376129),\n",
       " ('хаһан', 0.0005549609153892679),\n",
       " ('таҕа', 0.0005527743637399203),\n",
       " ('инник', 0.0005505878120905726),\n",
       " ('куола', 0.0005505172781664001),\n",
       " ('аахтык', 0.0005503056763938826),\n",
       " ('аастаах', 0.0005500235406971926),\n",
       " ('эммит', 0.00054995300677302),\n",
       " ('итинник', 0.0005493182014554676),\n",
       " ('оҥҥо', 0.000548965531834605),\n",
       " ('тахсан', 0.0005480485908203625),\n",
       " ('төр', 0.0005467084462610849),\n",
       " ('уна', 0.0005464968444885673),\n",
       " ('гүс', 0.0005444513606875647),\n",
       " ('үгүс', 0.0005443102928392197),\n",
       " ('оҕор', 0.0005438165553700122),\n",
       " ('ууһун', 0.0005436049535974946),\n",
       " ('оскуола', 0.0005429701482799421),\n",
       " ('баара', 0.0005401487913130418),\n",
       " ('федеральнай', 0.0005393023842229719),\n",
       " ('ыбын', 0.0005390907824504544),\n",
       " ('уллубут', 0.0005390907824504544),\n",
       " ('ууну', 0.0005387381128295918),\n",
       " ('рүү', 0.0005385265110570743),\n",
       " ('ыйах', 0.0005383854432087293),\n",
       " ('илии', 0.0005377506378911768),\n",
       " ('чылар', 0.0005373979682703142),\n",
       " ('кэлэр', 0.0005366220951044167),\n",
       " ('тал', 0.0005364810272560716),\n",
       " ('бэ', 0.0005349292809242765),\n",
       " ('ики', 0.0005340828738342065),\n",
       " ('нт', 0.0005331659328199639),\n",
       " ('ракка', 0.0005316847204123414),\n",
       " ('ханна', 0.0005311909829431337),\n",
       " ('чат', 0.0005311204490189613),\n",
       " ('аҕыйах', 0.0005306972454739262),\n",
       " ('гун', 0.0005303445758530638),\n",
       " ('ыччат', 0.0005301329740805463),\n",
       " ('улуу', 0.0005293571009146486),\n",
       " ('үнү', 0.0005292865669904762),\n",
       " ('ынай', 0.0005281580242037161),\n",
       " ('үҥ', 0.000526888413568611),\n",
       " ('бытыгар', 0.0005261125404027135),\n",
       " ('өрү', 0.0005253366672368159),\n",
       " ('социальнай', 0.0005244197262225733),\n",
       " ('ынна', 0.0005220921067248807),\n",
       " ('айын', 0.0005215278353315006),\n",
       " ('танар', 0.0005213867674831556),\n",
       " ('ыллан', 0.0005205403603930856),\n",
       " ('иллибит', 0.000520469826468913),\n",
       " ('ытан', 0.0005198350211513605),\n",
       " ('биттэрэ', 0.000519341283682153),\n",
       " ('уктаах', 0.000518777012288773),\n",
       " ('кэннэ', 0.0005180011391228754),\n",
       " ('аахпыт', 0.0005170841981086328),\n",
       " ('отугар', 0.0005170136641844603),\n",
       " ('ияны', 0.0005168020624119428),\n",
       " ('утан', 0.0005156735196251827),\n",
       " ('уттара', 0.0005156029857010102),\n",
       " ('үлэлии', 0.0005153208500043202),\n",
       " ('ыйан', 0.0005130637644308),\n",
       " ('мэн', 0.0005122878912649025),\n",
       " ('лаллар', 0.0005103129413880724),\n",
       " ('олбатах', 0.0005099602717672098),\n",
       " ('уолбатах', 0.0005098897378430373),\n",
       " ('буолбатах', 0.0005057282363168595),\n",
       " ('ко', 0.0005053050327718245),\n",
       " ('үлэтин', 0.000505093430999307),\n",
       " ('ники', 0.0005047407613784445),\n",
       " ('ылаас', 0.0005044586256817545),\n",
       " ('бутун', 0.0005039648882125469),\n",
       " ('туһугар', 0.0005038943542883744),\n",
       " ('өҕө', 0.0005032595489708219),\n",
       " ('иннэ', 0.0005032595489708219),\n",
       " ('үлээх', 0.0005029774132741319),\n",
       " ('аччылар', 0.0005014962008665092),\n",
       " ('ыах', 0.0005011435312456468),\n",
       " ('ҕарар', 0.0004997328527621966),\n",
       " ('ааччылар', 0.0004993096492171616),\n",
       " ('баҕарар', 0.0004990980474446441),\n",
       " ('эхтэрэ', 0.0004986748438996091),\n",
       " ('тутуу', 0.0004968409618711239),\n",
       " ('ахсар', 0.000496417758326089),\n",
       " ('халыы', 0.000496417758326089),\n",
       " ('куоракка', 0.0004963472244019164),\n",
       " ('ыба', 0.0004959240208568813),\n",
       " ('тө', 0.0004956418851601914),\n",
       " ('кин', 0.0004955008173118463),\n",
       " ('иилээх', 0.0004932437317383262),\n",
       " ('этилэр', 0.0004928205281932911),\n",
       " ('быһа', 0.0004928205281932911),\n",
       " ('ональнай', 0.0004926089264207736),\n",
       " ('кэлин', 0.0004926089264207736),\n",
       " ('сахалыы', 0.0004919035871790486),\n",
       " ('оҕолор', 0.0004918330532548761),\n",
       " ('бүтэ', 0.0004903518408472535),\n",
       " ('биһиэхэ', 0.000489293831984666),\n",
       " ('уолуохтаах', 0.0004891527641363209),\n",
       " ('устар', 0.0004890116962879759),\n",
       " ('өрүү', 0.0004889411623638034),\n",
       " ('бастаан', 0.0004883768909704233),\n",
       " ('утар', 0.0004879536874253883),\n",
       " ('орт', 0.0004872483481836633),\n",
       " ('иэс', 0.0004864019410935932),\n",
       " ('ыыбын', 0.00048597873754855817),\n",
       " ('үтүө', 0.0004846385929892806),\n",
       " ('иийэн', 0.0004838627198233831),\n",
       " ('тиийэн', 0.00048372165197503803),\n",
       " ('омук', 0.000483157380581658),\n",
       " ('анын', 0.00048273417703662295),\n",
       " ('буолуохтаах', 0.00048231097349158797),\n",
       " ('элээн', 0.0004816056342498629),\n",
       " ('орох', 0.0004814645664015179),\n",
       " ('илэ', 0.00048104136285648285),\n",
       " ('биирдэ', 0.0004803360236147578),\n",
       " ('өрөөбүт', 0.0004799833539938953),\n",
       " ('албыт', 0.00047956015044886026),\n",
       " ('дик', 0.0004789958790554802),\n",
       " ('төрөөбүт', 0.0004787137433587902),\n",
       " ('сорох', 0.0004785726755104452),\n",
       " ('ыыһа', 0.00047850214158627266),\n",
       " ('айыстыбатын', 0.0004782905398137552),\n",
       " ('аайыстыбатын', 0.0004780789380412377),\n",
       " ('үнэ', 0.0004780789380412377),\n",
       " ('аат', 0.0004779378701928926),\n",
       " ('хаһаайыстыбатын', 0.0004770209291786501),\n",
       " ('ку', 0.0004770209291786501),\n",
       " ('лий', 0.00047666825955778756),\n",
       " ('биллэн', 0.00047666825955778756),\n",
       " ('баҕа', 0.00047638612386109757),\n",
       " ('дуга', 0.0004761039881644075),\n",
       " ('улууһун', 0.0004755397167710275),\n",
       " ('иэхтээх', 0.00047532811499850997),\n",
       " ('ылларга', 0.00047490491145347493),\n",
       " ('үрдүнэн', 0.00047490491145347493),\n",
       " ('үстээх', 0.0004745522418326124),\n",
       " ('йдар', 0.0004745522418326124),\n",
       " ('эттэ', 0.0004745522418326124),\n",
       " ('аҕынан', 0.0004741290382875774),\n",
       " ('биллэр', 0.0004741290382875774),\n",
       " ('ото', 0.0004732120972733348),\n",
       " ('ылынан', 0.0004721540884107473),\n",
       " ('хайа', 0.0004716603509415397),\n",
       " ('сытар', 0.0004715192830931947),\n",
       " ('илэри', 0.00047123714739650467),\n",
       " ('ылара', 0.00047060234207895216),\n",
       " ('порт', 0.00046968540106470956),\n",
       " ('ыйар', 0.00046954433321636456),\n",
       " ('аларыгар', 0.0004692621975196746),\n",
       " ('ылгы', 0.000468768460050467),\n",
       " ('бүтүн', 0.00046651137447694687),\n",
       " ('эк', 0.0004657355013110493),\n",
       " ('тыба', 0.0004655944334627043),\n",
       " ('илиҥҥи', 0.0004654533656143593),\n",
       " ('аннар', 0.0004652417638418418),\n",
       " ('аба', 0.00046474802637263424),\n",
       " ('өрдүлэр', 0.00046467749244846177),\n",
       " ('ахса', 0.0004638310853583917),\n",
       " ('таахтар', 0.0004623498729507691),\n",
       " ('мөл', 0.00046178560155738906),\n",
       " ('барар', 0.00046171506763321654),\n",
       " ('уохха', 0.000461080262315664),\n",
       " ('чыта', 0.000461080262315664),\n",
       " ('дьоҥҥо', 0.00045952851598386887),\n",
       " ('ирдии', 0.00045762410003121124),\n",
       " ('ыахтара', 0.00045698929471365874),\n",
       " ('иппит', 0.0004563544893961062),\n",
       " ('уута', 0.000454379539519276),\n",
       " ('ннээх', 0.00045430900559510355),\n",
       " ('олу', 0.00045395633597424104),\n",
       " ('бытым', 0.00045339206458086095),\n",
       " ('тр', 0.00045325099673251595),\n",
       " ('уоллаҕа', 0.0004523340557182734),\n",
       " ('тыҥ', 0.00045162871647654837),\n",
       " ('буоллаҕа', 0.00045155818255237585),\n",
       " ('тахсар', 0.00045014750406892573),\n",
       " ('тэринэн', 0.00045007697014475326),\n",
       " ('тахса', 0.00045007697014475326),\n",
       " ('тэри', 0.0004490894952063382),\n",
       " ('аарар', 0.00044887789343382066),\n",
       " ('аһар', 0.00044831362204044063),\n",
       " ('др', 0.00044817255419209563),\n",
       " ('иирдии', 0.0004478198845712331),\n",
       " ('рдэр', 0.0004467618757086455),\n",
       " ('дыы', 0.00044577440077023044),\n",
       " ('сылларга', 0.00044577440077023044),\n",
       " ('спорт', 0.0004453511972251954),\n",
       " ('уутун', 0.00044528066330102293),\n",
       " ('үүстээх', 0.00044528066330102293),\n",
       " ('ааҕар', 0.00044457532405929785),\n",
       " ('бии', 0.0004445047901351254),\n",
       " ('рут', 0.0004434467812725378),\n",
       " ('тэх', 0.00044260037418246775),\n",
       " ('суоҕа', 0.0004421771706374327),\n",
       " ('ыала', 0.0004414718313957077),\n",
       " ('дьоно', 0.0004405548903814651),\n",
       " ('биирдии', 0.00044020222076060256),\n",
       " ('үлэни', 0.00043801566911125494),\n",
       " ('урут', 0.00043702819417283987),\n",
       " ('норуот', 0.00043688712632449487),\n",
       " ('аларга', 0.00043681659240032235),\n",
       " ('уолбута', 0.00043667552455197735),\n",
       " ('бата', 0.0004363933888552873),\n",
       " ('өттүнэн', 0.0004363933888552873),\n",
       " ('тута', 0.0004355469817652173),\n",
       " ('или', 0.00043526484606852724),\n",
       " ...]"
      ]
     },
     "execution_count": 127,
     "metadata": {
      "tags": []
     },
     "output_type": "execute_result"
    }
   ],
   "source": [
    "uv_ost_sorted"
   ]
  },
  {
   "cell_type": "code",
   "execution_count": 0,
   "metadata": {
    "colab": {
     "autoexec": {
      "startup": false,
      "wait_interval": 0
     }
    },
    "colab_type": "code",
    "id": "eez6fkf5eJ6d",
    "outputId": "df067f16-2966-480e-e447-97cf7f5cfa62"
   },
   "outputs": [
    {
     "data": {
      "text/plain": [
       "('', 0.8364806393194887)"
      ]
     },
     "execution_count": 126,
     "metadata": {
      "tags": []
     },
     "output_type": "execute_result"
    }
   ],
   "source": [
    "half_uv_ost=min(uv_ost_sorted)\n",
    "half_uv_ost"
   ]
  },
  {
   "cell_type": "code",
   "execution_count": 0,
   "metadata": {
    "colab": {
     "autoexec": {
      "startup": false,
      "wait_interval": 0
     }
    },
    "colab_type": "code",
    "id": "cpkY020aeJ6r"
   },
   "outputs": [],
   "source": [
    "su=0\n",
    "for v in b.values():\n",
    "    su+=v"
   ]
  },
  {
   "cell_type": "code",
   "execution_count": 0,
   "metadata": {
    "colab": {
     "autoexec": {
      "startup": false,
      "wait_interval": 0
     }
    },
    "colab_type": "code",
    "id": "ZA7KBzdueJ6z",
    "outputId": "e20cd630-99c3-42ea-f5e6-f5f3f132cba9"
   },
   "outputs": [
    {
     "data": {
      "text/plain": [
       "147308"
      ]
     },
     "execution_count": 166,
     "metadata": {
      "tags": []
     },
     "output_type": "execute_result"
    }
   ],
   "source": [
    "sum2=0\n",
    "for d in b.values():\n",
    "    sum2+=d\n",
    "sum2"
   ]
  },
  {
   "cell_type": "code",
   "execution_count": 0,
   "metadata": {
    "colab": {
     "autoexec": {
      "startup": false,
      "wait_interval": 0
     }
    },
    "colab_type": "code",
    "id": "LUfFWW5deJ7A",
    "outputId": "99a5e692-de25-44da-f410-f059e317b084"
   },
   "outputs": [
    {
     "data": {
      "text/plain": [
       "defaultdict(int, {'бар': 147308})"
      ]
     },
     "execution_count": 160,
     "metadata": {
      "tags": []
     },
     "output_type": "execute_result"
    }
   ],
   "source": [
    "sum1=defaultdict(int)\n",
    "word_w_bases=defaultdict(int)#число слов с этими основами\n",
    "for w,n in voc.items():\n",
    "    if not w.startswith('бар'):\n",
    "        continue\n",
    "    word_w_bases[w]+=n\n",
    "    sum1['бар']+=n\n",
    "sum1    "
   ]
  },
  {
   "cell_type": "markdown",
   "metadata": {},
   "source": [
    "###  функции для графиков частот"
   ]
  },
  {
   "cell_type": "code",
   "execution_count": 0,
   "metadata": {
    "colab": {
     "autoexec": {
      "startup": false,
      "wait_interval": 0
     }
    },
    "colab_type": "code",
    "id": "MIJ8Hb0VeJ7X"
   },
   "outputs": [],
   "source": [
    "def n(a):\n",
    "    current_node = trie\n",
    "    for char in a[::-1]:\n",
    "        current_node = current_node[char]\n",
    "    return current_node['n']\n",
    "\n",
    "def n2(a):#функция принимает строку\n",
    "    current_node = trie\n",
    "    for char in a[::-1]:\n",
    "        current_node = current_node[char]\n",
    "    return sorted([(k,subtree['n']) for k, subtree in current_node.items() if k not in '#n'], key=itemgetter(1), reverse=True)"
   ]
  },
  {
   "cell_type": "code",
   "execution_count": 0,
   "metadata": {
    "colab": {
     "autoexec": {
      "startup": false,
      "wait_interval": 0
     }
    },
    "colab_type": "code",
    "id": "DQSnNBsUeJ8A"
   },
   "outputs": [],
   "source": [
    "%matplotlib inline\n",
    "from matplotlib import pyplot as plt\n",
    "import numpy as np\n",
    "def diag(a):\n",
    "    current_node = trie\n",
    "    for char in a[::-1]:\n",
    "        current_node = current_node[char]\n",
    "    pairs = sorted([(k,subtree['n']) for k, subtree in current_node.items() if k not in '#n'], \n",
    "                   key=itemgetter(1), \n",
    "                   reverse=True)\n",
    "    kol = [p[1] for p in pairs]\n",
    "    chs = [p[0] for p in pairs]\n",
    "    plt.figure(figsize=(14,7))\n",
    "    plt.bar(np.arange(len(kol)), kol, tick_label=chs)\n",
    "    #plt.savefig(a+'.pdf')\n",
    "    plt.show()"
   ]
  },
  {
   "cell_type": "code",
   "execution_count": 0,
   "metadata": {
    "colab": {
     "autoexec": {
      "startup": false,
      "wait_interval": 0
     }
    },
    "colab_type": "code",
    "id": "NG7MccvNeJ8Z",
    "outputId": "7610c2a0-51e1-4e2a-bb50-611ceac5d5b8"
   },
   "outputs": [
    {
     "data": {
      "image/png": "[encoded data removed]",
      "text/plain": [
       "<matplotlib.figure.Figure at 0x207ecd68b38>"
      ]
     },
     "metadata": {
      "tags": []
     },
     "output_type": "display_data"
    }
   ],
   "source": [
    "diag('тан')"
   ]
  },
  {
   "cell_type": "code",
   "execution_count": 0,
   "metadata": {
    "colab": {
     "autoexec": {
      "startup": false,
      "wait_interval": 0
     }
    },
    "colab_type": "code",
    "id": "z2XQMBJpeJ8u",
    "outputId": "cf1b092d-6a8f-44fa-de31-93d160aea468"
   },
   "outputs": [
    {
     "data": {
      "image/png": "[encoded data removed]",
      "text/plain": [
       "<matplotlib.figure.Figure at 0x207940b1a58>"
      ]
     },
     "metadata": {
      "tags": []
     },
     "output_type": "display_data"
    }
   ],
   "source": [
    "diag('ртан')"
   ]
  },
  {
   "cell_type": "code",
   "execution_count": 0,
   "metadata": {
    "colab": {
     "autoexec": {
      "startup": false,
      "wait_interval": 0
     }
    },
    "colab_type": "code",
    "id": "6oSfQqySeJ9P",
    "outputId": "d3240c3c-7e59-473a-b341-28032b6ee0c2"
   },
   "outputs": [
    {
     "data": {
      "image/png": "[encoded data removed]",
      "text/plain": [
       "<matplotlib.figure.Figure at 0x2079356e630>"
      ]
     },
     "metadata": {
      "tags": []
     },
     "output_type": "display_data"
    }
   ],
   "source": [
    "diag('артан')"
   ]
  },
  {
   "cell_type": "code",
   "execution_count": 0,
   "metadata": {
    "colab": {
     "autoexec": {
      "startup": false,
      "wait_interval": 0
     }
    },
    "colab_type": "code",
    "id": "GdlCUxwSeJ9e",
    "outputId": "2befbca4-3df7-41cf-aeb0-0b4e59aca065"
   },
   "outputs": [
    {
     "data": {
      "image/png": "[encoded data removed]",
      "text/plain": [
       "<matplotlib.figure.Figure at 0x28c41d1e6a0>"
      ]
     },
     "metadata": {
      "tags": []
     },
     "output_type": "display_data"
    }
   ],
   "source": [
    "diag('ыах')"
   ]
  },
  {
   "cell_type": "code",
   "execution_count": 0,
   "metadata": {
    "colab": {
     "autoexec": {
      "startup": false,
      "wait_interval": 0
     }
    },
    "colab_type": "code",
    "id": "Kfl85LB3eJ9r",
    "outputId": "b573d6b2-1324-43b8-e0d6-7211d820b087"
   },
   "outputs": [
    {
     "data": {
      "image/png": "[encoded data removed]",
      "text/plain": [
       "<matplotlib.figure.Figure at 0x28c41b25d68>"
      ]
     },
     "metadata": {
      "tags": []
     },
     "output_type": "display_data"
    }
   ],
   "source": [
    "diag('ларын')"
   ]
  },
  {
   "cell_type": "code",
   "execution_count": 0,
   "metadata": {
    "colab": {
     "autoexec": {
      "startup": false,
      "wait_interval": 0
     }
    },
    "colab_type": "code",
    "id": "yUA9wWvzeJ91",
    "outputId": "ee6d1eda-f6ee-48b4-8dbf-edd27a613f7d"
   },
   "outputs": [
    {
     "data": {
      "image/png": "[encoded data removed]",
      "text/plain": [
       "<matplotlib.figure.Figure at 0x2079454eb38>"
      ]
     },
     "metadata": {
      "tags": []
     },
     "output_type": "display_data"
    }
   ],
   "source": [
    "diag('ы')"
   ]
  },
  {
   "cell_type": "code",
   "execution_count": 0,
   "metadata": {
    "colab": {
     "autoexec": {
      "startup": false,
      "wait_interval": 0
     }
    },
    "colab_type": "code",
    "id": "ryIAlcJ1eJ-J",
    "outputId": "de152b91-fb8c-4cd1-d29a-0e765d80a0aa"
   },
   "outputs": [
    {
     "data": {
      "image/png": "[encoded data removed]",
      "text/plain": [
       "<matplotlib.figure.Figure at 0x28c420ab128>"
      ]
     },
     "metadata": {
      "tags": []
     },
     "output_type": "display_data"
    }
   ],
   "source": [
    "diag('ан')"
   ]
  },
  {
   "cell_type": "code",
   "execution_count": 0,
   "metadata": {
    "colab": {
     "autoexec": {
      "startup": false,
      "wait_interval": 0
     }
    },
    "colab_type": "code",
    "id": "1zNPUefdeJ-W",
    "outputId": "fc129230-54b5-4cbe-a26b-5350d23636af"
   },
   "outputs": [
    {
     "data": {
      "image/png": "[encoded data removed]",
      "text/plain": [
       "<matplotlib.figure.Figure at 0x207944f0c18>"
      ]
     },
     "metadata": {
      "tags": []
     },
     "output_type": "display_data"
    }
   ],
   "source": [
    "diag('ары')"
   ]
  },
  {
   "cell_type": "code",
   "execution_count": 0,
   "metadata": {
    "colab": {
     "autoexec": {
      "startup": false,
      "wait_interval": 0
     }
    },
    "colab_type": "code",
    "id": "pZn1SgLqeJ-n",
    "outputId": "1fd3ec3c-fba7-4c3a-cce8-b5365c5d389f"
   },
   "outputs": [
    {
     "data": {
      "image/png": "[encoded data removed]",
      "text/plain": [
       "<matplotlib.figure.Figure at 0x20794cf4828>"
      ]
     },
     "metadata": {
      "tags": []
     },
     "output_type": "display_data"
    }
   ],
   "source": [
    "diag('лары')"
   ]
  },
  {
   "cell_type": "code",
   "execution_count": 0,
   "metadata": {
    "colab": {
     "autoexec": {
      "startup": false,
      "wait_interval": 0
     }
    },
    "colab_type": "code",
    "id": "yPWH4j_BeJ-2",
    "outputId": "59094767-2e81-49fc-ca6e-c422d54eb0d4"
   },
   "outputs": [
    {
     "data": {
      "image/png": "[encoded data removed]",
      "text/plain": [
       "<matplotlib.figure.Figure at 0x207951bb748>"
      ]
     },
     "metadata": {
      "tags": []
     },
     "output_type": "display_data"
    }
   ],
   "source": [
    "diag('тары')"
   ]
  },
  {
   "cell_type": "code",
   "execution_count": 0,
   "metadata": {
    "colab": {
     "autoexec": {
      "startup": false,
      "wait_interval": 0
     }
    },
    "colab_type": "code",
    "id": "P4gMBqpreJ_I",
    "outputId": "cc2ef9aa-1650-42b4-8569-5b827739d68d"
   },
   "outputs": [
    {
     "name": "stdout",
     "output_type": "stream",
     "text": [
      "[('н', 226046), ('т', 155812), ('а', 105460), ('р', 78300), ('л', 63944), ('х', 40317), ('й', 29959), ('һ', 24992), ('ь', 15640), ('с', 14718), ('ы', 9975), ('ҕ', 9912), ('д', 8410), ('в', 4265), ('м', 3512), ('г', 1700), ('б', 1647), ('п', 1378), ('ҥ', 1091), ('и', 271), ('ж', 249), ('к', 232), ('з', 221), ('ч', 58), ('ф', 38), ('е', 28), ('ш', 23), ('у', 19), ('о', 9), ('ц', 8), ('ө', 2), ('ү', 1), ('я', 1), ('щ', 1)]\n",
      "2.07802568567697\n"
     ]
    }
   ],
   "source": [
    "print(n2('ан'))\n",
    "print((155812+226046)/(105460+78300))"
   ]
  },
  {
   "cell_type": "code",
   "execution_count": 0,
   "metadata": {
    "colab": {
     "autoexec": {
      "startup": false,
      "wait_interval": 0
     }
    },
    "colab_type": "code",
    "id": "YCgR94KWeJ_X",
    "outputId": "b0c48940-5e15-478c-c8a1-95646a3e049a"
   },
   "outputs": [
    {
     "data": {
      "text/plain": [
       "4.771907216494846"
      ]
     },
     "execution_count": 11,
     "metadata": {
      "tags": []
     },
     "output_type": "execute_result"
    }
   ],
   "source": [
    "3703/776"
   ]
  },
  {
   "cell_type": "code",
   "execution_count": 0,
   "metadata": {
    "colab": {
     "autoexec": {
      "startup": false,
      "wait_interval": 0
     }
    },
    "colab_type": "code",
    "id": "CNiBXXuxeJ_r",
    "outputId": "0a00209f-ae2f-4714-a39d-2cc308862032"
   },
   "outputs": [
    {
     "data": {
      "image/png": "[encoded data removed]",
      "text/plain": [
       "<matplotlib.figure.Figure at 0x207ecd4d8d0>"
      ]
     },
     "metadata": {
      "tags": []
     },
     "output_type": "display_data"
    }
   ],
   "source": [
    "diag('лартан')"
   ]
  },
  {
   "cell_type": "code",
   "execution_count": 0,
   "metadata": {
    "colab": {
     "autoexec": {
      "startup": false,
      "wait_interval": 0
     }
    },
    "colab_type": "code",
    "id": "xK_bwNnxeKAA",
    "outputId": "2bd31e5a-0d2a-486c-d1ba-b3f291db361a"
   },
   "outputs": [
    {
     "data": {
      "image/png": "[encoded data removed]",
      "text/plain": [
       "<matplotlib.figure.Figure at 0x20792f99e48>"
      ]
     },
     "metadata": {
      "tags": []
     },
     "output_type": "display_data"
    }
   ],
   "source": [
    "diag('хтара')"
   ]
  },
  {
   "cell_type": "code",
   "execution_count": 0,
   "metadata": {
    "colab": {
     "autoexec": {
      "startup": false,
      "wait_interval": 0
     }
    },
    "colab_type": "code",
    "id": "90LOWl_deKAN",
    "outputId": "c577723d-6a3b-45a7-b765-5c8fd7fb8811"
   },
   "outputs": [
    {
     "data": {
      "image/png": "[encoded data removed]",
      "text/plain": [
       "<matplotlib.figure.Figure at 0x20792fb5400>"
      ]
     },
     "metadata": {
      "tags": []
     },
     "output_type": "display_data"
    }
   ],
   "source": [
    "diag('тара')"
   ]
  },
  {
   "cell_type": "markdown",
   "metadata": {
    "colab_type": "text",
    "id": "um140kXieKAa"
   },
   "source": [
    "### при информанте \"н\" начнем расширять аффикс"
   ]
  },
  {
   "cell_type": "code",
   "execution_count": 0,
   "metadata": {
    "colab": {
     "autoexec": {
      "startup": false,
      "wait_interval": 0
     }
    },
    "colab_type": "code",
    "id": "j6YLzKvFeKAe",
    "outputId": "42cef965-8380-4a8d-9f8c-fd56edd7928e"
   },
   "outputs": [
    {
     "name": "stdout",
     "output_type": "stream",
     "text": [
      "[('а', 798469), ('э', 500106), ('ы', 462367), ('и', 376365), ('о', 192704), ('у', 127619), ('ү', 92134), ('ө', 42450), ('е', 5962), ('я', 925), ('й', 386), ('н', 121), ('р', 117), ('л', 109), ('ю', 40), ('т', 40), ('ё', 38), ('ш', 25), ('м', 22), ('ь', 17), ('б', 13), ('г', 6), ('к', 4), ('ц', 3), ('х', 3), ('п', 2), ('с', 2), ('в', 2), ('ж', 1), ('ҥ', 1), ('ҕ', 1), ('д', 1), ('һ', 1)]\n"
     ]
    }
   ],
   "source": [
    "print(n2('н'))"
   ]
  },
  {
   "cell_type": "code",
   "execution_count": 0,
   "metadata": {
    "colab": {
     "autoexec": {
      "startup": false,
      "wait_interval": 0
     }
    },
    "colab_type": "code",
    "id": "GaXyG_MjeKAo",
    "outputId": "1b3134e7-34a8-4bb5-c5ab-e3f5e7aae4b0"
   },
   "outputs": [
    {
     "data": {
      "text/plain": [
       "1.5965995209015689"
      ]
     },
     "execution_count": 11,
     "metadata": {
      "tags": []
     },
     "output_type": "execute_result"
    }
   ],
   "source": [
    "798469/500106 #(>DROP)"
   ]
  },
  {
   "cell_type": "code",
   "execution_count": 0,
   "metadata": {
    "colab": {
     "autoexec": {
      "startup": false,
      "wait_interval": 0
     }
    },
    "colab_type": "code",
    "id": "4ldyJcpEeKAv",
    "outputId": "291b7e0b-7caa-41b7-81c0-0b0380d49085"
   },
   "outputs": [
    {
     "data": {
      "text/plain": [
       "1.5482597540096241"
      ]
     },
     "execution_count": 12,
     "metadata": {
      "tags": []
     },
     "output_type": "execute_result"
    }
   ],
   "source": [
    "(798469+500106)/(462367+376365)"
   ]
  },
  {
   "cell_type": "markdown",
   "metadata": {
    "colab_type": "text",
    "id": "_PfSPbXFnYUR"
   },
   "source": [
    "# Диаграммы"
   ]
  },
  {
   "cell_type": "code",
   "execution_count": 0,
   "metadata": {
    "colab": {
     "autoexec": {
      "startup": false,
      "wait_interval": 0
     }
    },
    "colab_type": "code",
    "id": "GkP0QKM0eKA4",
    "outputId": "f1929d44-0943-481f-9066-0c127450ed84"
   },
   "outputs": [
    {
     "data": {
      "image/png": "[encoded data removed]",
      "text/plain": [
       "<matplotlib.figure.Figure at 0x28c417885c0>"
      ]
     },
     "metadata": {
      "tags": []
     },
     "output_type": "display_data"
    }
   ],
   "source": [
    "diag('ртан')"
   ]
  },
  {
   "cell_type": "code",
   "execution_count": 0,
   "metadata": {
    "colab": {
     "autoexec": {
      "startup": false,
      "wait_interval": 0
     }
    },
    "colab_type": "code",
    "id": "7Nfm-7DeeKBA",
    "outputId": "4f0a56a3-4427-45ba-84b6-979b63033130"
   },
   "outputs": [
    {
     "data": {
      "image/png": "[encoded data removed]",
      "text/plain": [
       "<matplotlib.figure.Figure at 0x28c428dd898>"
      ]
     },
     "metadata": {
      "tags": []
     },
     "output_type": "display_data"
    }
   ],
   "source": [
    "diag('ыма')"
   ]
  },
  {
   "cell_type": "code",
   "execution_count": 0,
   "metadata": {
    "colab": {
     "autoexec": {
      "startup": false,
      "wait_interval": 0
     }
    },
    "colab_type": "code",
    "id": "Rv_GTCYceKBM",
    "outputId": "29e17659-13bd-42f7-c71b-306e1585167d"
   },
   "outputs": [
    {
     "name": "stdout",
     "output_type": "stream",
     "text": [
      "[('а', 784102), ('э', 489099), ('и', 111886), ('о', 87158), ('ы', 40056), ('ө', 36238), ('у', 29417), ('ү', 17432), ('е', 7434), ('т', 6426), ('д', 6354), ('с', 762), ('р', 365), ('ё', 183), ('я', 155), ('г', 148), ('п', 62), ('в', 62), ('н', 59), ('ю', 26), ('к', 21), ('б', 12), ('ф', 12), ('х', 7), ('й', 6), ('м', 4), ('л', 3), ('ҕ', 2)]\n"
     ]
    }
   ],
   "source": [
    "print(n2('р'))#также есть суффикс -ан"
   ]
  },
  {
   "cell_type": "code",
   "execution_count": 0,
   "metadata": {
    "colab": {
     "autoexec": {
      "startup": false,
      "wait_interval": 0
     }
    },
    "colab_type": "code",
    "id": "yPMeKtrFeKBX",
    "outputId": "7e0ec513-a9e1-40d9-b089-b880c5c1191a"
   },
   "outputs": [
    {
     "data": {
      "text/plain": [
       "1.6031560072705118"
      ]
     },
     "execution_count": 27,
     "metadata": {
      "tags": []
     },
     "output_type": "execute_result"
    }
   ],
   "source": [
    "784102/489099 #а/э"
   ]
  },
  {
   "cell_type": "code",
   "execution_count": 0,
   "metadata": {
    "colab": {
     "autoexec": {
      "startup": false,
      "wait_interval": 0
     }
    },
    "colab_type": "code",
    "id": "57Rc9TFfeKBg",
    "outputId": "a4d692ee-49c6-4b47-de4d-57b66808b1f8"
   },
   "outputs": [
    {
     "data": {
      "text/plain": [
       "6.39658065553345"
      ]
     },
     "execution_count": 28,
     "metadata": {
      "tags": []
     },
     "output_type": "execute_result"
    }
   ],
   "source": [
    "(784102+489099)/(111886+87158)"
   ]
  },
  {
   "cell_type": "code",
   "execution_count": 0,
   "metadata": {
    "colab": {
     "autoexec": {
      "startup": false,
      "wait_interval": 0
     }
    },
    "colab_type": "code",
    "id": "9SK8cswqeKBn",
    "outputId": "d01aa20c-3547-4277-ec3b-e3b65bba4777"
   },
   "outputs": [
    {
     "data": {
      "image/png": "[encoded data removed]",
      "text/plain": [
       "<matplotlib.figure.Figure at 0x28c1aa8acf8>"
      ]
     },
     "metadata": {
      "tags": []
     },
     "output_type": "display_data"
    }
   ],
   "source": [
    "diag('р')"
   ]
  },
  {
   "cell_type": "code",
   "execution_count": 0,
   "metadata": {
    "colab": {
     "autoexec": {
      "startup": false,
      "wait_interval": 0
     }
    },
    "colab_type": "code",
    "id": "UveyYw5oeKB0",
    "outputId": "f573c97b-490a-45e4-fae3-0278e5a50de7"
   },
   "outputs": [
    {
     "data": {
      "text/plain": [
       "1.6031560072705118"
      ]
     },
     "execution_count": 16,
     "metadata": {
      "tags": []
     },
     "output_type": "execute_result"
    }
   ],
   "source": [
    "784102/489099 #(>DROP)"
   ]
  },
  {
   "cell_type": "code",
   "execution_count": 0,
   "metadata": {
    "colab": {
     "autoexec": {
      "startup": false,
      "wait_interval": 0
     }
    },
    "colab_type": "code",
    "id": "5oeeGOp3eKB8",
    "outputId": "1f27bc5e-b7e2-433b-b52f-58daa7513e06"
   },
   "outputs": [
    {
     "name": "stdout",
     "output_type": "stream",
     "text": [
      "[('т', 280169), ('н', 267665), ('р', 204055), ('г', 182476), ('д', 164393), ('ҕ', 144879), ('к', 125853), ('х', 114918), ('л', 73986), ('ҥ', 51246), ('й', 42520), ('һ', 40948), ('в', 30969), ('ы', 29997), ('а', 22474), ('м', 20825), ('б', 19173), ('с', 17124), ('ч', 14591), ('п', 9540), ('ь', 8718), ('ш', 1937), ('з', 1593), ('ц', 743), ('и', 553), ('ф', 404), ('ж', 238), ('ө', 89), ('у', 60), ('ү', 26), ('щ', 13), ('я', 12), ('е', 8), ('о', 5), ('э', 0)]\n"
     ]
    }
   ],
   "source": [
    "print(n2('а'))"
   ]
  },
  {
   "cell_type": "code",
   "execution_count": 0,
   "metadata": {
    "colab": {
     "autoexec": {
      "startup": false,
      "wait_interval": 0
     }
    },
    "colab_type": "code",
    "id": "gPtlFTHLeKCD",
    "outputId": "3515e549-d68c-4e99-d5e6-faa14ecb3134"
   },
   "outputs": [
    {
     "data": {
      "text/plain": [
       "1.0467151103057928"
      ]
     },
     "execution_count": 18,
     "metadata": {
      "tags": []
     },
     "output_type": "execute_result"
    }
   ],
   "source": [
    "280169/267665"
   ]
  },
  {
   "cell_type": "code",
   "execution_count": 0,
   "metadata": {
    "colab": {
     "autoexec": {
      "startup": false,
      "wait_interval": 0
     }
    },
    "colab_type": "code",
    "id": "X3agoi9AeKCL",
    "outputId": "b0e85370-d1b6-4965-d3cb-14c4626849f2"
   },
   "outputs": [
    {
     "data": {
      "text/plain": [
       "1.3117296807233343"
      ]
     },
     "execution_count": 19,
     "metadata": {
      "tags": []
     },
     "output_type": "execute_result"
    }
   ],
   "source": [
    "267665/204055"
   ]
  },
  {
   "cell_type": "code",
   "execution_count": 0,
   "metadata": {
    "colab": {
     "autoexec": {
      "startup": false,
      "wait_interval": 0
     }
    },
    "colab_type": "code",
    "id": "CMg3c2HEeKCh",
    "outputId": "f7779c8d-4367-475a-a670-babc22fc1555"
   },
   "outputs": [
    {
     "data": {
      "image/png": "[encoded data removed]",
      "text/plain": [
       "<matplotlib.figure.Figure at 0x28c27289e10>"
      ]
     },
     "metadata": {
      "tags": []
     },
     "output_type": "display_data"
    }
   ],
   "source": [
    "diag('а')"
   ]
  },
  {
   "cell_type": "code",
   "execution_count": 0,
   "metadata": {
    "colab": {
     "autoexec": {
      "startup": false,
      "wait_interval": 0
     }
    },
    "colab_type": "code",
    "id": "4FgkkPbBeKCt",
    "outputId": "78b9bf65-d0c4-47b1-d72b-cc1621e6663f"
   },
   "outputs": [
    {
     "name": "stdout",
     "output_type": "stream",
     "text": [
      "[('т', 280169), ('н', 267665), ('р', 204055), ('г', 182476), ('д', 164393), ('ҕ', 144879), ('к', 125853), ('х', 114918), ('л', 73986), ('ҥ', 51246), ('й', 42520), ('һ', 40948), ('в', 30969), ('ы', 29997), ('а', 22474), ('м', 20825), ('б', 19173), ('с', 17124), ('ч', 14591), ('п', 9540), ('ь', 8718), ('ш', 1937), ('з', 1593), ('ц', 743), ('и', 553), ('ф', 404), ('ж', 238), ('ө', 89), ('у', 60), ('ү', 26), ('щ', 13), ('я', 12), ('е', 8), ('о', 5), ('э', 0)]\n"
     ]
    }
   ],
   "source": [
    "print(n2('а'))"
   ]
  },
  {
   "cell_type": "code",
   "execution_count": 0,
   "metadata": {
    "colab": {
     "autoexec": {
      "startup": false,
      "wait_interval": 0
     }
    },
    "colab_type": "code",
    "id": "TB8Xmwx_eKC7",
    "outputId": "71d14f2c-b1d2-4656-c02a-1dbc23980b01"
   },
   "outputs": [
    {
     "data": {
      "text/plain": [
       "1.0467151103057928"
      ]
     },
     "execution_count": 34,
     "metadata": {
      "tags": []
     },
     "output_type": "execute_result"
    }
   ],
   "source": [
    "(280169/267665) #t/n"
   ]
  },
  {
   "cell_type": "code",
   "execution_count": 0,
   "metadata": {
    "colab": {
     "autoexec": {
      "startup": false,
      "wait_interval": 0
     }
    },
    "colab_type": "code",
    "id": "64-m08sbeKDI",
    "outputId": "bf49aa07-aebe-4606-f284-3c0a294d4c66"
   },
   "outputs": [
    {
     "data": {
      "text/plain": [
       "1.4173093490560913"
      ]
     },
     "execution_count": 35,
     "metadata": {
      "tags": []
     },
     "output_type": "execute_result"
    }
   ],
   "source": [
    "(280169+267665)/(204055+182476)"
   ]
  },
  {
   "cell_type": "code",
   "execution_count": 0,
   "metadata": {
    "colab": {
     "autoexec": {
      "startup": false,
      "wait_interval": 0
     }
    },
    "colab_type": "code",
    "id": "sum3E9TCeKDT",
    "outputId": "0b5f02da-24c5-418a-cac6-03906cff192b"
   },
   "outputs": [
    {
     "data": {
      "text/plain": [
       "'ларын'"
      ]
     },
     "execution_count": 38,
     "metadata": {
      "tags": []
     },
     "output_type": "execute_result"
    }
   ],
   "source": [
    "extend_right('л', -5, 0)"
   ]
  },
  {
   "cell_type": "code",
   "execution_count": 0,
   "metadata": {
    "colab": {
     "autoexec": {
      "startup": false,
      "wait_interval": 0
     }
    },
    "colab_type": "code",
    "id": "ezoONZgHeKDz",
    "outputId": "09453dc4-0e64-4cd5-cd4e-2bcd948cd824"
   },
   "outputs": [
    {
     "data": {
      "image/png": "[encoded data removed]",
      "text/plain": [
       "<matplotlib.figure.Figure at 0x28c4208c6d8>"
      ]
     },
     "metadata": {
      "tags": []
     },
     "output_type": "display_data"
    }
   ],
   "source": [
    "diag('ларбытын')"
   ]
  },
  {
   "cell_type": "code",
   "execution_count": 0,
   "metadata": {
    "colab": {
     "autoexec": {
      "startup": false,
      "wait_interval": 0
     }
    },
    "colab_type": "code",
    "id": "wQk3DLoaeKEH",
    "outputId": "6ec3e5b4-e43c-4995-b89c-d1ae3efe1d27"
   },
   "outputs": [
    {
     "name": "stdout",
     "output_type": "stream",
     "text": [
      "[('а', 16772), ('л', 15837), ('ы', 8441), ('о', 5424), ('у', 3880), ('я', 1995), ('е', 443), ('и', 30), ('ю', 4), ('б', 1), ('ү', 1), ('к', 1), ('д', 1), ('т', 1), ('з', 1)]\n"
     ]
    }
   ],
   "source": [
    "print(n2('ларын'))"
   ]
  },
  {
   "cell_type": "code",
   "execution_count": 0,
   "metadata": {
    "colab": {
     "autoexec": {
      "startup": false,
      "wait_interval": 0
     }
    },
    "colab_type": "code",
    "id": "UH_HY0DseKEX",
    "outputId": "162ecd60-5320-40f5-f2f3-68d5b2556b81"
   },
   "outputs": [
    {
     "data": {
      "text/plain": [
       "1.059038959398876"
      ]
     },
     "execution_count": 42,
     "metadata": {
      "tags": []
     },
     "output_type": "execute_result"
    }
   ],
   "source": [
    "16772/15837"
   ]
  },
  {
   "cell_type": "code",
   "execution_count": 0,
   "metadata": {
    "colab": {
     "autoexec": {
      "startup": false,
      "wait_interval": 0
     }
    },
    "colab_type": "code",
    "id": "2_WNvuPneKEg",
    "outputId": "1a9d2e6e-13ef-4cf1-9e06-cbdf5a42c6f1"
   },
   "outputs": [
    {
     "data": {
      "text/plain": [
       "2.3518932564010098"
      ]
     },
     "execution_count": 43,
     "metadata": {
      "tags": []
     },
     "output_type": "execute_result"
    }
   ],
   "source": [
    "(16772+15837)/(8441+5424)"
   ]
  },
  {
   "cell_type": "code",
   "execution_count": 0,
   "metadata": {
    "colab": {
     "autoexec": {
      "startup": false,
      "wait_interval": 0
     }
    },
    "colab_type": "code",
    "id": "zwleYoWVeKEm",
    "outputId": "ef6f1473-60e7-4f05-d2f0-4050c1bfa658"
   },
   "outputs": [
    {
     "data": {
      "text/plain": [
       "'эн'"
      ]
     },
     "execution_count": 54,
     "metadata": {
      "tags": []
     },
     "output_type": "execute_result"
    }
   ],
   "source": [
    "extend_right('э', -2, 0)"
   ]
  },
  {
   "cell_type": "code",
   "execution_count": 0,
   "metadata": {
    "colab": {
     "autoexec": {
      "startup": false,
      "wait_interval": 0
     }
    },
    "colab_type": "code",
    "id": "vuq-4kUOeKEt",
    "outputId": "471f5b78-fc60-46de-d16e-8abd496592d8"
   },
   "outputs": [
    {
     "data": {
      "image/png": "[encoded data removed]",
      "text/plain": [
       "<matplotlib.figure.Figure at 0x28c403e8f28>"
      ]
     },
     "metadata": {
      "tags": []
     },
     "output_type": "display_data"
    }
   ],
   "source": [
    "diag('эн')"
   ]
  },
  {
   "cell_type": "code",
   "execution_count": 0,
   "metadata": {
    "colab": {
     "autoexec": {
      "startup": false,
      "wait_interval": 0
     }
    },
    "colab_type": "code",
    "id": "nn6TyxsFeKEz",
    "outputId": "85dc6965-bad1-4076-f2cc-a79615450954"
   },
   "outputs": [
    {
     "data": {
      "image/png": "[encoded data removed]",
      "text/plain": [
       "<matplotlib.figure.Figure at 0x28c415ab908>"
      ]
     },
     "metadata": {
      "tags": []
     },
     "output_type": "display_data"
    }
   ],
   "source": [
    "diag('алартан')"
   ]
  },
  {
   "cell_type": "code",
   "execution_count": 0,
   "metadata": {
    "colab": {
     "autoexec": {
      "startup": false,
      "wait_interval": 0
     }
    },
    "colab_type": "code",
    "id": "79inwCbyeKE5",
    "outputId": "7648838d-dea5-4f04-f28d-31959e539091"
   },
   "outputs": [
    {
     "name": "stdout",
     "output_type": "stream",
     "text": [
      "[('и', 120546), ('н', 113148), ('т', 97261), ('э', 43204), ('р', 30498), ('л', 29795), ('й', 19042), ('һ', 16039), ('г', 8388), ('м', 7263), ('с', 3288), ('б', 1389), ('д', 1329), ('ь', 1036), ('к', 984), ('ҥ', 662), ('ҕ', 139), ('х', 47), ('ф', 15), ('п', 5), ('в', 3), ('з', 2), ('ч', 2), ('ө', 1), ('ү', 1), ('у', 1), ('ж', 1), ('ш', 1), ('о', 1)]\n"
     ]
    }
   ],
   "source": [
    "print(n2('эн'))"
   ]
  },
  {
   "cell_type": "code",
   "execution_count": 0,
   "metadata": {
    "colab": {
     "autoexec": {
      "startup": false,
      "wait_interval": 0
     }
    },
    "colab_type": "code",
    "id": "gH08zleieKE_",
    "outputId": "99889e91-9a80-4d59-8756-6dbb4b6437f7"
   },
   "outputs": [
    {
     "data": {
      "text/plain": [
       "1.6637169401630298"
      ]
     },
     "execution_count": 69,
     "metadata": {
      "tags": []
     },
     "output_type": "execute_result"
    }
   ],
   "source": [
    "(120546+113148)/(97261+43204)"
   ]
  },
  {
   "cell_type": "code",
   "execution_count": 0,
   "metadata": {
    "colab": {
     "autoexec": {
      "startup": false,
      "wait_interval": 0
     }
    },
    "colab_type": "code",
    "id": "Q97lFM8SeKFF",
    "outputId": "937b597f-89f5-4fcc-9307-4315c2faf7b1"
   },
   "outputs": [
    {
     "name": "stdout",
     "output_type": "stream",
     "text": [
      "[('ы', 128013), ('у', 63359), ('а', 30825), ('я', 1482), ('м', 853), ('о', 841), ('ҥ', 254), ('е', 238), ('и', 114), ('н', 54), ('ю', 4), ('э', 4), ('ү', 1), ('р', 1)]\n"
     ]
    }
   ],
   "source": [
    "print(n2('нан')) #-нан - аффикс орудного падежа"
   ]
  },
  {
   "cell_type": "code",
   "execution_count": 0,
   "metadata": {
    "colab": {
     "autoexec": {
      "startup": false,
      "wait_interval": 0
     }
    },
    "colab_type": "code",
    "id": "F3C0ptEoeKFL",
    "outputId": "bacd954b-7fea-44e3-e0e2-27fb590cdde4"
   },
   "outputs": [
    {
     "data": {
      "image/png": "[encoded data removed]",
      "text/plain": [
       "<matplotlib.figure.Figure at 0x207935327f0>"
      ]
     },
     "metadata": {
      "tags": []
     },
     "output_type": "display_data"
    }
   ],
   "source": [
    "diag('нан')"
   ]
  },
  {
   "cell_type": "code",
   "execution_count": 0,
   "metadata": {
    "colab": {
     "autoexec": {
      "startup": false,
      "wait_interval": 0
     }
    },
    "colab_type": "code",
    "id": "hcx__LoGeKFS",
    "outputId": "94e7ae44-7542-47aa-8784-fdbf70bbc326"
   },
   "outputs": [
    {
     "name": "stdout",
     "output_type": "stream",
     "text": [
      "[('т', 37319), ('р', 25048), ('һ', 15515), ('г', 13760), ('л', 9141), ('ҕ', 6722), ('н', 5322), ('й', 4933), ('ы', 2237), ('к', 2026), ('ч', 1964), ('б', 1214), ('м', 761), ('д', 675), ('п', 601), ('ь', 223), ('ҥ', 194), ('в', 117), ('с', 103), ('х', 98), ('ш', 3), ('ө', 2), ('я', 1)]\n"
     ]
    }
   ],
   "source": [
    "print(n2('ынан')) #аффикс орудного падежа притяжат склонение"
   ]
  },
  {
   "cell_type": "code",
   "execution_count": 0,
   "metadata": {
    "colab": {
     "autoexec": {
      "startup": false,
      "wait_interval": 0
     }
    },
    "colab_type": "code",
    "id": "_29XRynFeKFX",
    "outputId": "35e2f2d8-a147-4eaf-b545-cf7107840da0"
   },
   "outputs": [
    {
     "data": {
      "image/png": "[encoded data removed]",
      "text/plain": [
       "<matplotlib.figure.Figure at 0x207937659e8>"
      ]
     },
     "metadata": {
      "tags": []
     },
     "output_type": "display_data"
    }
   ],
   "source": [
    "diag('ынан')"
   ]
  },
  {
   "cell_type": "code",
   "execution_count": 0,
   "metadata": {
    "colab": {
     "autoexec": {
      "startup": false,
      "wait_interval": 0
     }
    },
    "colab_type": "code",
    "id": "V9XJpLVqeKFd",
    "outputId": "c3aca460-5e0e-4791-f3db-f98cdee140ff"
   },
   "outputs": [
    {
     "data": {
      "text/plain": [
       "2.130384286934244"
      ]
     },
     "execution_count": 24,
     "metadata": {
      "tags": []
     },
     "output_type": "execute_result"
    }
   ],
   "source": [
    "(37319+25048)/(15515+13760)"
   ]
  },
  {
   "cell_type": "code",
   "execution_count": 0,
   "metadata": {
    "colab": {
     "autoexec": {
      "startup": false,
      "wait_interval": 0
     }
    },
    "colab_type": "code",
    "id": "37j1QuCxeKFq",
    "outputId": "19744161-65e9-4769-da92-f0ede1b722ab"
   },
   "outputs": [
    {
     "name": "stdout",
     "output_type": "stream",
     "text": [
      "[('ы', 23981), ('а', 12000), ('с', 370), ('я', 309), ('т', 173), ('е', 161), ('о', 106), ('к', 58), ('и', 56), ('р', 46), ('п', 21), ('э', 19), ('н', 9), ('й', 7), ('ь', 2), ('л', 1)]\n"
     ]
    }
   ],
   "source": [
    "print(n2('тынан'))#аффикса -тынан нет"
   ]
  },
  {
   "cell_type": "code",
   "execution_count": 0,
   "metadata": {
    "colab": {
     "autoexec": {
      "startup": false,
      "wait_interval": 0
     }
    },
    "colab_type": "code",
    "id": "EfAGtFZdeKFw",
    "outputId": "7a2d0ff3-3122-49a7-ad77-5c1b07155a1c"
   },
   "outputs": [
    {
     "data": {
      "image/png": "[encoded data removed]",
      "text/plain": [
       "<matplotlib.figure.Figure at 0x20793c6ac50>"
      ]
     },
     "metadata": {
      "tags": []
     },
     "output_type": "display_data"
    }
   ],
   "source": [
    "diag('тынан')"
   ]
  },
  {
   "cell_type": "code",
   "execution_count": 0,
   "metadata": {
    "colab": {
     "autoexec": {
      "startup": false,
      "wait_interval": 0
     }
    },
    "colab_type": "code",
    "id": "BXrf-4-6eKF2",
    "outputId": "6eec2a05-dea5-49d7-91c2-d860aa1fa167"
   },
   "outputs": [
    {
     "data": {
      "text/plain": [
       "1.9984166666666667"
      ]
     },
     "execution_count": 26,
     "metadata": {
      "tags": []
     },
     "output_type": "execute_result"
    }
   ],
   "source": [
    "23981/12000"
   ]
  },
  {
   "cell_type": "code",
   "execution_count": 0,
   "metadata": {
    "colab": {
     "autoexec": {
      "startup": false,
      "wait_interval": 0
     }
    },
    "colab_type": "code",
    "id": "qc9jeX2MeKF8",
    "outputId": "8f89f901-0ee0-4575-8710-0ef339fae024"
   },
   "outputs": [
    {
     "data": {
      "text/plain": [
       "3.430236608697982"
      ]
     },
     "execution_count": 63,
     "metadata": {
      "tags": []
     },
     "output_type": "execute_result"
    }
   ],
   "source": [
    "n('ынан')/n('тынан')"
   ]
  },
  {
   "cell_type": "code",
   "execution_count": 0,
   "metadata": {
    "colab": {
     "autoexec": {
      "startup": false,
      "wait_interval": 0
     }
    },
    "colab_type": "code",
    "id": "svd1dl49eKGF",
    "outputId": "5d060b8c-02ce-42bf-a2b5-f8ac1160766d"
   },
   "outputs": [
    {
     "data": {
      "text/plain": [
       "1.7658050354260895"
      ]
     },
     "execution_count": 64,
     "metadata": {
      "tags": []
     },
     "output_type": "execute_result"
    }
   ],
   "source": [
    "n('нан')/n('ынан')"
   ]
  },
  {
   "cell_type": "code",
   "execution_count": 0,
   "metadata": {
    "colab": {
     "autoexec": {
      "startup": false,
      "wait_interval": 0
     }
    },
    "colab_type": "code",
    "id": "0EJ19C3ueKGV",
    "outputId": "bdef6fbd-9c15-4c3b-8db0-8662cfefac9d"
   },
   "outputs": [
    {
     "name": "stdout",
     "output_type": "stream",
     "text": [
      "[('ы', 17491), ('б', 2501), ('п', 960), ('ч', 787), ('к', 504), ('м', 398), ('с', 292), ('г', 231), ('ь', 207), ('т', 182), ('һ', 117), ('р', 117), ('л', 44), ('ҕ', 37), ('х', 22), ('ҥ', 15), ('й', 9)]\n"
     ]
    }
   ],
   "source": [
    "print(n2('ытынан'))"
   ]
  },
  {
   "cell_type": "code",
   "execution_count": 0,
   "metadata": {
    "colab": {
     "autoexec": {
      "startup": false,
      "wait_interval": 0
     }
    },
    "colab_type": "code",
    "id": "oSGUdEQ0eKGj",
    "outputId": "2566220e-f30a-40b8-97ac-c874c12db482"
   },
   "outputs": [
    {
     "name": "stdout",
     "output_type": "stream",
     "text": [
      "23981\n"
     ]
    }
   ],
   "source": [
    "print(n('ытынан'))"
   ]
  },
  {
   "cell_type": "code",
   "execution_count": 0,
   "metadata": {
    "colab": {
     "autoexec": {
      "startup": false,
      "wait_interval": 0
     }
    },
    "colab_type": "code",
    "id": "pgKRmR6YeKGr",
    "outputId": "eb375355-6764-4e05-9842-4006ac0bf457"
   },
   "outputs": [
    {
     "name": "stdout",
     "output_type": "stream",
     "text": [
      "17491\n"
     ]
    }
   ],
   "source": [
    "print(n('ыытынан'))"
   ]
  },
  {
   "cell_type": "code",
   "execution_count": 0,
   "metadata": {
    "colab": {
     "autoexec": {
      "startup": false,
      "wait_interval": 0
     }
    },
    "colab_type": "code",
    "id": "XY3r4PZCeKHA",
    "outputId": "18b5c16b-2f88-4690-9b3b-a1563ecba399"
   },
   "outputs": [
    {
     "name": "stdout",
     "output_type": "stream",
     "text": [
      "[('һ', 15345), ('р', 805), ('й', 636), ('т', 205), ('м', 135), ('н', 90), ('д', 79), ('л', 57), ('ҕ', 47), ('с', 30), ('ь', 25), ('б', 15), ('г', 11), ('ы', 1), ('ҥ', 1)]\n"
     ]
    }
   ],
   "source": [
    "print(n2('ыытынан'))"
   ]
  },
  {
   "cell_type": "code",
   "execution_count": 0,
   "metadata": {
    "colab": {
     "autoexec": {
      "startup": false,
      "wait_interval": 0
     }
    },
    "colab_type": "code",
    "id": "KvHmV35NeKHH",
    "outputId": "368d17d5-a205-4097-9bc5-159ab5545372"
   },
   "outputs": [
    {
     "name": "stdout",
     "output_type": "stream",
     "text": [
      "15345\n"
     ]
    }
   ],
   "source": [
    "print(n('һыытынан'))"
   ]
  },
  {
   "cell_type": "code",
   "execution_count": 0,
   "metadata": {
    "colab": {
     "autoexec": {
      "startup": false,
      "wait_interval": 0
     }
    },
    "colab_type": "code",
    "id": "AgxCS3lNeKHM",
    "outputId": "985499e1-d44d-47e3-de58-42a1b309f594"
   },
   "outputs": [
    {
     "name": "stdout",
     "output_type": "stream",
     "text": [
      "[('ы', 15310), ('а', 35)]\n"
     ]
    }
   ],
   "source": [
    "print(n2('һыытынан'))"
   ]
  },
  {
   "cell_type": "code",
   "execution_count": 0,
   "metadata": {
    "colab": {
     "autoexec": {
      "startup": false,
      "wait_interval": 0
     }
    },
    "colab_type": "code",
    "id": "HB2Hxv1qeKHT",
    "outputId": "9266c4cf-b596-46f4-b851-1b006bb03aad"
   },
   "outputs": [
    {
     "name": "stdout",
     "output_type": "stream",
     "text": [
      "15310\n"
     ]
    }
   ],
   "source": [
    "print(n('ыһыытынан'))"
   ]
  },
  {
   "cell_type": "code",
   "execution_count": 0,
   "metadata": {
    "colab": {
     "autoexec": {
      "startup": false,
      "wait_interval": 0
     }
    },
    "colab_type": "code",
    "id": "xM42oA-JeKHa",
    "outputId": "72de6695-edfe-4c72-dfc7-9357d45ee484"
   },
   "outputs": [
    {
     "name": "stdout",
     "output_type": "stream",
     "text": [
      "[('б', 15251), ('д', 34), ('с', 4), ('т', 3), ('н', 2)]\n"
     ]
    }
   ],
   "source": [
    "print(n2('ыһыытынан'))"
   ]
  },
  {
   "cell_type": "code",
   "execution_count": 0,
   "metadata": {
    "colab": {
     "autoexec": {
      "startup": false,
      "wait_interval": 0
     }
    },
    "colab_type": "code",
    "id": "uBHDMiuWeKHg",
    "outputId": "6256d390-3c2a-4e9d-a9f4-ba92ba686e4e"
   },
   "outputs": [
    {
     "name": "stdout",
     "output_type": "stream",
     "text": [
      "[('а', 1), ('ы', 1), ('б', 1)]\n"
     ]
    }
   ],
   "source": [
    "print(n2('быһыытынан'))"
   ]
  },
  {
   "cell_type": "code",
   "execution_count": 0,
   "metadata": {
    "colab": {
     "autoexec": {
      "startup": false,
      "wait_interval": 0
     }
    },
    "colab_type": "code",
    "id": "yvOwr2EGeKHm",
    "outputId": "eb7acd35-8dbb-4693-99b9-844276d4288a"
   },
   "outputs": [
    {
     "name": "stdout",
     "output_type": "stream",
     "text": [
      "2501\n"
     ]
    }
   ],
   "source": [
    "print(n('бытынан'))"
   ]
  },
  {
   "cell_type": "code",
   "execution_count": 0,
   "metadata": {
    "colab": {
     "autoexec": {
      "startup": false,
      "wait_interval": 0
     }
    },
    "colab_type": "code",
    "id": "__JpF3XZeKH2",
    "outputId": "4b1bd3dd-57cb-4e97-9cdb-dd12c662c758"
   },
   "outputs": [
    {
     "name": "stdout",
     "output_type": "stream",
     "text": [
      "[('а', 790), ('р', 630), ('ы', 540), ('л', 316), ('й', 210), ('я', 8), ('о', 3), ('е', 2), ('ь', 1), ('и', 1)]\n"
     ]
    }
   ],
   "source": [
    "print(n2('бытынан'))"
   ]
  },
  {
   "cell_type": "code",
   "execution_count": 0,
   "metadata": {
    "colab": {
     "autoexec": {
      "startup": false,
      "wait_interval": 0
     }
    },
    "colab_type": "code",
    "id": "lOj8lJTBeKIH",
    "outputId": "223f5163-7931-424c-e97c-ab8045db2eb3"
   },
   "outputs": [
    {
     "data": {
      "text/plain": [
       "1.658878504672897"
      ]
     },
     "execution_count": 36,
     "metadata": {
      "tags": []
     },
     "output_type": "execute_result"
    }
   ],
   "source": [
    "(790+630)/(540+316)"
   ]
  },
  {
   "cell_type": "code",
   "execution_count": 0,
   "metadata": {
    "colab": {
     "autoexec": {
      "startup": false,
      "wait_interval": 0
     }
    },
    "colab_type": "code",
    "id": "BgNWKL8teKIf",
    "outputId": "65fbfbb1-7da2-4c85-cd17-e53dbe1f141e"
   },
   "outputs": [
    {
     "data": {
      "text/plain": [
       "1.7088607594936709"
      ]
     },
     "execution_count": 37,
     "metadata": {
      "tags": []
     },
     "output_type": "execute_result"
    }
   ],
   "source": [
    "540/316"
   ]
  },
  {
   "cell_type": "code",
   "execution_count": 0,
   "metadata": {
    "colab": {
     "autoexec": {
      "startup": false,
      "wait_interval": 0
     }
    },
    "colab_type": "code",
    "id": "uokxDeH5eKI5",
    "outputId": "1c7d8b01-3542-4c2f-a885-05fc01208348"
   },
   "outputs": [
    {
     "name": "stdout",
     "output_type": "stream",
     "text": [
      "[('а', 784102), ('э', 489099), ('и', 111886), ('о', 87158), ('ы', 40056), ('ө', 36238), ('у', 29417), ('ү', 17432), ('е', 7434), ('т', 6426), ('д', 6354), ('с', 762), ('р', 365), ('ё', 183), ('я', 155), ('г', 148), ('п', 62), ('в', 62), ('н', 59), ('ю', 26), ('к', 21), ('б', 12), ('ф', 12), ('х', 7), ('й', 6), ('м', 4), ('л', 3), ('ҕ', 2)]\n"
     ]
    }
   ],
   "source": [
    "print(n2('р'))"
   ]
  },
  {
   "cell_type": "code",
   "execution_count": 0,
   "metadata": {
    "colab": {
     "autoexec": {
      "startup": false,
      "wait_interval": 0
     }
    },
    "colab_type": "code",
    "id": "2LvDpmfUeKJN",
    "outputId": "4008b046-4428-4b6b-ea31-c1c89b83a806"
   },
   "outputs": [
    {
     "name": "stdout",
     "output_type": "stream",
     "text": [
      "[('г', 205162), ('л', 186545), ('т', 138686), ('р', 56553), ('а', 42586), ('н', 40307), ('й', 22014), ('ь', 19403), ('ҕ', 15533), ('д', 15375), ('б', 11988), ('һ', 10283), ('с', 9489), ('п', 4398), ('ы', 2760), ('м', 814), ('ҥ', 711), ('к', 530), ('х', 512), ('в', 166), ('у', 77), ('з', 62), ('и', 55), ('ш', 29), ('ч', 15), ('ф', 15), ('ө', 5), ('е', 2), ('ю', 2), ('ц', 1), ('ж', 1)]\n"
     ]
    }
   ],
   "source": [
    "print(n2('ар'))"
   ]
  },
  {
   "cell_type": "code",
   "execution_count": 0,
   "metadata": {
    "colab": {
     "autoexec": {
      "startup": false,
      "wait_interval": 0
     }
    },
    "colab_type": "code",
    "id": "feIB1f6zeKJU",
    "outputId": "b3881d35-85ad-48c5-c794-046ccb1858d0"
   },
   "outputs": [
    {
     "data": {
      "text/plain": [
       "2.0062948488775296"
      ]
     },
     "execution_count": 50,
     "metadata": {
      "tags": []
     },
     "output_type": "execute_result"
    }
   ],
   "source": [
    "(205162+186545)/(138686+56553)"
   ]
  },
  {
   "cell_type": "code",
   "execution_count": 0,
   "metadata": {
    "colab": {
     "autoexec": {
      "startup": false,
      "wait_interval": 0
     }
    },
    "colab_type": "code",
    "id": "b5nGKcTVeKJd",
    "outputId": "92a0e482-26b8-40a4-e43f-23334dbfd070"
   },
   "outputs": [
    {
     "data": {
      "text/plain": [
       "1.3450889058737003"
      ]
     },
     "execution_count": 48,
     "metadata": {
      "tags": []
     },
     "output_type": "execute_result"
    }
   ],
   "source": [
    "186545/138686"
   ]
  },
  {
   "cell_type": "code",
   "execution_count": 0,
   "metadata": {
    "colab": {
     "autoexec": {
      "startup": false,
      "wait_interval": 0
     }
    },
    "colab_type": "code",
    "id": "BtlXvC0IeKJk",
    "outputId": "68b16ca7-ea42-4e70-b0bd-19c695bb3e2a"
   },
   "outputs": [
    {
     "name": "stdout",
     "output_type": "stream",
     "text": [
      "205162\n"
     ]
    }
   ],
   "source": [
    "print(n('гар'))"
   ]
  },
  {
   "cell_type": "code",
   "execution_count": 0,
   "metadata": {
    "colab": {
     "autoexec": {
      "startup": false,
      "wait_interval": 0
     }
    },
    "colab_type": "code",
    "id": "gQJ7YWAeeKJp",
    "outputId": "9c867dec-6a3e-4d20-ab54-d392b9258461"
   },
   "outputs": [
    {
     "name": "stdout",
     "output_type": "stream",
     "text": [
      "[('ы', 149987), ('у', 52493), ('а', 1049), ('о', 647), ('р', 579), ('и', 139), ('л', 110), ('е', 102), ('й', 16), ('н', 16), ('д', 11), ('ю', 5), ('я', 3), ('т', 2), ('г', 1), ('к', 1)]\n"
     ]
    }
   ],
   "source": [
    "print(n2('гар'))#дательный падеж притяжат склонения"
   ]
  },
  {
   "cell_type": "code",
   "execution_count": 0,
   "metadata": {
    "colab": {
     "autoexec": {
      "startup": false,
      "wait_interval": 0
     }
    },
    "colab_type": "code",
    "id": "zJRbBw3FeKJv",
    "outputId": "e565e6e2-f0c2-4f0c-84aa-0077c7bfed46"
   },
   "outputs": [
    {
     "data": {
      "text/plain": [
       "2.857276208256339"
      ]
     },
     "execution_count": 54,
     "metadata": {
      "tags": []
     },
     "output_type": "execute_result"
    }
   ],
   "source": [
    "149987/52493"
   ]
  },
  {
   "cell_type": "code",
   "execution_count": 0,
   "metadata": {
    "colab": {
     "autoexec": {
      "startup": false,
      "wait_interval": 0
     }
    },
    "colab_type": "code",
    "id": "1FdaT0sYeKJ0",
    "outputId": "a0bbd844-7bfe-4f84-c8e5-1bb560dcb20c"
   },
   "outputs": [
    {
     "name": "stdout",
     "output_type": "stream",
     "text": [
      "149987\n"
     ]
    }
   ],
   "source": [
    "print(n('ыгар'))"
   ]
  },
  {
   "cell_type": "code",
   "execution_count": 0,
   "metadata": {
    "colab": {
     "autoexec": {
      "startup": false,
      "wait_interval": 0
     }
    },
    "colab_type": "code",
    "id": "CsHLMfH6eKJ5",
    "outputId": "caef9a7a-6a05-44fc-803a-3b1b2434be3a"
   },
   "outputs": [
    {
     "name": "stdout",
     "output_type": "stream",
     "text": [
      "[('т', 60289), ('р', 50637), ('һ', 11643), ('л', 8064), ('н', 6970), ('й', 3851), ('д', 3720), ('м', 1956), ('б', 1600), ('ь', 308), ('с', 281), ('п', 187), ('в', 149), ('ж', 99), ('ч', 57), ('ы', 46), ('ҕ', 40), ('ҥ', 19), ('г', 9), ('ш', 4), ('а', 1), ('к', 1)]\n"
     ]
    }
   ],
   "source": [
    "print(n2('ыгар'))"
   ]
  },
  {
   "cell_type": "code",
   "execution_count": 0,
   "metadata": {
    "colab": {
     "autoexec": {
      "startup": false,
      "wait_interval": 0
     }
    },
    "colab_type": "code",
    "id": "-6w2WrMteKJ_",
    "outputId": "34513fb9-854b-4dca-b895-0c33674f297c"
   },
   "outputs": [
    {
     "name": "stdout",
     "output_type": "stream",
     "text": [
      "149987\n"
     ]
    }
   ],
   "source": [
    "print(n('ыгар'))"
   ]
  },
  {
   "cell_type": "code",
   "execution_count": 0,
   "metadata": {
    "colab": {
     "autoexec": {
      "startup": false,
      "wait_interval": 0
     }
    },
    "colab_type": "code",
    "id": "09pF6gwVeKKF",
    "outputId": "f784ec5d-eac8-4283-f810-1af7da317c83"
   },
   "outputs": [
    {
     "name": "stdout",
     "output_type": "stream",
     "text": [
      "[('а', 29433), ('ы', 22570), ('я', 3080), ('е', 1763), ('т', 1695), ('о', 1089), ('й', 243), ('р', 228), ('л', 34), ('и', 30), ('с', 30), ('э', 6), ('ю', 3), ('н', 2), ('к', 2), ('ж', 1), ('ө', 1)]\n"
     ]
    }
   ],
   "source": [
    "print(n2('тыгар'))"
   ]
  },
  {
   "cell_type": "code",
   "execution_count": 0,
   "metadata": {
    "colab": {
     "autoexec": {
      "startup": false,
      "wait_interval": 0
     }
    },
    "colab_type": "code",
    "id": "_laHqu8KeKKM",
    "outputId": "32cc069f-a8fb-4bd7-dc27-0128696f973e"
   },
   "outputs": [
    {
     "name": "stdout",
     "output_type": "stream",
     "text": [
      "666056\n"
     ]
    }
   ],
   "source": [
    "print(n('т'))"
   ]
  },
  {
   "cell_type": "code",
   "execution_count": 0,
   "metadata": {
    "colab": {
     "autoexec": {
      "startup": false,
      "wait_interval": 0
     }
    },
    "colab_type": "code",
    "id": "VMn_ulVCeKKR",
    "outputId": "e548964c-4c8e-4736-9b34-4633c8a5095d"
   },
   "outputs": [
    {
     "name": "stdout",
     "output_type": "stream",
     "text": [
      "[('ы', 182423), ('и', 165006), ('у', 86326), ('а', 71661), ('ү', 45370), ('э', 37005), ('р', 22656), ('о', 22396), ('е', 8470), ('н', 7559), ('ө', 6322), ('с', 5011), ('к', 2461), ('л', 1284), ('в', 455), ('ь', 402), ('й', 299), ('я', 228), ('ю', 226), ('ф', 150), ('т', 140), ('п', 75), ('д', 43), ('х', 29), ('ё', 22), ('ш', 17), ('м', 12), ('б', 6), ('г', 1), ('ч', 1)]\n"
     ]
    }
   ],
   "source": [
    "print(n2('т'))"
   ]
  },
  {
   "cell_type": "code",
   "execution_count": 0,
   "metadata": {
    "colab": {
     "autoexec": {
      "startup": false,
      "wait_interval": 0
     }
    },
    "colab_type": "code",
    "id": "WL1jTvy6eKKc",
    "outputId": "820d747a-e857-4c6e-9c9b-c708e9a34cda"
   },
   "outputs": [
    {
     "data": {
      "image/png": "[encoded data removed]",
      "text/plain": [
       "<matplotlib.figure.Figure at 0x207952447b8>"
      ]
     },
     "metadata": {
      "tags": []
     },
     "output_type": "display_data"
    }
   ],
   "source": [
    "diag('т')"
   ]
  },
  {
   "cell_type": "code",
   "execution_count": 0,
   "metadata": {
    "colab": {
     "autoexec": {
      "startup": false,
      "wait_interval": 0
     }
    },
    "colab_type": "code",
    "id": "va-t2Wv6eKK2",
    "outputId": "1de2975a-6db5-42b7-ce7b-30eb926b4751"
   },
   "outputs": [
    {
     "data": {
      "image/png": "[encoded data removed]",
      "text/plain": [
       "<matplotlib.figure.Figure at 0x2079416fcf8>"
      ]
     },
     "metadata": {
      "tags": []
     },
     "output_type": "display_data"
    }
   ],
   "source": [
    "diag('ыт')"
   ]
  },
  {
   "cell_type": "code",
   "execution_count": 0,
   "metadata": {
    "colab": {
     "autoexec": {
      "startup": false,
      "wait_interval": 0
     }
    },
    "colab_type": "code",
    "id": "obfCxCn5eKK8",
    "outputId": "35456dff-edff-4a8f-b379-db38567d1786"
   },
   "outputs": [
    {
     "data": {
      "image/png": "[encoded data removed]",
      "text/plain": [
       "<matplotlib.figure.Figure at 0x207953dd7b8>"
      ]
     },
     "metadata": {
      "tags": []
     },
     "output_type": "display_data"
    }
   ],
   "source": [
    "diag('быт')"
   ]
  },
  {
   "cell_type": "code",
   "execution_count": 0,
   "metadata": {
    "colab": {
     "autoexec": {
      "startup": false,
      "wait_interval": 0
     }
    },
    "colab_type": "code",
    "id": "tihxWRXIeKLB",
    "outputId": "7e06b29d-e551-4c5e-a296-6583041df671"
   },
   "outputs": [
    {
     "data": {
      "image/png": "[encoded data removed]",
      "text/plain": [
       "<matplotlib.figure.Figure at 0x20795a77780>"
      ]
     },
     "metadata": {
      "tags": []
     },
     "output_type": "display_data"
    }
   ],
   "source": [
    "diag('пыт')"
   ]
  },
  {
   "cell_type": "code",
   "execution_count": 0,
   "metadata": {
    "colab": {
     "autoexec": {
      "startup": false,
      "wait_interval": 0
     }
    },
    "colab_type": "code",
    "id": "BF6dOvQUeKLO",
    "outputId": "38396789-b67e-47d9-e19b-264a34cad3f6"
   },
   "outputs": [
    {
     "data": {
      "text/plain": [
       "'эн'"
      ]
     },
     "execution_count": 25,
     "metadata": {
      "tags": []
     },
     "output_type": "execute_result"
    }
   ],
   "source": [
    "extend_right('э',-2,0)#перед ним какие буквы"
   ]
  },
  {
   "cell_type": "code",
   "execution_count": 0,
   "metadata": {
    "colab": {
     "autoexec": {
      "startup": false,
      "wait_interval": 0
     }
    },
    "colab_type": "code",
    "id": "MiISdIafeKLj",
    "outputId": "a2b8a318-7535-4958-c3e7-6f134f637e58"
   },
   "outputs": [
    {
     "ename": "NameError",
     "evalue": "name 'build_trie' is not defined",
     "output_type": "error",
     "traceback": [
      "\u001b[1;31m---------------------------------------------------------------------------\u001b[0m",
      "\u001b[1;31mNameError\u001b[0m                                 Traceback (most recent call last)",
      "\u001b[1;32m<ipython-input-91-8ca7fd80d25a>\u001b[0m in \u001b[0;36m<module>\u001b[1;34m()\u001b[0m\n\u001b[1;32m----> 1\u001b[1;33m \u001b[0mbuild_trie\u001b[0m\u001b[1;33m(\u001b[0m\u001b[1;33m)\u001b[0m\u001b[1;33m\u001b[0m\u001b[0m\n\u001b[0m",
      "\u001b[1;31mNameError\u001b[0m: name 'build_trie' is not defined"
     ]
    }
   ],
   "source": [
    "build_trie()"
   ]
  },
  {
   "cell_type": "code",
   "execution_count": 0,
   "metadata": {
    "colab": {
     "autoexec": {
      "startup": false,
      "wait_interval": 0
     }
    },
    "colab_type": "code",
    "id": "XbTxRR19eKL1"
   },
   "outputs": [],
   "source": []
  },
  {
   "cell_type": "code",
   "execution_count": 0,
   "metadata": {
    "colab": {
     "autoexec": {
      "startup": false,
      "wait_interval": 0
     }
    },
    "colab_type": "code",
    "id": "3OTr6mTzfaK-"
   },
   "outputs": [],
   "source": []
  }
 ],
 "metadata": {
  "colab": {
   "default_view": {},
   "name": "Исследование.ipynb",
   "provenance": [],
   "toc_visible": true,
   "version": "0.3.2",
   "views": {}
  },
  "kernelspec": {
   "display_name": "Python 3",
   "language": "python",
   "name": "python3"
  },
  "language_info": {
   "codemirror_mode": {
    "name": "ipython",
    "version": 3
   },
   "file_extension": ".py",
   "mimetype": "text/x-python",
   "name": "python",
   "nbconvert_exporter": "python",
   "pygments_lexer": "ipython3",
   "version": "3.6.1"
  }
 },
 "nbformat": 4,
 "nbformat_minor": 1
}
